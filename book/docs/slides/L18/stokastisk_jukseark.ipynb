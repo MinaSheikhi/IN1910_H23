{
 "cells": [
  {
   "cell_type": "markdown",
   "id": "00aa48b1",
   "metadata": {},
   "source": [
    "# Stokastiske Simuleringer\n",
    "\n",
    "### Terninger"
   ]
  },
  {
   "cell_type": "code",
   "execution_count": null,
   "id": "001bd143",
   "metadata": {},
   "outputs": [],
   "source": [
    "def four_from_three_dice(N):\n",
    "    counter = 0\n",
    "    for _ in range(N):\n",
    "        dice = np.random.randint(1, 7, 3)\n",
    "        if 4 in dice:\n",
    "            counter += 1   \n",
    "    return counter/N"
   ]
  },
  {
   "cell_type": "markdown",
   "id": "75a8559e",
   "metadata": {},
   "source": [
    "### Bursdagsproblemet\n"
   ]
  },
  {
   "cell_type": "code",
   "execution_count": null,
   "id": "d9219c7f",
   "metadata": {},
   "outputs": [],
   "source": [
    "birthdays = np.random.randint(DAYS, size=k)"
   ]
  },
  {
   "cell_type": "code",
   "execution_count": null,
   "id": "10309d97",
   "metadata": {},
   "outputs": [],
   "source": [
    "def birthday_problem(k, N=50_000):\n",
    "    count = 0\n",
    "    for _ in range(N):\n",
    "        birthdays = np.random.randint(DAYS, size=k)\n",
    "        if has_duplicates(birthdays):\n",
    "            count += 1\n",
    "    return count/N"
   ]
  },
  {
   "cell_type": "markdown",
   "id": "9a9bdff5",
   "metadata": {},
   "source": [
    "### DNA"
   ]
  },
  {
   "cell_type": "code",
   "execution_count": null,
   "id": "5736be7f",
   "metadata": {},
   "outputs": [],
   "source": [
    "def new_strand(length):\n",
    "    strand = np.random.choice(BASES, size=length)\n",
    "    return \"\".join(strand)"
   ]
  },
  {
   "cell_type": "code",
   "execution_count": null,
   "id": "6ac3a663",
   "metadata": {},
   "outputs": [],
   "source": [
    "def occurances(sequence, strand_length, strands=10_000):\n",
    "    counter = 0\n",
    "    for _ in range(strands):\n",
    "        strand = new_strand(strand_length)\n",
    "        counter += strand.count(sequence)\n",
    "    return counter/strands"
   ]
  },
  {
   "cell_type": "markdown",
   "id": "ecf5d178",
   "metadata": {},
   "source": [
    "### Monty Hall-problemet"
   ]
  },
  {
   "cell_type": "code",
   "execution_count": null,
   "id": "0ad4ddd7",
   "metadata": {},
   "outputs": [],
   "source": [
    "choice = np.random.randint(1, 4)\n",
    "print(f\"You chose door #{choice}.\")\n",
    "\n",
    "prize = np.random.randint(1, 4)\n",
    "print(f\"You are not supposed to know, but the prize is behind door #{prize}.\")"
   ]
  },
  {
   "cell_type": "code",
   "execution_count": null,
   "id": "70d383dd",
   "metadata": {},
   "outputs": [],
   "source": [
    "possible_doors = list(doors - {choice, prize})\n",
    "host = np.random.choice(possible_doors)\n",
    "print(f\"The host chose door #{host}.\")"
   ]
  },
  {
   "cell_type": "code",
   "execution_count": null,
   "id": "866aca95",
   "metadata": {},
   "outputs": [],
   "source": [
    "if switch:\n",
    "    final = (doors - {choice, host}).pop()\n",
    "    print(f\"You will switch to door #{final}.\")\n",
    "else:\n",
    "    final = choice\n",
    "    print(f\"You will stick to door #{final}.\")"
   ]
  },
  {
   "cell_type": "code",
   "execution_count": null,
   "id": "78c1593e",
   "metadata": {},
   "outputs": [],
   "source": [
    "def monty_hall(switch, N=10_000):\n",
    "    doors = {1, 2, 3}\n",
    "    win = 0\n",
    "    for _ in range(N):\n",
    "        choice, prize = np.random.randint(1, 4, size=2)\n",
    "        if switch:\n",
    "            host = np.random.choice(list(doors - {choice, prize}))\n",
    "            choice = (doors - {choice, host}).pop()\n",
    "        if choice == prize:\n",
    "            win += 1\n",
    "    return win/N"
   ]
  },
  {
   "cell_type": "markdown",
   "id": "121d0beb",
   "metadata": {},
   "source": [
    "### Simuleringer av deterministiske systemer"
   ]
  },
  {
   "cell_type": "code",
   "execution_count": null,
   "id": "5bebcaf1",
   "metadata": {},
   "outputs": [],
   "source": [
    "def mean(f, x_min, x_max, N):\n",
    "    x = np.random.uniform(x_min, x_max, size=N)\n",
    "    return np.mean(f(x))"
   ]
  },
  {
   "cell_type": "markdown",
   "id": "f014db30",
   "metadata": {},
   "source": [
    "### Monte-Carlo integrasjon"
   ]
  },
  {
   "cell_type": "code",
   "execution_count": null,
   "id": "5b3011a2",
   "metadata": {},
   "outputs": [],
   "source": [
    "def monte_carlo(f, x_min, x_max, N):\n",
    "    x = np.random.uniform(x_min, x_max, size=N)\n",
    "    f_ = f(x).mean()\n",
    "    return (x_max - x_min)*f_"
   ]
  }
 ],
 "metadata": {
  "kernelspec": {
   "display_name": "Python 3 (ipykernel)",
   "language": "python",
   "name": "python3"
  },
  "language_info": {
   "codemirror_mode": {
    "name": "ipython",
    "version": 3
   },
   "file_extension": ".py",
   "mimetype": "text/x-python",
   "name": "python",
   "nbconvert_exporter": "python",
   "pygments_lexer": "ipython3",
   "version": "3.10.5"
  }
 },
 "nbformat": 4,
 "nbformat_minor": 5
}
