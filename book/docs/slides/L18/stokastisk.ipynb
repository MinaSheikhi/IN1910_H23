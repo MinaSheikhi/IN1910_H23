{
 "cells": [
  {
   "cell_type": "markdown",
   "metadata": {
    "slideshow": {
     "slide_type": "slide"
    }
   },
   "source": [
    "# Stokastiske Simuleringer"
   ]
  },
  {
   "cell_type": "code",
   "execution_count": null,
   "metadata": {
    "slideshow": {
     "slide_type": "fragment"
    }
   },
   "outputs": [],
   "source": [
    "%matplotlib inline\n",
    "import matplotlib.pyplot as plt\n",
    "import numpy as np"
   ]
  },
  {
   "cell_type": "markdown",
   "metadata": {
    "slideshow": {
     "slide_type": "slide"
    }
   },
   "source": [
    "## Simuleringer av stokastiske systemer\n",
    "\n",
    "Simuleringer av systemer med stokastiske variabler. "
   ]
  },
  {
   "cell_type": "markdown",
   "metadata": {
    "slideshow": {
     "slide_type": "fragment"
    }
   },
   "source": [
    "1. Sett inn passende tilfeldige verdier for de stokastiske variablene"
   ]
  },
  {
   "cell_type": "markdown",
   "metadata": {
    "slideshow": {
     "slide_type": "fragment"
    }
   },
   "source": [
    "2. Regn ut de interessante egenskapene til systemet"
   ]
  },
  {
   "cell_type": "markdown",
   "metadata": {
    "slideshow": {
     "slide_type": "fragment"
    }
   },
   "source": [
    "3. Gjenta 1. & 2. **mange** ganger med nye tilfeldige verdier"
   ]
  },
  {
   "cell_type": "markdown",
   "metadata": {
    "slideshow": {
     "slide_type": "fragment"
    }
   },
   "source": [
    "4. Regn ut gjennomsnittet til egenskapene gjennom alle forsøkene"
   ]
  },
  {
   "cell_type": "markdown",
   "metadata": {
    "slideshow": {
     "slide_type": "slide"
    }
   },
   "source": [
    "### Terninger\n",
    "\n",
    "Du triller tre terninger.\n",
    "\n",
    "Hva er sannsynligheten for å få minst én firer?"
   ]
  },
  {
   "cell_type": "code",
   "execution_count": null,
   "metadata": {},
   "outputs": [],
   "source": [
    "def four_from_three_dice(N):\n",
    "    ...\n",
    "    return "
   ]
  },
  {
   "cell_type": "markdown",
   "metadata": {
    "slideshow": {
     "slide_type": "notes"
    }
   },
   "source": [
    "Vi simulerer ett kast med tre terninger, og gjentar forsøket $N$ ganger. Vi kan så telle antall ganger vi fikk minst én firer og dele på antall forsøk.\n",
    "\n",
    "Her er et forslag til løsning:"
   ]
  },
  {
   "cell_type": "code",
   "execution_count": null,
   "metadata": {
    "slideshow": {
     "slide_type": "notes"
    }
   },
   "outputs": [],
   "source": [
    "def four_from_three_dice(N):\n",
    "    counter = 0\n",
    "    for _ in range(N):\n",
    "        dice = np.random.randint(1, 7, 3)\n",
    "        if 4 in dice:\n",
    "            counter += 1   \n",
    "    return counter/N"
   ]
  },
  {
   "cell_type": "markdown",
   "metadata": {
    "slideshow": {
     "slide_type": "slide"
    }
   },
   "source": [
    "**De store talls lov:**  Forsøket bør repeteres mange ganger.\n",
    "\n",
    "Den teoretiske lønsingen er $p \\approx 0.42130$."
   ]
  },
  {
   "cell_type": "code",
   "execution_count": null,
   "metadata": {},
   "outputs": [],
   "source": [
    "print(f\"{'N':>8}  probability\\n{'='*20}\")\n",
    "N = 5\n",
    "for _ in range(5):\n",
    "    N *= 10\n",
    "    print(f\"{N:8d}{four_from_three_dice(N):10.5f}\")\n",
    "print(f\"Analytic{91/216:10.5f}\\n{'='*20}\")"
   ]
  },
  {
   "cell_type": "markdown",
   "metadata": {
    "slideshow": {
     "slide_type": "slide"
    }
   },
   "source": [
    "### Bursdagsproblemet\n",
    "    \n",
    "Velg $k$ tilfeldige personer. Hva er sannsynligheten for at noen har samme bursdag?\n",
    "\n",
    "Antagelser:\n",
    "- Alle dager er like sannsynlig\n",
    "- Ignorerer skuddår"
   ]
  },
  {
   "cell_type": "markdown",
   "metadata": {
    "slideshow": {
     "slide_type": "fragment"
    }
   },
   "source": [
    "Vi skal finne svar ved å bruke en stokastisk simulering."
   ]
  },
  {
   "cell_type": "markdown",
   "metadata": {
    "slideshow": {
     "slide_type": "slide"
    }
   },
   "source": [
    "**Teoretisk sannsynlighet** er gitt ved\n",
    "\n",
    "$$\n",
    "    p_2 = 1 - \\frac{M!}{(M - k)! M^k}\n",
    "$$\n",
    "\n",
    "hvor $M = 365$ er antall dager per år."
   ]
  },
  {
   "cell_type": "code",
   "execution_count": null,
   "metadata": {},
   "outputs": [],
   "source": [
    "from math import factorial as fac\n",
    "\n",
    "DAYS = 365 # days per year\n",
    "\n",
    "def p_two(k):\n",
    "    '''Probability that two or more of k people have the same birthday.'''\n",
    "    return 1 - fac(DAYS)/(fac(DAYS - k)*DAYS**k)"
   ]
  },
  {
   "cell_type": "markdown",
   "metadata": {
    "slideshow": {
     "slide_type": "slide"
    }
   },
   "source": [
    "I dette tilfellet er **bursdagene de stokastiske variablene**. Vi må derfor generere tilfeldige bursdager:"
   ]
  },
  {
   "cell_type": "code",
   "execution_count": null,
   "metadata": {},
   "outputs": [],
   "source": [
    "k = 3\n",
    "birthdays = ...\n",
    "print(birthdays)"
   ]
  },
  {
   "cell_type": "markdown",
   "metadata": {
    "slideshow": {
     "slide_type": "notes"
    }
   },
   "source": [
    "Det finnes mange måter å løse dette på. Har har jeg valgt å la heltallene $[0, 364]$ representere hver av de $365$ dagene per år:"
   ]
  },
  {
   "cell_type": "code",
   "execution_count": null,
   "metadata": {
    "slideshow": {
     "slide_type": "notes"
    }
   },
   "outputs": [],
   "source": [
    "birthdays = np.random.randint(DAYS, size=k)\n",
    "print(birthdays)"
   ]
  },
  {
   "cell_type": "markdown",
   "metadata": {
    "slideshow": {
     "slide_type": "slide"
    }
   },
   "source": [
    "**Hvordan sjekke at noen har samme bursdag?**"
   ]
  },
  {
   "cell_type": "markdown",
   "metadata": {
    "slideshow": {
     "slide_type": "notes"
    }
   },
   "source": [
    "Et `set` kan ikke inneholde duplikater. \n",
    "\n",
    "Hvis det finnes duplikater i inputarrayet, vil det tilsvarende settet være kortere! "
   ]
  },
  {
   "cell_type": "code",
   "execution_count": null,
   "metadata": {
    "slideshow": {
     "slide_type": "fragment"
    }
   },
   "outputs": [],
   "source": [
    "def has_duplicates(array):\n",
    "    return len(array) > len(set(array))\n",
    "\n",
    "assert has_duplicates([1, 2, 3, 2])\n",
    "assert not has_duplicates([9, 6, 3, 0])"
   ]
  },
  {
   "cell_type": "markdown",
   "metadata": {
    "slideshow": {
     "slide_type": "slide"
    }
   },
   "source": [
    "**Funksjon for å regne ut sannsynlighet for at to eller flere personer har samme bursdag:**"
   ]
  },
  {
   "cell_type": "code",
   "execution_count": null,
   "metadata": {},
   "outputs": [],
   "source": [
    "def birthday_problem(k, N=50_000):\n",
    "    ...\n",
    "    return "
   ]
  },
  {
   "cell_type": "markdown",
   "metadata": {
    "slideshow": {
     "slide_type": "notes"
    }
   },
   "source": [
    "I dette tilfellet er det kun to muligheter. Enten har noen bursdag på samme dag, eller ikke. \n",
    "\n",
    "Vi trekker tilfeldige bursdager og sjekker om det finnes duplikater eller ikke. Den beregnede sannsynligheten blir da antall ganger det var noen med samme bursdag delt på antall forsøk.\n",
    "\n",
    "Slik kan det da se ut:"
   ]
  },
  {
   "cell_type": "code",
   "execution_count": null,
   "metadata": {
    "slideshow": {
     "slide_type": "notes"
    }
   },
   "outputs": [],
   "source": [
    "def birthday_problem(k, N=50_000):\n",
    "    count = 0\n",
    "    for _ in range(N):\n",
    "        birthdays = np.random.randint(DAYS, size=k)\n",
    "        if has_duplicates(birthdays):\n",
    "            count += 1\n",
    "    return count/N"
   ]
  },
  {
   "cell_type": "markdown",
   "metadata": {
    "slideshow": {
     "slide_type": "fragment"
    }
   },
   "source": [
    "Dirichlets skuffeprinsipp: $k = 366$"
   ]
  },
  {
   "cell_type": "code",
   "execution_count": null,
   "metadata": {},
   "outputs": [],
   "source": [
    "print(f\"Theoretical: 1.\")\n",
    "print(f\"Simulated:  {birthday_problem(366):.5f}.\")"
   ]
  },
  {
   "cell_type": "markdown",
   "metadata": {
    "slideshow": {
     "slide_type": "fragment"
    }
   },
   "source": [
    "$k = 23$"
   ]
  },
  {
   "cell_type": "code",
   "execution_count": null,
   "metadata": {},
   "outputs": [],
   "source": [
    "print(f\"Theoretical: {p_two(23):.5f}.\")\n",
    "print(f\"Simulated:   {birthday_problem(23):.5f}.\")"
   ]
  },
  {
   "cell_type": "markdown",
   "metadata": {
    "slideshow": {
     "slide_type": "fragment"
    }
   },
   "source": [
    "$k = 70$"
   ]
  },
  {
   "cell_type": "code",
   "execution_count": null,
   "metadata": {},
   "outputs": [],
   "source": [
    "print(f\"Theoretical: {p_two(70):.5f}.\")\n",
    "print(f\"Simulated:   {birthday_problem(70):.5f}.\")"
   ]
  },
  {
   "cell_type": "markdown",
   "metadata": {
    "slideshow": {
     "slide_type": "slide"
    }
   },
   "source": [
    "### DNA\n",
    "\n",
    "Vi vil finne forekomsten av en gitt DNA-sekvens i en DNA-streng.\n",
    "\n",
    "Antar at de fire basene A, T, C og G har lik forekomst.\n",
    "\n",
    "Eksempel fra [Charles J. Weiss](https://pubs-acs-org.ezproxy.uio.no/doi/full/10.1021/acs.jchemed.7b00395)."
   ]
  },
  {
   "cell_type": "code",
   "execution_count": null,
   "metadata": {},
   "outputs": [],
   "source": [
    "BASES = ('A', 'T', 'C', 'G')"
   ]
  },
  {
   "cell_type": "markdown",
   "metadata": {
    "slideshow": {
     "slide_type": "slide"
    }
   },
   "source": [
    "**Generere tilfeldige DNA-strenger:** Gitt en lengde."
   ]
  },
  {
   "cell_type": "markdown",
   "metadata": {
    "slideshow": {
     "slide_type": "fragment"
    }
   },
   "source": [
    "Til dette kan det være lurt å vite om `string.join()`:"
   ]
  },
  {
   "cell_type": "code",
   "execution_count": null,
   "metadata": {},
   "outputs": [],
   "source": [
    "list_to_string = ''.join(['H', 'e', 'l', 'l', 'o', '.'])\n",
    "print(list_to_string)"
   ]
  },
  {
   "cell_type": "markdown",
   "metadata": {
    "slideshow": {
     "slide_type": "fragment"
    }
   },
   "source": [
    "Generere stokastisk variabel `strand`:"
   ]
  },
  {
   "cell_type": "code",
   "execution_count": null,
   "metadata": {
    "slideshow": {
     "slide_type": "-"
    }
   },
   "outputs": [],
   "source": [
    "def new_strand(length):\n",
    "    strand = ...\n",
    "    return strand"
   ]
  },
  {
   "cell_type": "markdown",
   "metadata": {
    "slideshow": {
     "slide_type": "notes"
    }
   },
   "source": [
    "Slik kan da funksjonen se ut:"
   ]
  },
  {
   "cell_type": "code",
   "execution_count": null,
   "metadata": {
    "slideshow": {
     "slide_type": "notes"
    }
   },
   "outputs": [],
   "source": [
    "def new_strand(length):\n",
    "    strand = np.random.choice(BASES, size=length)\n",
    "    return \"\".join(strand)"
   ]
  },
  {
   "cell_type": "markdown",
   "metadata": {
    "slideshow": {
     "slide_type": "fragment"
    }
   },
   "source": [
    "Prøv ut funksjonen:"
   ]
  },
  {
   "cell_type": "code",
   "execution_count": null,
   "metadata": {
    "slideshow": {
     "slide_type": "-"
    }
   },
   "outputs": [],
   "source": [
    "strand = new_strand(10)\n",
    "print(strand)"
   ]
  },
  {
   "cell_type": "markdown",
   "metadata": {
    "slideshow": {
     "slide_type": "slide"
    }
   },
   "source": [
    "**Telle forekomst av en gitt sekvens per DNA-streng.**"
   ]
  },
  {
   "cell_type": "markdown",
   "metadata": {
    "slideshow": {
     "slide_type": "fragment"
    }
   },
   "source": [
    "Det finnes mange måter å gjøre dette på. For å forenkle litt, bruker vi `string.count(substring)`."
   ]
  },
  {
   "cell_type": "code",
   "execution_count": null,
   "metadata": {},
   "outputs": [],
   "source": [
    "laugh = \"hahahaha\"\n",
    "print(f\"Number of ha: {laugh.count('ha')}.\")\n",
    "print(f\"Number of haha: {laugh.count('haha')}.\")"
   ]
  },
  {
   "cell_type": "markdown",
   "metadata": {
    "slideshow": {
     "slide_type": "notes"
    }
   },
   "source": [
    "Dette vil si at hvis vi leter etter sekvensen GATG i en DRNA-streng GATGATG, så får vi forekomst 1. Man kan tenke seg at det egentlig er 2 som er riktig forekomst her, og da kan man ikke bruke `count`-funksjonen til `string`."
   ]
  },
  {
   "cell_type": "markdown",
   "metadata": {
    "slideshow": {
     "slide_type": "fragment"
    }
   },
   "source": [
    "Tilsvarende for sekvens i DNA-streng:"
   ]
  },
  {
   "cell_type": "code",
   "execution_count": null,
   "metadata": {},
   "outputs": [],
   "source": [
    "strand = new_strand(5)\n",
    "print(strand, strand.count('T'))"
   ]
  },
  {
   "cell_type": "markdown",
   "metadata": {
    "slideshow": {
     "slide_type": "slide"
    }
   },
   "source": [
    "**Funksjon for å estimere forekomst av en sekvens i DNA-strenger:**"
   ]
  },
  {
   "cell_type": "code",
   "execution_count": null,
   "metadata": {},
   "outputs": [],
   "source": [
    "def occurances(sequence, strand_length, strands=10_000):\n",
    "    ...\n",
    "    return "
   ]
  },
  {
   "cell_type": "markdown",
   "metadata": {
    "slideshow": {
     "slide_type": "notes"
    }
   },
   "source": [
    "Forslag til funksjon:"
   ]
  },
  {
   "cell_type": "code",
   "execution_count": null,
   "metadata": {
    "slideshow": {
     "slide_type": "notes"
    }
   },
   "outputs": [],
   "source": [
    "def occurances(sequence, strand_length, strands=10_000):\n",
    "    counter = 0\n",
    "    for _ in range(strands):\n",
    "        strand = new_strand(strand_length)\n",
    "        counter += strand.count(sequence)\n",
    "    return counter/strands"
   ]
  },
  {
   "cell_type": "markdown",
   "metadata": {
    "slideshow": {
     "slide_type": "fragment"
    }
   },
   "source": [
    "Et stokastisk eksperiment:"
   ]
  },
  {
   "cell_type": "code",
   "execution_count": null,
   "metadata": {},
   "outputs": [],
   "source": [
    "seq = \"GCAT\"\n",
    "length = 1000\n",
    "p = occurances(seq, length)\n",
    "print(f\"Ocurrance of {seq} in a {length} long sequence is {p}.\")"
   ]
  },
  {
   "cell_type": "markdown",
   "metadata": {
    "slideshow": {
     "slide_type": "slide"
    }
   },
   "source": [
    "### Monty Hall-problemet\n",
    "\n",
    "En matematisk nøtt som skapte stor debatt på 90-tallet.\n",
    "\n",
    "Vi skal gjøre en stokastisk simulering for å finne riktig svar på nøtten."
   ]
  },
  {
   "cell_type": "markdown",
   "metadata": {
    "slideshow": {
     "slide_type": "notes"
    }
   },
   "source": [
    "Tenk at du er en kandidat på et game-show. Du blir presentert tre dører. Bak en dør er det en bil, bak de to andre er det geiter. Du får beskjed om å velge en dør. \n",
    "\n",
    "Si at du velger dør #1."
   ]
  },
  {
   "cell_type": "markdown",
   "metadata": {
    "slideshow": {
     "slide_type": "slide"
    }
   },
   "source": [
    "![](figures/doors.png)"
   ]
  },
  {
   "cell_type": "markdown",
   "metadata": {
    "slideshow": {
     "slide_type": "notes"
    }
   },
   "source": [
    "Programlederen åpner dør #3 og viser at der er det en geit. Programlederen spør så om du vil bytte til dør #2 eller om du vil beholde den du valgte, (altså dør #1).\n",
    "\n",
    "Hva lønner det seg å gjøre?"
   ]
  },
  {
   "cell_type": "markdown",
   "metadata": {
    "slideshow": {
     "slide_type": "slide"
    }
   },
   "source": [
    "![](figures/doors_open.png)"
   ]
  },
  {
   "cell_type": "markdown",
   "metadata": {
    "slideshow": {
     "slide_type": "slide"
    }
   },
   "source": [
    "**Trekke tilfeldig dør til både prisen og til deltakeren:** Av dør 1, 2 eller 3. "
   ]
  },
  {
   "cell_type": "code",
   "execution_count": null,
   "metadata": {},
   "outputs": [],
   "source": [
    "choice = ...\n",
    "print(f\"You chose door #{choice}.\")\n",
    "\n",
    "prize = ...\n",
    "print(f\"You are not supposed to know, but the prize is behind door #{prize}.\")"
   ]
  },
  {
   "cell_type": "markdown",
   "metadata": {
    "slideshow": {
     "slide_type": "notes"
    }
   },
   "source": [
    "I cellen under ligger en løsning ved bruk av `randint`. Husk at intervallet er åpnet $[x_\\text{min}, x_\\text{max})$, så `np.random.randint(1, 4)` vil kunne gi 1, 2 eller 3."
   ]
  },
  {
   "cell_type": "code",
   "execution_count": null,
   "metadata": {
    "slideshow": {
     "slide_type": "notes"
    }
   },
   "outputs": [],
   "source": [
    "choice = np.random.randint(1, 4)\n",
    "print(f\"You chose door #{choice}.\")\n",
    "\n",
    "prize = np.random.randint(1, 4)\n",
    "print(f\"You are not supposed to know, but the prize is behind door #{prize}.\")"
   ]
  },
  {
   "cell_type": "markdown",
   "metadata": {
    "slideshow": {
     "slide_type": "slide"
    }
   },
   "source": [
    "**Dør som programlederen skal åpne:**\n",
    "- Kan ikke åpne døren som gjemmer en bil\n",
    "- Kan ikke åpne døren deltakeren har valgt\n",
    "\n",
    "Dette betyr at programlederen har én eller to dører å velge mellom."
   ]
  },
  {
   "cell_type": "markdown",
   "metadata": {
    "slideshow": {
     "slide_type": "fragment"
    }
   },
   "source": [
    "**Hint:** Vi kan bruke sett!"
   ]
  },
  {
   "cell_type": "code",
   "execution_count": null,
   "metadata": {},
   "outputs": [],
   "source": [
    "primes = {1, 2, 3, 4, 5, 6, 7, 8, 9} - {1, 4, 6, 8, 9}\n",
    "print(primes)"
   ]
  },
  {
   "cell_type": "markdown",
   "metadata": {
    "slideshow": {
     "slide_type": "fragment"
    }
   },
   "source": [
    "Programlederen velger tilfeldig dør:"
   ]
  },
  {
   "cell_type": "code",
   "execution_count": null,
   "metadata": {
    "slideshow": {
     "slide_type": "-"
    }
   },
   "outputs": [],
   "source": [
    "doors = {1, 2, 3}\n",
    "host = ...\n",
    "print(f\"The host chose door #{host}.\")"
   ]
  },
  {
   "cell_type": "markdown",
   "metadata": {
    "slideshow": {
     "slide_type": "notes"
    }
   },
   "source": [
    "Obs på at `numpy.random.choice` ikke kan ta inn `set` som input. Vi må derfor gjøre `possible_doors` om til en liste.\n",
    "\n",
    "Løsningen kan da se slik ut:"
   ]
  },
  {
   "cell_type": "code",
   "execution_count": null,
   "metadata": {
    "slideshow": {
     "slide_type": "notes"
    }
   },
   "outputs": [],
   "source": [
    "possible_doors = list(doors - {choice, prize})\n",
    "host = np.random.choice(possible_doors)\n",
    "print(f\"The host chose door #{host}.\")"
   ]
  },
  {
   "cell_type": "markdown",
   "metadata": {
    "slideshow": {
     "slide_type": "slide"
    }
   },
   "source": [
    "**Bytte dør?**\n",
    "\n",
    "Hvis du vil bytte dør, så må dette bli til den døren som *ikke* var hverken din eller programlederen sitt valg."
   ]
  },
  {
   "cell_type": "code",
   "execution_count": null,
   "metadata": {},
   "outputs": [],
   "source": [
    "switch = ...\n",
    "\n",
    "if switch:\n",
    "    final = ...\n",
    "    print(f\"You will switch to door #{final}.\")\n",
    "else:\n",
    "    final = ...\n",
    "    print(f\"You will stick to door #{final}.\")"
   ]
  },
  {
   "cell_type": "markdown",
   "metadata": {
    "slideshow": {
     "slide_type": "notes"
    }
   },
   "source": [
    "Når vi skriver `doors - {choice, host}` vil vi få et sett med ett element. Et sett kan ikke indekseres. For å få ut elementet bruker vi `set.pop()` som fjerner og returnerer et tilfeldig element i settet. Siden settet har størrelse 1, vil vi få riktig dørnummer!"
   ]
  },
  {
   "cell_type": "code",
   "execution_count": null,
   "metadata": {
    "slideshow": {
     "slide_type": "notes"
    }
   },
   "outputs": [],
   "source": [
    "if switch:\n",
    "    final = (doors - {choice, host}).pop()\n",
    "    print(f\"You will switch to door #{final}.\")\n",
    "else:\n",
    "    final = choice\n",
    "    print(f\"You will stick to door #{final}.\")"
   ]
  },
  {
   "cell_type": "markdown",
   "metadata": {
    "slideshow": {
     "slide_type": "slide"
    }
   },
   "source": [
    "**Vant deltakeren?**"
   ]
  },
  {
   "cell_type": "code",
   "execution_count": null,
   "metadata": {},
   "outputs": [],
   "source": [
    "win = final == prize\n",
    "print(f\"{'YOU WIN!!!' if win else 'YOU LOSE.'}\")\n",
    "print(f\"Your final answer was #{final}, the prize was behind door #{prize}.\")"
   ]
  },
  {
   "cell_type": "markdown",
   "metadata": {
    "slideshow": {
     "slide_type": "slide"
    }
   },
   "source": [
    "**Stokastisk simluering av Monty Hall:**"
   ]
  },
  {
   "cell_type": "code",
   "execution_count": null,
   "metadata": {},
   "outputs": [],
   "source": [
    "def monty_hall(switch, N=10_000):\n",
    "    doors = {1, 2, 3}\n",
    "    ...\n",
    "    return "
   ]
  },
  {
   "cell_type": "markdown",
   "metadata": {
    "slideshow": {
     "slide_type": "notes"
    }
   },
   "source": [
    "Svaret ligger i gjennomsnittet av mange game-shows. Forslag til implementasjon:"
   ]
  },
  {
   "cell_type": "code",
   "execution_count": null,
   "metadata": {
    "slideshow": {
     "slide_type": "notes"
    }
   },
   "outputs": [],
   "source": [
    "def monty_hall(switch, N=10_000):\n",
    "    doors = {1, 2, 3}\n",
    "    win = 0\n",
    "    for _ in range(N):\n",
    "        choice, prize = np.random.randint(1, 4, size=2)\n",
    "        if switch:\n",
    "            host = np.random.choice(list(doors - {choice, prize}))\n",
    "            choice = (doors - {choice, host}).pop()\n",
    "        if choice == prize:\n",
    "            win += 1\n",
    "    return win/N"
   ]
  },
  {
   "cell_type": "markdown",
   "metadata": {
    "slideshow": {
     "slide_type": "slide"
    }
   },
   "source": [
    "**Svaret på Monty Hall:** Da kan vi avgjøre om du burde bytte eller ikke!"
   ]
  },
  {
   "cell_type": "code",
   "execution_count": null,
   "metadata": {
    "slideshow": {
     "slide_type": "-"
    }
   },
   "outputs": [],
   "source": [
    "print(\"Probability of winning:\")\n",
    "print(f\"- Stick to first:  {monty_hall(False)}\")\n",
    "print(f\"- Switch the door: {monty_hall(True)}\")"
   ]
  },
  {
   "cell_type": "markdown",
   "metadata": {
    "slideshow": {
     "slide_type": "slide"
    }
   },
   "source": [
    "## Simuleringer av deterministiske systemer\n",
    "\n",
    "Man kan også bruke stokastiske simuleringer av deterministiske systemer."
   ]
  },
  {
   "cell_type": "markdown",
   "metadata": {
    "slideshow": {
     "slide_type": "slide"
    }
   },
   "source": [
    "### Estimere gjennomsnitt\n",
    "\n",
    "\n",
    "Vi kan estimere gjennomsnittet til en funksjon på intervallet $x \\in [x_\\text{min}, x_\\text{max}]$ som\n",
    "\n",
    "$$\n",
    "    \\bar{f} \\approx \\frac{1}{N}\\sum_{i=1}^{N} f(x_i) ,\n",
    "$$\n",
    "\n",
    "hvor $x_i \\in [x_\\text{min}, x_\\text{max}]$ er tilfeldige tall."
   ]
  },
  {
   "cell_type": "code",
   "execution_count": null,
   "metadata": {},
   "outputs": [],
   "source": [
    "def mean(f, x_min, x_max, N):\n",
    "    ...\n",
    "    return "
   ]
  },
  {
   "cell_type": "markdown",
   "metadata": {
    "slideshow": {
     "slide_type": "notes"
    }
   },
   "source": [
    "Forslag til implementasjon:"
   ]
  },
  {
   "cell_type": "code",
   "execution_count": null,
   "metadata": {
    "slideshow": {
     "slide_type": "notes"
    }
   },
   "outputs": [],
   "source": [
    "def mean(f, x_min, x_max, N):\n",
    "    x = np.random.uniform(x_min, x_max, size=N)\n",
    "    return np.mean(f(x))"
   ]
  },
  {
   "cell_type": "markdown",
   "metadata": {
    "slideshow": {
     "slide_type": "slide"
    }
   },
   "source": [
    "**De store talls lov** gjelder fortsatt! \n",
    "\n",
    "For \n",
    "\n",
    "$$\n",
    "    f(x) = 2x + 1\n",
    "$$\n",
    "\n",
    "på intervallet $x \\in [-3, 3]$ er $\\bar{f} = 1$."
   ]
  },
  {
   "cell_type": "code",
   "execution_count": null,
   "metadata": {},
   "outputs": [],
   "source": [
    "def f(x):\n",
    "    return 2*x + 1\n",
    "\n",
    "print(f\"{'N':>8}   mean\\n{'='*18}\")\n",
    "N = 10\n",
    "x_min = -3\n",
    "x_max = 3\n",
    "for _ in range(5):\n",
    "    N *= 10\n",
    "    print(f\"{N:8d}{mean(f, x_min, x_max, N):9.5f}\")\n",
    "print(f\"Analytic  1\\n{'='*18}\")"
   ]
  },
  {
   "cell_type": "markdown",
   "metadata": {
    "slideshow": {
     "slide_type": "fragment"
    }
   },
   "source": [
    "Stokastiske simuleringer er ikke avhengig av dimensjon på samme måte som mange *klassiske* metoder, og kan derfor være rimeligere i bruk!"
   ]
  },
  {
   "cell_type": "markdown",
   "metadata": {
    "slideshow": {
     "slide_type": "slide"
    }
   },
   "source": [
    "## Monte Carlo-integrasjon\n",
    "\n",
    "Integralet av $f$ over et domene $\\Omega$\n",
    "\n",
    "$$\n",
    "    I = \\int_\\Omega f(\\vec{x}) \\,{\\rm d}\\vec{x} \n",
    "$$\n",
    "\n",
    "er *deterministisk*."
   ]
  },
  {
   "cell_type": "markdown",
   "metadata": {
    "slideshow": {
     "slide_type": "fragment"
    }
   },
   "source": [
    "Monte Carlo-integrasjon tilnærmer integralet på en ikke-deterministisk måte\n",
    "\n",
    "$$\n",
    "    I \\approx \\frac{V}{N}\\sum_{i = 1}^N f(\\vec{x}_i) = V \\langle f \\rangle,\n",
    "$$\n",
    "\n",
    "hvor $V$ er volumet til $\\Omega$ og $\\vec{x}_i \\in \\Omega$ velges med en gitt tilfeldig fordeling. \n",
    "\n",
    "Metoden er svært nyttig for integraler av høyere dimensjoner."
   ]
  },
  {
   "cell_type": "markdown",
   "metadata": {
    "slideshow": {
     "slide_type": "slide"
    }
   },
   "source": [
    "### Monte Carlo i én dimensjon\n",
    "\n",
    "I én dimensjon er integralet løst ved\n",
    "\n",
    "$$\n",
    "    \\int_{x_{min}}^{x_{max}} f(x) \\, {\\rm d}x \\approx (x_{max} - x_{min})\\bar{f}.\n",
    "$$\n"
   ]
  },
  {
   "cell_type": "markdown",
   "metadata": {
    "slideshow": {
     "slide_type": "notes"
    }
   },
   "source": [
    "Det er vanlig med uniform fordeling av $x_i$, men andre fordelinger brukes også når det passer seg."
   ]
  },
  {
   "cell_type": "code",
   "execution_count": null,
   "metadata": {
    "slideshow": {
     "slide_type": "fragment"
    }
   },
   "outputs": [],
   "source": [
    "def monte_carlo(f, x_min, x_max, N):\n",
    "    ...\n",
    "    return"
   ]
  },
  {
   "cell_type": "markdown",
   "metadata": {
    "slideshow": {
     "slide_type": "notes"
    }
   },
   "source": [
    "Implementasjon av Monte Carlo integrasjon i én dimensjon:"
   ]
  },
  {
   "cell_type": "code",
   "execution_count": null,
   "metadata": {
    "slideshow": {
     "slide_type": "notes"
    }
   },
   "outputs": [],
   "source": [
    "def monte_carlo(f, x_min, x_max, N):\n",
    "    x = np.random.uniform(x_min, x_max, size=N)\n",
    "    f_ = f(x).mean()\n",
    "    return (x_max - x_min)*f_"
   ]
  },
  {
   "cell_type": "markdown",
   "metadata": {
    "slideshow": {
     "slide_type": "slide"
    }
   },
   "source": [
    "**De store talls lov** gjelder for MC, som for alle stokastiske simuleringer.\n",
    "\n",
    "Vi skal bruke MC til å løse\n",
    "\n",
    "$$\n",
    "    \\int_{0.01}^{100} \\frac{1}{x} \\, {\\rm d}x.\n",
    "$$\n",
    "\n",
    "Eksakt løsning er $\\int \\frac{1}{x} \\, {\\rm d}x = \\ln(x)$."
   ]
  },
  {
   "cell_type": "code",
   "execution_count": null,
   "metadata": {},
   "outputs": [],
   "source": [
    "def f(x):\n",
    "    return 1/x\n",
    "\n",
    "print(f\"{'N':>8}    I\\n{'='*18}\")\n",
    "x_min = 0.01\n",
    "x_max = 100\n",
    "I = np.log(x_max) - np.log(x_min)\n",
    "N = 10\n",
    "for _ in range(5):\n",
    "    N *= 10\n",
    "    print(f\"{N:8d}{monte_carlo(f, x_min, x_max, N):9.5f}\")\n",
    "print(f\"Analytic  {I:.5f}\\n{'='*18}\")"
   ]
  },
  {
   "cell_type": "markdown",
   "metadata": {
    "slideshow": {
     "slide_type": "slide"
    }
   },
   "source": [
    "## Oppsummering"
   ]
  },
  {
   "cell_type": "markdown",
   "metadata": {
    "slideshow": {
     "slide_type": "fragment"
    }
   },
   "source": [
    "- Stokastiske metoder kan brukes til å simulere både stokastiske og deterministiske systemer."
   ]
  },
  {
   "cell_type": "markdown",
   "metadata": {
    "slideshow": {
     "slide_type": "fragment"
    }
   },
   "source": [
    "- Stokastiske variabler gis passende tilfeldige tall."
   ]
  },
  {
   "cell_type": "markdown",
   "metadata": {
    "slideshow": {
     "slide_type": "fragment"
    }
   },
   "source": [
    "- Tilfeldig *prøvetaking* kan brukes for deterministiske systemer."
   ]
  },
  {
   "cell_type": "markdown",
   "metadata": {
    "slideshow": {
     "slide_type": "fragment"
    }
   },
   "source": [
    "- Resultat som gjennomsnitt av mange simuleringer/prøver."
   ]
  },
  {
   "cell_type": "markdown",
   "metadata": {
    "slideshow": {
     "slide_type": "notes"
    }
   },
   "source": [
    "Neste uke skal vi gå videre til Markov-kjeder."
   ]
  }
 ],
 "metadata": {
  "celltoolbar": "Slideshow",
  "kernelspec": {
   "display_name": "Python 3 (ipykernel)",
   "language": "python",
   "name": "python3"
  },
  "language_info": {
   "codemirror_mode": {
    "name": "ipython",
    "version": 3
   },
   "file_extension": ".py",
   "mimetype": "text/x-python",
   "name": "python",
   "nbconvert_exporter": "python",
   "pygments_lexer": "ipython3",
   "version": "3.10.5"
  },
  "vscode": {
   "interpreter": {
    "hash": "190cafc93a7c2c49a6ea227d53366c310c32565680693c36f3a06dea9bb66b47"
   }
  }
 },
 "nbformat": 4,
 "nbformat_minor": 2
}
