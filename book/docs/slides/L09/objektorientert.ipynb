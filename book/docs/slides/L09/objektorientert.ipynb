{
 "cells": [
  {
   "cell_type": "markdown",
   "metadata": {
    "slideshow": {
     "slide_type": "slide"
    }
   },
   "source": [
    "# Objektorientert Programmering "
   ]
  },
  {
   "cell_type": "markdown",
   "metadata": {
    "slideshow": {
     "slide_type": "slide"
    }
   },
   "source": [
    "## OOP vi har gjennomgått til nå"
   ]
  },
  {
   "cell_type": "markdown",
   "metadata": {
    "slideshow": {
     "slide_type": "slide"
    }
   },
   "source": [
    "**Datafelt:**\n",
    "* Instansvariabler\n",
    "* Klassevariabler"
   ]
  },
  {
   "cell_type": "code",
   "execution_count": null,
   "metadata": {},
   "outputs": [],
   "source": [
    "class Example:\n",
    "    spam = \"class variable\"\n",
    "    \n",
    "    def __init__(self, eggs=\"instance variable\"):\n",
    "        self.eggs = eggs"
   ]
  },
  {
   "cell_type": "markdown",
   "metadata": {
    "slideshow": {
     "slide_type": "slide"
    }
   },
   "source": [
    "**Metoder:**\n",
    "* *Vanlige* metoder\n",
    "* Magiske metoder\n",
    "* Klassemetoder\n",
    "* Statiske metoder"
   ]
  },
  {
   "cell_type": "code",
   "execution_count": null,
   "metadata": {},
   "outputs": [],
   "source": [
    "class Example:    \n",
    "    def __init__(self, eggs):\n",
    "        self.eggs = eggs\n",
    "        \n",
    "    def spam(self):\n",
    "        return 12*self.eggs\n",
    "        \n",
    "    @staticmethod\n",
    "    def cheese():\n",
    "        return None\n",
    "    \n",
    "    @classmethod\n",
    "    def factory(cls, filename):\n",
    "        eggs_from_file = ...\n",
    "        return cls(eggs_from_file)"
   ]
  },
  {
   "cell_type": "markdown",
   "metadata": {
    "slideshow": {
     "slide_type": "slide"
    }
   },
   "source": [
    "**Private attributter:**\n",
    "* Private datafelt\n",
    "* Private metoder\n",
    "* *getters*\n",
    "* *setters*"
   ]
  },
  {
   "cell_type": "code",
   "execution_count": null,
   "metadata": {},
   "outputs": [],
   "source": [
    "class Example:    \n",
    "    def __init__(self, eggs):\n",
    "        self.eggs = eggs\n",
    "      \n",
    "    def _update_spam(self):\n",
    "        self._spam = 12*self._eggs\n",
    "        \n",
    "    @property\n",
    "    def spam(self):\n",
    "        return self._spam\n",
    "        \n",
    "    @property\n",
    "    def eggs(self):\n",
    "        return self._eggs\n",
    "    \n",
    "    @eggs.setter\n",
    "    def eggs(self, eggs):\n",
    "        self._eggs = eggs\n",
    "        self._update_spam()\n",
    "        \n",
    "example = Example(101)\n",
    "print(f\"spam = {example.spam}\")"
   ]
  },
  {
   "cell_type": "markdown",
   "metadata": {
    "slideshow": {
     "slide_type": "slide"
    }
   },
   "source": [
    "## Overblikk over dagens tema"
   ]
  },
  {
   "cell_type": "markdown",
   "metadata": {
    "slideshow": {
     "slide_type": "fragment"
    }
   },
   "source": [
    "- **Abstraksjon:** Gjemme bort kompleksitet for å bedre *brukervennlighet*"
   ]
  },
  {
   "cell_type": "markdown",
   "metadata": {
    "slideshow": {
     "slide_type": "fragment"
    }
   },
   "source": [
    "- **Innkapsling:** Enhetlig representasjon av data og tilhørende funksjoner "
   ]
  },
  {
   "cell_type": "markdown",
   "metadata": {
    "slideshow": {
     "slide_type": "fragment"
    }
   },
   "source": [
    "- **Arv:** Gjenbruk av funksjonalitet"
   ]
  },
  {
   "cell_type": "markdown",
   "metadata": {
    "slideshow": {
     "slide_type": "fragment"
    }
   },
   "source": [
    "- **Polymorfisme:** La kontekst ha innvirking på objekter og funksjoner "
   ]
  },
  {
   "cell_type": "markdown",
   "metadata": {
    "slideshow": {
     "slide_type": "slide"
    }
   },
   "source": [
    "## Abstraksjon\n",
    "\n",
    "Abstraksjon handler om **forenklet representasjon**:\n",
    "\n",
    "- Programmeringsspråk er en abstraksjon av (binær) maskinkode\n",
    "    * *Høynivå* språk har høyere grad av abstraksjon enn *lavnivå* språk\n",
    "- Brukergrensesnitt er en abstraksjon av den underliggende koden\n",
    "    * Bruk av teknologi uten å tenke på kode\n",
    "    \n",
    "Disse eksemplene handler primært om *oversettelse*. "
   ]
  },
  {
   "cell_type": "markdown",
   "metadata": {
    "slideshow": {
     "slide_type": "slide"
    }
   },
   "source": [
    "**Abstraksjon handler generelt om å gjemme bort kompleksitet**:\n",
    "\n",
    "Bruk av komplekse funksjoner/metoder uten kjennskap til implementasjonen.\n",
    "    \n",
    "Trenger kun kort beskrivelse av funksjonalitet, forventet input og output."
   ]
  },
  {
   "cell_type": "markdown",
   "metadata": {
    "slideshow": {
     "slide_type": "fragment"
    }
   },
   "source": [
    "Brukervennlighet av kode du skriver er viktig! For eksempel:\n",
    "\n",
    "```Python\n",
    "from numpy.polynomial import Polynomial\n",
    "\n",
    "p = Polynomial([1, 2, 3, 4])\n",
    "roots = p.roots()\n",
    "```\n",
    "Vi kan enkelt *bruke* `numpy` sin implementasjon for å finne røttene til polynomet uten å vite hvordan `roots()` er implementert. "
   ]
  },
  {
   "cell_type": "markdown",
   "metadata": {
    "slideshow": {
     "slide_type": "notes"
    }
   },
   "source": [
    "Det samme skal gjelde når andre programmerere skal bruke moduler du skriver."
   ]
  },
  {
   "cell_type": "markdown",
   "metadata": {
    "slideshow": {
     "slide_type": "slide"
    }
   },
   "source": [
    "### Grensesnitt\n",
    "\n",
    "Grensesnittet er *kontrakten* for samspill mellom komponenter. \n",
    "\n",
    "- Brukergrensesnitt er mellom teknologi og menneske\n",
    "- Signaturen til en funksjon/metode definerer et grensesnitt\n",
    "    - `sum(a : list[float]) -> float`\n",
    "- En klasse sitt grensesnitt definerer (offentlige) metoder og datafelt"
   ]
  },
  {
   "cell_type": "markdown",
   "metadata": {
    "slideshow": {
     "slide_type": "slide"
    }
   },
   "source": [
    "## Innkapsling\n",
    "\n",
    "Ideen om å **samle all relevant data og funksjonalitet i én enhet**, ofte som en *klasse*.\n",
    "\n",
    "En del av innkapsling er også å **begrense adgang til datafelt utenfra og å skjule implementasjondetaljer**."
   ]
  },
  {
   "cell_type": "markdown",
   "metadata": {
    "slideshow": {
     "slide_type": "slide"
    }
   },
   "source": [
    "### Design av klasser\n",
    "\n",
    "En stor del OOP er å lage gode grensesnitt for klasser. \n",
    "\n",
    "Spørsmål å stille seg selv som er *i tråd med prinsippet om innkapsling*:\n",
    "\n",
    "- **Hva representerer klassen?** Navngi klassen deretter\n",
    "- **Hvilke egenskaper definerer klassen?** Metoder & datafelt\n",
    "- **Hvilke egenskaper er felles for alle instanser?** Metoder & klassevariabler\n",
    "- **Hvilke egenskaper unike for instanser?** Instansvariabler\n",
    "\n",
    "**Avgrens klassen** til å kun inneholde strengt relevant data og funksjonalitet."
   ]
  },
  {
   "cell_type": "markdown",
   "metadata": {
    "slideshow": {
     "slide_type": "slide"
    }
   },
   "source": [
    "### Begrens grensesnittet\n",
    "\n",
    "Grensesnittet består av *offentlige* metoder og datafelt. \n",
    "\n",
    "Å begrense grenesnittet skal:\n",
    "- **Forenkle bruk** ved å skjule kompleksitet og implementasjonsdetaljer\n",
    "- **Hindre brukerfeil** ved å begrense tilgang til datafelt og støttemetoder\n",
    "- **Forenkle bruk av refaktorering** da bruker kun forholder seg til grensesnittet\n",
    "\n",
    "Grensesnittet bør forbli uendret etter modulen er publisert."
   ]
  },
  {
   "cell_type": "markdown",
   "metadata": {
    "slideshow": {
     "slide_type": "slide"
    }
   },
   "source": [
    "#### Offentlig vs. privat\n",
    "\n",
    "- **Offentlige metoder:** Metoder som skal brukes utenfor klassen\n",
    "    - Bør være stabile (feilhåndtering)\n",
    "    - Signaturen bør forbli uendret\n",
    "- **Private metoder:** Metoder som kun skal brukes inni klassen\n",
    "    - Kan slettes eller endre signatur under refaktorering\n",
    "- **Offentlige datafelt:** Datafelt som kan hentes og endres på utenfra\n",
    "    - Koden bør være stabil selv om datafeltet endres\n",
    "- **Private datafelt:** Datafelt som kun skal brukes inni klassen\n",
    "    - Eventuell indirekte tilgang utenfra via *setters* og *getters*"
   ]
  },
  {
   "cell_type": "markdown",
   "metadata": {
    "slideshow": {
     "slide_type": "notes"
    }
   },
   "source": [
    "I Python *signaliserer* vi at metoder og datafelt er private ved la navnet begynne på understrek (`_`). "
   ]
  },
  {
   "cell_type": "markdown",
   "metadata": {
    "slideshow": {
     "slide_type": "slide"
    }
   },
   "source": [
    "## Arv\n",
    "\n",
    "I OOP brukes arv til å **definere nye klasser basert på eksisterende klasser**:\n",
    "- **Subklasse**: klassen som arver\n",
    "- **Superklasse**: klassen om blir arvet fra"
   ]
  },
  {
   "cell_type": "markdown",
   "metadata": {
    "slideshow": {
     "slide_type": "fragment"
    }
   },
   "source": [
    "Forholdet mellom subklassen og dens superklasse:\n",
    "- **Subklassen *arver* alle attributtene** til superklassen\n",
    "- Subklassen kan **legge til flere attributter** \n",
    "- Subklassen kan **omdefinere arvede attributter**"
   ]
  },
  {
   "cell_type": "markdown",
   "metadata": {
    "slideshow": {
     "slide_type": "slide"
    }
   },
   "source": [
    "### Implementasjon av arv \n",
    "\n",
    "For å bruke arv skriver man \n",
    "\n",
    "```Python\n",
    "class SubClass(SuperClass):\n",
    "    ...\n",
    "```\n",
    "\n",
    "Et noe generisk eksempel:"
   ]
  },
  {
   "cell_type": "code",
   "execution_count": null,
   "metadata": {},
   "outputs": [],
   "source": [
    "class MotherClass:\n",
    "    def __init__(self, name):\n",
    "        self.name = name\n",
    "        \n",
    "    def spam(self):\n",
    "        print(\"You called spam!\")\n",
    "\n",
    "        \n",
    "class ChildClass(MotherClass):\n",
    "    def eggs(self):\n",
    "        print(\"You called eggs!\")\n",
    "        \n",
    "mother = MotherClass(\"super\")\n",
    "child = ChildClass(\"sub\")"
   ]
  },
  {
   "cell_type": "markdown",
   "metadata": {
    "slideshow": {
     "slide_type": "fragment"
    }
   },
   "source": [
    "Subklassen har attributtene til superklassen:"
   ]
  },
  {
   "cell_type": "code",
   "execution_count": null,
   "metadata": {
    "slideshow": {
     "slide_type": "-"
    }
   },
   "outputs": [],
   "source": [
    "print(f\"Field: {child.name}\")\n",
    "child.spam()\n",
    "child.eggs() # new to subclass "
   ]
  },
  {
   "cell_type": "markdown",
   "metadata": {
    "slideshow": {
     "slide_type": "fragment"
    }
   },
   "source": [
    "Superklassen forblir uendret av subklassen:"
   ]
  },
  {
   "cell_type": "code",
   "execution_count": null,
   "metadata": {
    "slideshow": {
     "slide_type": "-"
    }
   },
   "outputs": [],
   "source": [
    "print(f\"Field: {mother.name}\")\n",
    "mother.spam()\n",
    "mother.eggs() # new to subclass"
   ]
  },
  {
   "cell_type": "markdown",
   "metadata": {
    "slideshow": {
     "slide_type": "slide"
    }
   },
   "source": [
    "### Klassehirarki\n",
    "\n",
    "En subklasse tilhører sin superklasse, men ikke omvendt."
   ]
  },
  {
   "cell_type": "markdown",
   "metadata": {
    "slideshow": {
     "slide_type": "fragment"
    }
   },
   "source": [
    "Subklassen skal ha er *er en* forhold til sin superklasse:\n",
    "- En symmetrisk matrise er en matrise\n",
    "- En diagonal matrise er en symmetrisk matrise\n",
    "- En diagonal matrise er en matrise"
   ]
  },
  {
   "cell_type": "markdown",
   "metadata": {
    "slideshow": {
     "slide_type": "fragment"
    }
   },
   "source": [
    "Men omvendt er ikke gitt:\n",
    "- En matrise er ikke nødvendigvis symmetrisk\n",
    "- En symmetrisk matrise er ikke nødvendigvis diagonal\n",
    "- En matrise er ikke nødvendigvis diagonal"
   ]
  },
  {
   "cell_type": "markdown",
   "metadata": {
    "slideshow": {
     "slide_type": "slide"
    }
   },
   "source": [
    "#### Arv og `isinstance`"
   ]
  },
  {
   "cell_type": "code",
   "execution_count": null,
   "metadata": {
    "slideshow": {
     "slide_type": "fragment"
    }
   },
   "outputs": [],
   "source": [
    "isinstance(mother, MotherClass)"
   ]
  },
  {
   "cell_type": "code",
   "execution_count": null,
   "metadata": {
    "slideshow": {
     "slide_type": "fragment"
    }
   },
   "outputs": [],
   "source": [
    "isinstance(mother, ChildClass)"
   ]
  },
  {
   "cell_type": "code",
   "execution_count": null,
   "metadata": {
    "slideshow": {
     "slide_type": "fragment"
    }
   },
   "outputs": [],
   "source": [
    "isinstance(child, ChildClass)"
   ]
  },
  {
   "cell_type": "code",
   "execution_count": null,
   "metadata": {
    "slideshow": {
     "slide_type": "fragment"
    }
   },
   "outputs": [],
   "source": [
    "isinstance(child, MotherClass)"
   ]
  },
  {
   "cell_type": "markdown",
   "metadata": {
    "slideshow": {
     "slide_type": "slide"
    }
   },
   "source": [
    "#### Flernivå arv (*multi-level inheritance*)\n",
    "\n",
    "*Generasjoner* av arv, hvor nye klasser arver av eksiterende subklasser."
   ]
  },
  {
   "cell_type": "markdown",
   "metadata": {
    "slideshow": {
     "slide_type": "fragment"
    }
   },
   "source": [
    "Forholdet *superklasse* og *subklasse* er relativt!\n",
    "\n",
    "- `Matrix` er superklassen til `SymmetricMatrix`\n",
    "- `SymmetricMatrix` er subklassen til `Matrix`\n",
    "\n",
    "\n",
    "- `SymmetricMatrix` er superklassen til `DiagonalMatrix`\n",
    "- `DiagonalMatrix` er subklassen til `SymmetricMatrix`"
   ]
  },
  {
   "cell_type": "code",
   "execution_count": null,
   "metadata": {},
   "outputs": [],
   "source": [
    "class Matrix:\n",
    "    ...\n",
    "    \n",
    "class SymmetricMatrix(Matrix):\n",
    "    ...\n",
    "    \n",
    "class DiagonalMatrix(SymmetricMatrix):\n",
    "    ..."
   ]
  },
  {
   "cell_type": "markdown",
   "metadata": {
    "slideshow": {
     "slide_type": "fragment"
    }
   },
   "source": [
    "**En subklasse har fortsatt et \"*er en*\"-forhold til indirekte superklasser:**"
   ]
  },
  {
   "cell_type": "code",
   "execution_count": null,
   "metadata": {},
   "outputs": [],
   "source": [
    "diagonal = DiagonalMatrix()\n",
    "isinstance(diagonal, Matrix)"
   ]
  },
  {
   "cell_type": "markdown",
   "metadata": {
    "slideshow": {
     "slide_type": "slide"
    }
   },
   "source": [
    "####  Arv fra flere klasser (*multiple inheritance*)\n",
    "\n",
    "En subklasse kan ha flere superklasser.\n",
    "\n",
    "```Python\n",
    "class SubClass(FirstSuper, SecondSuper):\n",
    "    ...\n",
    "```"
   ]
  },
  {
   "cell_type": "markdown",
   "metadata": {
    "slideshow": {
     "slide_type": "slide"
    }
   },
   "source": [
    "#### Prioritet i arv (*method resolution order* )\n",
    "\n",
    "Når du kaller på en metode til en instans vil programmet lete etter metoden i følgende rekkefølge:\n",
    "\n",
    "- Nedenfra og opp ved flernivå arv\n",
    "- Fra venstre til høyre ved arv fra flere klasser"
   ]
  },
  {
   "cell_type": "markdown",
   "metadata": {
    "slideshow": {
     "slide_type": "slide"
    }
   },
   "source": [
    "**Bruk av `super():`** brukes til å referere til superklassen fra subklassen\n",
    "\n",
    "Gitt en superklasse `First`:"
   ]
  },
  {
   "cell_type": "code",
   "execution_count": null,
   "metadata": {
    "slideshow": {
     "slide_type": "-"
    }
   },
   "outputs": [],
   "source": [
    "class First:\n",
    "    def __init__(self, a):\n",
    "        self.a = a\n",
    "        print(f\"init in First here with {self.a = }.\")\n",
    "        \n",
    "first = First(1.1)"
   ]
  },
  {
   "cell_type": "markdown",
   "metadata": {
    "slideshow": {
     "slide_type": "fragment"
    }
   },
   "source": [
    "Subklassen `Second` må overskrive `init` fra `First`, ettersom den tar inn et ekstra argument.\n",
    "\n",
    "I dette tilfellet kan `init` til `Second` bygge på `init` til `First`.\n",
    "\n",
    "Siden `init` til superklassen blir overskrevet, bruker man `super()`:"
   ]
  },
  {
   "cell_type": "code",
   "execution_count": null,
   "metadata": {
    "slideshow": {
     "slide_type": "-"
    }
   },
   "outputs": [],
   "source": [
    "class Second(First):\n",
    "    def __init__(self, a, b):\n",
    "        super().__init__(a)\n",
    "        self.b = b\n",
    "        print(f\"init in Second here with {self.b = }.\")\n",
    "        \n",
    "second = Second(2.1, 2.2)"
   ]
  },
  {
   "cell_type": "markdown",
   "metadata": {
    "slideshow": {
     "slide_type": "fragment"
    }
   },
   "source": [
    "I samme stil bygger `init` til `Third` på `init` til `Second`.\n",
    "\n",
    "Dette vil igjen kalle på `init` til `First` via `init` til `Second`."
   ]
  },
  {
   "cell_type": "code",
   "execution_count": null,
   "metadata": {
    "slideshow": {
     "slide_type": "-"
    }
   },
   "outputs": [],
   "source": [
    "class Third(Second):\n",
    "    def __init__(self, a, b, c):\n",
    "        super().__init__(a, b)\n",
    "        self.c = c\n",
    "        print(f\"init in Third here with {self.c = }.\")\n",
    "        \n",
    "third = Third(3.1, 3.2, 3.3)"
   ]
  },
  {
   "cell_type": "markdown",
   "metadata": {
    "slideshow": {
     "slide_type": "slide"
    }
   },
   "source": [
    "### Abstrakte klasser\n",
    "\n",
    "Ment til bruk som superklasse for *flere* subklasser.\n",
    "\n",
    "- Abstrakte klasser har *abstrakte metoder*\n",
    "- Abstrakte metoder gir signatur, men er ikke implementert\n",
    "- Du kan ikke opprette instanser av en abstrakt klasse"
   ]
  },
  {
   "cell_type": "markdown",
   "metadata": {
    "slideshow": {
     "slide_type": "slide"
    }
   },
   "source": [
    "#### Implementasjon av abstrakte klasser\n",
    "\n",
    "Her er et eksempel på en generisk abstrakt klasse:"
   ]
  },
  {
   "cell_type": "code",
   "execution_count": null,
   "metadata": {},
   "outputs": [],
   "source": [
    "import abc\n",
    "\n",
    "class AbstractClass(abc.ABC):\n",
    "    @abc.abstractmethod\n",
    "    def spam(self):\n",
    "        pass\n",
    "        \n",
    "    @abc.abstractmethod\n",
    "    def eggs(self):\n",
    "        pass\n",
    "        \n",
    "    def cheese(self):\n",
    "        return None"
   ]
  },
  {
   "cell_type": "markdown",
   "metadata": {
    "slideshow": {
     "slide_type": "fragment"
    }
   },
   "source": [
    "Man kan **ikke opprette instanser** av abstrakte klasser:"
   ]
  },
  {
   "cell_type": "code",
   "execution_count": null,
   "metadata": {},
   "outputs": [],
   "source": [
    "AbstractClass()"
   ]
  },
  {
   "cell_type": "markdown",
   "metadata": {
    "slideshow": {
     "slide_type": "fragment"
    }
   },
   "source": [
    "**Subklassen må implementere de abstrakte metodene**. Hvis ikke regnes subklassen også som abstrakt:"
   ]
  },
  {
   "cell_type": "code",
   "execution_count": null,
   "metadata": {},
   "outputs": [],
   "source": [
    "class SpamClass(AbstractClass):\n",
    "    def spam(self):\n",
    "        return 10000\n",
    "    \n",
    "SpamClass()"
   ]
  },
  {
   "cell_type": "markdown",
   "metadata": {
    "slideshow": {
     "slide_type": "fragment"
    }
   },
   "source": [
    "**Abstrakte metoder påtvinger derfor et grensesnitt** for subklassene:"
   ]
  },
  {
   "cell_type": "code",
   "execution_count": null,
   "metadata": {},
   "outputs": [],
   "source": [
    "class SpamAndEggsClass(AbstractClass):\n",
    "    def spam(self):\n",
    "        return 1000\n",
    "    \n",
    "    def eggs(self):\n",
    "        return 12\n",
    "\n",
    "SpamAndEggsClass()"
   ]
  },
  {
   "cell_type": "markdown",
   "metadata": {
    "slideshow": {
     "slide_type": "slide"
    }
   },
   "source": [
    "### Komposisjon over arv\n",
    "\n",
    "Det lønner seg ofte at en klasse har datafelt som er *instanser* av en klasse med ønskede egenskaper heller enn å bruke arv.\n",
    "\n",
    "```Python\n",
    "class MyClass: \n",
    "    def __init__(self, args):\n",
    "        self.useful_instance = SomeUsefulClass()\n",
    "    ...\n",
    "```\n",
    "\n",
    "Dette er fordi endringer i en klasse kan ha uventet effekt i arv."
   ]
  },
  {
   "cell_type": "markdown",
   "metadata": {
    "slideshow": {
     "slide_type": "notes"
    }
   },
   "source": [
    "Dette er kanskje best forklart i et [foredrag av A. Ortiz](https://www.youtube.com/watch?v=YXiaWtc0cgE)."
   ]
  },
  {
   "cell_type": "markdown",
   "metadata": {
    "slideshow": {
     "slide_type": "slide"
    }
   },
   "source": [
    "## Polymorfisme\n",
    "\n",
    "Kontekst har innvirking på objekter og funksjoner."
   ]
  },
  {
   "cell_type": "code",
   "execution_count": null,
   "metadata": {},
   "outputs": [],
   "source": [
    "print(f\"{13*1 = }\")\n",
    "print(f\"{13*'1' = }\")\n",
    "print(f\"{13*[1] = }\")"
   ]
  },
  {
   "cell_type": "markdown",
   "metadata": {
    "slideshow": {
     "slide_type": "fragment"
    }
   },
   "source": [
    "**Samme funksjon/metode oppfører seg forskjellig basert på type input:**\n",
    "- Eksempel: [abs(x)](https://docs.python.org/3/library/functions.html#abs) \n",
    "- Eksempel: [numpy.dot(a, b)](https://numpy.org/doc/stable/reference/generated/numpy.dot.html)"
   ]
  },
  {
   "cell_type": "markdown",
   "metadata": {
    "slideshow": {
     "slide_type": "fragment"
    }
   },
   "source": [
    "**Samme metode oppfører seg forskjellig basert på type objekt:**\n",
    "- Overskriving av metoder ved arv\n",
    "- Uavhengige klasser med en metode med lik signatur"
   ]
  },
  {
   "cell_type": "markdown",
   "metadata": {
    "slideshow": {
     "slide_type": "notes"
    }
   },
   "source": [
    "I andre programmeringsspråk kan normalt ikke metoder overskrives. Metoder som *kan* overskrives heter da *virtuelle metoder*."
   ]
  },
  {
   "cell_type": "markdown",
   "metadata": {
    "slideshow": {
     "slide_type": "slide"
    }
   },
   "source": [
    "## Et eksempel på OOP - `Atom`\n",
    "\n",
    "Vi skal implementere et klassehirarki for grunnstoff.\n",
    "\n",
    "- Alle atom har en **posisjon**\n",
    "- Alle atom kan være **bundet** til andre atom\n",
    "- Et grunnstoff har et gitt **atomnummer**\n",
    "- Et grunnstoff har et gitt **kjemisk symbol**\n",
    "- Et grunnstoff har en gitt **radius**"
   ]
  },
  {
   "cell_type": "markdown",
   "metadata": {
    "slideshow": {
     "slide_type": "fragment"
    }
   },
   "source": [
    "**Et atom er nødvendigvis et grunnstoff**, og grunnstoffene har mange forskjellige egenskaper."
   ]
  },
  {
   "cell_type": "markdown",
   "metadata": {
    "slideshow": {
     "slide_type": "slide"
    }
   },
   "source": [
    "### Abstrakt superklasse `Atom`\n",
    "\n",
    "Vi skal også implementere subklassene `Hydrogen` og `Oxygen`.\n",
    "\n",
    "Hvorfor bør `Atom` være en abstrakt klasse?"
   ]
  },
  {
   "cell_type": "markdown",
   "metadata": {
    "slideshow": {
     "slide_type": "fragment"
    }
   },
   "source": [
    "- Bruk av **arv** for å unngå å gjenta kode i alle grunnstoff-klassene\n",
    "- `Atom` er **abstrakt** fordi et atom alltid er av en type grunnstoff"
   ]
  },
  {
   "cell_type": "markdown",
   "metadata": {
    "slideshow": {
     "slide_type": "notes"
    }
   },
   "source": [
    "En klasse for matriser kan gjerne ha flere subklasser. Likevel er ikke en matrise et abstrakt konsept. En matrise kan også være en generell matrise! \n",
    "\n",
    "Et atom må nødvendigvis være av en type grunnstoff. Det finnes ikke noe *generell type* atom på samme måte som en generell matrise. Derfor egner atom seg som en abstrakt klasse."
   ]
  },
  {
   "cell_type": "markdown",
   "metadata": {
    "slideshow": {
     "slide_type": "slide"
    }
   },
   "source": [
    "### Implementasjon og testing av `Atom`\n",
    "\n",
    "- `x`, `y` og `z`: posisjon som argument til konstruktør\n",
    "- `self._bonded_atoms`: liste med bundne atomer (tom)\n",
    "- `ChemicalBondError`: egendefinert feilmelding for kjemiske bindinger"
   ]
  },
  {
   "cell_type": "markdown",
   "metadata": {
    "slideshow": {
     "slide_type": "slide"
    }
   },
   "source": [
    "**Abstrakt klasse `Atom`:** En begynnelse på klassen er gitt under:"
   ]
  },
  {
   "cell_type": "code",
   "execution_count": null,
   "metadata": {
    "slideshow": {
     "slide_type": "-"
    }
   },
   "outputs": [],
   "source": [
    "%%writefile atom.py\n",
    "from abc import abstractmethod, ABC\n",
    "import math\n",
    "\n",
    "\n",
    "class ChemicalBondError(LookupError):\n",
    "    pass\n",
    "\n",
    "\n",
    "class Atom(ABC):\n",
    "    def __init__(self, x, y, z):\n",
    "        self.x = x\n",
    "        self.y = y\n",
    "        self.z = z\n",
    "        self._bonded_atoms = []\n",
    "\n",
    "    @property\n",
    "    def coordinates(self):\n",
    "        return (self.x, self.y, self.z)"
   ]
  },
  {
   "cell_type": "markdown",
   "metadata": {
    "slideshow": {
     "slide_type": "slide"
    }
   },
   "source": [
    "**Testing av  abstrakt klasse `Atom`:** Testene kan kun bruke instanser av subklassene:"
   ]
  },
  {
   "cell_type": "code",
   "execution_count": null,
   "metadata": {},
   "outputs": [],
   "source": [
    "%%writefile test_chemical_elements.py\n",
    "import math\n",
    "import pytest\n",
    "from atom import ChemicalBondError\n",
    "from chemical_elements import Hydrogen, Oxygen\n",
    "\n",
    "\n",
    "ABS_TOL = 1e-9\n",
    "\n",
    "\n",
    "@pytest.mark.parametrize(\"x,y,z\", [(5, -2, 3), (1, 0, -1)])\n",
    "def test_fields_Hydrogen(x, y, z):\n",
    "    H = Hydrogen(x, y, z)\n",
    "    assert H.x == x\n",
    "    assert H.y == y\n",
    "    assert H.z == z\n",
    "    assert not H._bonded_atoms\n",
    "\n",
    "@pytest.mark.parametrize(\"x,y,z\", [(12, 1, -3), (0, 0, 0)])\n",
    "def test_fields_Oxygen(x, y, z):\n",
    "    O = Oxygen(x, y, z)\n",
    "    assert O.x == x\n",
    "    assert O.y == y\n",
    "    assert O.z == z\n",
    "    assert not O._bonded_atoms\n",
    "    \n",
    "@pytest.mark.parametrize(\"x,y,z\", [(1, -2, 3), (0, 0, 0)])\n",
    "def test_coordinates(x, y, z):\n",
    "    assert Hydrogen(x, y, z).coordinates == (x, y, z)\n",
    "    assert Oxygen(x, y, z).coordinates == (x, y, z)"
   ]
  },
  {
   "cell_type": "markdown",
   "metadata": {
    "slideshow": {
     "slide_type": "slide"
    }
   },
   "source": [
    "### Feilhåndtering for offentlige datafelt\n",
    "\n",
    "Koordinatene `x`, `y` og `z` er en del av grenesnittet, og er ment for *offentlig* bruk. \n",
    "\n",
    "Hva kan gå galt og hvordan kan dette håndteres?"
   ]
  },
  {
   "cell_type": "markdown",
   "metadata": {
    "slideshow": {
     "slide_type": "fragment"
    }
   },
   "source": [
    "Koordinatene må være `float` eller `int`.\n",
    "\n",
    "Dette kan forsikres uten å endre grensesnittet ved bruk av *setters* og *getters*."
   ]
  },
  {
   "cell_type": "markdown",
   "metadata": {
    "slideshow": {
     "slide_type": "slide"
    }
   },
   "source": [
    "**Feilhåndtering for `x`:** I cellen under ligger tester for feilhåndtering av `x`. \n",
    "\n",
    "Implementer feilhåndtering for `x` i `Atom`."
   ]
  },
  {
   "cell_type": "code",
   "execution_count": null,
   "metadata": {},
   "outputs": [],
   "source": [
    "%%writefile --append test_chemical_elements.py\n",
    "\n",
    "@pytest.mark.parametrize(\"x\", [(\"abc\",), ([2],)])\n",
    "def test_x_raises_TypeError(x):\n",
    "    H = Hydrogen(0, 0, 0)\n",
    "    with pytest.raises(TypeError):\n",
    "        H.x = x\n",
    "    with pytest.raises(TypeError):\n",
    "        Hydrogen(x, 0, 0)\n",
    "\n",
    "    O = Oxygen(0, 0, 0)\n",
    "    with pytest.raises(TypeError):\n",
    "        O.x = x\n",
    "    with pytest.raises(TypeError):\n",
    "        Oxygen(x, 0, 0)"
   ]
  },
  {
   "cell_type": "markdown",
   "metadata": {
    "slideshow": {
     "slide_type": "notes"
    }
   },
   "source": [
    "Det finnes flere måter å sikre feilhåndtering av `x` på. Her er et forslag:"
   ]
  },
  {
   "cell_type": "code",
   "execution_count": null,
   "metadata": {
    "slideshow": {
     "slide_type": "notes"
    }
   },
   "outputs": [],
   "source": [
    "%%writefile --append atom.py\n",
    "\n",
    "    @property\n",
    "    def x(self):\n",
    "        return self._x\n",
    "    \n",
    "    @x.setter\n",
    "    def x(self, x):\n",
    "        if not isinstance(x, (int, float)):\n",
    "            msg = f\"x must be float, not {type(x).__name__}.\"\n",
    "            raise TypeError(msg)\n",
    "        self._x = x"
   ]
  },
  {
   "cell_type": "markdown",
   "metadata": {
    "slideshow": {
     "slide_type": "slide"
    }
   },
   "source": [
    "**Feilhåndtering for `y`:** I cellen under ligger tester for feilhåndtering av `y`. "
   ]
  },
  {
   "cell_type": "code",
   "execution_count": null,
   "metadata": {},
   "outputs": [],
   "source": [
    "%%writefile --append test_chemical_elements.py\n",
    "\n",
    "@pytest.mark.parametrize(\"y\", [(\"2\",), ({\"key\": 2},)])\n",
    "def test_y_raises_TypeError(y):\n",
    "    H = Hydrogen(0, 0, 0)\n",
    "    with pytest.raises(TypeError):\n",
    "        H.y = y\n",
    "    with pytest.raises(TypeError):\n",
    "        Hydrogen(0, y, 0)\n",
    "        \n",
    "    O = Oxygen(0, 0, 0)\n",
    "    with pytest.raises(TypeError):\n",
    "        O.y = y\n",
    "    with pytest.raises(TypeError):\n",
    "        Oxygen(0, y, 0)"
   ]
  },
  {
   "cell_type": "markdown",
   "metadata": {
    "slideshow": {
     "slide_type": "fragment"
    }
   },
   "source": [
    "**Jeg har jukset litt:** Ferdigimplementert *setter* og *getter* for `y` ligger i cellen under."
   ]
  },
  {
   "cell_type": "code",
   "execution_count": null,
   "metadata": {
    "slideshow": {
     "slide_type": "-"
    }
   },
   "outputs": [],
   "source": [
    "%%writefile --append atom.py\n",
    "\n",
    "    @property\n",
    "    def y(self):\n",
    "        return self._y\n",
    "    \n",
    "    @y.setter\n",
    "    def y(self, y):\n",
    "        if not isinstance(y, (int, float)):\n",
    "            msg = f\"y must be float, not {type(y).__name__}.\"\n",
    "            raise TypeError(msg)\n",
    "        self._y = y"
   ]
  },
  {
   "cell_type": "markdown",
   "metadata": {
    "slideshow": {
     "slide_type": "slide"
    }
   },
   "source": [
    "**Feilhåndtering for `z`:** I cellen under ligger tester for feilhåndtering av `z`. "
   ]
  },
  {
   "cell_type": "code",
   "execution_count": null,
   "metadata": {},
   "outputs": [],
   "source": [
    "%%writefile --append test_chemical_elements.py\n",
    "\n",
    "@pytest.mark.parametrize(\"z\", [(3j,), ((2, 2),)])\n",
    "def test_z_raises_TypeError(z):\n",
    "    H = Hydrogen(0, 0, 0)\n",
    "    with pytest.raises(TypeError):\n",
    "        H.z = z\n",
    "    with pytest.raises(TypeError):\n",
    "        Hydrogen(0, 0, z)\n",
    "            \n",
    "    O = Oxygen(0, 0, 0)\n",
    "    with pytest.raises(TypeError):\n",
    "        O.z = z\n",
    "    with pytest.raises(TypeError):\n",
    "        Oxygen(0, 0, z)"
   ]
  },
  {
   "cell_type": "markdown",
   "metadata": {
    "slideshow": {
     "slide_type": "fragment"
    }
   },
   "source": [
    "**Jeg har jukset litt:** Ferdigimplementert *setter* og *getter* for `z` ligger i cellen under."
   ]
  },
  {
   "cell_type": "code",
   "execution_count": null,
   "metadata": {
    "slideshow": {
     "slide_type": "-"
    }
   },
   "outputs": [],
   "source": [
    "%%writefile --append atom.py\n",
    "    \n",
    "    @property\n",
    "    def z(self):\n",
    "        return self._z\n",
    "    \n",
    "    @z.setter\n",
    "    def z(self, z):\n",
    "        if not isinstance(z, (int, float)):\n",
    "            msg = f\"z must be float, not {type(z).__name__}.\"\n",
    "            raise TypeError(msg)\n",
    "        self._z = z"
   ]
  },
  {
   "cell_type": "markdown",
   "metadata": {
    "slideshow": {
     "slide_type": "slide"
    }
   },
   "source": [
    "### Unike egenskaper til grunnstoff\n",
    "\n",
    "Følgende egenskaper er valgt ut som attributter:\n",
    "- `atomic_number`: atomnummeret\n",
    "- `symbol`: atomsymbol\n",
    "- `radius`: radius til atomet\n",
    "\n",
    "Hvor egenskapene  avhenger av hvilket grunnstoff det er."
   ]
  },
  {
   "cell_type": "markdown",
   "metadata": {
    "slideshow": {
     "slide_type": "fragment"
    }
   },
   "source": [
    "Et *generisk* atom kan ikke definere disse egenskapene, men *alle* subklasser (grunnstoff) skal ha dem. \n",
    "\n",
    "Derfor er disse egenskapene *abstrakte* for `Atom`."
   ]
  },
  {
   "cell_type": "markdown",
   "metadata": {
    "slideshow": {
     "slide_type": "slide"
    }
   },
   "source": [
    "**Implementasjon av `atomic_number`, `symbol` og `radius`:** Tester til metodene ligger i cellen under.\n",
    "\n",
    "Tester til disse metodene ser da slik ut:"
   ]
  },
  {
   "cell_type": "code",
   "execution_count": null,
   "metadata": {},
   "outputs": [],
   "source": [
    "%%writefile --append test_chemical_elements.py\n",
    "\n",
    "\n",
    "def test_atomic_number():\n",
    "    assert Hydrogen(0, 0, 0).atomic_number == 1\n",
    "    assert Oxygen(0, 0, 0).atomic_number == 8\n",
    "    \n",
    "def test_symbol():\n",
    "    assert Hydrogen(0, 0, 0).symbol == \"H\"\n",
    "    assert Oxygen(0, 0, 0).symbol == \"O\"\n",
    "    \n",
    "def test_radius():\n",
    "    H = Hydrogen(1, 2, 3)\n",
    "    assert math.isclose(H.radius, 0.25)\n",
    "    O = Oxygen(3, 2, 1)\n",
    "    assert math.isclose(O.radius, 0.60)"
   ]
  },
  {
   "cell_type": "markdown",
   "metadata": {
    "slideshow": {
     "slide_type": "notes"
    }
   },
   "source": [
    "Ved bruk av **abstrakte metoder** ser attributtene i `Atom` ut som i cellen under."
   ]
  },
  {
   "cell_type": "code",
   "execution_count": null,
   "metadata": {
    "slideshow": {
     "slide_type": "notes"
    }
   },
   "outputs": [],
   "source": [
    "%%writefile --append atom.py\n",
    "\n",
    "    @property\n",
    "    @abstractmethod\n",
    "    def atomic_number(self) -> int:\n",
    "        pass\n",
    "\n",
    "    @property\n",
    "    @abstractmethod\n",
    "    def symbol(self) -> str:\n",
    "        pass\n",
    "\n",
    "    @property\n",
    "    @abstractmethod\n",
    "    def radius(self) -> float:\n",
    "        pass"
   ]
  },
  {
   "cell_type": "markdown",
   "metadata": {
    "slideshow": {
     "slide_type": "notes"
    }
   },
   "source": [
    "Python er et *dynamisk språk*, men type-annotasjon er veldig lurt å bruke når man definerer abstrakte metoder."
   ]
  },
  {
   "cell_type": "markdown",
   "metadata": {
    "slideshow": {
     "slide_type": "slide"
    }
   },
   "source": [
    "### Grunnstoffklassene - subklasser av `Atom`\n",
    "\n",
    "Det er mange grunnstoff å ta av, vi skal bare implementere to!\n",
    "\n",
    "Det er ikke mulig å opprette instanser av den abstrakte klassen `Atom`.\n",
    "\n",
    "Subklassene skal derimot ikke være abstrakte."
   ]
  },
  {
   "cell_type": "markdown",
   "metadata": {
    "slideshow": {
     "slide_type": "slide"
    }
   },
   "source": [
    "**Hydrogen:** Vi skal nå implementere klassen `Hydrogen`. \n",
    "\n",
    "Hydrogen:\n",
    "- Atomnummer: 1\n",
    "- Symbol: H\n",
    "- Radius: 0.25 Å\n",
    "\n",
    "Radius til grunnstoffene ble hentet fra [J. C. Slater](https://aip-scitation-org.ezproxy.uio.no/doi/abs/10.1063/1.1725697)."
   ]
  },
  {
   "cell_type": "markdown",
   "metadata": {
    "slideshow": {
     "slide_type": "notes"
    }
   },
   "source": [
    "`Hydrogen` kan da se slik ut:"
   ]
  },
  {
   "cell_type": "code",
   "execution_count": null,
   "metadata": {
    "slideshow": {
     "slide_type": "notes"
    }
   },
   "outputs": [],
   "source": [
    "%%writefile chemical_elements.py\n",
    "from atom import Atom\n",
    "\n",
    "\n",
    "class Hydrogen(Atom):\n",
    "    @property\n",
    "    def atomic_number(self):\n",
    "        return 1\n",
    "\n",
    "    @property\n",
    "    def symbol(self):\n",
    "        return \"H\"\n",
    "    \n",
    "    @property\n",
    "    def radius(self):\n",
    "        return 0.25"
   ]
  },
  {
   "cell_type": "markdown",
   "metadata": {
    "slideshow": {
     "slide_type": "slide"
    }
   },
   "source": [
    "**Oksygen:** Vi skal nå implementere klassen `Oxygen`. \n",
    "    \n",
    "Oksygen:\n",
    "- Atomnummer: 8\n",
    "- Symbol: O\n",
    "- Radius: 0.60 Å\n",
    "\n",
    "Testene er skrevet ferdig, så de kan kjøres når begge klassene er implementert!"
   ]
  },
  {
   "cell_type": "markdown",
   "metadata": {},
   "source": [
    "Tilsvarende implementasjon av `Oxygen`:"
   ]
  },
  {
   "cell_type": "code",
   "execution_count": null,
   "metadata": {
    "slideshow": {
     "slide_type": "notes"
    }
   },
   "outputs": [],
   "source": [
    "%%writefile --append chemical_elements.py\n",
    "\n",
    "\n",
    "class Oxygen(Atom):\n",
    "    @property\n",
    "    def atomic_number(self):\n",
    "        return 8\n",
    "\n",
    "    @property\n",
    "    def symbol(self):\n",
    "        return \"O\"    \n",
    "\n",
    "    @property\n",
    "    def radius(self):\n",
    "        return 0.60"
   ]
  },
  {
   "cell_type": "markdown",
   "metadata": {
    "slideshow": {
     "slide_type": "notes"
    }
   },
   "source": [
    "Nå kan testfunksjonene kjøres!"
   ]
  },
  {
   "cell_type": "markdown",
   "metadata": {
    "slideshow": {
     "slide_type": "slide"
    }
   },
   "source": [
    "### Metoder for representasjon\n",
    "\n",
    "I cellen under ligger testfunksjoner for `__str__` og `__repr__`.\n",
    "\n",
    "*Hvor* bør disse implementeres?"
   ]
  },
  {
   "cell_type": "code",
   "execution_count": null,
   "metadata": {},
   "outputs": [],
   "source": [
    "%%writefile --append test_chemical_elements.py\n",
    "\n",
    "\n",
    "def test_str():\n",
    "    assert str(Hydrogen(1, 2, 3)) == \"H(1, 2, 3)\"\n",
    "    assert str(Oxygen(1, 2, 3)) == \"O(1, 2, 3)\"\n",
    "    \n",
    "def test_eval():\n",
    "    H_repr = repr(Hydrogen(1, 2, 3))\n",
    "    assert H_repr == \"Hydrogen(1, 2, 3)\"\n",
    "    H = eval(H_repr)\n",
    "    assert isinstance(H, Hydrogen)\n",
    "    \n",
    "    O_repr = repr(Oxygen(1, 2, 3))\n",
    "    assert O_repr == \"Oxygen(1, 2, 3)\"\n",
    "    O = eval(O_repr)\n",
    "    assert isinstance(O, Oxygen)"
   ]
  },
  {
   "cell_type": "markdown",
   "metadata": {
    "slideshow": {
     "slide_type": "notes"
    }
   },
   "source": [
    "For å ikke gjenta kode, bør disse være felles for alle grunnstoff og implementeres i `Atom`:"
   ]
  },
  {
   "cell_type": "code",
   "execution_count": null,
   "metadata": {
    "slideshow": {
     "slide_type": "notes"
    }
   },
   "outputs": [],
   "source": [
    "%%writefile --append atom.py\n",
    "\n",
    "    def __str__(self):\n",
    "        return f\"{self.symbol}{self.coordinates}\"\n",
    "\n",
    "    def __repr__(self):\n",
    "        name = type(self).__name__\n",
    "        return f\"{name}{self.coordinates}\""
   ]
  },
  {
   "cell_type": "markdown",
   "metadata": {
    "slideshow": {
     "slide_type": "slide"
    }
   },
   "source": [
    "### Feilhåndtering\n",
    "\n",
    "Flere av metodene til grunnstoffene tar inn et annet atom som argument.\n",
    "\n",
    "Vi lager derfor en felles metode for feilhåndtering.\n",
    "\n",
    "Hvordan bør implementasjonen se ut?"
   ]
  },
  {
   "cell_type": "markdown",
   "metadata": {
    "slideshow": {
     "slide_type": "fragment"
    }
   },
   "source": [
    "- Metoden ligger i `Atom` for bedre gjenbruk (arv)\n",
    "- Metoden er en implementasjonsdetalj og er derfor privat (innkapsling)"
   ]
  },
  {
   "cell_type": "markdown",
   "metadata": {
    "slideshow": {
     "slide_type": "slide"
    }
   },
   "source": [
    "**Implementasjon av `_type_check_atom`**  Tester til metoden ligger i cellen under."
   ]
  },
  {
   "cell_type": "code",
   "execution_count": null,
   "metadata": {},
   "outputs": [],
   "source": [
    "%%writefile --append test_chemical_elements.py\n",
    "\n",
    "\n",
    "def test_type_check_atom():\n",
    "    H = Hydrogen(0, 0, 0)\n",
    "    O = Oxygen(1, -1, 1)\n",
    "    H._type_check_atom(O)\n",
    "    O._type_check_atom(H)\n",
    "\n",
    "@pytest.mark.parametrize(\"non_atom\", [(2,), ((2, 2),), (\"2\",)])\n",
    "def test_type_check_atom_raises_TypeError(non_atom):\n",
    "    H = Hydrogen(0, 0, 0) \n",
    "    with pytest.raises(TypeError):\n",
    "        H._type_check_atom(non_atom)\n",
    "    O = Oxygen(1, -1, 1)\n",
    "    with pytest.raises(TypeError):\n",
    "        O._type_check_atom(non_atom)"
   ]
  },
  {
   "cell_type": "markdown",
   "metadata": {
    "slideshow": {
     "slide_type": "notes"
    }
   },
   "source": [
    "Implementasjon av  `_type_check_atom` i `Atom`:"
   ]
  },
  {
   "cell_type": "code",
   "execution_count": null,
   "metadata": {
    "slideshow": {
     "slide_type": "notes"
    }
   },
   "outputs": [],
   "source": [
    "%%writefile --append atom.py\n",
    "\n",
    "    def _type_check_atom(self, atom):\n",
    "        if not isinstance(atom, Atom):\n",
    "            msg = f\"Input must be Atom, not {type(atom).__name__}.\"\n",
    "            raise TypeError(msg)"
   ]
  },
  {
   "cell_type": "markdown",
   "metadata": {
    "slideshow": {
     "slide_type": "slide"
    }
   },
   "source": [
    "### Forhold mellom atomer\n",
    "\n",
    "To nye metoder:\n",
    "- Avstand mellom to atomer: `distance(other: Atom) -> float` \n",
    "- Sjekk om to atomer er bundet: `is_bonded(atom: Atom) -> bool`"
   ]
  },
  {
   "cell_type": "markdown",
   "metadata": {
    "slideshow": {
     "slide_type": "fragment"
    }
   },
   "source": [
    "Hvordan bør metodene implementeres?\n",
    "- Hvor bør metodene implementeres? Superklassen eller subklassene?\n",
    "    - Hvis i `Atom`: *vanlig* eller abstrakt?\n",
    "- Privat eller del av grensesnittet?\n",
    "- Feilhåndtering?"
   ]
  },
  {
   "cell_type": "markdown",
   "metadata": {
    "slideshow": {
     "slide_type": "fragment"
    }
   },
   "source": [
    "For begge metodene gjelder:\n",
    "- Bruk av arv tilsier at metodene skal ligge i `Atom`\n",
    "- Metodene kan være nyttig for brukere og er derfor en del av grensesnittet\n",
    "- Objektet som sendes inn må være en subklasse av `Atom`"
   ]
  },
  {
   "cell_type": "markdown",
   "metadata": {
    "slideshow": {
     "slide_type": "slide"
    }
   },
   "source": [
    "**Implementasjon av `distance(other: Atom) -> float`:** Tester til metoden ligger i cellen under."
   ]
  },
  {
   "cell_type": "code",
   "execution_count": null,
   "metadata": {},
   "outputs": [],
   "source": [
    "%%writefile --append test_chemical_elements.py\n",
    "\n",
    "\n",
    "def test_distance():\n",
    "    H = Hydrogen(0, 0, 0)\n",
    "    O = Oxygen(0, 0, 0)\n",
    "    H.z = H.radius\n",
    "    O.z = -O.radius\n",
    "    assert math.isclose(H.distance(O), 0, abs_tol=ABS_TOL)\n",
    "    assert math.isclose(O.distance(H), 0, abs_tol=ABS_TOL) \n",
    "\n",
    "@pytest.mark.parametrize(\"non_atom\", [(math.pi,), ([],), (2j,)])\n",
    "def test_distance_raises_TypeError(non_atom):\n",
    "    H = Hydrogen(0, 0, 0) \n",
    "    with pytest.raises(TypeError):\n",
    "        H.distance(non_atom)\n",
    "        \n",
    "    O = Oxygen(1, -1, 1)\n",
    "    with pytest.raises(TypeError):\n",
    "        O.distance(non_atom)"
   ]
  },
  {
   "cell_type": "markdown",
   "metadata": {
    "slideshow": {
     "slide_type": "notes"
    }
   },
   "source": [
    "Forslag til implementasjon av `distance` i `Atom`:"
   ]
  },
  {
   "cell_type": "code",
   "execution_count": null,
   "metadata": {
    "slideshow": {
     "slide_type": "notes"
    }
   },
   "outputs": [],
   "source": [
    "%%writefile --append atom.py\n",
    "\n",
    "    def distance(self, other):\n",
    "        self._type_check_atom(other)\n",
    "        dx = self.x - other.x\n",
    "        dy = self.y - other.y\n",
    "        dz = self.z - other.z\n",
    "        r = math.sqrt(dx*dx + dy*dy + dz*dz)\n",
    "        return r - self.radius - other.radius"
   ]
  },
  {
   "cell_type": "markdown",
   "metadata": {
    "slideshow": {
     "slide_type": "slide"
    }
   },
   "source": [
    "**Implementasjon av `is_bonded(atom: Atom) -> bool`:** Tester til metoden ligger i cellen under."
   ]
  },
  {
   "cell_type": "code",
   "execution_count": null,
   "metadata": {},
   "outputs": [],
   "source": [
    "%%writefile --append test_chemical_elements.py\n",
    "\n",
    "\n",
    "def test_is_bonded():\n",
    "    H = Hydrogen(0, 0, 0)\n",
    "    O = Oxygen(1, -1, 1)\n",
    "    assert not H.is_bonded(H)\n",
    "    assert not O.is_bonded(O)\n",
    "    assert not H.is_bonded(O)\n",
    "    assert not O.is_bonded(H)\n",
    "    \n",
    "    O._bonded_atoms.append(H)\n",
    "    H._bonded_atoms.append(O)\n",
    "    assert H.is_bonded(O)\n",
    "    assert O.is_bonded(H)\n",
    "\n",
    "@pytest.mark.parametrize(\"non_atom\", [(2,), ({},), (\"nej\",)])\n",
    "def test_is_bonded_raises_TypeError(non_atom):\n",
    "    H = Hydrogen(0, 0, 0)\n",
    "    with pytest.raises(TypeError):\n",
    "        H.is_bonded(non_atom)\n",
    "    \n",
    "    O = Oxygen(1, -1, 1)\n",
    "    with pytest.raises(TypeError):\n",
    "        O.is_bonded(non_atom)"
   ]
  },
  {
   "cell_type": "markdown",
   "metadata": {
    "slideshow": {
     "slide_type": "notes"
    }
   },
   "source": [
    "Implementasjon av `is_bonded` i `Atom` kan da se slik ut:"
   ]
  },
  {
   "cell_type": "code",
   "execution_count": null,
   "metadata": {
    "slideshow": {
     "slide_type": "notes"
    }
   },
   "outputs": [],
   "source": [
    "%%writefile --append atom.py\n",
    "    \n",
    "    def is_bonded(self, atom):\n",
    "        self._type_check_atom(atom)\n",
    "        return atom in self._bonded_atoms"
   ]
  },
  {
   "cell_type": "markdown",
   "metadata": {
    "slideshow": {
     "slide_type": "slide"
    }
   },
   "source": [
    "### Kjemiske bindinger\n",
    "\n",
    "instanser av subklasser til `Atom` skal kunne sette og fjerne kjemiske bindinger:\n",
    "- `add_bond(other: Atom) -> None`: sette binding\n",
    "- `remove_bond(other: Atom ) -> None`: fjerne binding"
   ]
  },
  {
   "cell_type": "markdown",
   "metadata": {
    "slideshow": {
     "slide_type": "fragment"
    }
   },
   "source": [
    "Til info:\n",
    "- Hvert atom har en liste `self._bonded_atoms`\n",
    "- Et hvis atom A er bundet med atom B, så er atom B bundet med atom A\n",
    "- Atomer kan være bundet uavhengig av om de er samme eller ulikt grunnstoff"
   ]
  },
  {
   "cell_type": "markdown",
   "metadata": {
    "slideshow": {
     "slide_type": "slide"
    }
   },
   "source": [
    "**Sette binding mellom to atomer:** `add_bond(other) -> None`\n",
    "\n",
    "- Metoden er en del av grensesnittet\n",
    "- Metoden implementeres i `Atom` (arv)\n",
    "- Metoden må håndtere at bindinger er *gjensidig* (innkapsling)\n",
    "\n",
    "Hva bør **feilhåndteringen** bestå av?"
   ]
  },
  {
   "cell_type": "markdown",
   "metadata": {
    "slideshow": {
     "slide_type": "notes"
    }
   },
   "source": [
    "Metoden bør sjekke om atomene allerede er bundet eller ikke. Atomet bør heller ikke kunne lage en binding med seg selv. Hvis atomene allerede er bundet, bør det kastes et unntak. Når metoden `is_bonded` brukes, så sjekker denne at `other` er riktig type.\n",
    "\n",
    "Atomet `self` må legge til `other` i sin liste over bundede atomer. På samme måte må `self` legges til listen over bundede atomer til `other`."
   ]
  },
  {
   "cell_type": "markdown",
   "metadata": {
    "slideshow": {
     "slide_type": "slide"
    }
   },
   "source": [
    "**Implementasjon av `add_bond`**  Tester til metoden ligger i cellen under."
   ]
  },
  {
   "cell_type": "code",
   "execution_count": null,
   "metadata": {},
   "outputs": [],
   "source": [
    "%%writefile --append test_chemical_elements.py\n",
    "\n",
    "\n",
    "def test_add_bond():\n",
    "    H = Hydrogen(0, 0, 0.25)\n",
    "    O = Oxygen(0, 0, -0.60)\n",
    "    H.add_bond(O)\n",
    "    assert H.is_bonded(O)\n",
    "    assert O.is_bonded(H)\n",
    "    \n",
    "def test_add_bond_raises_ChemicalBondError():\n",
    "    H = Hydrogen(0, 0, 0.25)\n",
    "    O = Oxygen(0, 0, -0.60)\n",
    "    H.add_bond(O)\n",
    "    with pytest.raises(ChemicalBondError):\n",
    "        H.add_bond(O)\n",
    "    with pytest.raises(ChemicalBondError):\n",
    "        O.add_bond(H)\n",
    "    with pytest.raises(ChemicalBondError):\n",
    "        H.add_bond(H)"
   ]
  },
  {
   "cell_type": "markdown",
   "metadata": {
    "slideshow": {
     "slide_type": "notes"
    }
   },
   "source": [
    "Implementasjonen av `add_bond` i `Atom` kan da se slik ut:"
   ]
  },
  {
   "cell_type": "code",
   "execution_count": null,
   "metadata": {
    "slideshow": {
     "slide_type": "notes"
    }
   },
   "outputs": [],
   "source": [
    "%%writefile --append atom.py\n",
    "\n",
    "    def add_bond(self, other):\n",
    "        if self.is_bonded(other):\n",
    "            msg = f\"Cannot create bond between bonded atoms {self} and {other}.\"\n",
    "            raise ChemicalBondError(msg)\n",
    "        elif other is self:\n",
    "            msg = f\"An Atom cannot create a bond with itself.\"\n",
    "            raise ChemicalBondError(msg)\n",
    "        self._bonded_atoms.append(other)\n",
    "        other._bonded_atoms.append(self)"
   ]
  },
  {
   "cell_type": "markdown",
   "metadata": {
    "slideshow": {
     "slide_type": "slide"
    }
   },
   "source": [
    "**Fjerne binding mellom to atomer:** `remove_bond(other) -> None`\n",
    "\n",
    "- Metoden er en del av grensesnittet\n",
    "- Metoden implementeres i `Atom` (arv)\n",
    "- Metoden må håndtere at bånd er *gjensidig* (innkapsling)\n",
    "\n",
    "Hva bør **feilhåndteringen** bestå av?"
   ]
  },
  {
   "cell_type": "markdown",
   "metadata": {
    "slideshow": {
     "slide_type": "notes"
    }
   },
   "source": [
    "Det samme gjelder for `remove_bond` som for `add_bond`, bare at det nå bør kastes et unntak om det *ikke* allerede er en binding mellom atomene."
   ]
  },
  {
   "cell_type": "markdown",
   "metadata": {
    "slideshow": {
     "slide_type": "slide"
    }
   },
   "source": [
    "**Implementasjon av `remove_bond`**  Tester til metoden ligger i cellen under."
   ]
  },
  {
   "cell_type": "code",
   "execution_count": null,
   "metadata": {},
   "outputs": [],
   "source": [
    "%%writefile --append test_chemical_elements.py\n",
    "\n",
    "\n",
    "def test_remove_bond():\n",
    "    H = Hydrogen(0, 0, 1)\n",
    "    O = Oxygen(0, 0, -1)\n",
    "    H.add_bond(O)\n",
    "    H.remove_bond(O)\n",
    "    assert not H.is_bonded(O)\n",
    "    assert not O.is_bonded(H)\n",
    "\n",
    "def test_add_remove_raises_ChemicalBondError():\n",
    "    H = Hydrogen(0, 0, 0)\n",
    "    O = Oxygen(1, 1, 1)\n",
    "    with pytest.raises(ChemicalBondError):\n",
    "        H.remove_bond(O)\n",
    "    with pytest.raises(ChemicalBondError):\n",
    "        O.remove_bond(H)\n",
    "    with pytest.raises(ChemicalBondError):\n",
    "        O.remove_bond(O)"
   ]
  },
  {
   "cell_type": "markdown",
   "metadata": {
    "slideshow": {
     "slide_type": "notes"
    }
   },
   "source": [
    "Implementasjon av `remove_bond` i `Atom` kan da se slik ut:"
   ]
  },
  {
   "cell_type": "code",
   "execution_count": null,
   "metadata": {
    "slideshow": {
     "slide_type": "notes"
    }
   },
   "outputs": [],
   "source": [
    "%%writefile --append atom.py\n",
    "\n",
    "    def remove_bond(self, other):\n",
    "        if not self.is_bonded(other):\n",
    "            msg = f\"Cannot break bond between unbonded atoms {self} and {other}.\"\n",
    "            raise ChemicalBondError(msg)\n",
    "        self._bonded_atoms.remove(other)\n",
    "        other._bonded_atoms.remove(self)"
   ]
  },
  {
   "cell_type": "markdown",
   "metadata": {
    "slideshow": {
     "slide_type": "slide"
    }
   },
   "source": [
    "### Naboatom\n",
    "\n",
    "Instansvariabelen `self._bonded_atoms` er privat.\n",
    "\n",
    "Hvorfor? Hva kan gå galt?"
   ]
  },
  {
   "cell_type": "markdown",
   "metadata": {
    "slideshow": {
     "slide_type": "fragment"
    }
   },
   "source": [
    "Som vi så i `add_bond` og `remove_bond` er det en del som kan gå galt:\n",
    "- Listen skal kun bestå av instanser av `Atom` (sine subklasser)\n",
    "- Kjemiske bindinger må være *gjensidig*, så listen må oppdateres for begge atom det gjelder"
   ]
  },
  {
   "cell_type": "markdown",
   "metadata": {
    "slideshow": {
     "slide_type": "slide"
    }
   },
   "source": [
    "**Implementasjon av `bonded_atoms`**  Tester til metoden ligger i cellen under.\n",
    "\n",
    "Metoden har signatur `bonded_atoms() -> list[Atom]`."
   ]
  },
  {
   "cell_type": "code",
   "execution_count": null,
   "metadata": {},
   "outputs": [],
   "source": [
    "%%writefile --append test_chemical_elements.py\n",
    "\n",
    "\n",
    "def test_bonded_atoms():\n",
    "    H1 = Hydrogen(0, 0, 1)\n",
    "    O = Oxygen(0, 0, 0)\n",
    "    H1.add_bond(O)\n",
    "    assert O.bonded_atoms() == [H1]\n",
    "    \n",
    "    bonded = O.bonded_atoms()\n",
    "    bonded.append(\"SOMETHING\")\n",
    "    assert O.bonded_atoms() == [H1]"
   ]
  },
  {
   "cell_type": "markdown",
   "metadata": {
    "slideshow": {
     "slide_type": "notes"
    }
   },
   "source": [
    "Lister er ikke primitive. Det må derfor returneres en kopi av listen for at den private instansvariabelen ikke skal kunne endres fra utsiden."
   ]
  },
  {
   "cell_type": "code",
   "execution_count": null,
   "metadata": {
    "slideshow": {
     "slide_type": "notes"
    }
   },
   "outputs": [],
   "source": [
    "%%writefile --append atom.py\n",
    "\n",
    "    def bonded_atoms(self):\n",
    "        return self._bonded_atoms.copy()"
   ]
  },
  {
   "cell_type": "markdown",
   "metadata": {
    "slideshow": {
     "slide_type": "notes"
    }
   },
   "source": [
    "### Litt bruk av klassene"
   ]
  },
  {
   "cell_type": "markdown",
   "metadata": {
    "slideshow": {
     "slide_type": "notes"
    }
   },
   "source": [
    "Noen instanser av `Hydrogen` og `Oxygen`:"
   ]
  },
  {
   "cell_type": "code",
   "execution_count": null,
   "metadata": {
    "slideshow": {
     "slide_type": "notes"
    }
   },
   "outputs": [],
   "source": [
    "from chemical_elements import Hydrogen, Oxygen\n",
    "\n",
    "O = Oxygen(0, 0, 0)\n",
    "H1 = Hydrogen(0.758602, 0.0, 0.504284)\n",
    "H2 = Hydrogen(H1.x, H1.y, -H1.z)\n",
    "\n",
    "print(f\"{H1.symbol} has atomic number {H1.atomic_number}.\")\n",
    "print(f\"{H2.symbol} has atomic number {H2.atomic_number}.\")\n",
    "print(f\"{O.symbol} has atomic number {O.atomic_number}.\")"
   ]
  },
  {
   "cell_type": "markdown",
   "metadata": {
    "slideshow": {
     "slide_type": "notes"
    }
   },
   "source": [
    "Atomene har ingen bindinger:"
   ]
  },
  {
   "cell_type": "code",
   "execution_count": null,
   "metadata": {
    "slideshow": {
     "slide_type": "notes"
    }
   },
   "outputs": [],
   "source": [
    "print(f\"Are they initially bonded?\")\n",
    "print(f\"  - {O} says:\\n\\t{O.is_bonded(H1) = }\\n\\t{O.is_bonded(H2) = }\")\n",
    "print(f\"  - {H1} says:\\n\\t{H1.is_bonded(O) = }\\n\\t{H1.is_bonded(H2) = }\")\n",
    "print(f\"  - {H2} says:\\n\\t{H2.is_bonded(O) = }\\n\\t{H2.is_bonded(H1) = }\")"
   ]
  },
  {
   "cell_type": "markdown",
   "metadata": {
    "slideshow": {
     "slide_type": "notes"
    }
   },
   "source": [
    "Legge til bindinger mellom alle atomene:"
   ]
  },
  {
   "cell_type": "code",
   "execution_count": null,
   "metadata": {
    "slideshow": {
     "slide_type": "notes"
    }
   },
   "outputs": [],
   "source": [
    "O.add_bond(H1)\n",
    "O.add_bond(H2)\n",
    "H1.add_bond(H2)\n",
    "print(f\"All bonded?\")\n",
    "print(f\"  - {O} says:\\n\\t{O.is_bonded(H1) = }\\n\\t{O.is_bonded(H2) = }\")\n",
    "print(f\"  - {H1} says:\\n\\t{H1.is_bonded(O) = }\\n\\t{H1.is_bonded(H2) = }\")\n",
    "print(f\"  - {H2} says:\\n\\t{H2.is_bonded(O) = }\\n\\t{H2.is_bonded(H1) = }\")"
   ]
  },
  {
   "cell_type": "markdown",
   "metadata": {
    "slideshow": {
     "slide_type": "notes"
    }
   },
   "source": [
    "Vannmolekyl:"
   ]
  },
  {
   "cell_type": "code",
   "execution_count": null,
   "metadata": {
    "slideshow": {
     "slide_type": "notes"
    }
   },
   "outputs": [],
   "source": [
    "H2.remove_bond(H1)\n",
    "print(f\"Water molecule?\")\n",
    "print(f\"  - {O} says:\\n\\t{O.is_bonded(H1) = }\\n\\t{O.is_bonded(H2) = }\")\n",
    "print(f\"  - {H1} says:\\n\\t{H1.is_bonded(O) = }\\n\\t{H1.is_bonded(H2) = }\")\n",
    "print(f\"  - {H2} says:\\n\\t{H2.is_bonded(O) = }\\n\\t{H2.is_bonded(H1) = }\")"
   ]
  },
  {
   "cell_type": "markdown",
   "metadata": {
    "slideshow": {
     "slide_type": "notes"
    }
   },
   "source": [
    "Avstander:"
   ]
  },
  {
   "cell_type": "code",
   "execution_count": null,
   "metadata": {
    "slideshow": {
     "slide_type": "notes"
    }
   },
   "outputs": [],
   "source": [
    "print(f\"Distance between O and H: {H1.distance(O):.2f} Å = {O.distance(H2):.2f} Å.\")\n",
    "print(f\"Distance between H and H: {H2.distance(H1):.2f} Å.\")"
   ]
  },
  {
   "cell_type": "markdown",
   "metadata": {
    "slideshow": {
     "slide_type": "notes"
    }
   },
   "source": [
    "Måten atomene er bundet her gjør at molekylene representeres som en *graf*."
   ]
  }
 ],
 "metadata": {
  "celltoolbar": "Slideshow",
  "kernelspec": {
   "display_name": "Python 3 (ipykernel)",
   "language": "python",
   "name": "python3"
  },
  "language_info": {
   "codemirror_mode": {
    "name": "ipython",
    "version": 3
   },
   "file_extension": ".py",
   "mimetype": "text/x-python",
   "name": "python",
   "nbconvert_exporter": "python",
   "pygments_lexer": "ipython3",
   "version": "3.10.5"
  },
  "vscode": {
   "interpreter": {
    "hash": "190cafc93a7c2c49a6ea227d53366c310c32565680693c36f3a06dea9bb66b47"
   }
  }
 },
 "nbformat": 4,
 "nbformat_minor": 2
}
