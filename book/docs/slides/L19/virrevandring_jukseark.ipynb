{
 "cells": [
  {
   "cell_type": "markdown",
   "id": "cc3c83ba",
   "metadata": {},
   "source": [
    "# Virrevandring"
   ]
  },
  {
   "cell_type": "markdown",
   "id": "652c4040",
   "metadata": {},
   "source": [
    "##  Én dimensjon"
   ]
  },
  {
   "cell_type": "code",
   "execution_count": null,
   "id": "6c1c7e3d",
   "metadata": {},
   "outputs": [],
   "source": [
    "N = 10\n",
    "dx = [-1, 1]\n",
    "x = np.zeros(N)\n",
    "for n in range(1, N):\n",
    "    x[n] = x[n - 1] + np.random.choice(dx)\n",
    "print(x)"
   ]
  },
  {
   "cell_type": "code",
   "execution_count": null,
   "id": "03f7799e",
   "metadata": {},
   "outputs": [],
   "source": [
    "def random_walk_1D(N):\n",
    "    dx = np.random.choice([-1, 1], size=(N-1))\n",
    "    x = np.zeros(N)\n",
    "    x[1:] = np.cumsum(dx)\n",
    "    return x"
   ]
  },
  {
   "cell_type": "markdown",
   "id": "2e164449",
   "metadata": {},
   "source": [
    "## To dimensjoner"
   ]
  },
  {
   "cell_type": "code",
   "execution_count": null,
   "id": "ac8dea72",
   "metadata": {},
   "outputs": [],
   "source": [
    "def random_walk_2D(N):\n",
    "    dr = np.array([(1, 0), (-1, 0), (0, 1), (0, -1)])\n",
    "    idx = np.random.randint(4, size=(N-1))\n",
    "    r = np.zeros((N, 2))\n",
    "    r[1:] = np.cumsum(dr[idx], axis=0)\n",
    "    return r"
   ]
  },
  {
   "cell_type": "code",
   "execution_count": null,
   "id": "378aff07",
   "metadata": {},
   "outputs": [],
   "source": [
    "def brownian_motion(N, sigma=1):\n",
    "    r = np.zeros((N, 2))\n",
    "    dr = np.random.normal(loc=0, scale=sigma, size=(N-1, 2))\n",
    "    r[1:] = np.cumsum(dr, axis=0)\n",
    "    return r"
   ]
  }
 ],
 "metadata": {
  "kernelspec": {
   "display_name": "Python 3 (ipykernel)",
   "language": "python",
   "name": "python3"
  },
  "language_info": {
   "codemirror_mode": {
    "name": "ipython",
    "version": 3
   },
   "file_extension": ".py",
   "mimetype": "text/x-python",
   "name": "python",
   "nbconvert_exporter": "python",
   "pygments_lexer": "ipython3",
   "version": "3.10.5"
  }
 },
 "nbformat": 4,
 "nbformat_minor": 5
}
