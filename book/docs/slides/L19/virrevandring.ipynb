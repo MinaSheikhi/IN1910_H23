{
 "cells": [
  {
   "cell_type": "markdown",
   "metadata": {
    "slideshow": {
     "slide_type": "slide"
    }
   },
   "source": [
    "# Virrevandring"
   ]
  },
  {
   "cell_type": "markdown",
   "metadata": {
    "slideshow": {
     "slide_type": "fragment"
    }
   },
   "source": [
    "> Engelsk: Random walks\n",
    "\n",
    "Virrevandring er en prosess hvor vi følger et objekt som beveger seg tilfeldig."
   ]
  },
  {
   "cell_type": "markdown",
   "metadata": {
    "slideshow": {
     "slide_type": "slide"
    }
   },
   "source": [
    "**Jeg har skrevet litt plottekode fra før:**"
   ]
  },
  {
   "cell_type": "code",
   "execution_count": null,
   "metadata": {
    "slideshow": {
     "slide_type": "-"
    }
   },
   "outputs": [],
   "source": [
    "%matplotlib inline\n",
    "from IPython.display import HTML\n",
    "import matplotlib.pyplot as plt\n",
    "import numpy as np\n",
    "\n",
    "import  animate\n",
    "\n",
    "plt.rc('axes', labelsize=14) \n",
    "plt.rc('legend', fontsize=10)"
   ]
  },
  {
   "cell_type": "markdown",
   "metadata": {
    "slideshow": {
     "slide_type": "slide"
    }
   },
   "source": [
    "## Hva brukes virrevandring til?\n",
    "\n",
    "Brukes mye i vitenskapelige anvendelser:\n",
    "\n",
    "- Modeller for aksjekurs\n",
    "- Populasjonsmodeller\n",
    "- Modeller for genetikk (genetisk drift)\n",
    "- Studier av polymerer i materialvitenskap\n",
    "- Segmentering av bilder\n",
    "- Twitter bruker virrevandring til å foreslå nye personer du kan følge\n",
    "\n",
    "\n",
    "Vi skal bruke **en partikkel som har en viss sannsynlighet for å bevege seg en gitt vei**."
   ]
  },
  {
   "cell_type": "markdown",
   "metadata": {
    "slideshow": {
     "slide_type": "slide"
    }
   },
   "source": [
    "##  Én dimensjon\n",
    "\n",
    "Simulering av gange langs en linje\n",
    "\n",
    "$$\n",
    "    x_{n + 1} = x_{n } + \\Delta x_{n + 1},\n",
    "$$\n",
    "\n",
    "gitt et utgangspunkt $x_0$ og *stokastisk* steglengde $\\Delta x_{n + 1}$.\n",
    "\n",
    "![](figures/1D_walk.png)"
   ]
  },
  {
   "cell_type": "markdown",
   "metadata": {
    "slideshow": {
     "slide_type": "slide"
    }
   },
   "source": [
    "### Steglengden $\\Delta x_n$\n",
    "\n",
    "Steglengden er en **stokastisk variabel** med en gitt distribusjon. \n",
    "\n",
    "Bruker ofte normalfordeling eller uniform fordeling."
   ]
  },
  {
   "cell_type": "markdown",
   "metadata": {
    "slideshow": {
     "slide_type": "slide"
    }
   },
   "source": [
    "**Implementasjon:** Vi skal bruke \n",
    "\n",
    "$$\n",
    "    x_0 = 0\n",
    "$$ \n",
    "\n",
    "og \n",
    "\n",
    "$$\n",
    "    \\Delta x_{n + 1} = \\pm 1.\n",
    "$$\n",
    "\n",
    "Det er lik sannsynlighet for å gå begge veier."
   ]
  },
  {
   "cell_type": "code",
   "execution_count": null,
   "metadata": {},
   "outputs": [],
   "source": [
    "N = 10\n",
    "dx = [-1, 1]\n",
    "x = np.zeros(N)\n",
    "...\n",
    "print(x)"
   ]
  },
  {
   "cell_type": "markdown",
   "metadata": {
    "slideshow": {
     "slide_type": "notes"
    }
   },
   "source": [
    "En enkel implementasjon kan f.eks bruke `numpy.random.choice`:"
   ]
  },
  {
   "cell_type": "code",
   "execution_count": null,
   "metadata": {
    "slideshow": {
     "slide_type": "notes"
    }
   },
   "outputs": [],
   "source": [
    "N = 10\n",
    "dx = [-1, 1]\n",
    "x = np.zeros(N)\n",
    "for n in range(N):\n",
    "    x[n] = x[n - 1] + np.random.choice(dx)\n",
    "print(x)"
   ]
  },
  {
   "cell_type": "markdown",
   "metadata": {
    "slideshow": {
     "slide_type": "slide"
    }
   },
   "source": [
    "**Vektorisert implementasjon.** \n",
    "\n",
    "Vi kan bruke `np.cumsum` til å beregne den kumulative summen:\n",
    "\n",
    "\n",
    "$$\n",
    "    x_{n} = \\sum_{i=1}^{n} \\Delta x_i.\n",
    "$$\n"
   ]
  },
  {
   "cell_type": "code",
   "execution_count": null,
   "metadata": {},
   "outputs": [],
   "source": [
    "def random_walk_1D(N):\n",
    "    x = np.zeros(N)\n",
    "    ...\n",
    "    return x"
   ]
  },
  {
   "cell_type": "markdown",
   "metadata": {
    "slideshow": {
     "slide_type": "notes"
    }
   },
   "source": [
    "Implementasjonen kan da se slik ut:"
   ]
  },
  {
   "cell_type": "code",
   "execution_count": null,
   "metadata": {
    "slideshow": {
     "slide_type": "notes"
    }
   },
   "outputs": [],
   "source": [
    "def random_walk_1D(N):\n",
    "    dx = np.random.choice([-1, 1], size=(N-1))\n",
    "    x = np.zeros(N)\n",
    "    x[1:] = np.cumsum(dx)\n",
    "    return x"
   ]
  },
  {
   "cell_type": "markdown",
   "metadata": {
    "slideshow": {
     "slide_type": "slide"
    }
   },
   "source": [
    "**Plotting av virrevandring i 1D:**"
   ]
  },
  {
   "cell_type": "code",
   "execution_count": null,
   "metadata": {},
   "outputs": [],
   "source": [
    "N = 50\n",
    "x = random_walk_1D(N)\n",
    "\n",
    "fig = plt.figure(figsize=(15, 5))\n",
    "plt.step(range(N), x, where=\"mid\", color=\"black\")\n",
    "plt.xlabel(\"n\")\n",
    "plt.ylabel(\"x\")\n",
    "plt.show()\n",
    "print()"
   ]
  },
  {
   "cell_type": "markdown",
   "metadata": {
    "slideshow": {
     "slide_type": "slide"
    }
   },
   "source": [
    "**Veien vil endre seg hver gang du kjører programmet:**"
   ]
  },
  {
   "cell_type": "code",
   "execution_count": null,
   "metadata": {},
   "outputs": [],
   "source": [
    "fig = plt.figure(figsize=(15, 5))\n",
    "N = 50\n",
    "for _ in range(10):\n",
    "    plt.step(range(N), random_walk_1D(N), where=\"mid\", alpha=0.75)\n",
    "plt.xlabel(\"n\")\n",
    "plt.ylabel(\"x\")\n",
    "plt.show()\n",
    "print()"
   ]
  },
  {
   "cell_type": "markdown",
   "metadata": {
    "slideshow": {
     "slide_type": "slide"
    }
   },
   "source": [
    "### Forventnigsverdier\n",
    "\n",
    "Det generelle utrykket for posisjonen er\n",
    "\n",
    "$$\n",
    "    x_{n} = x_0 + \\sum_{i=1}^{n} \\Delta x_i,\n",
    "$$\n",
    "\n",
    "men vi forenkler og bruker $x_0 = 0$."
   ]
  },
  {
   "cell_type": "markdown",
   "metadata": {
    "slideshow": {
     "slide_type": "fragment"
    }
   },
   "source": [
    "*Forventet posisjon* blir da det samme som *forventet forflytning*."
   ]
  },
  {
   "cell_type": "markdown",
   "metadata": {
    "slideshow": {
     "slide_type": "slide"
    }
   },
   "source": [
    "**Forventningsverdi for posisjon** er gitt ved\n",
    "\n",
    "$$\n",
    "    \\langle x_{n}\\rangle = \\sum_{i=1}^{n} \\langle\\Delta x_i \\rangle,\n",
    "$$\n",
    "\n",
    "siden $\\langle a + b\\rangle = \\langle a\\rangle + \\langle b\\rangle$."
   ]
  },
  {
   "cell_type": "markdown",
   "metadata": {
    "slideshow": {
     "slide_type": "fragment"
    }
   },
   "source": [
    "Forventningsverdien til steglengden blir\n",
    "\n",
    "$$\n",
    "     \\langle\\Delta x_i \\rangle = \\frac{1}{2} \\cdot 1 + \\frac{1}{2} \\cdot (-1) = 0 .\n",
    "$$\n"
   ]
  },
  {
   "cell_type": "markdown",
   "metadata": {
    "slideshow": {
     "slide_type": "fragment"
    }
   },
   "source": [
    "Forventet gjennomsnittlig forflytning er derfor\n",
    "\n",
    "$$\n",
    "     \\langle x_{n}\\rangle = 0 .\n",
    "$$\n"
   ]
  },
  {
   "cell_type": "markdown",
   "metadata": {
    "slideshow": {
     "slide_type": "slide"
    }
   },
   "source": [
    "**Bruk av mange vandrere** vil være symmetrisk rundt $x_0$."
   ]
  },
  {
   "cell_type": "code",
   "execution_count": null,
   "metadata": {},
   "outputs": [],
   "source": [
    "N = 500\n",
    "walkers = 1000\n",
    "n_1D = np.arange(N)\n",
    "X = np.zeros((walkers, N))\n",
    "plt.figure(figsize=(15, 5))\n",
    "for k in range(walkers):\n",
    "    X[k] = random_walk_1D(N)\n",
    "    plt.step(n_1D, X[k], where=\"mid\", color=\"black\", alpha=0.01)\n",
    "plt.xlabel(\"n\")\n",
    "plt.ylabel(\"x\")\n",
    "plt.show()\n",
    "print()"
   ]
  },
  {
   "cell_type": "markdown",
   "metadata": {
    "slideshow": {
     "slide_type": "slide"
    }
   },
   "source": [
    "**Forventningsverdi til den kvadrerte posisjonen** er gitt ved\n",
    "\n",
    "$$\n",
    "    \\langle x_{n}^2 \\rangle \n",
    "    =  \\langle \\left(\\sum_{i=1}^{n} \\Delta x_i \\right)^2 \\rangle \n",
    "    = \\sum_{i=1}^{n} \\langle \\Delta x_i^2 \\rangle\n",
    "    + 2\\sum_{i < j}\\langle\\Delta x_i \\cdot \\Delta x_j \\rangle .\n",
    "$$\n"
   ]
  },
  {
   "cell_type": "markdown",
   "metadata": {
    "slideshow": {
     "slide_type": "fragment"
    }
   },
   "source": [
    "Ettersom $\\Delta x_i$ og $\\Delta x_j$ er uavhengige har vi at\n",
    "\n",
    "$$\n",
    "    \\langle\\Delta x_i \\cdot \\Delta x_j \\rangle \n",
    "    = \\langle\\Delta x_i\\rangle \\cdot \\langle\\Delta x_j\\rangle = 0,\n",
    "$$\n",
    "\n",
    "hvor vi nettopp så at $\\langle\\Delta x_i\\rangle = 0$."
   ]
  },
  {
   "cell_type": "markdown",
   "metadata": {
    "slideshow": {
     "slide_type": "fragment"
    }
   },
   "source": [
    "Vi kan regne ut forventingsverdien til den kvadrerte steglengden:\n",
    "\n",
    "$$\n",
    "    \\langle \\Delta x_i^2 \\rangle = \\frac{1}{2}(1)^2 + \\frac{1}{2}(-1)^2 = 1 .\n",
    "$$\n"
   ]
  },
  {
   "cell_type": "markdown",
   "metadata": {
    "slideshow": {
     "slide_type": "fragment"
    }
   },
   "source": [
    "Forventningsverdien til den kvadrerte forflytningen er da\n",
    "\n",
    "$$\n",
    "    \\langle x_{n}^2 \\rangle = n .\n",
    "$$\n"
   ]
  },
  {
   "cell_type": "markdown",
   "metadata": {
    "slideshow": {
     "slide_type": "slide"
    }
   },
   "source": [
    "**Variansen** er  gitt ved\n",
    "\n",
    "$$\n",
    "    \\sigma^2(x_{n}) = \\langle x_{n}^2 \\rangle  - \\langle x_{n}\\rangle^2 = n .\n",
    "$$\n"
   ]
  },
  {
   "cell_type": "markdown",
   "metadata": {
    "slideshow": {
     "slide_type": "fragment"
    }
   },
   "source": [
    "**Standardavviket** er\n",
    "\n",
    "$$\n",
    "    \\sigma(x_{n}) = \\sqrt{\\sigma^2(x_{n})} = \\sqrt{n} .\n",
    "$$\n"
   ]
  },
  {
   "cell_type": "markdown",
   "metadata": {
    "slideshow": {
     "slide_type": "slide"
    }
   },
   "source": [
    "### De store talls lov\n",
    "\n",
    "Når populasjonen øker, vil snittet gå mot forventningsverdien."
   ]
  },
  {
   "cell_type": "code",
   "execution_count": null,
   "metadata": {},
   "outputs": [],
   "source": [
    "plt.figure(figsize=(15, 5))\n",
    "ax1 = plt.subplot(121, xlabel=\"n\", ylabel=r'$\\sigma$')\n",
    "ax2 = plt.subplot(122, xlabel=\"n\", ylabel=r'$\\langle x \\rangle$')\n",
    "ax1.plot(n_1D, np.sqrt(n_1D), label=\"Analytic\", color=\"black\")\n",
    "ax2.plot(n_1D, np.zeros(len(n_1D)), color=\"black\")\n",
    "for w in [10, 100, 1000]:\n",
    "    sigma = np.std(X[:w], axis=0)\n",
    "    ax1.plot(n_1D, sigma, \"--\", label=f\"{w} walkers\")\n",
    "    ax2.plot(n_1D, np.mean(X[:w], axis=0), \"--\")\n",
    "ax1.legend()\n",
    "plt.show()\n",
    "print()"
   ]
  },
  {
   "cell_type": "markdown",
   "metadata": {
    "slideshow": {
     "slide_type": "slide"
    }
   },
   "source": [
    "## To dimensjoner\n",
    "\n",
    "Generelt er formelen\n",
    "\n",
    "$$\n",
    "    \\vec{r}_{n} = \\vec{r}_0 + \\sum_{i = 1}^n \\Delta \\vec{r}_i \n",
    "$$\n",
    "\n",
    "for en gitt startposisjon $\\vec{r}_0$.\n",
    "\n",
    "I to dimensjoner har vi\n",
    "\n",
    "$$\n",
    "    \\vec{r}_n = (x_n, y_n).\n",
    "$$\n"
   ]
  },
  {
   "cell_type": "markdown",
   "metadata": {
    "slideshow": {
     "slide_type": "slide"
    }
   },
   "source": [
    "### Steglengden $\\Delta \\vec{r}_n$\n",
    "\n",
    "Steglengden er en stokastisk variabel i to dimensjoner\n",
    "\n",
    "$$\n",
    "    \\Delta \\vec{r}_n = (\\Delta x_n, \\Delta y_n),\n",
    "$$\n",
    "\n",
    "hvor distribusjonen kan være den samme eller forskjellig i $x$- og $y$-retningen. "
   ]
  },
  {
   "cell_type": "markdown",
   "metadata": {
    "slideshow": {
     "slide_type": "slide"
    }
   },
   "source": [
    "**Implementasjon** Vi skal bruke \n",
    "\n",
    "$$\n",
    "    \\vec{r}_0 = (0, 0) \n",
    "$$  \n",
    "\n",
    "og \n",
    "\n",
    "$$\n",
    "    \\Delta \\vec{r}_n  \\in \\{(1, 0), (-1, 0), (0, 1), (0, -1)\\} .\n",
    "$$ \n"
   ]
  },
  {
   "cell_type": "markdown",
   "metadata": {
    "slideshow": {
     "slide_type": "notes"
    }
   },
   "source": [
    "Altså kan vandreren vår gå et steg mot nord, sør, øst eller vest."
   ]
  },
  {
   "cell_type": "code",
   "execution_count": null,
   "metadata": {},
   "outputs": [],
   "source": [
    "def random_walk_2D(N):\n",
    "    dr = np.array([(1, 0), (-1, 0), (0, 1), (0, -1)])\n",
    "    r = np.zeros((N, 2))\n",
    "    ...\n",
    "    return r"
   ]
  },
  {
   "cell_type": "markdown",
   "metadata": {
    "slideshow": {
     "slide_type": "notes"
    }
   },
   "source": [
    "Implementasjonen kan da se slik ut:"
   ]
  },
  {
   "cell_type": "code",
   "execution_count": null,
   "metadata": {
    "slideshow": {
     "slide_type": "notes"
    }
   },
   "outputs": [],
   "source": [
    "def random_walk_2D(N):\n",
    "    dr = np.array([(1, 0), (-1, 0), (0, 1), (0, -1)])\n",
    "    idx = np.random.randint(4, size=(N-1))\n",
    "    r = np.zeros((N, 2))\n",
    "    r[1:] = np.cumsum(dr[idx], axis=0)\n",
    "    return r"
   ]
  },
  {
   "cell_type": "markdown",
   "metadata": {
    "slideshow": {
     "slide_type": "slide"
    }
   },
   "source": [
    "**Videosnutt av virrevandring i 2D:**"
   ]
  },
  {
   "cell_type": "code",
   "execution_count": null,
   "metadata": {},
   "outputs": [],
   "source": [
    "r = random_walk_2D(50)\n",
    "video = animate.RandomWalk(r, figsize=(10, 10)).video(speed=200)\n",
    "HTML(video)"
   ]
  },
  {
   "cell_type": "markdown",
   "metadata": {
    "slideshow": {
     "slide_type": "slide"
    }
   },
   "source": [
    "### Forventningsverdier\n",
    "\n",
    "Det generelle utrykket for posisjon er gitt ved\n",
    "\n",
    "$$\n",
    "    \\vec{r}_{n} =  \\vec{r}_0 + \\sum_{i=1}^{n} \\Delta \\vec{r}_i,\n",
    "$$\n",
    "\n",
    "men vi har satt $\\vec{r}_0 = (0, 0)$. \n",
    "\n",
    "Forventet posisjon og forventet forflytning er igjen det samme."
   ]
  },
  {
   "cell_type": "markdown",
   "metadata": {
    "slideshow": {
     "slide_type": "slide"
    }
   },
   "source": [
    "Forventningsverdien til posisjonen er gitt ved\n",
    "\n",
    "$$\n",
    "    \\langle \\vec{r}_{n} \\rangle \n",
    "    = (\\langle x_{n}\\rangle, \\langle y_{n}\\rangle) .\n",
    "$$"
   ]
  },
  {
   "cell_type": "markdown",
   "metadata": {
    "slideshow": {
     "slide_type": "fragment"
    }
   },
   "source": [
    "Forventningsverdien til $x$ er gitt ved\n",
    "\n",
    "$$\n",
    "    \\langle x_{n}\\rangle = \\sum_{i=1}^{n} \\langle\\Delta x_i \\rangle, \n",
    "$$\n"
   ]
  },
  {
   "cell_type": "markdown",
   "metadata": {
    "slideshow": {
     "slide_type": "fragment"
    }
   },
   "source": [
    "hvor forventningsverdien til $\\Delta x$ er \n",
    "\n",
    "$$\n",
    "     \\langle\\Delta x_i \\rangle = \\frac{1}{4} \\cdot 1 + \\frac{1}{4} \\cdot (-1) + \\frac{1}{2} \\cdot 0 = 0.\n",
    "$$\n"
   ]
  },
  {
   "cell_type": "markdown",
   "metadata": {
    "slideshow": {
     "slide_type": "fragment"
    }
   },
   "source": [
    "Vi får da at $\\langle x_{n}\\rangle = \\langle y_{n}\\rangle = 0$, som gir\n",
    "\n",
    "$$\n",
    "   \\langle \\vec{r}_{n}\\rangle = (0, 0).\n",
    "$$"
   ]
  },
  {
   "cell_type": "markdown",
   "metadata": {
    "slideshow": {
     "slide_type": "slide"
    }
   },
   "source": [
    "**Bruk av mange vandrere** vil være symmetrisk rundt $\\vec{r}_0$."
   ]
  },
  {
   "cell_type": "code",
   "execution_count": null,
   "metadata": {},
   "outputs": [],
   "source": [
    "video = animate.RandomWalk([random_walk_2D(50) for _ in range(10)]).video(speed=150)\n",
    "HTML(video)"
   ]
  },
  {
   "cell_type": "markdown",
   "metadata": {
    "slideshow": {
     "slide_type": "slide"
    }
   },
   "source": [
    "**Forventet kvadrert avstand fra startpunkt** er gitt ved\n",
    "\n",
    "$$\n",
    "    \\langle |\\vec{r}_{n}|^2 \\rangle \n",
    "    = \\langle x_{n}^2 \\rangle + \\langle y_{n}^2 \\rangle .\n",
    "$$\n"
   ]
  },
  {
   "cell_type": "markdown",
   "metadata": {
    "slideshow": {
     "slide_type": "fragment"
    }
   },
   "source": [
    "Tilsvarende som i én dimensjon får vi\n",
    "\n",
    "$$\n",
    "    \\langle x_{n}^2 \\rangle \n",
    "    = \\sum_{i=1}^{n} \\langle \\Delta x_i^2 \\rangle\n",
    "    + 2\\sum_{i < j}\\langle\\Delta x_i\\rangle \\cdot \\langle\\Delta x_j\\rangle\n",
    "    = \\sum_{i=1}^{n} \\langle \\Delta x_i^2 \\rangle ,\n",
    "$$\n",
    "\n",
    "Siden $\\langle \\Delta x_i \\rangle = 0$."
   ]
  },
  {
   "cell_type": "markdown",
   "metadata": {
    "slideshow": {
     "slide_type": "fragment"
    }
   },
   "source": [
    "Forventningsverdien til den kvadrerte steglengden er\n",
    "\n",
    "$$\n",
    "    \\langle \\Delta x_i^2 \\rangle \n",
    "    =  \\frac{1}{4} \\cdot 1^2 + \\frac{1}{4} \\cdot (-1)^2 + \\frac{1}{2} \\cdot 0^2\n",
    "    = \\frac{1}{2} .\n",
    "$$\n"
   ]
  },
  {
   "cell_type": "markdown",
   "metadata": {
    "slideshow": {
     "slide_type": "fragment"
    }
   },
   "source": [
    "Forventningsverdiene blir da\n",
    "\n",
    "$$\n",
    "    \\langle x_{n}^2 \\rangle  = \\langle y_{n}^2 \\rangle  = \\frac{n}{2} .\n",
    "$$\n"
   ]
  },
  {
   "cell_type": "markdown",
   "metadata": {
    "slideshow": {
     "slide_type": "fragment"
    }
   },
   "source": [
    "Forventningsverdien til kvadrert avstand fra startpunkt:\n",
    "\n",
    "$$\n",
    "    \\langle |\\vec{r}_{n}|^2 \\rangle  = n .\n",
    "$$\n"
   ]
  },
  {
   "cell_type": "markdown",
   "metadata": {
    "slideshow": {
     "slide_type": "slide"
    }
   },
   "source": [
    "**Gjennomsnittlig kvadrert avstand fra startpunkt** vil gå mot forventningsverdien for store populasjoner."
   ]
  },
  {
   "cell_type": "code",
   "execution_count": null,
   "metadata": {},
   "outputs": [],
   "source": [
    "walkers = 1000\n",
    "N = 50\n",
    "R = np.zeros((walkers, N, 2))\n",
    "n_2D = np.arange(N)\n",
    "for w in range(walkers):\n",
    "    R[w] = random_walk_2D(N)\n",
    "    \n",
    "plt.figure(figsize=(15, 5))\n",
    "plt.plot(n_2D, n_2D, label=\"Analytic\", color=\"black\")\n",
    "for w in [10, 100, 1000]:\n",
    "    dist_squared = np.sum(R[:w]*R[:w], axis=2)\n",
    "    plt.plot(n_2D, np.mean(dist_squared, axis=0), \"--\", label=f\"{w} walkers\")\n",
    "plt.legend()\n",
    "plt.xlabel('n')\n",
    "plt.ylabel(r'$\\langle |\\vec{r}_{n}|^2 \\rangle$')\n",
    "plt.show()\n",
    "print()"
   ]
  },
  {
   "cell_type": "markdown",
   "metadata": {
    "slideshow": {
     "slide_type": "slide"
    }
   },
   "source": [
    "**Animasjon:** Med mange vandrere kan vi se at de sprer seg som en sirkel med økende radius. "
   ]
  },
  {
   "cell_type": "code",
   "execution_count": null,
   "metadata": {},
   "outputs": [],
   "source": [
    "video = animate.RandomWalk(R[:400]).video(speed=200)\n",
    "HTML(video)"
   ]
  },
  {
   "cell_type": "markdown",
   "metadata": {
    "slideshow": {
     "slide_type": "slide"
    }
   },
   "source": [
    "### Brownsk bevegelse\n",
    "\n",
    "Bevegelse til partikler i væske eller gass. Kan simuleres i én, to eller tre dimensjoner.\n",
    "\n",
    "Tenk deg en **større partikkel som kolliderer med masse små partikler** på veien.\n",
    "\n",
    "Bevegelsen til den store partikkelen vil da se kaotisk ut."
   ]
  },
  {
   "cell_type": "markdown",
   "metadata": {
    "slideshow": {
     "slide_type": "slide"
    }
   },
   "source": [
    "**Normalfordelt steglengde.** \n",
    "\n",
    "Brownsk bevegelse har normalfordelt steglengde rundt 0. \n",
    "\n",
    "Steglengden i de forskjellige retningene er uavhengig av hverandre."
   ]
  },
  {
   "cell_type": "code",
   "execution_count": null,
   "metadata": {},
   "outputs": [],
   "source": [
    "def brownian_motion(N, sigma=1):\n",
    "    r = np.zeros((N, 2))\n",
    "    ...\n",
    "    return r"
   ]
  },
  {
   "cell_type": "markdown",
   "metadata": {
    "slideshow": {
     "slide_type": "notes"
    }
   },
   "source": [
    "Forslag til implementasjon er gitt i cellen under."
   ]
  },
  {
   "cell_type": "code",
   "execution_count": null,
   "metadata": {
    "slideshow": {
     "slide_type": "notes"
    }
   },
   "outputs": [],
   "source": [
    "def brownian_motion(N, sigma=1):\n",
    "    r = np.zeros((N, 2))\n",
    "    dr = np.random.normal(loc=0, scale=sigma, size=(N-1, 2))\n",
    "    r[1:] = np.cumsum(dr, axis=0)\n",
    "    return r"
   ]
  },
  {
   "cell_type": "markdown",
   "metadata": {
    "slideshow": {
     "slide_type": "slide"
    }
   },
   "source": [
    "**Kaotiske partikler:**"
   ]
  },
  {
   "cell_type": "code",
   "execution_count": null,
   "metadata": {},
   "outputs": [],
   "source": [
    "R = [brownian_motion(200) for _ in range(10)]\n",
    "video = animate.RandomWalk(R).video(speed=100)\n",
    "HTML(video)"
   ]
  },
  {
   "cell_type": "markdown",
   "metadata": {
    "slideshow": {
     "slide_type": "slide"
    }
   },
   "source": [
    "## Diffusjon\n",
    "\n",
    "Diffusjonslikningen er gitt ved\n",
    "\n",
    "$$\n",
    "    \\frac{\\partial\\rho(\\vec{r}, t)}{\\partial t} = D \\nabla^2 \\rho(\\vec{r}, t) ,\n",
    "$$\n",
    "\n",
    "hvor $\\rho$ er partikkeltettheten og $D$ er diffusjonskonstanten."
   ]
  },
  {
   "cell_type": "markdown",
   "metadata": {
    "slideshow": {
     "slide_type": "slide"
    }
   },
   "source": [
    "### Partikkeltetthet i stokastiske simuleringer\n",
    "\n",
    "Tenk at du simulerer $P$ virrevandrende partikler."
   ]
  },
  {
   "cell_type": "markdown",
   "metadata": {
    "slideshow": {
     "slide_type": "fragment"
    }
   },
   "source": [
    "1. Del opp rommet som simuleres i segment, hvor segment $s$ har volum $V_s$."
   ]
  },
  {
   "cell_type": "markdown",
   "metadata": {
    "slideshow": {
     "slide_type": "fragment"
    }
   },
   "source": [
    "2. For hvert tidsteg, tell hvor mange partikler $N_s^t$ som befinner seg i segment $s$."
   ]
  },
  {
   "cell_type": "markdown",
   "metadata": {
    "slideshow": {
     "slide_type": "fragment"
    }
   },
   "source": [
    "3. Tettheten i hvert segment er da $\\rho(\\vec{r}_s, t) = N_s^t/V_s$."
   ]
  },
  {
   "cell_type": "markdown",
   "metadata": {
    "slideshow": {
     "slide_type": "fragment"
    }
   },
   "source": [
    "**Monte Carlo-simulering av tettheten:** Simuler $P$ virrevandrende partikler $N_\\text{MC}$ ganger og bruk gjennomsnittet av alle simuleringene."
   ]
  },
  {
   "cell_type": "markdown",
   "metadata": {
    "slideshow": {
     "slide_type": "slide"
    }
   },
   "source": [
    "### Diffusjon av Brownske partikler i én dimensjon\n",
    "\n",
    "Diffusjon i én dimensjon er gitt ved\n",
    "\n",
    "$$\n",
    "    \\frac{\\partial \\rho(x, t)}{\\partial t} = D\\frac{\\partial^2 \\rho(x, t)}{\\partial x^2} .\n",
    "$$"
   ]
  },
  {
   "cell_type": "markdown",
   "metadata": {
    "slideshow": {
     "slide_type": "fragment"
    }
   },
   "source": [
    "For Brownske partikler er tettheten gitt ved\n",
    "\n",
    "$$\n",
    "    \\rho(x, t) =  \\frac{N}{\\sqrt{4\\pi D t}} e^{\\frac{-x^2}{4 D t}},\n",
    "$$\n",
    "\n",
    "hvor $\\langle x^2 \\rangle = 2 D t$."
   ]
  },
  {
   "cell_type": "markdown",
   "metadata": {
    "slideshow": {
     "slide_type": "slide"
    }
   },
   "source": [
    "**Diffusjonskonstanten:** Vi forenkler og setter  $\\Delta t = 1$, slik at $t = n \\Delta t = n$."
   ]
  },
  {
   "cell_type": "markdown",
   "metadata": {
    "slideshow": {
     "slide_type": "fragment"
    }
   },
   "source": [
    "For virrevandring med $\\Delta x = \\pm 1$ viste vi at\n",
    "\n",
    "$$ \n",
    "\\langle x^2 \\rangle = n,\n",
    "$$\n",
    "\n",
    "men dette stemmer også for $\\Delta x$ med normal distribusjon med $\\sigma = 1$."
   ]
  },
  {
   "cell_type": "markdown",
   "metadata": {
    "slideshow": {
     "slide_type": "fragment"
    }
   },
   "source": [
    "Vi har da at\n",
    "\n",
    "$$\n",
    "    D = \\frac{\\langle x^2 \\rangle}{2 t} = \\frac{1}{2} .\n",
    "$$\n"
   ]
  },
  {
   "cell_type": "markdown",
   "metadata": {
    "slideshow": {
     "slide_type": "slide"
    }
   },
   "source": [
    "**Diffusjon med forenklet Brownsk bevegelse:** Virrevandring med $\\Delta x = \\pm 1$."
   ]
  },
  {
   "cell_type": "code",
   "execution_count": null,
   "metadata": {},
   "outputs": [],
   "source": [
    "P = [random_walk_1D(50) for _ in range(10_000)]\n",
    "video = animate.Diffusion(P, dx=1, D=0.5).video(speed=200)\n",
    "HTML(video)"
   ]
  },
  {
   "cell_type": "markdown",
   "metadata": {
    "slideshow": {
     "slide_type": "slide"
    }
   },
   "source": [
    "**Diffusjon med Brownsk bevegelse:**"
   ]
  },
  {
   "cell_type": "code",
   "execution_count": null,
   "metadata": {},
   "outputs": [],
   "source": [
    "P = [brownian_motion(50)[:,0] for _ in range(10_000)]\n",
    "video = animate.Diffusion(P, dx=0.25, D=0.5).video(speed=200)\n",
    "HTML(video)"
   ]
  },
  {
   "cell_type": "markdown",
   "metadata": {
    "slideshow": {
     "slide_type": "slide"
    }
   },
   "source": [
    "## Mer avanserte vandrere\n",
    "\n",
    "Til nå har vi kun sett på ***uavhengige* vandrere**. \n",
    "\n",
    "Å simulere $N$ forskjellige vandrere én gang gir da samme resultat som å simulere én vandrer $N$ ganger.\n",
    "\n",
    "Vandrerne har også kunnet bevege seg helt fritt, med like stor sannsynlighet for å gå i alle retninger. "
   ]
  },
  {
   "cell_type": "markdown",
   "metadata": {
    "slideshow": {
     "slide_type": "slide"
    }
   },
   "source": [
    "### Omgivelser\n",
    "\n",
    "Dette kan f.eks være\n",
    "- **Begrense rommet til vandrerne:** Kun la vandrere gå på et gitt område.\n",
    "- **Virrevandring med bias:** Større sannsynlighet for å gå noen veier enn andre."
   ]
  },
  {
   "cell_type": "markdown",
   "metadata": {
    "slideshow": {
     "slide_type": "slide"
    }
   },
   "source": [
    "### Samspill mellom vandrere\n",
    "\n",
    "Dette kan f.eks være\n",
    "- **Vandrere med størrelse:** Vandrere kan ikke oppta samme plass til samme tid.\n",
    "- **Interaksjoner mellom vandrere:** Som f.eks elektroner som frastøter hverandre.\n",
    "\n",
    "Slike simuleringer vil avhenge av antall vandrere. For å regne ut tettheten må man derfor gjenta forsøket mange ganger med $P$ vandrere hver gang."
   ]
  },
  {
   "cell_type": "markdown",
   "metadata": {
    "slideshow": {
     "slide_type": "slide"
    }
   },
   "source": [
    "## Oppsummering"
   ]
  },
  {
   "cell_type": "markdown",
   "metadata": {
    "slideshow": {
     "slide_type": "fragment"
    }
   },
   "source": [
    "**Virrevandring** er å forflytte seg etter formelen\n",
    "\n",
    "$$\n",
    "    \\vec{r}_{n + 1} = \\vec{r}_n +  \\Delta \\vec{r}_{n+1},\n",
    "$$\n",
    "\n",
    "hvor **steglengden $\\Delta \\vec{r}_{n+1}$** er en **stokastisk variabel**."
   ]
  },
  {
   "cell_type": "markdown",
   "metadata": {
    "slideshow": {
     "slide_type": "fragment"
    }
   },
   "source": [
    "**Gjennomsnittlige egenskaper** til virrevandrere vil gå mot **teoretiske forventningsverdier** i takt med **størrelsen til populasjonen**."
   ]
  },
  {
   "cell_type": "markdown",
   "metadata": {
    "slideshow": {
     "slide_type": "fragment"
    }
   },
   "source": [
    "**Virrevandrere** kan brukes til å løse **diffusjonslikningen**."
   ]
  },
  {
   "cell_type": "markdown",
   "metadata": {
    "slideshow": {
     "slide_type": "notes"
    }
   },
   "source": [
    "Neste forelesning blir om Markovkjeder."
   ]
  }
 ],
 "metadata": {
  "celltoolbar": "Slideshow",
  "kernelspec": {
   "display_name": "Python 3 (ipykernel)",
   "language": "python",
   "name": "python3"
  },
  "language_info": {
   "codemirror_mode": {
    "name": "ipython",
    "version": 3
   },
   "file_extension": ".py",
   "mimetype": "text/x-python",
   "name": "python",
   "nbconvert_exporter": "python",
   "pygments_lexer": "ipython3",
   "version": "3.10.5"
  },
  "vscode": {
   "interpreter": {
    "hash": "190cafc93a7c2c49a6ea227d53366c310c32565680693c36f3a06dea9bb66b47"
   }
  }
 },
 "nbformat": 4,
 "nbformat_minor": 2
}
