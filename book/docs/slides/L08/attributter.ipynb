{
 "cells": [
  {
   "cell_type": "markdown",
   "metadata": {
    "slideshow": {
     "slide_type": "slide"
    }
   },
   "source": [
    "# Attributter i Python"
   ]
  },
  {
   "cell_type": "markdown",
   "metadata": {
    "slideshow": {
     "slide_type": "fragment"
    }
   },
   "source": [
    "**Attributter** er et begrep om klasser. Attributter er et samlebegrep for\n",
    "\n",
    "- **Metoder:** funksjoner som er en del av en klasse\n",
    "- **Datafelt:** variabler som er en del av en klasse"
   ]
  },
  {
   "cell_type": "markdown",
   "metadata": {
    "slideshow": {
     "slide_type": "slide"
    }
   },
   "source": [
    "**Identifiser** metoder, funksjoner, klasser, datafelt og instanser i koden under:"
   ]
  },
  {
   "cell_type": "code",
   "execution_count": null,
   "metadata": {},
   "outputs": [],
   "source": [
    "class Line:\n",
    "    def __init__(self, a, b=0):\n",
    "        self.a = a\n",
    "        self.b = b\n",
    "\n",
    "    def __call__(self, x):\n",
    "        return self.a*x + self.b\n",
    "\n",
    "    def root(self):\n",
    "        return -self.b/self.a\n",
    "\n",
    "\n",
    "def line(x, a, b=0):\n",
    "    return a*x + b\n",
    "\n",
    "c = 2 \n",
    "x0 = 10\n",
    "y = Line(c)\n",
    "print(f\"{y(x0) = } & {line(x0, c) = }.\")"
   ]
  },
  {
   "cell_type": "markdown",
   "metadata": {
    "slideshow": {
     "slide_type": "slide"
    }
   },
   "source": [
    "## *Private* attributter \n",
    "\n",
    "\n",
    "Både metoder og datafelt kan være *private*.\n",
    "\n",
    "- Private datafelt: `self._variable`\n",
    "- Private metoder: `_method_name(self, args)`"
   ]
  },
  {
   "cell_type": "markdown",
   "metadata": {
    "slideshow": {
     "slide_type": "notes"
    }
   },
   "source": [
    "I motsetning til andre programmeringsspråk har ikke Python *ekte* private variabler. Private datafelt og metoder *kan* brukes utenfor klassen, men da er det brukerens ansvar om noe går galt."
   ]
  },
  {
   "cell_type": "markdown",
   "metadata": {
    "slideshow": {
     "slide_type": "fragment"
    }
   },
   "source": [
    "### *Setters* og *getters* for private datafelt\n",
    "\n",
    "- `@property` - Metode som *oppfører seg* som datafelt\n",
    "- `@field.setter` - Metode som definerer følger av å oppdatere et datafelt"
   ]
  },
  {
   "cell_type": "markdown",
   "metadata": {
    "slideshow": {
     "slide_type": "slide"
    }
   },
   "source": [
    "**Kan du komme på noen grunner for å bruke private variabler?**"
   ]
  },
  {
   "cell_type": "code",
   "execution_count": null,
   "metadata": {},
   "outputs": [],
   "source": [
    "class SomeClass:\n",
    "    def __init__(self, field, private_field):\n",
    "        self.field = field\n",
    "        self._private_field = private_field\n",
    "        \n",
    "    @property\n",
    "    def private_field(self):\n",
    "        return self._private_field\n",
    "    \n",
    "    @private_field.setter\n",
    "    def private_field(self, new_private_field):\n",
    "        self._private_field = new_private_field\n",
    "        ...\n",
    "        \n",
    "    def method(self, args):\n",
    "        ...\n",
    "        \n",
    "    def _private_method(self, args):\n",
    "        ..."
   ]
  },
  {
   "cell_type": "markdown",
   "metadata": {
    "slideshow": {
     "slide_type": "slide"
    }
   },
   "source": [
    "## Datafelt\n",
    "\n",
    "Deles inn i to kategorier:\n",
    "- **Klassevariabler:** Felles for alle instanser av samme klasse og for klassen selv\n",
    "- **Instansvariabler:** Spesifikk for instans"
   ]
  },
  {
   "cell_type": "markdown",
   "metadata": {
    "slideshow": {
     "slide_type": "slide"
    }
   },
   "source": [
    "**Eksempel på klassevariabel og instansvariabel:**"
   ]
  },
  {
   "cell_type": "code",
   "execution_count": null,
   "metadata": {},
   "outputs": [],
   "source": [
    "class Counter:\n",
    "    count = 0 \n",
    "    \n",
    "    def __init__(self):\n",
    "        Counter.count += 1 \n",
    "        self.number = self.count       "
   ]
  },
  {
   "cell_type": "markdown",
   "metadata": {
    "slideshow": {
     "slide_type": "fragment"
    }
   },
   "source": [
    "- `count` er en **klassevariabel**, og kan hentes direkte fra *klassen* `Counter`:"
   ]
  },
  {
   "cell_type": "code",
   "execution_count": null,
   "metadata": {},
   "outputs": [],
   "source": [
    "print(f\"count is a class variable: {Counter.count}.\")  "
   ]
  },
  {
   "cell_type": "markdown",
   "metadata": {
    "slideshow": {
     "slide_type": "fragment"
    }
   },
   "source": [
    "- `number` er en **instansvariabel** og er kun definert for instanser av klassen: "
   ]
  },
  {
   "cell_type": "code",
   "execution_count": null,
   "metadata": {},
   "outputs": [],
   "source": [
    "print(f\"number is not a class variable: {Counter.number}.\")  "
   ]
  },
  {
   "cell_type": "markdown",
   "metadata": {
    "slideshow": {
     "slide_type": "slide"
    }
   },
   "source": [
    "### Overskriving og endringer av klassevariabler\n",
    "\n",
    "`__init__` endrer `count` ved `Counter.count += 1`.\n",
    "\n",
    "- Når en **klassevariabel endres, endres den for alle**"
   ]
  },
  {
   "cell_type": "code",
   "execution_count": null,
   "metadata": {},
   "outputs": [],
   "source": [
    "one = Counter()\n",
    "print(f\"count after one: {Counter.count} = {one.count}.\")\n",
    "two = Counter()\n",
    "print(f\"count after two: {Counter.count} = {one.count} = {two.count}.\")"
   ]
  },
  {
   "cell_type": "markdown",
   "metadata": {
    "slideshow": {
     "slide_type": "fragment"
    }
   },
   "source": [
    "- En **instansvariabel vil overskrive klassevariabler** med samme navn"
   ]
  },
  {
   "cell_type": "code",
   "execution_count": null,
   "metadata": {},
   "outputs": [],
   "source": [
    "two.count = 13\n",
    "print(f\"Class variable overwritten: {Counter.count} = {one.count} != {two.count}.\")"
   ]
  },
  {
   "cell_type": "markdown",
   "metadata": {
    "slideshow": {
     "slide_type": "notes"
    }
   },
   "source": [
    "Klassevariabelen forblir uendret når den blir overskrevet av en instansvariabel. Overskriving påvirker derfor kun den instansen det gjelder."
   ]
  },
  {
   "cell_type": "markdown",
   "metadata": {
    "slideshow": {
     "slide_type": "slide"
    }
   },
   "source": [
    "## Metoder\n",
    "\n",
    "Metoder er funksjoner som er del av en klasse. \n",
    "\n",
    "Vi skal gå gjennom:\n",
    "- **Magiske metoder**\n",
    "- **Statiske metoder**\n",
    "- **Klassemetoder**"
   ]
  },
  {
   "cell_type": "markdown",
   "metadata": {
    "slideshow": {
     "slide_type": "slide"
    }
   },
   "source": [
    "### Hva skjer egentlig når en metode kalles på?\n",
    "\n",
    "Si at vi har en instans av en gitt klasse:\n",
    "```Python\n",
    "instance = GenericClass()\n",
    "```"
   ]
  },
  {
   "cell_type": "markdown",
   "metadata": {
    "slideshow": {
     "slide_type": "fragment"
    }
   },
   "source": [
    "Og vi så kaller på en tilhørende metode:\n",
    "```Python\n",
    "instance.some_method(args)\n",
    "```"
   ]
  },
  {
   "cell_type": "markdown",
   "metadata": {
    "slideshow": {
     "slide_type": "fragment"
    }
   },
   "source": [
    "I bakgrunnen skjer da:\n",
    "```Python\n",
    "GenericClass.some_method(instance, args)\n",
    "```"
   ]
  },
  {
   "cell_type": "markdown",
   "metadata": {
    "slideshow": {
     "slide_type": "fragment"
    }
   },
   "source": [
    "Derfor bruker vi `self`!"
   ]
  },
  {
   "cell_type": "markdown",
   "metadata": {
    "slideshow": {
     "slide_type": "slide"
    }
   },
   "source": [
    "**`Cartesian` som eksempelklasse**: Implementasjon av kartesiske koordinater."
   ]
  },
  {
   "cell_type": "code",
   "execution_count": null,
   "metadata": {},
   "outputs": [],
   "source": [
    "%%writefile cartesian.py\n",
    "import math\n",
    "\n",
    "\n",
    "class Cartesian:\n",
    "    def __init__(self, x, y, z):\n",
    "        self.x = x\n",
    "        self.y = y\n",
    "        self.z = z\n",
    "\n",
    "    def length(self):\n",
    "        x, y, z = self.x, self.y, self.z\n",
    "        return math.sqrt(x*x + y*y + z*z)"
   ]
  },
  {
   "cell_type": "markdown",
   "metadata": {
    "slideshow": {
     "slide_type": "slide"
    }
   },
   "source": [
    "**Litt test-dreven utvikling:** Metodene vi implementerer skal defineres av testfunksjoner."
   ]
  },
  {
   "cell_type": "code",
   "execution_count": null,
   "metadata": {},
   "outputs": [],
   "source": [
    "%%writefile test_cartesian.py\n",
    "import math\n",
    "import pytest\n",
    "from cartesian import Cartesian\n",
    "\n",
    "ABS_TOL = 1e-9\n",
    "\n",
    "\n",
    "@pytest.mark.parametrize(\"x,y,z\", [(5, -2, 3), (1, 0, -1)])\n",
    "def test_fields(x, y, z):\n",
    "    u = Cartesian(x, y, z)\n",
    "    assert u.x == x\n",
    "    assert u.y == y\n",
    "    assert u.z == z\n",
    "\n",
    "\n",
    "@pytest.mark.parametrize(\"x,y,z,length\", [\n",
    "    (2, -2, 1, 3), \n",
    "    (3, 0, -4, 5)]\n",
    ")\n",
    "def test_length(x, y, z, length):\n",
    "    u = Cartesian(x, y, z)\n",
    "    assert math.isclose(u.length(), length, abs_tol=ABS_TOL)"
   ]
  },
  {
   "cell_type": "markdown",
   "metadata": {
    "slideshow": {
     "slide_type": "slide"
    }
   },
   "source": [
    "**Implementer `copy` i `Cartesian`:** Metode for å lage kopi av instansen.\n",
    "\n",
    "- `u.copy()` $\\to$ `Cartesian.copy(u)`"
   ]
  },
  {
   "cell_type": "code",
   "execution_count": null,
   "metadata": {},
   "outputs": [],
   "source": [
    "%%writefile --append test_cartesian.py\n",
    "\n",
    "\n",
    "@pytest.mark.parametrize(\"x,y,z\", [(13, 9, 13), (1, 5, -1)])\n",
    "def test_copy(x, y, z):\n",
    "    u = Cartesian(x, y, z)\n",
    "    v = u.copy()\n",
    "    assert v.x == x \n",
    "    assert v.y == y \n",
    "    assert v.z == z\n",
    "    assert v is not u"
   ]
  },
  {
   "cell_type": "markdown",
   "metadata": {
    "slideshow": {
     "slide_type": "slide"
    }
   },
   "source": [
    "**Hint:** Bruk av `type` har fordeler både hvis du endrer navn på klassen og ved arv.\n",
    "\n",
    "Funksjonen `type` brukes til å finne ut hvilken klasse et objekt tilhører:"
   ]
  },
  {
   "cell_type": "code",
   "execution_count": null,
   "metadata": {
    "slideshow": {
     "slide_type": "-"
    }
   },
   "outputs": [],
   "source": [
    "one_int = 1\n",
    "two_str = \"2\"\n",
    "print(f\"{type(one_int) = }\\n{type(two_str) = }\")"
   ]
  },
  {
   "cell_type": "markdown",
   "metadata": {
    "slideshow": {
     "slide_type": "fragment"
    }
   },
   "source": [
    "`type` kan også brukes til å lage et nytt objekt:"
   ]
  },
  {
   "cell_type": "code",
   "execution_count": null,
   "metadata": {
    "slideshow": {
     "slide_type": "-"
    }
   },
   "outputs": [],
   "source": [
    "two_int = type(one_int)(two_str)\n",
    "print(f\"{two_int = } is type {type(two_int)}\")"
   ]
  },
  {
   "cell_type": "markdown",
   "metadata": {
    "slideshow": {
     "slide_type": "notes"
    }
   },
   "source": [
    "En metode for å lage en kopi kan da se slik ut:"
   ]
  },
  {
   "cell_type": "code",
   "execution_count": null,
   "metadata": {
    "slideshow": {
     "slide_type": "notes"
    }
   },
   "outputs": [],
   "source": [
    "%%writefile --append cartesian.py\n",
    "\n",
    "    def copy(self):\n",
    "        return type(self)(self.x, self.y, self.z)"
   ]
  },
  {
   "cell_type": "markdown",
   "metadata": {
    "slideshow": {
     "slide_type": "slide"
    }
   },
   "source": [
    "**Implementer `dot` i `Cartesian`:** Metode for å regne ut dot-produkt.\n",
    "\n",
    "$$\n",
    "    u \\cdot v = u_x v_x + u_y v_y + u_z v_z\n",
    "$$\n",
    "\n",
    "- `u.dot(v)` $\\to$ `Cartesian.dot(u, v)`\n",
    "\n",
    "Konvensjon å bruke `self` ($u$) og `other` ($v$) i implementasjon av metoder!"
   ]
  },
  {
   "cell_type": "code",
   "execution_count": null,
   "metadata": {},
   "outputs": [],
   "source": [
    "%%writefile --append test_cartesian.py\n",
    "\n",
    "\n",
    "@pytest.mark.parametrize(\"r_u,r_v,c\", [\n",
    "    ((1, 1, 1), (2, 3, -5), 0),\n",
    "    ((1, 0, 0), (2, 3, -5), 2),\n",
    "    ((0, 1, 0), (2, 3, -5), 3),\n",
    "    ((0, 0, 1), (2, 3, -5), -5)]\n",
    ")\n",
    "def test_dot(r_u, r_v, c):\n",
    "    u = Cartesian(*r_u)\n",
    "    v = Cartesian(*r_v)\n",
    "    assert math.isclose(u.dot(v), c, abs_tol=ABS_TOL)"
   ]
  },
  {
   "cell_type": "markdown",
   "metadata": {
    "slideshow": {
     "slide_type": "notes"
    }
   },
   "source": [
    "Implementasjon av dot-produkt kan se slik ut:"
   ]
  },
  {
   "cell_type": "code",
   "execution_count": null,
   "metadata": {
    "slideshow": {
     "slide_type": "notes"
    }
   },
   "outputs": [],
   "source": [
    "%%writefile --append cartesian.py\n",
    "\n",
    "    def dot(self, other):\n",
    "        return self.x*other.x + self.y*other.y + self.z*other.z"
   ]
  },
  {
   "cell_type": "markdown",
   "metadata": {
    "slideshow": {
     "slide_type": "slide"
    }
   },
   "source": [
    "### Magiske metoder\n",
    "\n",
    "- Metoder med predefinert funksjon i Python\n",
    "- Har navn med to understreker foran og bak metodenavnet: `__<magic_method>__`\n",
    "- Kalles ikke på direkte. Eksempler:\n",
    "    - Innebygde funksjoner: `str()`, `len()`, osv.\n",
    "    - Binære operatorer: `+`, `%`, `==`, osv.\n",
    "    - Indeksering: `a[key]`\n",
    "\n",
    "Det finnes mange magiske metoder, [se oversikt](https://diveintopython3.net/special-method-names.html). Vi skal se på noen få av dem!"
   ]
  },
  {
   "cell_type": "markdown",
   "metadata": {
    "slideshow": {
     "slide_type": "slide"
    }
   },
   "source": [
    "**Implementer `__str__` i `Cartesian`:** Metode for bruk av `str()`.\n",
    "\n",
    "- `str(u)` $\\to$ `u.__str__()` $\\to$ `Cartesian.__str__(u)`\n",
    "\n",
    "Dette brukes automatisk i `print()`!"
   ]
  },
  {
   "cell_type": "markdown",
   "metadata": {
    "slideshow": {
     "slide_type": "notes"
    }
   },
   "source": [
    "En enkel implementasjon er gitt i cellen under."
   ]
  },
  {
   "cell_type": "code",
   "execution_count": null,
   "metadata": {
    "slideshow": {
     "slide_type": "notes"
    }
   },
   "outputs": [],
   "source": [
    "%%writefile --append cartesian.py\n",
    "\n",
    "    def __str__(self):\n",
    "        return f\"({self.x:g}, {self.y:g}, {self.z:g})\""
   ]
  },
  {
   "cell_type": "markdown",
   "metadata": {},
   "source": [
    "Kjør **etter** metoden er implementert:"
   ]
  },
  {
   "cell_type": "code",
   "execution_count": null,
   "metadata": {},
   "outputs": [],
   "source": [
    "from cartesian import Cartesian\n",
    "\n",
    "u = Cartesian(13, 42, 3.14)\n",
    "print(u)"
   ]
  },
  {
   "cell_type": "markdown",
   "metadata": {
    "slideshow": {
     "slide_type": "slide"
    }
   },
   "source": [
    "**Implementer `__repr__` i `Cartesian`:** Metode for bruk av `repr()`.\n",
    "\n",
    "- `repr(u)` $\\to$ `u.__repr__()` $\\to$ `Cartesian.__repr__(u)`\n",
    "\n",
    "Dette kan f.eks brukes til å lagre et objekt i en tekstfil. "
   ]
  },
  {
   "cell_type": "code",
   "execution_count": null,
   "metadata": {
    "slideshow": {
     "slide_type": "-"
    }
   },
   "outputs": [],
   "source": [
    "%%writefile --append test_cartesian.py\n",
    "\n",
    "\n",
    "@pytest.mark.parametrize(\"x,y,z\", [(42, -13, 0), (-2, 6, 4)])\n",
    "def test_repr(x, y, z):\n",
    "    u_repr = repr(Cartesian(x, y, z))\n",
    "    assert isinstance(u_repr, str)\n",
    "    v = eval(u_repr)\n",
    "    assert isinstance(v, Cartesian)\n",
    "    assert v.x == x \n",
    "    assert v.y == y \n",
    "    assert v.z == z"
   ]
  },
  {
   "cell_type": "markdown",
   "metadata": {
    "slideshow": {
     "slide_type": "-"
    }
   },
   "source": [
    "**Hint:** Bruk `type(instance).__name__`."
   ]
  },
  {
   "cell_type": "code",
   "execution_count": null,
   "metadata": {},
   "outputs": [],
   "source": [
    "print(f\"Difference between {type(2) = } and {type(2).__name__ = }.\")"
   ]
  },
  {
   "cell_type": "markdown",
   "metadata": {
    "slideshow": {
     "slide_type": "notes"
    }
   },
   "source": [
    "Da kan implementasjonen se slik ut:"
   ]
  },
  {
   "cell_type": "code",
   "execution_count": null,
   "metadata": {
    "slideshow": {
     "slide_type": "notes"
    }
   },
   "outputs": [],
   "source": [
    "%%writefile --append cartesian.py\n",
    "\n",
    "    def __repr__(self):\n",
    "        return f\"{type(self).__name__}({self.x}, {self.y}, {self.z})\""
   ]
  },
  {
   "cell_type": "markdown",
   "metadata": {
    "slideshow": {
     "slide_type": "slide"
    }
   },
   "source": [
    "#### Sammenligninger\n",
    "\n",
    "Magiske metoder for sammenligninger:\n",
    "- `__eq__(self, other)`: `a == b`\n",
    "- `__ne__(self, other)`: `a != b`\n",
    "- `__lt__(self, other)`: `a < b`\n",
    "- `__gt__(self, other)`: `a > b`\n",
    "- `__le__(self, other)`: `a <= b`\n",
    "- `__ge__(self, other)`: `a >= b`\n",
    "\n",
    "Hvor `a` er `self` og `b` er `other`."
   ]
  },
  {
   "cell_type": "markdown",
   "metadata": {
    "slideshow": {
     "slide_type": "slide"
    }
   },
   "source": [
    "**Implementer `__eq__` i `Cartesian`:** Metode for evaluering av `u == v`.\n",
    "\n",
    "- `u == v` $\\to$ `u.__eq__(v)` $\\to$ `Cartesian.__eq__(u, v)`\n",
    "\n",
    "Implementerer du alle magiske metoder for sammenligningene, kan man bruke innebygde `sort()` for å sortere lister som inneholder instanser av `Cartesian`."
   ]
  },
  {
   "cell_type": "code",
   "execution_count": null,
   "metadata": {},
   "outputs": [],
   "source": [
    "%%writefile --append test_cartesian.py\n",
    "\n",
    "\n",
    "@pytest.mark.parametrize(\"x,y,z\", [(1, 2, 3), (-1, 0, 1)])\n",
    "def test_eq_copy(x, y, z):\n",
    "    u = Cartesian(x, y, z)\n",
    "    v = u.copy()\n",
    "    assert u == v\n",
    "    assert u is not v \n",
    "\n",
    "@pytest.mark.parametrize(\"c\", [([1],), (1,), (\"1\",)])  \n",
    "def test_eq_raises_TypeError(c):\n",
    "    u = Cartesian(1, 0, -1)\n",
    "    with pytest.raises(TypeError):\n",
    "        u == c"
   ]
  },
  {
   "cell_type": "markdown",
   "metadata": {
    "slideshow": {
     "slide_type": "notes"
    }
   },
   "source": [
    "Dette kan f.eks se slik ut:"
   ]
  },
  {
   "cell_type": "code",
   "execution_count": null,
   "metadata": {
    "slideshow": {
     "slide_type": "notes"
    }
   },
   "outputs": [],
   "source": [
    "%%writefile --append cartesian.py\n",
    "\n",
    "    def __eq__(self, other):\n",
    "        if not isinstance(other, Cartesian):\n",
    "            msg = f\"Cannot compare {type(self).__name__} with {type(other).__name__}.\"\n",
    "            raise TypeError(msg)\n",
    "\n",
    "        return (self.x, self.y, self.z) == (other.x, other.y, other.z)"
   ]
  },
  {
   "cell_type": "markdown",
   "metadata": {
    "slideshow": {
     "slide_type": "slide"
    }
   },
   "source": [
    "#### Aritmetikk\n",
    "\n",
    "Noen eksempler på magiske metoder for matematikk:\n",
    "- `__add__(self, other)`: `a + b`\n",
    "- `__sub__(self, other)`: `a - b`\n",
    "- `__mul__(self, other)`: `a*b`\n",
    "- `__pow__(self, other)`: `a**b`\n",
    "- `__truediv__(self, other)`: `a/b`\n",
    "- `__floordiv__(self, other)`: `a//b`\n",
    "\n",
    "Hvor `a` er `self` og `b` er `other`."
   ]
  },
  {
   "cell_type": "markdown",
   "metadata": {
    "slideshow": {
     "slide_type": "slide"
    }
   },
   "source": [
    "**Implementer `__add__` i `Cartesian`:** Metode for evaluering av `u + v`.\n",
    "\n",
    "- `u + v` $\\to$ `u.__add__(v)` $\\to$ `Cartesian.__add__(u, v)`\n",
    "\n",
    "Hvis $w = u + v$, så er $w$ gitt av:\n",
    "$$\n",
    "    w_x = u_x + v_x, \\\\\n",
    "    w_y = u_y + v_y, \\\\\n",
    "    w_z = u_z + v_z.\n",
    "$$"
   ]
  },
  {
   "cell_type": "code",
   "execution_count": null,
   "metadata": {
    "slideshow": {
     "slide_type": "-"
    }
   },
   "outputs": [],
   "source": [
    "%%writefile --append test_cartesian.py\n",
    "\n",
    "\n",
    "@pytest.mark.parametrize(\"r_u,r_v,r_w\", [\n",
    "    ((1, 1, 1), (2, 3, -5), (3, 4, -4)),\n",
    "    ((1, -2, 3), (-2, 3, -5), (-1, 1, -2))]\n",
    ")\n",
    "def test_add(r_u, r_v, r_w):\n",
    "    u = Cartesian(*r_u) \n",
    "    v = Cartesian(*r_v)\n",
    "    w = Cartesian(*r_w)\n",
    "    assert (u + v) == w\n",
    "\n",
    "@pytest.mark.parametrize(\"c\", [(2,), (\"2\",), ([2],)])  \n",
    "def test_add_raises_TypeError(c):\n",
    "    u = Cartesian(1, 0, -1)\n",
    "    with pytest.raises(TypeError):\n",
    "        u + c"
   ]
  },
  {
   "cell_type": "markdown",
   "metadata": {
    "slideshow": {
     "slide_type": "notes"
    }
   },
   "source": [
    "Metoden er implementert i cellen under:"
   ]
  },
  {
   "cell_type": "code",
   "execution_count": null,
   "metadata": {
    "slideshow": {
     "slide_type": "notes"
    }
   },
   "outputs": [],
   "source": [
    "%%writefile --append cartesian.py\n",
    "\n",
    "    def __add__(self, other):\n",
    "        if not isinstance(other, Cartesian):\n",
    "            msg = f\"Cannot add {type(self).__name__} with {type(other).__name__}.\"\n",
    "            raise TypeError(msg)\n",
    "            \n",
    "        x = self.x + other.x\n",
    "        y = self.y + other.y\n",
    "        z = self.z + other.z\n",
    "        return Cartesian(x, y, z)"
   ]
  },
  {
   "cell_type": "markdown",
   "metadata": {
    "slideshow": {
     "slide_type": "slide"
    }
   },
   "source": [
    "**Implementer `__mul__` i `Cartesian`:** Metode for evaluering av `u*v`.\n",
    "\n",
    "- `u*v` $\\to$ `u.__mul__(v)` $\\to$ `Cartesian.__mul__(u, v)`\n",
    "\n",
    "Men la `u*v` være dot-produktet, $u \\cdot v$."
   ]
  },
  {
   "cell_type": "code",
   "execution_count": null,
   "metadata": {},
   "outputs": [],
   "source": [
    "%%writefile --append test_cartesian.py\n",
    "\n",
    "\n",
    "@pytest.mark.parametrize(\"r_u,r_v,c\", [\n",
    "    ((2, -4, 2), (1, 1, 1), 0),\n",
    "    ((8, -2, 3), (2, 3, -3), 1)]\n",
    ")\n",
    "def test_mul(r_u, r_v, c):\n",
    "    u = Cartesian(*r_u) \n",
    "    v = Cartesian(*r_v)\n",
    "    assert u*v == c\n",
    "\n",
    "@pytest.mark.parametrize(\"r_u,a,r_w\", [\n",
    "    ((1, 2, 3), 2, (2, 4, 6)),\n",
    "    ((1, -2, 3), -1, (-1, 2, -3))]\n",
    ")\n",
    "def test_mul_scalar(r_u, a, r_w):\n",
    "    u = Cartesian(*r_u) \n",
    "    w = Cartesian(*r_w)\n",
    "    assert u*a == w\n",
    "    assert a*u == w\n",
    "\n",
    "@pytest.mark.parametrize(\"c\", [(\"2\",), ([2],)])  \n",
    "def test_mul_raises_TypeError(c):\n",
    "    u = Cartesian(1, 0, -1)\n",
    "    with pytest.raises(TypeError):\n",
    "        u*c"
   ]
  },
  {
   "cell_type": "markdown",
   "metadata": {
    "slideshow": {
     "slide_type": "notes"
    }
   },
   "source": [
    "Implementasjonen kan da se ut som kodesnutten under. Én av testene vil likevel ikke passere. Kan du se hvorfor?"
   ]
  },
  {
   "cell_type": "code",
   "execution_count": null,
   "metadata": {
    "slideshow": {
     "slide_type": "notes"
    }
   },
   "outputs": [],
   "source": [
    "%%writefile --append cartesian.py\n",
    "\n",
    "    def __mul__(self, other):\n",
    "        \"\"\"Interpret u*v to be the dot product.\"\"\"\n",
    "        if isinstance(other, Cartesian):\n",
    "            return self.dot(other)\n",
    "        elif isinstance(other, (int, float)):\n",
    "            return Cartesian(self.x*other, self.y*other, self.z*other)\n",
    "        else:\n",
    "            msg = f\"Cannot multiply {type(self).__name__} with {type(other).__name__}.\"\n",
    "            raise TypeError(msg)"
   ]
  },
  {
   "cell_type": "markdown",
   "metadata": {
    "slideshow": {
     "slide_type": "slide"
    }
   },
   "source": [
    "#### Aritmetikk fra motsatt side\n",
    "\n",
    "Hvis aritmetikk-operatorer kaster et unntak, forsøkes det med *reflected* operatorer:\n",
    "- `__radd__(self, other)`: `b + a`\n",
    "- `__rsub__(self, other)`: `b - a`\n",
    "- `__rmul__(self, other)`: `b*a`\n",
    "- `__rtruediv__(self, other)`: `b/a`\n",
    "- `__rfloordiv__(self, other)`: `b//a`\n",
    "- `__rpow__(self, other)`: `b**a`\n",
    "\n",
    "Hvor `a` er `self` og `b` er `other`."
   ]
  },
  {
   "cell_type": "markdown",
   "metadata": {
    "slideshow": {
     "slide_type": "slide"
    }
   },
   "source": [
    "**Implementer `__rmul__` i `Cartesian`:** Metode for evaluering av `c*u`.\n",
    "\n",
    "- `c*u` $\\to$ `u.__rmul__(c)` $\\to$ `Cartesian.__rmul__(u, c)`\n"
   ]
  },
  {
   "cell_type": "markdown",
   "metadata": {
    "slideshow": {
     "slide_type": "notes"
    }
   },
   "source": [
    "En enkel løsning:"
   ]
  },
  {
   "cell_type": "code",
   "execution_count": null,
   "metadata": {
    "slideshow": {
     "slide_type": "notes"
    }
   },
   "outputs": [],
   "source": [
    "%%writefile --append cartesian.py\n",
    "\n",
    "    def __rmul__(self, other):\n",
    "        return self*other"
   ]
  },
  {
   "cell_type": "markdown",
   "metadata": {
    "slideshow": {
     "slide_type": "slide"
    }
   },
   "source": [
    "#### Aritmetikk som skjer *in-place*\n",
    "\n",
    "Noen eksempler:\n",
    "- `__iadd__(self, other)`: `a += b`\n",
    "- `__isub__(self, other)`: `a -= b`\n",
    "- `__imul__(self, other)`: `a *= b`\n",
    "- `__itruediv__(self, other)`: `a /= b`\n",
    "- `__ifloordiv__(self, other)`: `a //= b`\n",
    "- `__ipow__(self, other)`: `a **= b`\n",
    "\n",
    "Hvor `a` er `self` og `b` er `other`."
   ]
  },
  {
   "cell_type": "markdown",
   "metadata": {
    "slideshow": {
     "slide_type": "slide"
    }
   },
   "source": [
    "#### Andre magiske metoder\n",
    "\n",
    "Det finnes [mange andre magiske metoder](https://diveintopython3.net/special-method-names.html). Her er et lite utvalg til:\n",
    "\n",
    "- `__neg__(self)`: `-a`\n",
    "- `__iter__(self)`: `for x in a:`\n",
    "- `__len__`: `len(a)`\n",
    "- `__contains__(self, value)`: `value in a`\n",
    "- `__getitem__(self, key)`: `a[key]`\n",
    "- `__setitem__(self, key, value)`: `a[key] = value`\n",
    "\n",
    "Hvor `a` er `self`."
   ]
  },
  {
   "cell_type": "markdown",
   "metadata": {
    "slideshow": {
     "slide_type": "slide"
    }
   },
   "source": [
    "### Statiske metoder\n",
    "\n",
    "- Bruker dekorator: `@staticmethod`\n",
    "- Statiske metoder **avhenger verken av klassen eller instansen**\n",
    "- Hvis du trenger `self` eller `cls` er dette **ikke** en statisk metode\n",
    "- Brukes når metoden *passer inn* i en klasse\n",
    "\n",
    "```Python\n",
    "class SomeClass:\n",
    "    @staticmethod\n",
    "    def static_method(args):\n",
    "         ...\n",
    "```\n",
    "\n",
    "Statiske metoder kan brukes uten å opprette en instans: `SomeClass.static_method(args)`"
   ]
  },
  {
   "cell_type": "markdown",
   "metadata": {
    "slideshow": {
     "slide_type": "slide"
    }
   },
   "source": [
    "**Implementer statisk metode i `Cartesian`:** `spherical_to_cartesian(r, theta, phi) -> (x, y z)` \n",
    "\n",
    "Kulekoordinater er gitt av avstanden $r$, den polare vinkelen $\\theta \\in [0, \\pi]$ og azimutal vinkel $\\varphi \\in [0, 2\\pi]$$. Oversatt til kartesisk koordinatsystem:\n",
    "\n",
    "$$\n",
    "x = r\\sin(\\theta)\\cos(\\varphi), \\\\\n",
    "y = r\\sin(\\theta)\\sin(\\varphi), \\\\\n",
    "z = r\\cos(\\theta).\n",
    "$$"
   ]
  },
  {
   "cell_type": "code",
   "execution_count": null,
   "metadata": {},
   "outputs": [],
   "source": [
    "%%writefile --append test_cartesian.py\n",
    "\n",
    "\n",
    "@pytest.mark.parametrize(\"spherical,cartesian\", [\n",
    "    ((-1, 0, 1), (0, 0, -1)),\n",
    "    ((2, math.pi/4, math.pi), (-math.sqrt(2), 0, math.sqrt(2)))]\n",
    ")\n",
    "def test_spherical_to_cartesian(spherical, cartesian):\n",
    "    r, theta, phi = spherical\n",
    "    x, y, z = Cartesian.spherical_to_cartesian(r, theta, phi)\n",
    "    assert math.isclose(x, cartesian[0], abs_tol=ABS_TOL)\n",
    "    assert math.isclose(y, cartesian[1], abs_tol=ABS_TOL)\n",
    "    assert math.isclose(z, cartesian[2], abs_tol=ABS_TOL)\n",
    "    "
   ]
  },
  {
   "cell_type": "markdown",
   "metadata": {
    "slideshow": {
     "slide_type": "notes"
    }
   },
   "source": [
    "Her er da den statiske metoden:"
   ]
  },
  {
   "cell_type": "code",
   "execution_count": null,
   "metadata": {
    "slideshow": {
     "slide_type": "notes"
    }
   },
   "outputs": [],
   "source": [
    "%%writefile --append cartesian.py\n",
    "  \n",
    "    @staticmethod\n",
    "    def spherical_to_cartesian(r, theta, phi):\n",
    "        x = r*math.sin(theta)*math.cos(phi)\n",
    "        y = r*math.sin(theta)*math.sin(phi)\n",
    "        z = r*math.cos(theta)\n",
    "        return (x, y, z)"
   ]
  },
  {
   "cell_type": "markdown",
   "metadata": {
    "slideshow": {
     "slide_type": "slide"
    }
   },
   "source": [
    "### Klassemetoder\n",
    "\n",
    "- Bruker dekorator: `@classmethod`\n",
    "- Brukes når **metoden avhenger av klassen**, men ikke av instansen\n",
    "- Hvis du trenger `self`, skal dette **ikke** være en klassemetode\n",
    "- Klassemetoder bruker `cls` som første argument\n",
    "\n",
    "```Python\n",
    "class SomeClass:\n",
    "    @classmethod\n",
    "    def class_method(cls, args):\n",
    "        ...\n",
    "```\n",
    "Klassemetoder kan brukes uten å opprette en instans: `SomeClass.class_method(args)`"
   ]
  },
  {
   "cell_type": "markdown",
   "metadata": {
    "slideshow": {
     "slide_type": "slide"
    }
   },
   "source": [
    "#### *Factory*-metoder\n",
    "\n",
    "*Factory* er en klassemetode som gir en alternativ måte å opprette en instans på.\n",
    "\n",
    "```Python\n",
    "class SomeClass:\n",
    "    def __init__(self, args):\n",
    "        ...\n",
    "        \n",
    "    @classmethod\n",
    "    def factory(cls, factory_args):\n",
    "        # convert factory args to suitable arguments for init\n",
    "        args = ...\n",
    "        return cls(args)\n",
    "```"
   ]
  },
  {
   "cell_type": "markdown",
   "metadata": {
    "slideshow": {
     "slide_type": "slide"
    }
   },
   "source": [
    "**Implementer factory-metode til `Cartesian`:** Opprett instans basert på kulekoordinater.\n",
    "\n",
    "- `Cartesian.from_spherical(r, theta, phi)` $\\to$ `Cartesian.from_spherical(Cartesian, r, theta, phi)`"
   ]
  },
  {
   "cell_type": "code",
   "execution_count": null,
   "metadata": {},
   "outputs": [],
   "source": [
    "%%writefile --append test_cartesian.py\n",
    "\n",
    "\n",
    "@pytest.mark.parametrize(\"spherical,cartesian\", [\n",
    "    ((42, math.pi, 13), (0, 0, -42)),\n",
    "    ((-2, math.pi/4, math.pi), (math.sqrt(2), 0, -math.sqrt(2)))]\n",
    ")\n",
    "def test_factory(spherical, cartesian):\n",
    "    u = Cartesian.from_spherical(*spherical)\n",
    "    v = Cartesian(*cartesian)\n",
    "    assert math.isclose(u.x, v.x, abs_tol=ABS_TOL)\n",
    "    assert math.isclose(u.y, v.y, abs_tol=ABS_TOL)\n",
    "    assert math.isclose(u.z, v.z, abs_tol=ABS_TOL)"
   ]
  },
  {
   "cell_type": "markdown",
   "metadata": {
    "slideshow": {
     "slide_type": "notes"
    }
   },
   "source": [
    "Factory-metode til `Cartesian` ser da slik ut:"
   ]
  },
  {
   "cell_type": "code",
   "execution_count": null,
   "metadata": {
    "slideshow": {
     "slide_type": "notes"
    }
   },
   "outputs": [],
   "source": [
    "%%writefile --append cartesian.py\n",
    "\n",
    "    @classmethod\n",
    "    def from_spherical(cls, r, theta, phi):\n",
    "        x, y, z = cls.spherical_to_cartesian(r, theta, phi)\n",
    "        return cls(x, y, z)"
   ]
  },
  {
   "cell_type": "markdown",
   "metadata": {
    "slideshow": {
     "slide_type": "slide"
    }
   },
   "source": [
    "## Attributter i Python\n",
    "\n",
    "Vi har snakket om:\n",
    "- **Datafelt**\n",
    "    - Instansvariabler\n",
    "    - Klassevariabler\n",
    "- **Metoder**\n",
    "    - *normale* metoder\n",
    "    - Magiske metoder\n",
    "    - Klassemetoder\n",
    "    - Statiske metoder\n",
    "    \n",
    "Samt **private** attributter."
   ]
  }
 ],
 "metadata": {
  "celltoolbar": "Slideshow",
  "kernelspec": {
   "display_name": "Python 3 (ipykernel)",
   "language": "python",
   "name": "python3"
  },
  "language_info": {
   "codemirror_mode": {
    "name": "ipython",
    "version": 3
   },
   "file_extension": ".py",
   "mimetype": "text/x-python",
   "name": "python",
   "nbconvert_exporter": "python",
   "pygments_lexer": "ipython3",
   "version": "3.10.5"
  },
  "vscode": {
   "interpreter": {
    "hash": "190cafc93a7c2c49a6ea227d53366c310c32565680693c36f3a06dea9bb66b47"
   }
  }
 },
 "nbformat": 4,
 "nbformat_minor": 2
}
