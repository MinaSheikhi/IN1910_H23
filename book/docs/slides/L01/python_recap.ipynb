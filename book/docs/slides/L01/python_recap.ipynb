{
 "cells": [
  {
   "cell_type": "markdown",
   "metadata": {
    "slideshow": {
     "slide_type": "slide"
    }
   },
   "source": [
    "# Kort Python oppsummering"
   ]
  },
  {
   "cell_type": "markdown",
   "metadata": {
    "slideshow": {
     "slide_type": "slide"
    }
   },
   "source": [
    "## Litt historie\n",
    "\n",
    "* Utviklet på 1980 tallet av Guido van Rossum \n",
    "* I dag er python det mest populære programmeringsspråket (mye takket være data science)\n",
    "* Navnet kommer fra den britiske komediegruppen Monty Python\n",
    "     - Kodeeksempler i Python bruker derfor ofte `spam` og `eggs`\n",
    "\n",
    "![-](figures/monty_python.jpg)"
   ]
  },
  {
   "cell_type": "markdown",
   "metadata": {
    "slideshow": {
     "slide_type": "slide"
    }
   },
   "source": [
    "## Datatyper i Python\n",
    "\n",
    "Vær bevisst på hvilke datatyper du jobber med. Noen eksempler:\n",
    "\n",
    "* De primitive datatypene: `int`, `float`, `str` og `bool`\n",
    "    * Vær bevisst på hvordan aritmetikk i Python påvirker datatypen\n",
    "* Kjente typer sekvenser og lister: `list`, `tuple`, `set` og `dict`"
   ]
  },
  {
   "cell_type": "code",
   "execution_count": null,
   "metadata": {
    "slideshow": {
     "slide_type": "-"
    }
   },
   "outputs": [],
   "source": [
    "var = 2\n",
    "print(f\"type({var}) = {type(var)}\")"
   ]
  },
  {
   "cell_type": "markdown",
   "metadata": {
    "slideshow": {
     "slide_type": "notes"
    }
   },
   "source": [
    "Det kan være nyttig å teste småkoder som dette for å se om din forståelse er riktig! "
   ]
  },
  {
   "cell_type": "markdown",
   "metadata": {
    "slideshow": {
     "slide_type": "slide"
    }
   },
   "source": [
    "### Immutable vs mutable objekter\n",
    "\n",
    "\n",
    "* Immutable: `bool`, `int`, `float`, `str`, `tuple`, `set`\n",
    "* Mutable: `list`, `dict`\n",
    "\n",
    "\n",
    "Hvofor ønsker vi at objekter skal være immutable / mutable (uforanderlige / foranderlige)?"
   ]
  },
  {
   "cell_type": "code",
   "execution_count": null,
   "metadata": {
    "slideshow": {
     "slide_type": "-"
    }
   },
   "outputs": [],
   "source": [
    "a = [1, 2, 3]\n",
    "\n",
    "print(f\"{a = }\")\n",
    "\n",
    "# Change value\n",
    "print(\"Change first value to zero.\")\n",
    "a[0] = 0\n",
    "print(f\"{a = }\")"
   ]
  },
  {
   "cell_type": "markdown",
   "metadata": {
    "slideshow": {
     "slide_type": "notes"
    }
   },
   "source": [
    "Test koden over med `a` som `list` og som `tuple`."
   ]
  },
  {
   "cell_type": "markdown",
   "metadata": {
    "slideshow": {
     "slide_type": "slide"
    }
   },
   "source": [
    "## Funksjoner\n",
    "\n",
    "- Funksjoner er en samling av kommandoer\n",
    "- Kan ha null, én eller flere argument\n",
    "- Legg til docstring : det skal være tydelig hva funksjonen gjør\n",
    "\n",
    "\n",
    "Noen som ser hvorfor jeg bruker //2 og ikke /2 her?"
   ]
  },
  {
   "cell_type": "code",
   "execution_count": 2,
   "metadata": {},
   "outputs": [
    {
     "name": "stdout",
     "output_type": "stream",
     "text": [
      "The middle element of my list: 3\n"
     ]
    }
   ],
   "source": [
    "def get_middle(a):\n",
    "    \"\"\" Get middle element of list.\"\"\"\n",
    "    idx = len(a)//2\n",
    "    middle = a[idx]\n",
    "    return middle\n",
    "    \n",
    "my_list = [10, 3, 4]\n",
    "print(f\"The middle element of my list: {get_middle(my_list)}\")"
   ]
  },
  {
   "cell_type": "markdown",
   "metadata": {
    "slideshow": {
     "slide_type": "slide"
    }
   },
   "source": [
    "## `if`-tester\n",
    "\n",
    "* `if`: betingelse testes alltid\n",
    "* `elif`: betingelse testes hvis `if` og eventuelle `elif` over var `False`\n",
    "* `else`: slår ut om alle betingelsene over var `False`"
   ]
  },
  {
   "cell_type": "code",
   "execution_count": null,
   "metadata": {},
   "outputs": [],
   "source": [
    "x = 0\n",
    "large_number = 42\n",
    "\n",
    "if x == 0:\n",
    "    print(\"x is zero\")\n",
    "elif x >= large_number:\n",
    "    print(\"x is a large positive number\")\n",
    "elif x > 0:\n",
    "    print(\"a is positive\")\n",
    "elif x >= 2*large_number:\n",
    "    # Dette kan ikke skje. Kan du se hvorfor?\n",
    "    pass \n",
    "else:\n",
    "    print(\"x is negative\")"
   ]
  },
  {
   "cell_type": "markdown",
   "metadata": {
    "slideshow": {
     "slide_type": "notes"
    }
   },
   "source": [
    "Du kan endre tallverdi på `x` og sjekk om koden printer det du forventet."
   ]
  },
  {
   "cell_type": "markdown",
   "metadata": {
    "slideshow": {
     "slide_type": "slide"
    }
   },
   "source": [
    "### `if`-tester til randbetingelser\n",
    "\n",
    "Koden under vil ikke kjøre. Hvordan kan vi fikse dette?\n",
    "    "
   ]
  },
  {
   "cell_type": "code",
   "execution_count": null,
   "metadata": {
    "slideshow": {
     "slide_type": "-"
    }
   },
   "outputs": [],
   "source": [
    "def get_middle(a):\n",
    "    \"\"\" Get middle element of list. \"\"\"\n",
    "    idx = len(a)//2\n",
    "    middle = a[idx]\n",
    "    return middle\n",
    "    \n",
    "my_list = []\n",
    "print(f\"The middle element of my list: {get_middle(my_list)}\") "
   ]
  },
  {
   "cell_type": "markdown",
   "metadata": {
    "slideshow": {
     "slide_type": "slide"
    }
   },
   "source": [
    "## Plotting og import\n",
    "La oss plotte\n",
    "\n",
    "$$ \n",
    "    x = \\theta\\cos(\\theta)\\sin(9 \\theta), \\\\\n",
    "    y = \\theta\\sin(\\theta)\\sin(9 \\theta),\n",
    "$$\n",
    "\n",
    "for $\\theta \\in [0, 8\\pi].$\n",
    "\n",
    "Tips til valg av farger: https://en.wikipedia.org/wiki/Web_colors"
   ]
  },
  {
   "cell_type": "code",
   "execution_count": null,
   "metadata": {},
   "outputs": [],
   "source": []
  },
  {
   "cell_type": "markdown",
   "metadata": {
    "slideshow": {
     "slide_type": "slide"
    }
   },
   "source": [
    "## Løkker\n",
    "\n",
    "- Det finnes mange måter å iterere over en liste\n",
    "    - `for i in range(len(a)):` \n",
    "    - `for x in a:`\n",
    "    - `for i, x in enumerate(a):`\n",
    "    - `for x, y in zip(a, b):` \n",
    "- Vektoriser i numpy når du kan!\n"
   ]
  },
  {
   "cell_type": "markdown",
   "metadata": {
    "slideshow": {
     "slide_type": "slide"
    }
   },
   "source": [
    "### Demo: Iterere gjennom dictionaries"
   ]
  },
  {
   "cell_type": "code",
   "execution_count": null,
   "metadata": {},
   "outputs": [],
   "source": [
    "år = {\"sommer\": [\"Juni\", \"Juli\", \"August\"],\n",
    "      \"høst\"  : [\"September\", \"Oktober\", \"November\"],\n",
    "      \"vinter\": [\"Desember\", \"Januar\", \"Februar\"],\n",
    "      \"vår\"   : [\"Mars\", \"April\", \"Mai\"]}"
   ]
  },
  {
   "cell_type": "markdown",
   "metadata": {
    "slideshow": {
     "slide_type": "slide"
    }
   },
   "source": [
    "### Demo: finn partall i liste "
   ]
  },
  {
   "cell_type": "code",
   "execution_count": null,
   "metadata": {},
   "outputs": [],
   "source": [
    "def is_even(x):\n",
    "    \"\"\" Evaluate if a number is even.\n",
    "    \n",
    "    Parameters\n",
    "    ----------\n",
    "    x : int\n",
    "    \n",
    "    Returns\n",
    "    -------\n",
    "    bool\n",
    "        True if input is an even number, False otherwise.\n",
    "\n",
    "    \"\"\"\n",
    "    pass\n",
    "\n",
    "\n",
    "def even(a):\n",
    "    \"\"\" Extract even numbers from a list.\n",
    "    \n",
    "    Parameters\n",
    "    ----------\n",
    "    a : list of int\n",
    "    \n",
    "    Returns\n",
    "    -------\n",
    "    list of int\n",
    "        List containing all even numbers from the input list.\n",
    "    \"\"\"\n",
    "    pass\n",
    "    "
   ]
  },
  {
   "cell_type": "markdown",
   "metadata": {
    "slideshow": {
     "slide_type": "slide"
    }
   },
   "source": [
    "## Ordinære differensiallikninger\n",
    "\n",
    "Vi skal løse\n",
    "\n",
    "$$\n",
    "  f'(x) = \\frac{1}{\\sqrt{1 - x^2}}\\\\\n",
    "$$\n",
    "\n",
    "på intervallet $x \\in [-1, 1)$. Initialbetingelsen er $f(-1) = -\\pi/2$.\n",
    "\n",
    "Vi skal bruke formelen til Backward Euler:\n",
    "\n",
    "$$\n",
    "    f_{n + 1} = f_n + \\Delta x f_{n+1}' .\n",
    "$$\n",
    "\n",
    "\n",
    "\n",
    "Vi vet at den eksakte løsningen her er $f(x) = \\arcsin(t)$. "
   ]
  },
  {
   "cell_type": "code",
   "execution_count": null,
   "metadata": {},
   "outputs": [],
   "source": [
    "import matplotlib.pyplot as plt \n",
    "import numpy as np \n",
    "\n",
    "dx = 0.01 \n",
    "\n",
    "# set up arrays \n",
    "# N = ?\n",
    "\n",
    "# initial condition & derivative\n",
    "\n",
    "# solve \n",
    "\n",
    "# plot \n",
    "\n",
    "#print(f\"{dx = } and {N = }.\")"
   ]
  },
  {
   "cell_type": "markdown",
   "metadata": {
    "slideshow": {
     "slide_type": "slide"
    }
   },
   "source": [
    "\n",
    "\n",
    "## Debugging\n",
    "\n",
    "Når dere skriver kode vil dere komme til å få feilmeldinger og da er lurt å ha noen strategier på hvordan man skal finne ut hva som er galt\n",
    "\n",
    "1. Les feilmeldingen nøye\n",
    "    - feilmeldingen gir informasjon om både hva og hvor feilen er\n",
    "2. Spør google\n",
    "    - Skriv inn hele feilmeldingen i google \n",
    "3. Lurer du på hva en funksjon gjør for noe, åpne ipython, skriv inn funksjonen og deretter ? eller ??\n",
    "    ```\n",
    "    import numpy as np\n",
    "    np.linspace?\n",
    "    np.linspace??\n",
    "    ```\n",
    "4. Bruk en debugger\n",
    "    - `breakpoint()` (Python 3.7 >=)\n",
    "    - `import pdb; pdb.set_trace()`  (Python 3.6 <=)\n",
    "    - `import IPython; IPython.embed()`  \n",
    "5. Print variabler"
   ]
  }
 ],
 "metadata": {
  "celltoolbar": "Slideshow",
  "kernelspec": {
   "display_name": "Python 3 (ipykernel)",
   "language": "python",
   "name": "python3"
  },
  "language_info": {
   "codemirror_mode": {
    "name": "ipython",
    "version": 3
   },
   "file_extension": ".py",
   "mimetype": "text/x-python",
   "name": "python",
   "nbconvert_exporter": "python",
   "pygments_lexer": "ipython3",
   "version": "3.10.5"
  }
 },
 "nbformat": 4,
 "nbformat_minor": 2
}
