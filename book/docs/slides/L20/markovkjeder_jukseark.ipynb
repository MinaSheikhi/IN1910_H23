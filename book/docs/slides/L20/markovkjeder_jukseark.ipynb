{
 "cells": [
  {
   "cell_type": "markdown",
   "id": "caa78cfa",
   "metadata": {},
   "source": [
    "# Markovkjeder\n",
    "\n",
    "**Spør hva de er vandt med, og bytt til neste år om de gjør motsatt!!**"
   ]
  },
  {
   "cell_type": "code",
   "execution_count": null,
   "id": "369df2e9",
   "metadata": {},
   "outputs": [],
   "source": [
    "def test_stochastic_matrix(M, tol=1e-12):\n",
    "    for j in range(len(M)):\n",
    "        assert abs(np.sum(M[:,j]) - 1) < tol, f\"column {j} does not sum up to 1.\""
   ]
  },
  {
   "cell_type": "code",
   "execution_count": null,
   "id": "2b3cab1a",
   "metadata": {},
   "outputs": [],
   "source": [
    "def markov_chain(p0, M, N):\n",
    "    p = np.zeros((N, len(p0)))\n",
    "    p[0] = p0\n",
    "    for n in range(N-1):\n",
    "        p[n+1] = M@p[n]\n",
    "    return p"
   ]
  },
  {
   "cell_type": "markdown",
   "id": "c618d11c",
   "metadata": {},
   "source": [
    "## Random Walk"
   ]
  },
  {
   "cell_type": "code",
   "execution_count": null,
   "id": "fb77405a",
   "metadata": {},
   "outputs": [],
   "source": [
    "# left edge\n",
    "Mx[0][0] = 0.5\n",
    "Mx[1][0] = 0.5\n",
    "\n",
    "# right edge\n",
    "Mx[-2][-1] = 0.5\n",
    "Mx[-1][-1] = 0.5\n",
    "\n",
    "# middle part\n",
    "for i in range(1, Sx-1):\n",
    "    Mx[i-1][i] = 0.5\n",
    "    Mx[i+1][i] = 0.5"
   ]
  },
  {
   "cell_type": "code",
   "execution_count": null,
   "id": "f443b0df",
   "metadata": {},
   "outputs": [],
   "source": [
    "p0 = np.zeros(Sx)\n",
    "p0[x0 - x_min] = 1"
   ]
  },
  {
   "cell_type": "code",
   "execution_count": null,
   "id": "b1d3775f",
   "metadata": {},
   "outputs": [],
   "source": [
    "for n in range(Nx-1):\n",
    "    x[n+1] = x[n] + np.random.choice([-1, 1], size=walkers)\n",
    "    x[n+1][x[n+1] < x_min] = x_min\n",
    "    x[n+1][x[n+1] > x_max] = x_max"
   ]
  },
  {
   "cell_type": "markdown",
   "id": "534e546d",
   "metadata": {},
   "source": [
    "## Ehrenfest eksperimentet"
   ]
  },
  {
   "cell_type": "code",
   "execution_count": null,
   "id": "fcd0055a",
   "metadata": {},
   "outputs": [],
   "source": [
    "def ehrenfest(u0, B, N):\n",
    "    U = np.zeros(N, dtype=int)\n",
    "    U[0] = u0\n",
    "    for n in range(N-1):\n",
    "        ball = np.random.randint(B)\n",
    "        if ball < U[n]:  \n",
    "            U[n+1] = U[n] - 1\n",
    "        else:\n",
    "            U[n+1] = U[n] + 1\n",
    "    return U"
   ]
  },
  {
   "cell_type": "code",
   "execution_count": null,
   "id": "44c1e026",
   "metadata": {},
   "outputs": [],
   "source": [
    "M_E[1, 0] = 1\n",
    "M_E[B-1, B] = 1\n",
    "for i in range(1, B):\n",
    "    M_E[i-1, i] = i/B\n",
    "    M_E[i+1, i] = 1 - i/B"
   ]
  },
  {
   "cell_type": "markdown",
   "id": "9c892667",
   "metadata": {},
   "source": [
    "## Reaksjonskinetikk"
   ]
  },
  {
   "cell_type": "markdown",
   "id": "9016d905",
   "metadata": {},
   "source": [
    "### Første-ordens reaksjon"
   ]
  },
  {
   "cell_type": "code",
   "execution_count": null,
   "id": "81e15c59",
   "metadata": {},
   "outputs": [],
   "source": [
    "M[0, 0] = 1 - k1\n",
    "M[1, 0] = k1\n",
    "M[1, 1] = 1"
   ]
  },
  {
   "cell_type": "code",
   "execution_count": null,
   "id": "4ad03e5b",
   "metadata": {},
   "outputs": [],
   "source": [
    "for n in range(Nt_1-1):\n",
    "    A[n+1] = A[n]\n",
    "    B[n+1] = B[n]\n",
    "    for molecule in range(A[n]):\n",
    "        if np.random.random() < k1:\n",
    "            A[n+1] -= 1\n",
    "            B[n+1] += 1"
   ]
  },
  {
   "cell_type": "markdown",
   "id": "334c1ec0",
   "metadata": {},
   "source": [
    "### Konkurrerende reaksjoner"
   ]
  },
  {
   "cell_type": "code",
   "execution_count": null,
   "id": "23c1103a",
   "metadata": {},
   "outputs": [],
   "source": [
    "M[0, 0] = 1 - k1 - k2\n",
    "M[1, 0] = k1\n",
    "M[1, 1] = 1\n",
    "M[2, 0] = k2\n",
    "M[2, 2] = 1"
   ]
  },
  {
   "cell_type": "code",
   "execution_count": null,
   "id": "ed8afc47",
   "metadata": {},
   "outputs": [],
   "source": [
    "ABC = [\"A\", \"B\", \"C\"]\n",
    "prob = [1 - k1 - k2, k1, k2]\n",
    "for n in range(Nt_1 - 1):\n",
    "    X = np.random.choice(ABC, p=prob, size=A[n])\n",
    "    A[n+1] = np.sum(X == \"A\")\n",
    "    B[n+1] = B[n] + np.sum(X == \"B\")\n",
    "    C[n+1] = C[n] + np.sum(X == \"C\")"
   ]
  },
  {
   "cell_type": "markdown",
   "id": "4261e9a8",
   "metadata": {},
   "source": [
    "### Rekker med reaksjoner"
   ]
  },
  {
   "cell_type": "code",
   "execution_count": null,
   "id": "41b19c92",
   "metadata": {},
   "outputs": [],
   "source": [
    "M[0, 0] = 1 - k1\n",
    "M[1, 0] = k1\n",
    "M[1, 1] = 1 - k2\n",
    "M[2, 1] = k2\n",
    "M[2, 2] = 1"
   ]
  },
  {
   "cell_type": "code",
   "execution_count": null,
   "id": "f3d11879",
   "metadata": {},
   "outputs": [],
   "source": [
    "for n in range(Nt_2-1):\n",
    "    rA = np.random.random(A[n])\n",
    "    rB = np.random.random(B[n])\n",
    "    A_to_B = np.sum(rA < k1)\n",
    "    B_to_C = np.sum(rB < k2)\n",
    "    A[n+1] = A[n] - A_to_B\n",
    "    B[n+1] = B[n] + A_to_B - B_to_C\n",
    "    C[n+1] = C[n] + B_to_C"
   ]
  },
  {
   "cell_type": "markdown",
   "id": "523449e5",
   "metadata": {},
   "source": [
    "### Reaksjoner med likevekt"
   ]
  },
  {
   "cell_type": "code",
   "execution_count": null,
   "id": "202756af",
   "metadata": {},
   "outputs": [],
   "source": [
    "M[0, 0] = 1 - k1\n",
    "M[0, 1] = k_1\n",
    "M[1, 0] = k1\n",
    "M[1, 1] = 1 - k2 - k_1\n",
    "M[2, 1] = k2\n",
    "M[2, 2] = 1"
   ]
  },
  {
   "cell_type": "code",
   "execution_count": null,
   "id": "9a5f4086",
   "metadata": {},
   "outputs": [],
   "source": [
    "for n in range(Nt_2-1):\n",
    "    pA = np.random.random(A[n])\n",
    "    pB = np.random.random(B[n])\n",
    "    A_to_B = np.sum(pA < k1)\n",
    "    B_to_C = np.sum(pB < k2)\n",
    "    B_to_A = np.sum(pB < (k_1 + k2)) - B_to_C\n",
    "    A[n+1] = A[n] - A_to_B + B_to_A\n",
    "    B[n+1] = B[n] + A_to_B - B_to_A - B_to_C\n",
    "    C[n+1] = C[n] + B_to_C"
   ]
  }
 ],
 "metadata": {
  "kernelspec": {
   "display_name": "Python 3 (ipykernel)",
   "language": "python",
   "name": "python3"
  },
  "language_info": {
   "codemirror_mode": {
    "name": "ipython",
    "version": 3
   },
   "file_extension": ".py",
   "mimetype": "text/x-python",
   "name": "python",
   "nbconvert_exporter": "python",
   "pygments_lexer": "ipython3",
   "version": "3.10.5"
  }
 },
 "nbformat": 4,
 "nbformat_minor": 5
}
