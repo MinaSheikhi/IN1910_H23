{
 "cells": [
  {
   "cell_type": "markdown",
   "metadata": {
    "slideshow": {
     "slide_type": "slide"
    }
   },
   "source": [
    "# Markovkjeder\n",
    "\n",
    "![](figures/markov_chain.png)"
   ]
  },
  {
   "cell_type": "markdown",
   "metadata": {
    "slideshow": {
     "slide_type": "fragment"
    }
   },
   "source": [
    "- Beskriver et system som kan være i **forskjellige tilstander**.\n",
    "- **Overgangen** mellom to tilstander er gitt ved en **viss sannsynlighet**.\n",
    "- Har **ingen hukommelse**."
   ]
  },
  {
   "cell_type": "markdown",
   "metadata": {
    "slideshow": {
     "slide_type": "-"
    }
   },
   "source": [
    "Vi skal fokusere på Markovkjeder som er diskret."
   ]
  },
  {
   "cell_type": "markdown",
   "metadata": {
    "slideshow": {
     "slide_type": "notes"
    }
   },
   "source": [
    "I Markovkjeden i figuren over er det tre tilstander, A, B og C. Hvis du er i tilstand A er det 60 % sannsynlig at du forblir i tilstand A, og 40 % sannsynlighet for at du går over til tilstand B. Hvilken tilstand systemet går til i neste tidssteg avhenger kun av nåværende tilstand."
   ]
  },
  {
   "cell_type": "markdown",
   "metadata": {
    "slideshow": {
     "slide_type": "slide"
    }
   },
   "source": [
    "## Stokastiske matriser\n",
    "\n",
    "Elementene i en stokastisk matrise $\\mathbf{M}$ er gitt ved\n",
    "\n",
    "$$\n",
    "    M_{i j} = P(i | j),\n",
    "$$\n",
    "\n",
    "hvor $P(i | j)$ gir sannsynligheten for overgangen *fra* tilstand $j$ *til* tilstand $i$."
   ]
  },
  {
   "cell_type": "markdown",
   "metadata": {
    "slideshow": {
     "slide_type": "slide"
    }
   },
   "source": [
    "**Summen til sannsynlighetene** til alle overganger *fra* tilstand $j$ må bli 1:\n",
    "\n",
    "$$\n",
    "    \\sum_{i} M_{i j} = 1 .\n",
    "$$\n"
   ]
  },
  {
   "cell_type": "code",
   "execution_count": null,
   "metadata": {},
   "outputs": [],
   "source": [
    "import numpy as np\n",
    "\n",
    "def test_stochastic_matrix(M, tol=1e-9): \n",
    "    ..."
   ]
  },
  {
   "cell_type": "markdown",
   "metadata": {
    "slideshow": {
     "slide_type": "notes"
    }
   },
   "source": [
    "Enkelt eksempel på implementasjon av testfunksjonen:"
   ]
  },
  {
   "cell_type": "code",
   "execution_count": null,
   "metadata": {
    "slideshow": {
     "slide_type": "notes"
    }
   },
   "outputs": [],
   "source": [
    "def test_stochastic_matrix(M, tol=1e-9):\n",
    "    for j in range(len(M)):\n",
    "        assert abs(np.sum(M[:,j]) - 1) < tol, f\"column {j} does not sum up to 1.\""
   ]
  },
  {
   "cell_type": "markdown",
   "metadata": {
    "slideshow": {
     "slide_type": "slide"
    }
   },
   "source": [
    "### Sannsynlighetsfordeling \n",
    "\n",
    "Gitt at $\\mathbf{p}^n$ er sannsynlighetsfordelingen  til alle tilstandene ved tidssteg $n$. Da må summen over alle tilstandene være\n",
    "\n",
    "$$\n",
    "    \\sum_i p^n_i = 1 .\n",
    "$$\n"
   ]
  },
  {
   "cell_type": "markdown",
   "metadata": {
    "slideshow": {
     "slide_type": "slide"
    }
   },
   "source": [
    "Sannsynlighetsfordelingen i **neste tidssteg** finner man da ved\n",
    "\n",
    "$$\n",
    "    \\mathbf{p}^{n+1}=  \\mathbf{M}\\mathbf{p}^n ,\n",
    "$$\n",
    "\n",
    "gitt en starttilstand $\\mathbf{p}^0$."
   ]
  },
  {
   "cell_type": "code",
   "execution_count": null,
   "metadata": {},
   "outputs": [],
   "source": [
    "def markov_chain(p0, M, N):\n",
    "    p = np.zeros((N, len(p0)))\n",
    "    ...\n",
    "    return p"
   ]
  },
  {
   "cell_type": "markdown",
   "metadata": {
    "slideshow": {
     "slide_type": "notes"
    }
   },
   "source": [
    "Forslag til implementasjon:"
   ]
  },
  {
   "cell_type": "code",
   "execution_count": null,
   "metadata": {
    "slideshow": {
     "slide_type": "notes"
    }
   },
   "outputs": [],
   "source": [
    "def markov_chain(p0, M, N):\n",
    "    p = np.zeros((N, len(p0)))\n",
    "    p[0] = p0\n",
    "    for n in range(N-1):\n",
    "        p[n+1] = M@p[n]\n",
    "    return p"
   ]
  },
  {
   "cell_type": "markdown",
   "metadata": {
    "slideshow": {
     "slide_type": "slide"
    }
   },
   "source": [
    "**Hvordan ser den stokastiske matrisen ut for Markovkjeden i figuren under?**\n",
    "\n",
    "![](figures/markov_chain.png)\n",
    "\n",
    "$$\n",
    "    \\mathbf{M} = \n",
    "    \\begin{bmatrix}\n",
    "        P(A|A) & P(A|B) & P(A|C)\\\\\n",
    "        P(B|A) & P(B|B) & P(B|C)\\\\\n",
    "        P(C|A) & P(C|B) & P(C|C)\n",
    "    \\end{bmatrix} .\n",
    "$$\n",
    "\n",
    "Husk at $P(i | j)$ gir sannsynligheten for overgangen *fra* tilstand $j$ *til* tilstand $i$."
   ]
  },
  {
   "cell_type": "markdown",
   "metadata": {
    "slideshow": {
     "slide_type": "slide"
    }
   },
   "source": [
    "**Løsning:** Sannsynlighetsfordelingen mellom A, B og C i neste tidssteg:\n",
    "\n",
    "$$\n",
    "    \\begin{bmatrix}\n",
    "        p^{n+1}_\\text{A} \\\\\n",
    "        p^{n+1}_\\text{B} \\\\\n",
    "        p^{n+1}_\\text{C}\n",
    "    \\end{bmatrix}\n",
    "    = \n",
    "    \\begin{bmatrix}\n",
    "        0.6 & 0.2 & 0\\\\\n",
    "        0.4 &  0  & 0.1\\\\\n",
    "         0  & 0.8 & 0.9\n",
    "    \\end{bmatrix}\n",
    "    \\begin{bmatrix}\n",
    "        p^n_\\text{A} \\\\\n",
    "        p^n_\\text{B} \\\\\n",
    "        p^n_\\text{C}\n",
    "    \\end{bmatrix} .\n",
    "$$\n",
    "\n",
    "![](figures/markov_chain.png)"
   ]
  },
  {
   "cell_type": "markdown",
   "metadata": {
    "slideshow": {
     "slide_type": "slide"
    }
   },
   "source": [
    "### Steady states\n",
    "\n",
    "En steady state er egenvektoren til den stokastiske matrisen\n",
    "\n",
    "$$\n",
    "    \\mathbf{p}^\\infty = \\mathbf{M}\\mathbf{p}^\\infty ,\n",
    "$$\n",
    "\n",
    "med egenverdi 1. "
   ]
  },
  {
   "cell_type": "markdown",
   "metadata": {
    "slideshow": {
     "slide_type": "fragment"
    }
   },
   "source": [
    "Hvis man ved tid $n_\\infty$ er kommet til en steady state, så vil systemet forbli i likevekt for alle senere tidssteg\n",
    "\n",
    "$$\n",
    "    \\mathbf{p}^{n_\\infty + n} = \\mathbf{p}^\\infty .\n",
    "$$\n",
    "\n",
    "**Kan brukes for å studere systemer i likevekt.**"
   ]
  },
  {
   "cell_type": "markdown",
   "metadata": {
    "slideshow": {
     "slide_type": "slide"
    }
   },
   "source": [
    "## Monte Carlo simulering av Markovkjeder\n"
   ]
  },
  {
   "cell_type": "markdown",
   "metadata": {
    "slideshow": {
     "slide_type": "fragment"
    }
   },
   "source": [
    "1. **Bestem starttilstand $X^0$ og antall punkter i tid, $N$**."
   ]
  },
  {
   "cell_type": "markdown",
   "metadata": {
    "slideshow": {
     "slide_type": "fragment"
    }
   },
   "source": [
    "2. For hvert tidssteg $n \\in [0, N)$, **bestem neste tilstand $X^{n+1}$ *tilfeldig***. Valg av tilstand må ta hensyn til sannsynlighetene."
   ]
  },
  {
   "cell_type": "markdown",
   "metadata": {
    "slideshow": {
     "slide_type": "fragment"
    }
   },
   "source": [
    "3. **Regn ut** de interessante **egenskapene**."
   ]
  },
  {
   "cell_type": "markdown",
   "metadata": {
    "slideshow": {
     "slide_type": "fragment"
    }
   },
   "source": [
    "4. **Gjenta forsøket** (2. og 3.) mange ganger. De store talls lov gjelder!"
   ]
  },
  {
   "cell_type": "markdown",
   "metadata": {
    "slideshow": {
     "slide_type": "fragment"
    }
   },
   "source": [
    "5. **Regn ut gjennomsnittet** til de interessante egenskapene."
   ]
  },
  {
   "cell_type": "markdown",
   "metadata": {
    "slideshow": {
     "slide_type": "slide"
    }
   },
   "source": [
    "### Steady states\n",
    "\n",
    "Man kan også bruke Monte Carlo simuleringer til å studere systemer i likevekt.\n",
    "\n",
    "Dette kan gjøres ved å studere tetthetsfordeligen $\\rho(t_n)$ over tid. \n",
    "\n",
    "Når $\\rho$ stabiliserer seg, er systemet i likevekt."
   ]
  },
  {
   "cell_type": "markdown",
   "metadata": {
    "slideshow": {
     "slide_type": "slide"
    }
   },
   "source": [
    "## Virrevandring\n",
    "\n",
    "Simulering av gange langs en linje $x_n \\in [x_\\text{min}, x_\\text{max}]$ etter\n",
    "\n",
    "$$\n",
    "    x_{n} = x_{n - 1} + \\Delta x_{n},\n",
    "$$\n",
    "\n",
    "gitt et utgangspunkt $x_0$ og *stokastisk* steglengde $\\Delta x_{n} = \\pm 1$. \n",
    "\n",
    "![](figures/1D_walk.png)"
   ]
  },
  {
   "cell_type": "code",
   "execution_count": null,
   "metadata": {},
   "outputs": [],
   "source": [
    "x_min = -15\n",
    "x_max = 15\n",
    "x_states = np.arange(x_min, x_max+1)\n",
    "print(x_states)"
   ]
  },
  {
   "cell_type": "markdown",
   "metadata": {
    "slideshow": {
     "slide_type": "slide"
    }
   },
   "source": [
    "### Stokastisk matrise\n",
    "\n",
    "Når vandreren er på en ende av linjen, vil vandreren ha 50 % sjanse for å forbli på enden, og 50 % sjanse for å flytte seg ett steg mot sentrum. "
   ]
  },
  {
   "cell_type": "code",
   "execution_count": null,
   "metadata": {},
   "outputs": [],
   "source": [
    "Sx = len(x_states)\n",
    "Mx = np.zeros((Sx, Sx))\n",
    "..."
   ]
  },
  {
   "cell_type": "markdown",
   "metadata": {
    "slideshow": {
     "slide_type": "notes"
    }
   },
   "source": [
    "Den stokastiske matrisen vil ha elementer\n",
    "\n",
    "$$\n",
    "    M_{i-1, i} = 0.5, \\\\\n",
    "    M_{i+1, i} = 0.5,\n",
    "$$\n",
    "\n",
    "for $i = 2, 3, ... , S - 1$. På venstre ende $M_{1, 1} = M_{2, 1} = 0.5$ og høyre ende $M_{S-1, S} = M_{S, S} = 0.5$"
   ]
  },
  {
   "cell_type": "code",
   "execution_count": null,
   "metadata": {
    "slideshow": {
     "slide_type": "notes"
    }
   },
   "outputs": [],
   "source": [
    "# left edge\n",
    "Mx[0][0] = 0.5\n",
    "Mx[1][0] = 0.5\n",
    "\n",
    "# right edge\n",
    "Mx[-2][-1] = 0.5\n",
    "Mx[-1][-1] = 0.5\n",
    "\n",
    "# middle part\n",
    "for i in range(1, Sx-1):\n",
    "    Mx[i-1][i] = 0.5\n",
    "    Mx[i+1][i] = 0.5"
   ]
  },
  {
   "cell_type": "markdown",
   "metadata": {
    "slideshow": {
     "slide_type": "fragment"
    }
   },
   "source": [
    "Bilde av den stokastiske matrisen:"
   ]
  },
  {
   "cell_type": "code",
   "execution_count": null,
   "metadata": {
    "slideshow": {
     "slide_type": "-"
    }
   },
   "outputs": [],
   "source": [
    "%matplotlib inline\n",
    "import plotting\n",
    "\n",
    "plotting.transitions(Mx, 'Random Walk', step=2)\n",
    "test_stochastic_matrix(Mx)"
   ]
  },
  {
   "cell_type": "markdown",
   "metadata": {
    "slideshow": {
     "slide_type": "slide"
    }
   },
   "source": [
    "**Sannsynlighet over tid:** Når $x_0 = 0$."
   ]
  },
  {
   "cell_type": "code",
   "execution_count": null,
   "metadata": {},
   "outputs": [],
   "source": [
    "x0 = 0\n",
    "Nx = 75\n",
    "p0 = np.zeros(Sx)\n",
    "...\n",
    "px = markov_chain(p0, Mx, Nx)\n",
    "plotting.states(px, x_states, r\"$x$\", step=5)"
   ]
  },
  {
   "cell_type": "markdown",
   "metadata": {
    "slideshow": {
     "slide_type": "notes"
    }
   },
   "source": [
    "En verdi for $x$ vil ha tilstand $i = x - x_\\text{min} + 1$ i *matematisk* kontekst. I programmering begynner vi på indeks null. Vi kan finne indeksen `i` til tilstand `x` ved `i = x - x_min`. (Hvis $x = x_\\text{min}$, så får vi `i = 0`)."
   ]
  },
  {
   "cell_type": "code",
   "execution_count": null,
   "metadata": {
    "slideshow": {
     "slide_type": "notes"
    }
   },
   "outputs": [],
   "source": [
    "p0 = np.zeros(Sx)\n",
    "p0[x0 - x_min] = 1\n",
    "px = markov_chain(p0, Mx, Nx)\n",
    "plotting.states(px, x_states, r\"$x$\", step=5)"
   ]
  },
  {
   "cell_type": "markdown",
   "metadata": {
    "slideshow": {
     "slide_type": "slide"
    }
   },
   "source": [
    "**Monte Carlo simulering:** med en god del vandrere."
   ]
  },
  {
   "cell_type": "code",
   "execution_count": null,
   "metadata": {},
   "outputs": [],
   "source": [
    "walkers = 100_000\n",
    "x = np.zeros((Nx, walkers), dtype=int)\n",
    "x[0, :] = x0 \n",
    "..."
   ]
  },
  {
   "cell_type": "code",
   "execution_count": null,
   "metadata": {
    "scrolled": false,
    "slideshow": {
     "slide_type": "notes"
    }
   },
   "outputs": [],
   "source": [
    "for n in range(Nx-1):\n",
    "    x[n+1] = x[n] + np.random.choice([-1, 1], size=walkers)\n",
    "    x[n+1][x[n+1] < x_min] = x_min\n",
    "    x[n+1][x[n+1] > x_max] = x_max"
   ]
  },
  {
   "cell_type": "markdown",
   "metadata": {
    "slideshow": {
     "slide_type": "fragment"
    }
   },
   "source": [
    "Tettheten som funksjon av tid ved bruk av histogram:"
   ]
  },
  {
   "cell_type": "code",
   "execution_count": null,
   "metadata": {},
   "outputs": [],
   "source": [
    "rho_x = np.zeros((Nx, Sx))\n",
    "for n in range(Nx):\n",
    "    rho_x[n], _ = np.histogram(x[n], bins=Sx, range=(x_min, x_max+1), density=True)\n",
    "    \n",
    "plotting.states(rho_x, x_states, r\"$x$\", step=5)"
   ]
  },
  {
   "cell_type": "markdown",
   "metadata": {
    "slideshow": {
     "slide_type": "slide"
    }
   },
   "source": [
    "## Ehrenfest-eksperimentet\n",
    "\n",
    "Du har to urner med totalt $B$ baller fordelt mellom dem.\n",
    "\n",
    "I hvert tidsteg flyttes én tilfeldig ball fra den ene urnen til den andre."
   ]
  },
  {
   "cell_type": "code",
   "execution_count": null,
   "metadata": {},
   "outputs": [],
   "source": [
    "B = 20    # total number of balls\n",
    "u0 = 0    # initial number of balls"
   ]
  },
  {
   "cell_type": "markdown",
   "metadata": {
    "slideshow": {
     "slide_type": "notes"
    }
   },
   "source": [
    "![](figures/ehrenfest.png)"
   ]
  },
  {
   "cell_type": "markdown",
   "metadata": {
    "slideshow": {
     "slide_type": "slide"
    }
   },
   "source": [
    "### Stokastisk matrise\n",
    "\n",
    "Sett opp en stokastisk matrise for Ehrenfest-eksperimentet. "
   ]
  },
  {
   "cell_type": "code",
   "execution_count": null,
   "metadata": {},
   "outputs": [],
   "source": [
    "M_E = np.zeros((B+1, B+1))\n",
    "..."
   ]
  },
  {
   "cell_type": "markdown",
   "metadata": {
    "slideshow": {
     "slide_type": "notes"
    }
   },
   "source": [
    "Det er $S = B + 1$ tilstander. Tilstand nummer $i$ har $i - 1$ baller.\n",
    "\n",
    "Hvis du $0$ baller, er det $100 \\, \\%$ sannsynlig at du vil ha én ball i neste tidssteg. Hvis du har $B$ baller, er det $100 \\, \\%$ sannsynlighet for at du har $B-1$ baller i neste tidssteg. Kantene til den stokastiske matrisen blir da\n",
    "\n",
    "$$\n",
    "    M_{2, 1} = 1, \\\\\n",
    "    M_{S-1, S} = 1.\n",
    "$$\n",
    "\n",
    "\n",
    "Hvis urnen har $u$ baller så er sannsynligheten $\\frac{u}{B}$ for å flytte en ball vekk fra urnen, men det er $1 - \\frac{u}{B}$ sannsynlighet for å flytte en ball til urnen. Den stokastiske matrisen får da elementer\n",
    "\n",
    "$$\n",
    "    M_{i, i+1} =  \\frac{i}{B} ,\\\\\n",
    "    M_{i+2, i+1} =  \\frac{B - i}{B},\n",
    "$$\n",
    "\n",
    "for $i = 2, 3, ..., B$. \n",
    "\n",
    "Husk at indeksene har i programmering begynner på $0$!"
   ]
  },
  {
   "cell_type": "code",
   "execution_count": null,
   "metadata": {
    "slideshow": {
     "slide_type": "notes"
    }
   },
   "outputs": [],
   "source": [
    "M_E[1, 0] = 1\n",
    "M_E[B-1, B] = 1\n",
    "for i in range(1, B):\n",
    "    M_E[i-1, i] = i/B\n",
    "    M_E[i+1, i] = 1 - i/B"
   ]
  },
  {
   "cell_type": "markdown",
   "metadata": {
    "slideshow": {
     "slide_type": "fragment"
    }
   },
   "source": [
    "Bilde av den stokastiske matrisen:"
   ]
  },
  {
   "cell_type": "code",
   "execution_count": null,
   "metadata": {},
   "outputs": [],
   "source": [
    "plotting.transitions(M_E, 'Ehrenfest', step=2)\n",
    "test_stochastic_matrix(M_E)"
   ]
  },
  {
   "cell_type": "markdown",
   "metadata": {
    "slideshow": {
     "slide_type": "slide"
    }
   },
   "source": [
    "**Sannsynlighet over tid:** når vi begynner med $u_0 = 0$ antall baller i urnen.\n",
    "\n",
    "Når vi en steady state?"
   ]
  },
  {
   "cell_type": "code",
   "execution_count": null,
   "metadata": {},
   "outputs": [],
   "source": [
    "N_E = 50\n",
    "p0 = np.zeros(B+1)\n",
    "p0[u0] = 1\n",
    "p_E = markov_chain(p0, M_E, N_E)\n",
    "plotting.states(p_E, np.arange(B+1), r\"Number of balls\")"
   ]
  },
  {
   "cell_type": "markdown",
   "metadata": {
    "slideshow": {
     "slide_type": "notes"
    }
   },
   "source": [
    "Vi kan se på figuren at sannsynlighetsfordelingen oscillerer mellom to tilstander."
   ]
  },
  {
   "cell_type": "markdown",
   "metadata": {
    "slideshow": {
     "slide_type": "slide"
    }
   },
   "source": [
    "**Funksjon for ett stokastisk eksperiment:**"
   ]
  },
  {
   "cell_type": "code",
   "execution_count": null,
   "metadata": {},
   "outputs": [],
   "source": [
    "def ehrenfest(u0, B, N):\n",
    "    U = np.zeros(N, dtype=int)\n",
    "    U[0] = u0\n",
    "    ...\n",
    "    return U"
   ]
  },
  {
   "cell_type": "markdown",
   "metadata": {
    "slideshow": {
     "slide_type": "notes"
    }
   },
   "source": [
    "Forslag til implementasjon ligger i kodecellen under."
   ]
  },
  {
   "cell_type": "code",
   "execution_count": null,
   "metadata": {
    "slideshow": {
     "slide_type": "notes"
    }
   },
   "outputs": [],
   "source": [
    "def ehrenfest(u0, B, N):\n",
    "    U = np.zeros(N, dtype=int)\n",
    "    U[0] = u0\n",
    "    for n in range(N-1):\n",
    "        ball = np.random.randint(B)\n",
    "        if ball < U[n]:  \n",
    "            U[n+1] = U[n] - 1\n",
    "        else:\n",
    "            U[n+1] = U[n] + 1\n",
    "    return U"
   ]
  },
  {
   "cell_type": "markdown",
   "metadata": {},
   "source": [
    "Kjør cellen under for å utføre et stokastisk forsøk med $N = 15$ tidssteg."
   ]
  },
  {
   "cell_type": "code",
   "execution_count": null,
   "metadata": {},
   "outputs": [],
   "source": [
    "u = ehrenfest(u0, B, 15)\n",
    "print(u)"
   ]
  },
  {
   "cell_type": "markdown",
   "metadata": {
    "slideshow": {
     "slide_type": "slide"
    }
   },
   "source": [
    "**Monte Carlo simulering:** "
   ]
  },
  {
   "cell_type": "code",
   "execution_count": null,
   "metadata": {},
   "outputs": [],
   "source": [
    "mc_cycles = 10_000\n",
    "U = np.zeros((N_E, mc_cycles))\n",
    "for cycle in range(mc_cycles):\n",
    "    U[:, cycle] = ehrenfest(u0, B, N_E)"
   ]
  },
  {
   "cell_type": "markdown",
   "metadata": {
    "slideshow": {
     "slide_type": "fragment"
    }
   },
   "source": [
    "Tettheten som funksjon av tid ved bruk av histogram:"
   ]
  },
  {
   "cell_type": "code",
   "execution_count": null,
   "metadata": {},
   "outputs": [],
   "source": [
    "rho_E = np.zeros((N_E, B+1))\n",
    "for n in range(N_E):\n",
    "    rho_E[n], _ = np.histogram(U[n], bins=B+1, range=(0, B+1), density=True)\n",
    "plotting.states(rho_E, np.arange(B+1), r\"Number of balls\")"
   ]
  },
  {
   "cell_type": "markdown",
   "metadata": {
    "slideshow": {
     "slide_type": "slide"
    }
   },
   "source": [
    "## Reaksjonskinetikk\n",
    "\n",
    "\n",
    "Vi skal studere reaksjoner med stoffene $\\text{A}$, $\\text{B}$ og $\\text{C}$. \n",
    "\n",
    "Reaksjonshastigheten er gitt av reaksjonshastighetskonstanter, $k$. (Enheter gitt i molekyl per tidssteg).\n",
    "\n",
    "Alle forsøkene begynner med kun $\\text{A}$-molekyler, og ingen molekyler av typen $\\text{B}$ eller $\\text{C}$."
   ]
  },
  {
   "cell_type": "code",
   "execution_count": null,
   "metadata": {},
   "outputs": [],
   "source": [
    "import kinetics # Analytical solutions\n",
    "\n",
    "# kinetic rates\n",
    "k1 = 0.1\n",
    "k_1 = 0.025\n",
    "k2 = 0.05\n",
    "\n",
    "# time steps\n",
    "Nt_1 = 50\n",
    "Nt_2 = 150\n",
    "\n",
    "# Number of molecules\n",
    "N = 10_000"
   ]
  },
  {
   "cell_type": "markdown",
   "metadata": {},
   "source": [
    "Idé hentet fra [Rabinovitch](https://pubs-acs-org.ezproxy.uio.no/doi/10.1021/ed046p262)\n",
    "og [Miguel og Formosinho](https://pubs-acs-org.ezproxy.uio.no/doi/abs/10.1021/ed056p582)."
   ]
  },
  {
   "cell_type": "markdown",
   "metadata": {
    "slideshow": {
     "slide_type": "slide"
    }
   },
   "source": [
    "### Første-ordens reaksjon\n",
    "\n",
    "\n",
    "$$\n",
    "    \\text{A} \\xrightarrow{k_1} \\text{B}\n",
    "$$"
   ]
  },
  {
   "cell_type": "markdown",
   "metadata": {
    "slideshow": {
     "slide_type": "fragment"
    }
   },
   "source": [
    "**Stokastisk matrise:** "
   ]
  },
  {
   "cell_type": "code",
   "execution_count": null,
   "metadata": {
    "slideshow": {
     "slide_type": "-"
    }
   },
   "outputs": [],
   "source": [
    "M = np.zeros((2, 2))\n",
    "...\n",
    "\n",
    "p0 = np.array([1, 0]) \n",
    "p = markov_chain(p0, M, Nt_1)\n",
    "kinetics.plot(p, kinetics.first_order(k1), r\"Markov Chain: A $\\to$ B\")\n",
    "test_stochastic_matrix(M)"
   ]
  },
  {
   "cell_type": "markdown",
   "metadata": {
    "slideshow": {
     "slide_type": "notes"
    }
   },
   "source": [
    "Den stokastiske matrisen til reaksjonen $\\text{A} \\xrightarrow{k_1} \\text{B}$ er gitt ved\n",
    "\n",
    "$$\n",
    "    \\mathbf{M} = \n",
    "    \\begin{bmatrix}\n",
    "        1 - k_1 &  0  \\\\\n",
    "         k_1    &  1\n",
    "    \\end{bmatrix} .\n",
    "$$"
   ]
  },
  {
   "cell_type": "markdown",
   "metadata": {
    "slideshow": {
     "slide_type": "slide"
    }
   },
   "source": [
    "**Monte Carlo simulering:** $\\text{A} \\xrightarrow{k_1} \\text{B}$."
   ]
  },
  {
   "cell_type": "code",
   "execution_count": null,
   "metadata": {},
   "outputs": [],
   "source": [
    "A = np.zeros(Nt_1, dtype=int)\n",
    "B = np.zeros(Nt_1, dtype=int)\n",
    "A[0] = N\n",
    "...\n",
    "\n",
    "c = np.array([A, B]).T\n",
    "kinetics.plot(c/N, kinetics.first_order(k1), r\"Monte Carlo: A $\\to$ B\")"
   ]
  },
  {
   "cell_type": "markdown",
   "metadata": {
    "slideshow": {
     "slide_type": "notes"
    }
   },
   "source": [
    "I cellen under ligger en enkel implementasjon. I hvert tidssteg itererer vi gjennom alle $\\text{A}$-molekylene. Hvert $\\text{A}$-molekyl trekker et tilfeldig tall på intervallet $[0, 1)$. Hvis  tallet er innenfor intervallet $[0, k_1]$, så vil $\\text{A}$-molekylet bli til et $\\text{B}$-molekyl. "
   ]
  },
  {
   "cell_type": "code",
   "execution_count": null,
   "metadata": {
    "scrolled": false,
    "slideshow": {
     "slide_type": "notes"
    }
   },
   "outputs": [],
   "source": [
    "A = np.zeros(Nt_1, dtype=int)\n",
    "B = np.zeros(Nt_1, dtype=int)\n",
    "A[0] = N\n",
    "for n in range(Nt_1-1):\n",
    "    A[n+1] = A[n]\n",
    "    B[n+1] = B[n]\n",
    "    for molecule in range(A[n]):\n",
    "        if np.random.random() < k1:\n",
    "            A[n+1] -= 1\n",
    "            B[n+1] += 1\n",
    "\n",
    "c = np.array([A, B]).T\n",
    "kinetics.plot(c/N, kinetics.first_order(k1), r\"Monte Carlo: A $\\to$ B\")"
   ]
  },
  {
   "cell_type": "markdown",
   "metadata": {
    "slideshow": {
     "slide_type": "slide"
    }
   },
   "source": [
    "### Konkurrerende reaksjoner\n",
    "\n",
    "$$\n",
    "    \\text{A} \\xrightarrow{k_1} \\text{B} \\\\\n",
    "    \\text{A} \\xrightarrow{k_2} \\text{C}\n",
    "$$"
   ]
  },
  {
   "cell_type": "markdown",
   "metadata": {
    "slideshow": {
     "slide_type": "fragment"
    }
   },
   "source": [
    "**Stokastisk matrise:** "
   ]
  },
  {
   "cell_type": "code",
   "execution_count": null,
   "metadata": {
    "slideshow": {
     "slide_type": "-"
    }
   },
   "outputs": [],
   "source": [
    "M = np.zeros((3, 3))\n",
    "...\n",
    "\n",
    "p0 = np.array([1, 0, 0])\n",
    "p = markov_chain(p0, M, Nt_1)\n",
    "kinetics.plot(p, kinetics.competing(k1, k2), r\"Markov Chain: A $\\to$ B & A $\\to$ C\")\n",
    "test_stochastic_matrix(M)"
   ]
  },
  {
   "cell_type": "markdown",
   "metadata": {
    "slideshow": {
     "slide_type": "notes"
    }
   },
   "source": [
    "Den stokastiske matrisen til reaksjonene $\\text{A} \\xrightarrow{k_1} \\text{B}$ og $\\text{A} \\xrightarrow{k_2} \\text{C}$ er gitt ved\n",
    "\n",
    "$$\n",
    "    \\mathbf{M} = \n",
    "    \\begin{bmatrix}\n",
    "        1 - k_1 + k_2 &  0 & 0  \\\\\n",
    "         k_1    &  1 & 0 \\\\\n",
    "         k_2 & 0 & 1\n",
    "    \\end{bmatrix} .\n",
    "$$\n"
   ]
  },
  {
   "cell_type": "markdown",
   "metadata": {
    "slideshow": {
     "slide_type": "slide"
    }
   },
   "source": [
    "**Monte Carlo simulering:** $\\text{A} \\xrightarrow{k_1} \\text{B}$ og $\\text{A} \\xrightarrow{k_2} \\text{C}$."
   ]
  },
  {
   "cell_type": "code",
   "execution_count": null,
   "metadata": {},
   "outputs": [],
   "source": [
    "A = np.zeros(Nt_1, dtype=int)\n",
    "B = np.zeros(Nt_1, dtype=int)\n",
    "C = np.zeros(Nt_1, dtype=int)\n",
    "A[0] = N\n",
    "...\n",
    "            \n",
    "c = np.array([A, B, C]).T\n",
    "kinetics.plot(c/N, kinetics.competing(k1, k2), r\"Monte Carlo: A $\\to$ B & A $\\to$ C\")"
   ]
  },
  {
   "cell_type": "markdown",
   "metadata": {
    "slideshow": {
     "slide_type": "notes"
    }
   },
   "source": [
    "Implementasjonen i cellen under bruker `numpy.random.choice`, som er vektorisert i hvert tidssteg. $\\text{A}$ har tre muligheter: forbli et $\\text{A}$-molekyl, bli til et $\\text{B}$-molekyl eller $\\text{C}$-molekyl. I hvert tidssteg, trekkes derfor en ny tilstand for alle $\\text{A}$-molekyl (derfor `size=A[n]`). Sannsynligheten for de tre tilstandene er ikke lik, men `numpy.random.choice` har et parameter `p` hvor man kan angi sannsynlighetene til elementene i listen som sendes inn. Til slutt er det bare å summere hvor mange $\\text{A}$-molekyl som gikk over i de forskjellige tilstandene. "
   ]
  },
  {
   "cell_type": "code",
   "execution_count": null,
   "metadata": {
    "slideshow": {
     "slide_type": "notes"
    }
   },
   "outputs": [],
   "source": [
    "A = np.zeros(Nt_1, dtype=int)\n",
    "B = np.zeros(Nt_1, dtype=int)\n",
    "C = np.zeros(Nt_1, dtype=int)\n",
    "A[0] = N\n",
    "ABC = [\"A\", \"B\", \"C\"]\n",
    "prob = [1 - k1 - k2, k1, k2]\n",
    "for n in range(Nt_1 - 1):\n",
    "    X = np.random.choice(ABC, p=prob, size=A[n])\n",
    "    A[n+1] = np.sum(X == \"A\")\n",
    "    B[n+1] = B[n] + np.sum(X == \"B\")\n",
    "    C[n+1] = C[n] + np.sum(X == \"C\")\n",
    "            \n",
    "c = np.array([A, B, C]).T\n",
    "kinetics.plot(c/N, kinetics.competing(k1, k2), r\"Monte Carlo: A $\\to$ B & A $\\to$ C\")"
   ]
  },
  {
   "cell_type": "markdown",
   "metadata": {
    "slideshow": {
     "slide_type": "slide"
    }
   },
   "source": [
    "### Rekker med reaksjoner\n",
    "\n",
    "$$\n",
    "    \\text{A} \\xrightarrow{k_1} \\text{B} \\xrightarrow{k_2} \\text{C}\n",
    "$$"
   ]
  },
  {
   "cell_type": "markdown",
   "metadata": {
    "slideshow": {
     "slide_type": "fragment"
    }
   },
   "source": [
    "**Stokastisk matrise:**"
   ]
  },
  {
   "cell_type": "code",
   "execution_count": null,
   "metadata": {},
   "outputs": [],
   "source": [
    "M = np.zeros((3, 3))\n",
    "...\n",
    "\n",
    "p0 = np.array([1, 0, 0])\n",
    "p = markov_chain(p0, M, Nt_1)\n",
    "kinetics.plot(p, kinetics.consecutive(k1, k2), r\"Markov Chain: A $\\to$ B $\\to$ C\")\n",
    "test_stochastic_matrix(M)"
   ]
  },
  {
   "cell_type": "markdown",
   "metadata": {
    "slideshow": {
     "slide_type": "notes"
    }
   },
   "source": [
    "Den stokastiske matrisen til reaksjonsveien $\\text{A} \\xrightarrow{k_1} \\text{B} \\xrightarrow{k_2} \\text{C}$ er gitt ved\n",
    "\n",
    "$$\n",
    "    \\mathbf{M} = \n",
    "    \\begin{bmatrix}\n",
    "        1 - k_1 &  0 & 0  \\\\\n",
    "         k_1 &  1 - k_2 & 0\\\\\n",
    "         0 & k_2  & 1\n",
    "    \\end{bmatrix} .\n",
    "$$"
   ]
  },
  {
   "cell_type": "markdown",
   "metadata": {
    "slideshow": {
     "slide_type": "slide"
    }
   },
   "source": [
    "**Monte Carlo simulering:** $\\text{A} \\xrightarrow{k_1} \\text{B} \\xrightarrow{k_2} \\text{C}$."
   ]
  },
  {
   "cell_type": "code",
   "execution_count": null,
   "metadata": {},
   "outputs": [],
   "source": [
    "A = np.zeros(Nt_2, dtype=int)\n",
    "B = np.zeros(Nt_2, dtype=int)\n",
    "C = np.zeros(Nt_2, dtype=int)\n",
    "A[0] = N\n",
    "...\n",
    "\n",
    "c = np.array([A, B, C]).T\n",
    "kinetics.plot(c/N, kinetics.consecutive(k1, k2), r\"Monte Carlo: A $\\to$ B $\\to$ C\")"
   ]
  },
  {
   "cell_type": "markdown",
   "metadata": {
    "slideshow": {
     "slide_type": "notes"
    }
   },
   "source": [
    "Implementasjonen i cellen under ligner mye på den for enkel første-ordens reaksjon ($\\text{A} \\to \\text{B}$), men nå er hvert tidssteg vektorisert. Sannsynligheten for $\\text{A} \\to \\text{B}$ og $\\text{B} \\to \\text{C}$ er uavhengig av hverandre, og bestemmes kun av konstantene $k_1$ og $k_2$, samt antall molekyler som potensielt kan endre tilstand."
   ]
  },
  {
   "cell_type": "code",
   "execution_count": null,
   "metadata": {
    "slideshow": {
     "slide_type": "notes"
    }
   },
   "outputs": [],
   "source": [
    "A = np.zeros(Nt_2, dtype=int)\n",
    "B = np.zeros(Nt_2, dtype=int)\n",
    "C = np.zeros(Nt_2, dtype=int)\n",
    "A[0] = N\n",
    "for n in range(Nt_2-1):\n",
    "    rA = np.random.random(A[n])\n",
    "    rB = np.random.random(B[n])\n",
    "    A_to_B = np.sum(rA < k1)\n",
    "    B_to_C = np.sum(rB < k2)\n",
    "    A[n+1] = A[n] - A_to_B\n",
    "    B[n+1] = B[n] + A_to_B - B_to_C\n",
    "    C[n+1] = C[n] + B_to_C\n",
    "\n",
    "c = np.array([A, B, C]).T\n",
    "kinetics.plot(c/N, kinetics.consecutive(k1, k2), r\"Monte Carlo: A $\\to$ B $\\to$ C\")"
   ]
  },
  {
   "cell_type": "markdown",
   "metadata": {
    "slideshow": {
     "slide_type": "slide"
    }
   },
   "source": [
    "### Reaksjoner med likevekt\n",
    "\n",
    "$$\n",
    "    \\text{A} \\underset{k_{-1}}{\\stackrel{k_1}\\rightleftharpoons} \\text{B} \\xrightarrow{k_2} \\text{C}\n",
    "$$\n"
   ]
  },
  {
   "cell_type": "markdown",
   "metadata": {
    "slideshow": {
     "slide_type": "fragment"
    }
   },
   "source": [
    "**Stokastisk matrise:**"
   ]
  },
  {
   "cell_type": "code",
   "execution_count": null,
   "metadata": {},
   "outputs": [],
   "source": [
    "M = np.zeros((3, 3))\n",
    "...\n",
    "\n",
    "p0 = np.array([1, 0, 0])\n",
    "p = markov_chain(p0, M, Nt_1)\n",
    "kinetics.plot(p, kinetics.equilibrium(k1, k_1, k2), r\"Markov Chain: A $\\rightleftharpoons}$ B $\\to$ C\")\n",
    "test_stochastic_matrix(M)"
   ]
  },
  {
   "cell_type": "markdown",
   "metadata": {
    "slideshow": {
     "slide_type": "notes"
    }
   },
   "source": [
    "Den stokastiske matrisen til reaksjonsveien $\\text{A} \\underset{k_{-1}}{\\stackrel{k_1}\\rightleftharpoons} \\text{B} \\xrightarrow{k_2} \\text{C}$ er gitt ved\n",
    "\n",
    "$$\n",
    "    \\mathbf{M} = \n",
    "    \\begin{bmatrix}\n",
    "        1 - k_1 &  k_{-1} & 0  \\\\\n",
    "         k_1 &  1 - k_2 - k_{-1} & 0\\\\\n",
    "         0 & k_2  & 1\n",
    "    \\end{bmatrix} .\n",
    "$$\n"
   ]
  },
  {
   "cell_type": "markdown",
   "metadata": {
    "slideshow": {
     "slide_type": "slide"
    }
   },
   "source": [
    "**Monte Carlo simulering:** \n",
    "$\\text{A} \\underset{k_{-1}}{\\stackrel{k_1}\\rightleftharpoons} \\text{B} \\xrightarrow{k_2} \\text{C}$."
   ]
  },
  {
   "cell_type": "code",
   "execution_count": null,
   "metadata": {},
   "outputs": [],
   "source": [
    "A = np.zeros(Nt_2, dtype=int)\n",
    "B = np.zeros(Nt_2, dtype=int)\n",
    "C = np.zeros(Nt_2, dtype=int)\n",
    "A[0] = N\n",
    "...\n",
    "\n",
    "c = np.array([A, B, C]).T\n",
    "kinetics.plot(c/N, kinetics.equilibrium(k1, k_1, k2), \n",
    "              r\"Monte Carlo: A $\\rightleftharpoons}$ B $\\to$ C\")"
   ]
  },
  {
   "cell_type": "markdown",
   "metadata": {
    "slideshow": {
     "slide_type": "notes"
    }
   },
   "source": [
    "Implementasjonen i cellen under ligner mye på den forrige ( for $\\text{A} \\to \\text{B} \\to \\text{C}$). En viktig forskjell er at sannsynligheten for $\\text{B} \\to \\text{A}$ og $\\text{B} \\to \\text{C}$ avhenger av hverandre, og må derfor bruke samme tilfeldige tall."
   ]
  },
  {
   "cell_type": "code",
   "execution_count": null,
   "metadata": {
    "slideshow": {
     "slide_type": "notes"
    }
   },
   "outputs": [],
   "source": [
    "A = np.zeros(Nt_2, dtype=int)\n",
    "B = np.zeros(Nt_2, dtype=int)\n",
    "C = np.zeros(Nt_2, dtype=int)\n",
    "A[0] = N\n",
    "for n in range(Nt_2-1):\n",
    "    pA = np.random.random(A[n])\n",
    "    pB = np.random.random(B[n])\n",
    "    A_to_B = np.sum(pA < k1)\n",
    "    B_to_C = np.sum(pB < k2)\n",
    "    B_to_A = np.sum(pB < (k_1 + k2)) - B_to_C\n",
    "    A[n+1] = A[n] - A_to_B + B_to_A\n",
    "    B[n+1] = B[n] + A_to_B - B_to_A - B_to_C\n",
    "    C[n+1] = C[n] + B_to_C\n",
    "            \n",
    "c = np.array([A, B, C]).T\n",
    "kinetics.plot(c/N, kinetics.equilibrium(k1, k_1, k2), r\"Monte Carlo: A $\\rightleftharpoons}$ B $\\to$ C\")"
   ]
  },
  {
   "cell_type": "markdown",
   "metadata": {
    "slideshow": {
     "slide_type": "notes"
    }
   },
   "source": [
    "Med dette avslutter vi delen om stokastiske simuleringer."
   ]
  }
 ],
 "metadata": {
  "celltoolbar": "Slideshow",
  "kernelspec": {
   "display_name": "Python 3 (ipykernel)",
   "language": "python",
   "name": "python3"
  },
  "language_info": {
   "codemirror_mode": {
    "name": "ipython",
    "version": 3
   },
   "file_extension": ".py",
   "mimetype": "text/x-python",
   "name": "python",
   "nbconvert_exporter": "python",
   "pygments_lexer": "ipython3",
   "version": "3.10.5"
  },
  "vscode": {
   "interpreter": {
    "hash": "190cafc93a7c2c49a6ea227d53366c310c32565680693c36f3a06dea9bb66b47"
   }
  }
 },
 "nbformat": 4,
 "nbformat_minor": 2
}
