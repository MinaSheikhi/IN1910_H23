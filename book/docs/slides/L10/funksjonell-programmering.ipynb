{
 "cells": [
  {
   "cell_type": "markdown",
   "metadata": {
    "slideshow": {
     "slide_type": "slide"
    }
   },
   "source": [
    "# Funksjonell Programmering"
   ]
  },
  {
   "cell_type": "markdown",
   "metadata": {
    "slideshow": {
     "slide_type": "fragment"
    }
   },
   "source": [
    "*Funksjonell programmering*, på lik linje som *objektorientert programmering*, er et **paradigme**."
   ]
  },
  {
   "cell_type": "markdown",
   "metadata": {
    "slideshow": {
     "slide_type": "fragment"
    }
   },
   "source": [
    "I funksjonell programmering er det fokus på *funksjoner*.\n",
    "\n",
    "Bruk av klasser er innenfor *objektorientert* programmering."
   ]
  },
  {
   "cell_type": "markdown",
   "metadata": {
    "slideshow": {
     "slide_type": "fragment"
    }
   },
   "source": [
    "Noen programmeringsspråk er rent objektorientert, mens andre er rene funksjonelle språk. Både Python og C++ er blandede språk."
   ]
  },
  {
   "cell_type": "markdown",
   "metadata": {
    "slideshow": {
     "slide_type": "slide"
    }
   },
   "source": [
    "## Navn, navnerom og skop\n",
    "\n",
    "Hver variabel, funksjon, klasse og modul har et navn. \n",
    "\n",
    "Navn må være unike, ellers overskrives den *gamle* betydningen."
   ]
  },
  {
   "cell_type": "markdown",
   "metadata": {
    "slideshow": {
     "slide_type": "fragment"
    }
   },
   "source": [
    "Unntaket er:\n",
    "- Navn kan gjentas i forskjellige *navnerom*\n",
    "- Navn kan gjentas i forskjellige *skop*"
   ]
  },
  {
   "cell_type": "markdown",
   "metadata": {
    "slideshow": {
     "slide_type": "slide"
    }
   },
   "source": [
    "### Navnerom\n",
    "\n",
    "Et navnerom er en prefiks som unikt identifiserer navn i et program. \n",
    "```Python\n",
    "<namespace>.<name>\n",
    "```\n",
    "\n",
    "- `modulname.name`\n",
    "- `modulname.submodule.name`\n",
    "- `ClassName.name`\n",
    "- `instance.name`"
   ]
  },
  {
   "cell_type": "markdown",
   "metadata": {
    "slideshow": {
     "slide_type": "slide"
    }
   },
   "source": [
    "**Import av moduler med modulnavn som navnerom:** Pakkene `numpy` og `math` har implementert mange av de samme funksjonene og inneholder noen av se samme variablene. \n",
    "\n",
    "I cellen under er `numpy` og `math` navnerom."
   ]
  },
  {
   "cell_type": "code",
   "execution_count": null,
   "metadata": {
    "slideshow": {
     "slide_type": "-"
    }
   },
   "outputs": [],
   "source": [
    "import math\n",
    "import numpy\n",
    "\n",
    "print(f\"{math.pi = }.\")\n",
    "print(f\"{numpy.pi = }.\")\n",
    "print(\"Are they the same object?:\", numpy.pi is math.pi)"
   ]
  },
  {
   "cell_type": "markdown",
   "metadata": {
    "slideshow": {
     "slide_type": "notes"
    }
   },
   "source": [
    "For eksempel er da `numpy.sin` og `math.sin` to unikt identifiserbare funksjoner. De har samme navn, men lever i hvert sin navnerom."
   ]
  },
  {
   "cell_type": "markdown",
   "metadata": {
    "slideshow": {
     "slide_type": "slide"
    }
   },
   "source": [
    "**Import av moduler med egendefinert navnerom til en modul:** Av konvensjon importerer vi f.eks `numpy` med navnerommet `np`.\n",
    "\n",
    "Navnerommet `numpy` (som ble importert i forrige celle) og `np` i cellen under har da samme adresse."
   ]
  },
  {
   "cell_type": "code",
   "execution_count": null,
   "metadata": {},
   "outputs": [],
   "source": [
    "import numpy as np\n",
    "\n",
    "print(\"Are numpy and np the same?:\", numpy is np)\n",
    "print(\"Are math and np the same?:\", math is np)"
   ]
  },
  {
   "cell_type": "markdown",
   "metadata": {
    "slideshow": {
     "slide_type": "slide"
    }
   },
   "source": [
    "**Wildcard import:** Lager ikke et navnerom, men importerer direkte inn i programmet.\n",
    "\n",
    "Ingen av eksemplene under vil gi et navnerom. \n",
    "```Python\n",
    "from some_module import *\n",
    "from other_module import spam, eggs\n",
    "```\n",
    "\n",
    "Alt fra `some_module` samt `spam` og `eggs` fra `other_module` kan derfor overskrives i ditt program."
   ]
  },
  {
   "cell_type": "markdown",
   "metadata": {
    "slideshow": {
     "slide_type": "slide"
    }
   },
   "source": [
    "### Skop\n",
    "\n",
    "Skop definerer *hvor* et navn i et program er tilgjengelig.\n",
    "\n",
    "- **Globalt skop:** Tilgjengelig alle steder i programmet ditt (ikke importert)\n",
    "- **Lokalt skop:** Tilgjengelig kun inni en funksjon (for Python)"
   ]
  },
  {
   "cell_type": "markdown",
   "metadata": {
    "slideshow": {
     "slide_type": "slide"
    }
   },
   "source": [
    "**Globalt vs. Lokalt:** Et eksempel for å illustrere lokalt og globalt skop.\n",
    "\n",
    "- Funksjonen `circle_area`: globalt skop\n",
    "    - Argumentet `L`: lokalt skop til `circle_area`\n",
    "    - Variabelen `pi`: lokalt skop til `circle_area`\n",
    "    - Variabelen `r`: lokalt skop til `circle_area`\n",
    "- Variabelen `diameter`: globalt skop\n",
    "- Variabelen `area`: globalt skop"
   ]
  },
  {
   "cell_type": "code",
   "execution_count": null,
   "metadata": {},
   "outputs": [],
   "source": [
    "def circle_area(L):\n",
    "    pi = 3.14\n",
    "    r = L/2\n",
    "    return pi*r*r\n",
    "    \n",
    "diameter = 1\n",
    "area = circle_area(diameter)"
   ]
  },
  {
   "cell_type": "markdown",
   "metadata": {
    "slideshow": {
     "slide_type": "fragment"
    }
   },
   "source": [
    "- Lokal variabel `pi` er ikke tilgjengelig globalt"
   ]
  },
  {
   "cell_type": "code",
   "execution_count": null,
   "metadata": {},
   "outputs": [],
   "source": [
    "pi"
   ]
  },
  {
   "cell_type": "markdown",
   "metadata": {
    "slideshow": {
     "slide_type": "slide"
    }
   },
   "source": [
    "**Lokalt skop har høyest prioritet:** Python leter først etter navnet i det lokale skopet. Hvis navnet ikke eksisterer lokalt, brukes navnet slik det er definert i det globale skopet. \n",
    "\n",
    "I cellen under finnes `spam` som både lokal og global variabel."
   ]
  },
  {
   "cell_type": "code",
   "execution_count": null,
   "metadata": {},
   "outputs": [],
   "source": [
    "spam = 0\n",
    "eggs = 12\n",
    "\n",
    "def print_spam():\n",
    "    spam = 100\n",
    "    print(f\"Local scope has higher priority, {spam = }.\")\n",
    "    print(f\"If there is no local name, a gobal one is used: {eggs = }.\")\n",
    "\n",
    "print(f\"Global: {spam = }.\")\n",
    "print_spam()"
   ]
  },
  {
   "cell_type": "markdown",
   "metadata": {
    "slideshow": {
     "slide_type": "slide"
    }
   },
   "source": [
    "## *Rene* funksjoner \n",
    "\n",
    "Funksjoner hvor input har entydig output."
   ]
  },
  {
   "cell_type": "markdown",
   "metadata": {
    "slideshow": {
     "slide_type": "fragment"
    }
   },
   "source": [
    "*Rene* funksjoner:\n",
    "- Kan ikke avhenge av tid\n",
    "- Kan ikke avhenge av tilstand\n",
    "- Kan ikke avhenge av tilfeldighet"
   ]
  },
  {
   "cell_type": "markdown",
   "metadata": {
    "slideshow": {
     "slide_type": "slide"
    }
   },
   "source": [
    "**Eksempel på uren funksjon:**"
   ]
  },
  {
   "cell_type": "code",
   "execution_count": null,
   "metadata": {},
   "outputs": [],
   "source": [
    "import datetime\n",
    "\n",
    "def compute_age(birthyear):\n",
    "    year = datetime.datetime.now().year\n",
    "    return year - birthyear\n",
    "\n",
    "compute_age(1814)"
   ]
  },
  {
   "cell_type": "markdown",
   "metadata": {
    "slideshow": {
     "slide_type": "notes"
    }
   },
   "source": [
    "Funksjonen `compute_age` i cellen over er en uren funksjon fordi den avhenger av dagens dato. \n",
    "\n",
    "I eksempelet under er `compute_age` skrevet om til å bli en ren funksjon."
   ]
  },
  {
   "cell_type": "markdown",
   "metadata": {
    "slideshow": {
     "slide_type": "slide"
    }
   },
   "source": [
    "**Eksempel på ren funksjon:**"
   ]
  },
  {
   "cell_type": "code",
   "execution_count": null,
   "metadata": {},
   "outputs": [],
   "source": [
    "def compute_age(birthyear, year):\n",
    "    return year - birthyear\n",
    "\n",
    "compute_age(1814, 2022)"
   ]
  },
  {
   "cell_type": "markdown",
   "metadata": {
    "slideshow": {
     "slide_type": "slide"
    }
   },
   "source": [
    "### Testing av rene vs. urene funksjoner\n",
    "\n",
    "Rene funksjoner er lettere å teste.\n",
    "\n",
    "**Hvorfor?**"
   ]
  },
  {
   "cell_type": "markdown",
   "metadata": {
    "slideshow": {
     "slide_type": "fragment"
    }
   },
   "source": [
    "Her er en testfunksjon til den *rene* versjonen av `compute_age`:\n",
    "```Python\n",
    "def test_compute_age():\n",
    "    assert compute_age(1814, 2022) == 208\n",
    "```\n",
    "Den vil alltid fungere."
   ]
  },
  {
   "cell_type": "markdown",
   "metadata": {
    "slideshow": {
     "slide_type": "fragment"
    }
   },
   "source": [
    "Her er en testfunksjon til den *urene* versjonen av `compute_age`:\n",
    "```Python\n",
    "def test_compute_age():\n",
    "    assert compute_age(1814) == 208\n",
    "```\n",
    "Den vil gi `AssertionError` når året er omme, selv om funksjonen ikke har en bug."
   ]
  },
  {
   "cell_type": "markdown",
   "metadata": {
    "slideshow": {
     "slide_type": "notes"
    }
   },
   "source": [
    "Det er mulig å teste urene funksjoner konsekvent ved hjelp av *mocking*, men dette er ikke en del av pensum i IN1910."
   ]
  },
  {
   "cell_type": "markdown",
   "metadata": {
    "slideshow": {
     "slide_type": "slide"
    }
   },
   "source": [
    "## Indre og ytre funksjoner\n",
    "\n",
    "En (indre) funksjon definieres *inni* en annen (ytre) funksjon."
   ]
  },
  {
   "cell_type": "markdown",
   "metadata": {
    "slideshow": {
     "slide_type": "slide"
    }
   },
   "source": [
    "**Eksempel:** Funksjon for å regne ut $R^2$.\n",
    "\n",
    "- `RR` er den **ytre** funksjonen\n",
    "- `sum_squared` er den **indre** funksjonen"
   ]
  },
  {
   "cell_type": "code",
   "execution_count": null,
   "metadata": {},
   "outputs": [],
   "source": [
    "def RR(y_data, y_fit):\n",
    "    '''Coefficient of determination.'''\n",
    "    def sum_squared(values):\n",
    "        square = [x*x for x in values]\n",
    "        return sum(square)\n",
    "        \n",
    "    y_mean = sum(y_data)/len(y_data)\n",
    "    tot = [(y - y_mean) for y in y_data]\n",
    "    SS_tot = sum_squared(tot)\n",
    "    \n",
    "    res = [(y - f) for y, f in zip(y_data, y_fit)]\n",
    "    SS_res = sum_squared(res)\n",
    "    return 1 - SS_res/SS_tot"
   ]
  },
  {
   "cell_type": "markdown",
   "metadata": {
    "slideshow": {
     "slide_type": "fragment"
    }
   },
   "source": [
    "Den **ytre funksjonen er en del av det globale skopet**. Den kalles på som vanlig:"
   ]
  },
  {
   "cell_type": "code",
   "execution_count": null,
   "metadata": {},
   "outputs": [],
   "source": [
    "y_values = [0.00, 0.64, 0.98, 0.87, 0.34, -0.34, -0.87, -0.98, -0.64, 0.00]\n",
    "f_values = [-0.05, 0.77, 0.98, 0.76, 0.28, -0.28, -0.76, -0.98, -0.77, 0.05]\n",
    "print(f\"RR = {RR(y_values, f_values):.4f}.\")"
   ]
  },
  {
   "cell_type": "markdown",
   "metadata": {
    "slideshow": {
     "slide_type": "fragment"
    }
   },
   "source": [
    "Den **indre funksjonen er en del av det lokale skopet** til den ytre funksjonen:"
   ]
  },
  {
   "cell_type": "code",
   "execution_count": null,
   "metadata": {},
   "outputs": [],
   "source": [
    "x_values = [0.00, 0.70, 1.40, 2.09, 2.79, 3.49, 4.19, 4.89, 5.59, 6.28]\n",
    "sum_squared(x_values)"
   ]
  },
  {
   "cell_type": "markdown",
   "metadata": {
    "slideshow": {
     "slide_type": "notes"
    }
   },
   "source": [
    "Den indre funksjonen er derfor utilgjengelig globalt. \n",
    "\n",
    "Tilpassingen brukt i eksempelet:"
   ]
  },
  {
   "cell_type": "code",
   "execution_count": null,
   "metadata": {
    "scrolled": false,
    "slideshow": {
     "slide_type": "notes"
    }
   },
   "outputs": [],
   "source": [
    "%matplotlib notebook\n",
    "import matplotlib.pyplot as plt\n",
    "\n",
    "plt.figure(0, figsize=(8, 4))\n",
    "plt.plot(x_values, y_values, \"o-\", label=\"data\", color=\"black\")\n",
    "plt.plot(x_values, f_values, \"o--\", label=\"fit\", color=\"gold\")\n",
    "plt.legend()\n",
    "plt.xlabel(\"x\")\n",
    "plt.ylabel(\"y\")\n",
    "plt.show()"
   ]
  },
  {
   "cell_type": "markdown",
   "metadata": {
    "slideshow": {
     "slide_type": "slide"
    }
   },
   "source": [
    "### Nøstede skop\n",
    "\n",
    "Indre funksjoner skaper nøstede skop."
   ]
  },
  {
   "cell_type": "markdown",
   "metadata": {
    "slideshow": {
     "slide_type": "fragment"
    }
   },
   "source": [
    "- **Indre skop har tilgang til sine ytre skop**"
   ]
  },
  {
   "cell_type": "code",
   "execution_count": null,
   "metadata": {},
   "outputs": [],
   "source": [
    "def outer():\n",
    "    cheese = None\n",
    "    def inner():\n",
    "        print(f\"In inner: {cheese = }.\")\n",
    "        \n",
    "    inner()\n",
    "    print(f\"In outer: {cheese = }.\")\n",
    "\n",
    "outer()"
   ]
  },
  {
   "cell_type": "markdown",
   "metadata": {
    "slideshow": {
     "slide_type": "fragment"
    }
   },
   "source": [
    "- **Ytre skop har ikke tilgang til sine indre skop**"
   ]
  },
  {
   "cell_type": "code",
   "execution_count": null,
   "metadata": {},
   "outputs": [],
   "source": [
    "def outer():\n",
    "    def inner():\n",
    "        cheese = None\n",
    "        print(f\"In inner: {cheese = }.\")\n",
    "        \n",
    "    inner()\n",
    "    print(f\"In outer: {cheese = }.\")\n",
    "\n",
    "outer()"
   ]
  },
  {
   "cell_type": "markdown",
   "metadata": {
    "slideshow": {
     "slide_type": "fragment"
    }
   },
   "source": [
    "- **Det innerste lokale skopet har høyest prioritet**"
   ]
  },
  {
   "cell_type": "code",
   "execution_count": null,
   "metadata": {},
   "outputs": [],
   "source": [
    "spam = 0\n",
    "\n",
    "def outer():\n",
    "    spam = 1\n",
    "    def inner():\n",
    "        spam = 2\n",
    "        print(f\"In inner: {spam = }.\")\n",
    "        \n",
    "    print(f\"In outer: {spam = }.\")\n",
    "    inner()\n",
    "\n",
    "print(f\"Globally: {spam = }.\")\n",
    "outer()"
   ]
  },
  {
   "cell_type": "markdown",
   "metadata": {
    "slideshow": {
     "slide_type": "slide"
    }
   },
   "source": [
    "## Funksjoner av høyere orden \n",
    "\n",
    "- En funksjon som **tar inn én eller flere funksjoner som argument**\n",
    "- En funksjon som **returnerer en funksjon**"
   ]
  },
  {
   "cell_type": "markdown",
   "metadata": {
    "slideshow": {
     "slide_type": "fragment"
    }
   },
   "source": [
    "I Python er funksjoner **førsteklasses objekter**, som betyr at de kan brukes som både input og output i en funksjon."
   ]
  },
  {
   "cell_type": "markdown",
   "metadata": {
    "slideshow": {
     "slide_type": "slide"
    }
   },
   "source": [
    "**Er `get_sine` en funksjon av høyere orden?**"
   ]
  },
  {
   "cell_type": "code",
   "execution_count": null,
   "metadata": {},
   "outputs": [],
   "source": [
    "def get_sine(deriv=False):\n",
    "    if deriv:\n",
    "        return math.cos\n",
    "    else:\n",
    "        return math.sin"
   ]
  },
  {
   "cell_type": "markdown",
   "metadata": {
    "slideshow": {
     "slide_type": "fragment"
    }
   },
   "source": [
    "Ja, `get_sine` returnerer en funksjon (`math.sin` eller `math.sin`). "
   ]
  },
  {
   "cell_type": "code",
   "execution_count": null,
   "metadata": {},
   "outputs": [],
   "source": [
    "f = get_sine()\n",
    "print(f\"{f(0) = :.2f}\")\n",
    "\n",
    "df = get_sine(deriv=True)\n",
    "print(f\"{df(0) = :.2f}\")"
   ]
  },
  {
   "cell_type": "markdown",
   "metadata": {
    "slideshow": {
     "slide_type": "slide"
    }
   },
   "source": [
    "**Er `newtons_method` en funksjon av høyere orden?**"
   ]
  },
  {
   "cell_type": "code",
   "execution_count": null,
   "metadata": {},
   "outputs": [],
   "source": [
    "def newtons_method(f, df, x0, max_it=100, tol=1e-6):\n",
    "    counter = 0\n",
    "    while abs(f(x0)) > tol and counter < max_it:\n",
    "        x0 -= f(x0)/df(x0)\n",
    "        counter += 1\n",
    "    return x0"
   ]
  },
  {
   "cell_type": "markdown",
   "metadata": {
    "slideshow": {
     "slide_type": "fragment"
    }
   },
   "source": [
    "Ja, `newtons_method` tar inn to funksjoner (`f` og `df`)."
   ]
  },
  {
   "cell_type": "code",
   "execution_count": null,
   "metadata": {
    "slideshow": {
     "slide_type": "-"
    }
   },
   "outputs": [],
   "source": [
    "root = newtons_method(f, df, x0=3)\n",
    "print(f\"f({root:.2f}) = {f(root):.0g}\")"
   ]
  },
  {
   "cell_type": "markdown",
   "metadata": {
    "slideshow": {
     "slide_type": "slide"
    }
   },
   "source": [
    "**Er `sine` en funksjon av høyere orden?**"
   ]
  },
  {
   "cell_type": "code",
   "execution_count": null,
   "metadata": {},
   "outputs": [],
   "source": [
    "def sine(x, deriv=False):\n",
    "    if deriv:\n",
    "        return math.cos(x)\n",
    "    else:\n",
    "        return math.sin(x)"
   ]
  },
  {
   "cell_type": "markdown",
   "metadata": {
    "slideshow": {
     "slide_type": "fragment"
    }
   },
   "source": [
    "Nei, `sine` er ikke en funksjon av høyere orden."
   ]
  },
  {
   "cell_type": "code",
   "execution_count": null,
   "metadata": {},
   "outputs": [],
   "source": [
    "print(f\"sine({root:.2f}) = {sine(root):.0g}\")"
   ]
  },
  {
   "cell_type": "markdown",
   "metadata": {
    "slideshow": {
     "slide_type": "notes"
    }
   },
   "source": [
    "`sine` verken tar inn funksjoner som argument eller returnerer en funksjon. Funksjonskall inni funksjonen gjør ikke at `sine` er en funksjon av høyere orden."
   ]
  },
  {
   "cell_type": "markdown",
   "metadata": {
    "slideshow": {
     "slide_type": "slide"
    }
   },
   "source": [
    "## Funksjonslukking (*closure*)\n",
    "\n",
    "Når en ytre funksjon returnerer en indre funksjon.\n",
    "\n",
    "Den ytre funksjonen er da alltid av høyere orden."
   ]
  },
  {
   "cell_type": "markdown",
   "metadata": {
    "slideshow": {
     "slide_type": "slide"
    }
   },
   "source": [
    "**Eksempel på funksjonslukking:** Bestemme parametere i ytre funksjon.\n",
    "\n",
    "- `get_line` er en ytre funksjon\n",
    "- `line` er en indre funksjon\n",
    "\n",
    "`get_line` returnerer den indre funksjonen `line`."
   ]
  },
  {
   "cell_type": "code",
   "execution_count": null,
   "metadata": {},
   "outputs": [],
   "source": [
    "def get_line(a, b):\n",
    "    def line(x):\n",
    "        return a*x + b\n",
    "    return line"
   ]
  },
  {
   "cell_type": "markdown",
   "metadata": {
    "slideshow": {
     "slide_type": "fragment"
    }
   },
   "source": [
    "Argumentene `a` og `b` ligger i det lokalet skopet til `get_line`, og disse bestemmer stigningstallet og konstanten til den returnerte funksjonen."
   ]
  },
  {
   "cell_type": "code",
   "execution_count": null,
   "metadata": {},
   "outputs": [],
   "source": [
    "f = get_line(a=1, b=2)\n",
    "g = get_line(a=3, b=4)\n",
    "\n",
    "print(f\"f has slope {f(1) - f(0) = } and constant {f(0) = }.\")\n",
    "print(f\"g has slope {g(1) - g(0) = } and constant {g(0) = }.\")\n",
    "\n",
    "print(\"\\nAre the returned functions the same?\", f is g)"
   ]
  },
  {
   "cell_type": "markdown",
   "metadata": {
    "slideshow": {
     "slide_type": "notes"
    }
   },
   "source": [
    "Du kan bruke funksjonslukking til å hente ut mange funksjoner med ulike parametere:"
   ]
  },
  {
   "cell_type": "code",
   "execution_count": null,
   "metadata": {
    "slideshow": {
     "slide_type": "notes"
    }
   },
   "outputs": [],
   "source": [
    "colors = [\"black\", \"maroon\", \"brown\", \"chocolate\",\n",
    "          \"sandybrown\", \"wheat\", \"bisque\", \"cornsilk\"]\n",
    "a = 1\n",
    "b = -7\n",
    "x = np.linspace(-10, 10, 10)\n",
    "plt.figure(1, figsize=(8, 5))\n",
    "for color in colors:\n",
    "    line = get_line(a, b)\n",
    "    label = f\"${a}x {'-' if b < 0 else '+'} {abs(b)}$\"\n",
    "    plt.plot(x, line(x), label=label, color=color, lw=7)\n",
    "    a *= 2\n",
    "    b += 2\n",
    "plt.legend(loc=\"lower right\")\n",
    "plt.xlabel(\"x\")\n",
    "plt.ylabel(\"y\")\n",
    "plt.axis([-10, 10, -750, 750])\n",
    "plt.show()"
   ]
  },
  {
   "cell_type": "markdown",
   "metadata": {
    "slideshow": {
     "slide_type": "slide"
    }
   },
   "source": [
    "**Alternativ til funksjonslukking:** `functools.partial`.\n",
    "\n",
    "Tilsvarende kode med `partial` ligger i cellen under.\n",
    "\n",
    "Rekkefølgen på argumentene er viktig her."
   ]
  },
  {
   "cell_type": "code",
   "execution_count": null,
   "metadata": {},
   "outputs": [],
   "source": [
    "import functools\n",
    "\n",
    "def line(a, b, x):\n",
    "    return a*x + b\n",
    "\n",
    "f_p = functools.partial(line, 1, 2)\n",
    "g_p = functools.partial(line, 3, 4)\n",
    "\n",
    "print(f\"f_p has slope {f_p(1) - f_p(0) = } and constant {f_p(0) = }.\")\n",
    "print(f\"g_p has slope {g_p(1) - g_p(0) = } and constant {g_p(0) = }.\")\n",
    "\n",
    "print(\"\\nAre the returned functions the same?\", f_p is g_p)"
   ]
  },
  {
   "cell_type": "markdown",
   "metadata": {
    "slideshow": {
     "slide_type": "slide"
    }
   },
   "source": [
    "### Egendefinerte dekoratører ved funksjonslukking \n",
    "\n",
    "Dekoratorer er syntaks-pynt for en bestemt type funksjonslukking."
   ]
  },
  {
   "cell_type": "markdown",
   "metadata": {
    "slideshow": {
     "slide_type": "fragment"
    }
   },
   "source": [
    "- Den ytre funksjonen tar en funksjon `f` som argument"
   ]
  },
  {
   "cell_type": "markdown",
   "metadata": {
    "slideshow": {
     "slide_type": "fragment"
    }
   },
   "source": [
    "- Den indre funksjonen har samme input og output som input-funksjonen `f`"
   ]
  },
  {
   "cell_type": "markdown",
   "metadata": {
    "slideshow": {
     "slide_type": "fragment"
    }
   },
   "source": [
    "- Den indre funksjonen har noe ekstra funksjonalitet for `f`"
   ]
  },
  {
   "cell_type": "markdown",
   "metadata": {
    "slideshow": {
     "slide_type": "fragment"
    }
   },
   "source": [
    "-  Den ytre funksjonen returnerer den indre funksjonen"
   ]
  },
  {
   "cell_type": "markdown",
   "metadata": {
    "slideshow": {
     "slide_type": "slide"
    }
   },
   "source": [
    "**En dekoratør for printing av resultat:** "
   ]
  },
  {
   "cell_type": "code",
   "execution_count": null,
   "metadata": {},
   "outputs": [],
   "source": [
    "def printing(func):\n",
    "    \"\"\"Decorator for printing the output of a function.\"\"\"\n",
    "    ..."
   ]
  },
  {
   "cell_type": "markdown",
   "metadata": {
    "slideshow": {
     "slide_type": "notes"
    }
   },
   "source": [
    "Implementasjonen kan se slik ut:"
   ]
  },
  {
   "cell_type": "code",
   "execution_count": null,
   "metadata": {
    "slideshow": {
     "slide_type": "notes"
    }
   },
   "outputs": [],
   "source": [
    "from decorators import printing\n",
    "%load -s printing decorators.py"
   ]
  },
  {
   "cell_type": "markdown",
   "metadata": {
    "slideshow": {
     "slide_type": "fragment"
    }
   },
   "source": [
    "Du kan da sende inn en funksjon som argument i `printing` og få samme funksjon i retur bare med printing:"
   ]
  },
  {
   "cell_type": "code",
   "execution_count": null,
   "metadata": {},
   "outputs": [],
   "source": [
    "factorial = printing(math.factorial)\n",
    "\n",
    "fac10 = factorial(10)\n",
    "print(fac10)"
   ]
  },
  {
   "cell_type": "markdown",
   "metadata": {
    "slideshow": {
     "slide_type": "fragment"
    }
   },
   "source": [
    "Syntakst-pynt lar deg også bruke `printing` som en dekoratør:"
   ]
  },
  {
   "cell_type": "code",
   "execution_count": null,
   "metadata": {},
   "outputs": [],
   "source": [
    "@printing\n",
    "def square(x):\n",
    "    '''x^2.'''\n",
    "    return x*x\n",
    "\n",
    "four = square(2)\n",
    "print(four)"
   ]
  },
  {
   "cell_type": "markdown",
   "metadata": {
    "slideshow": {
     "slide_type": "fragment"
    }
   },
   "source": [
    "Merk at `square` har byttet navn og mistet docstring på grunn av funksjonslukking:"
   ]
  },
  {
   "cell_type": "code",
   "execution_count": null,
   "metadata": {},
   "outputs": [],
   "source": [
    "print(square.__name__)"
   ]
  },
  {
   "cell_type": "code",
   "execution_count": null,
   "metadata": {},
   "outputs": [],
   "source": [
    "square?"
   ]
  },
  {
   "cell_type": "markdown",
   "metadata": {
    "slideshow": {
     "slide_type": "slide"
    }
   },
   "source": [
    "**Bruk av funksjonslukking for tidtaking:**\n",
    "\n",
    "`@wraps(f)` brukes for at den returnerte funksjonen skal få beholde navnet og dokumentasjonen til `f`."
   ]
  },
  {
   "cell_type": "code",
   "execution_count": null,
   "metadata": {},
   "outputs": [],
   "source": [
    "from functools import wraps\n",
    "import time\n",
    "\n",
    "def timer(func):\n",
    "    \"\"\"Decorator for timing a function.\"\"\"\n",
    "    ..."
   ]
  },
  {
   "cell_type": "markdown",
   "metadata": {
    "slideshow": {
     "slide_type": "notes"
    }
   },
   "source": [
    "Forslag til implementasjon:"
   ]
  },
  {
   "cell_type": "code",
   "execution_count": null,
   "metadata": {
    "slideshow": {
     "slide_type": "notes"
    }
   },
   "outputs": [],
   "source": [
    "from decorators import timer\n",
    "%load -s timer decorators.py"
   ]
  },
  {
   "cell_type": "markdown",
   "metadata": {
    "slideshow": {
     "slide_type": "fragment"
    }
   },
   "source": [
    "`timer` kan nå brukes om dekoratør:"
   ]
  },
  {
   "cell_type": "code",
   "execution_count": null,
   "metadata": {},
   "outputs": [],
   "source": [
    "@timer\n",
    "def cube(x):\n",
    "    '''x^3.'''\n",
    "    return x*x*x\n",
    "\n",
    "eight = cube(2)\n",
    "print(eight)"
   ]
  },
  {
   "cell_type": "markdown",
   "metadata": {
    "slideshow": {
     "slide_type": "fragment"
    }
   },
   "source": [
    "`@wraps(f)` gjør at funksjonen beholder docstring og navn:"
   ]
  },
  {
   "cell_type": "code",
   "execution_count": null,
   "metadata": {},
   "outputs": [],
   "source": [
    "print(cube.__name__)"
   ]
  },
  {
   "cell_type": "code",
   "execution_count": null,
   "metadata": {},
   "outputs": [],
   "source": [
    "cube?"
   ]
  },
  {
   "cell_type": "markdown",
   "metadata": {
    "slideshow": {
     "slide_type": "slide"
    }
   },
   "source": [
    "## Rekursjon\n",
    "\n",
    "Rekursjon er gjentagelser."
   ]
  },
  {
   "cell_type": "markdown",
   "metadata": {
    "slideshow": {
     "slide_type": "fragment"
    }
   },
   "source": [
    "Det finnes mange *rekursive* matematiske formler."
   ]
  },
  {
   "cell_type": "markdown",
   "metadata": {
    "slideshow": {
     "slide_type": "fragment"
    }
   },
   "source": [
    "I programmering er en rekursiv funksjon en funksjon som kaller på seg selv."
   ]
  },
  {
   "cell_type": "markdown",
   "metadata": {
    "slideshow": {
     "slide_type": "slide"
    }
   },
   "source": [
    "**Telle ned ved rekursjon:** Vi skal implementere en rekursiv funksjon som *teller ned* ved å printe alle tall fra et input-tall og ned til 1."
   ]
  },
  {
   "cell_type": "code",
   "execution_count": null,
   "metadata": {
    "slideshow": {
     "slide_type": "-"
    }
   },
   "outputs": [],
   "source": [
    "def count_backward(number):\n",
    "    \"\"\"Recursive function for counting backwards.\"\"\"\n",
    "    ..."
   ]
  },
  {
   "cell_type": "markdown",
   "metadata": {
    "slideshow": {
     "slide_type": "notes"
    }
   },
   "source": [
    "Dette er et ganske konstruert eksempel, men vi holder det enkelt for å vise hvordan rekursjon fungerer."
   ]
  },
  {
   "cell_type": "code",
   "execution_count": null,
   "metadata": {
    "slideshow": {
     "slide_type": "notes"
    }
   },
   "outputs": [],
   "source": [
    "from recursion import count_backward\n",
    "%load -s count_backward recursion.py"
   ]
  },
  {
   "cell_type": "markdown",
   "metadata": {
    "slideshow": {
     "slide_type": "fragment"
    }
   },
   "source": [
    "Funksjonen printer bare *ett* tall, men vi skal likevel bare kalle på funksjonen én gang. Resten av funksjonskallene skjer *rekursivt*:"
   ]
  },
  {
   "cell_type": "code",
   "execution_count": null,
   "metadata": {},
   "outputs": [],
   "source": [
    "count_backward(5)"
   ]
  },
  {
   "cell_type": "markdown",
   "metadata": {
    "slideshow": {
     "slide_type": "slide"
    }
   },
   "source": [
    "**Telle opp ved rekursjon:** Vi skal implementere en rekursiv funksjon som *teller opp* ved å printe alle tall fra 1 og opp til et input-tall."
   ]
  },
  {
   "cell_type": "code",
   "execution_count": null,
   "metadata": {},
   "outputs": [],
   "source": [
    "def count_forward(number):\n",
    "    \"\"\"Recursive function for counting forward.\"\"\"\n",
    "    ..."
   ]
  },
  {
   "cell_type": "markdown",
   "metadata": {
    "slideshow": {
     "slide_type": "notes"
    }
   },
   "source": [
    "Dette er igjen et konstruert eksempel, men viser hvordan rekkefølgen på det rekursive kallet er viktig! "
   ]
  },
  {
   "cell_type": "code",
   "execution_count": null,
   "metadata": {
    "slideshow": {
     "slide_type": "notes"
    }
   },
   "outputs": [],
   "source": [
    "from recursion import count_forward\n",
    "%load -s count_forward recursion.py"
   ]
  },
  {
   "cell_type": "markdown",
   "metadata": {
    "slideshow": {
     "slide_type": "fragment"
    }
   },
   "source": [
    "Funksjonen printer her også bare *ett* tall, og resten skjer rekursivt:"
   ]
  },
  {
   "cell_type": "code",
   "execution_count": null,
   "metadata": {},
   "outputs": [],
   "source": [
    "count_forward(5)"
   ]
  },
  {
   "cell_type": "markdown",
   "metadata": {
    "slideshow": {
     "slide_type": "slide"
    }
   },
   "source": [
    "**Rekursiv formel for fakultet:** \n",
    "\n",
    "$$\n",
    "n! = (n - 1)! \\cdot n ,\n",
    "$$\n",
    "\n",
    "og $n! = 1$ for alle $n \\leq 1$."
   ]
  },
  {
   "cell_type": "code",
   "execution_count": null,
   "metadata": {},
   "outputs": [],
   "source": [
    "def fac(n):\n",
    "    \"\"\"Factorial.\"\"\"\n",
    "    ..."
   ]
  },
  {
   "cell_type": "markdown",
   "metadata": {
    "slideshow": {
     "slide_type": "notes"
    }
   },
   "source": [
    "Forslag til implementasjon:"
   ]
  },
  {
   "cell_type": "code",
   "execution_count": null,
   "metadata": {
    "slideshow": {
     "slide_type": "notes"
    }
   },
   "outputs": [],
   "source": [
    "from recursion import fac\n",
    "%load -s fac recursion.py"
   ]
  },
  {
   "cell_type": "markdown",
   "metadata": {
    "slideshow": {
     "slide_type": "fragment"
    }
   },
   "source": [
    "Vi kan da kalle på `fac` og sammenligne svaret med `math.factorial`:"
   ]
  },
  {
   "cell_type": "code",
   "execution_count": null,
   "metadata": {},
   "outputs": [],
   "source": [
    "assert fac(6) == math.factorial(6)"
   ]
  },
  {
   "cell_type": "markdown",
   "metadata": {
    "slideshow": {
     "slide_type": "fragment"
    }
   },
   "source": [
    "Kaller du på funksjonen igjen, gjentas de rekursive kallene:"
   ]
  },
  {
   "cell_type": "code",
   "execution_count": null,
   "metadata": {},
   "outputs": [],
   "source": [
    "assert fac(4) == math.factorial(4)"
   ]
  },
  {
   "cell_type": "markdown",
   "metadata": {
    "slideshow": {
     "slide_type": "slide"
    }
   },
   "source": [
    "**Fibonaccitall:**\n",
    "\n",
    "Fibonaccitall er gitt den rekursive formelen\n",
    "\n",
    "$$\n",
    "    F_n = F_{n - 1} + F_{n - 2},\n",
    "$$\n",
    "\n",
    "hvor $F_0 = 0$ og $F_1 = 1$."
   ]
  },
  {
   "cell_type": "code",
   "execution_count": null,
   "metadata": {},
   "outputs": [],
   "source": [
    "def fib(n):\n",
    "    \"\"\"Fibonacci.\"\"\"\n",
    "    print(f\"Computing fib({n}).\")\n",
    "    ..."
   ]
  },
  {
   "cell_type": "markdown",
   "metadata": {
    "slideshow": {
     "slide_type": "notes"
    }
   },
   "source": [
    "I cellen under er en enkel implementasjon av Fibonacci-følgen:"
   ]
  },
  {
   "cell_type": "code",
   "execution_count": null,
   "metadata": {
    "slideshow": {
     "slide_type": "notes"
    }
   },
   "outputs": [],
   "source": [
    "from recursion import fib\n",
    "%load -s fib recursion.py"
   ]
  },
  {
   "cell_type": "markdown",
   "metadata": {
    "slideshow": {
     "slide_type": "fragment"
    }
   },
   "source": [
    "Det blir fort mange funksjonskall for rekursive funksjoner:"
   ]
  },
  {
   "cell_type": "code",
   "execution_count": null,
   "metadata": {},
   "outputs": [],
   "source": [
    "assert fib(6) == 8"
   ]
  },
  {
   "cell_type": "markdown",
   "metadata": {
    "slideshow": {
     "slide_type": "notes"
    }
   },
   "source": [
    "Derfor er det lurt å bruke *memoization*."
   ]
  },
  {
   "cell_type": "markdown",
   "metadata": {
    "slideshow": {
     "slide_type": "slide"
    }
   },
   "source": [
    "### Memoization\n",
    "\n",
    "Lage *oppslagsverk* for input og output for en funksjon."
   ]
  },
  {
   "cell_type": "markdown",
   "metadata": {
    "slideshow": {
     "slide_type": "fragment"
    }
   },
   "source": [
    "- Bruk av funksjonslukking for å lagre output-verdier"
   ]
  },
  {
   "cell_type": "markdown",
   "metadata": {
    "slideshow": {
     "slide_type": "fragment"
    }
   },
   "source": [
    "- Kan betydelig effektivisere program med tunge funksjoner som kalles ofte"
   ]
  },
  {
   "cell_type": "markdown",
   "metadata": {
    "slideshow": {
     "slide_type": "fragment"
    }
   },
   "source": [
    "- Fungerer bare for *rene* funksjoner"
   ]
  },
  {
   "cell_type": "markdown",
   "metadata": {
    "slideshow": {
     "slide_type": "slide"
    }
   },
   "source": [
    "**Implementasjon av `memoize`** kan da se slik ut:"
   ]
  },
  {
   "cell_type": "code",
   "execution_count": null,
   "metadata": {},
   "outputs": [],
   "source": [
    "def memoize(func):\n",
    "    \"\"\"\"Decorator for memoizing a function.\"\"\"\n",
    "    ..."
   ]
  },
  {
   "cell_type": "markdown",
   "metadata": {
    "slideshow": {
     "slide_type": "notes"
    }
   },
   "source": [
    "Forslag til implementasjon:"
   ]
  },
  {
   "cell_type": "code",
   "execution_count": null,
   "metadata": {
    "slideshow": {
     "slide_type": "notes"
    }
   },
   "outputs": [],
   "source": [
    "from decorators import memoize\n",
    "%load -s memoize decorators.py"
   ]
  },
  {
   "cell_type": "markdown",
   "metadata": {
    "slideshow": {
     "slide_type": "slide"
    }
   },
   "source": [
    "**Effektivisering av Fibonacci:**"
   ]
  },
  {
   "cell_type": "code",
   "execution_count": null,
   "metadata": {},
   "outputs": [],
   "source": [
    "@memoize\n",
    "def fib(n):\n",
    "    '''Fibonacci.'''\n",
    "    print(f\"Computing fib({n}).\")\n",
    "    if n < 2:\n",
    "        return n\n",
    "    return fib(n - 1) + fib(n - 2)"
   ]
  },
  {
   "cell_type": "markdown",
   "metadata": {
    "slideshow": {
     "slide_type": "fragment"
    }
   },
   "source": [
    "Da sikrer man at funksjonen kun kalles på én gang for hver `n`:"
   ]
  },
  {
   "cell_type": "code",
   "execution_count": null,
   "metadata": {},
   "outputs": [],
   "source": [
    "assert fib(6) == 8"
   ]
  },
  {
   "cell_type": "markdown",
   "metadata": {
    "slideshow": {
     "slide_type": "fragment"
    }
   },
   "source": [
    "Kaller du på `fib` med høyere `n` blir kun *nye* `n` faktisk regnet ut:"
   ]
  },
  {
   "cell_type": "code",
   "execution_count": null,
   "metadata": {},
   "outputs": [],
   "source": [
    "assert fib(18) == 2584"
   ]
  },
  {
   "cell_type": "markdown",
   "metadata": {
    "slideshow": {
     "slide_type": "fragment"
    }
   },
   "source": [
    "Mens for lavere `n` hentes output rett ut fra lageret:"
   ]
  },
  {
   "cell_type": "code",
   "execution_count": null,
   "metadata": {},
   "outputs": [],
   "source": [
    "assert fib(8) == 21"
   ]
  },
  {
   "cell_type": "markdown",
   "metadata": {
    "slideshow": {
     "slide_type": "slide"
    }
   },
   "source": [
    "## Overblikk over funksjonell Programmering"
   ]
  },
  {
   "cell_type": "markdown",
   "metadata": {
    "slideshow": {
     "slide_type": "fragment"
    }
   },
   "source": [
    "- Navn, navnerom og skop"
   ]
  },
  {
   "cell_type": "markdown",
   "metadata": {
    "slideshow": {
     "slide_type": "fragment"
    }
   },
   "source": [
    "- *Rene* funksjoner "
   ]
  },
  {
   "cell_type": "markdown",
   "metadata": {
    "slideshow": {
     "slide_type": "fragment"
    }
   },
   "source": [
    "- Indre og ytre funksjoner"
   ]
  },
  {
   "cell_type": "markdown",
   "metadata": {
    "slideshow": {
     "slide_type": "fragment"
    }
   },
   "source": [
    "- Funksjoner av høyere orden "
   ]
  },
  {
   "cell_type": "markdown",
   "metadata": {
    "slideshow": {
     "slide_type": "fragment"
    }
   },
   "source": [
    "- Funksjonslukking og dekoratører"
   ]
  },
  {
   "cell_type": "markdown",
   "metadata": {
    "slideshow": {
     "slide_type": "fragment"
    }
   },
   "source": [
    "- Rekursjon"
   ]
  },
  {
   "cell_type": "markdown",
   "metadata": {
    "slideshow": {
     "slide_type": "fragment"
    }
   },
   "source": [
    "- Memoization"
   ]
  },
  {
   "cell_type": "markdown",
   "metadata": {
    "slideshow": {
     "slide_type": "notes"
    }
   },
   "source": [
    "Og det var slutten på Python for nå!"
   ]
  }
 ],
 "metadata": {
  "celltoolbar": "Slideshow",
  "kernelspec": {
   "display_name": "Python 3 (ipykernel)",
   "language": "python",
   "name": "python3"
  },
  "language_info": {
   "codemirror_mode": {
    "name": "ipython",
    "version": 3
   },
   "file_extension": ".py",
   "mimetype": "text/x-python",
   "name": "python",
   "nbconvert_exporter": "python",
   "pygments_lexer": "ipython3",
   "version": "3.10.5"
  },
  "vscode": {
   "interpreter": {
    "hash": "190cafc93a7c2c49a6ea227d53366c310c32565680693c36f3a06dea9bb66b47"
   }
  }
 },
 "nbformat": 4,
 "nbformat_minor": 2
}
