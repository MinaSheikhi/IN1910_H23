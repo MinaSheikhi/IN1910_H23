{
 "cells": [
  {
   "cell_type": "markdown",
   "metadata": {
    "hide_input": true,
    "slideshow": {
     "slide_type": "skip"
    }
   },
   "source": [
    "# Lecture 21 - Pandas and matplotlib"
   ]
  },
  {
   "cell_type": "markdown",
   "metadata": {
    "slideshow": {
     "slide_type": "slide"
    }
   },
   "source": [
    "## Pandas og Matplotlib"
   ]
  },
  {
   "cell_type": "markdown",
   "metadata": {
    "slideshow": {
     "slide_type": "slide"
    }
   },
   "source": [
    "### Mål\n",
    "\n",
    "- Enkel bruk av `pandas`\n",
    "- Vise ulike måter å visualisere data ved hjelp av `matplotlib`\n",
    "- Forklare hvordan man bygger opp en plot\n",
    "- Tips og triks"
   ]
  },
  {
   "cell_type": "markdown",
   "metadata": {
    "slideshow": {
     "slide_type": "slide"
    }
   },
   "source": [
    "## Hvorfor er visualisering viktig i naturvitenskap?"
   ]
  },
  {
   "cell_type": "markdown",
   "metadata": {
    "slideshow": {
     "slide_type": "fragment"
    }
   },
   "source": [
    "* Formidlig\n",
    "    - formidle resultater på en måte som er lett å forstå slik at forskning blir formidlet på en riktig måte\n",
    "    - Spesielt viktig for beslutningstakere (statsledere)\n",
    "* Utforskning\n",
    "    - visualisering kan bidra til å se på data på en ny måte og gi ny innsikt"
   ]
  },
  {
   "cell_type": "markdown",
   "metadata": {
    "slideshow": {
     "slide_type": "slide"
    }
   },
   "source": [
    "## Eksempel - FNs klimarapport (Summary for policymakers)\n",
    "\n",
    "![](fn_klima.png)\n",
    "\n",
    "https://www.ipcc.ch/report/ar6/wg1/downloads/report/IPCC_AR6_WGI_SPM_final.pdf"
   ]
  },
  {
   "cell_type": "markdown",
   "metadata": {
    "slideshow": {
     "slide_type": "slide"
    }
   },
   "source": [
    "## Eksempel data \n",
    "\n",
    "Vi vil bruke offentlig data på Covid19 i Norge (https://github.com/thohan88/covid19-nor-data)"
   ]
  },
  {
   "cell_type": "markdown",
   "metadata": {
    "slideshow": {
     "slide_type": "slide"
    }
   },
   "source": [
    "### Hvordan skal vi lese dataene?\n",
    "\n",
    "Formatet som brukes her heter `csv` (comma-separated-values).\n",
    "\n",
    "Det finnes en pakke i python som heter `csv`.\n",
    "\n",
    "Vi kommer til å bruke `pandas` som er et mye brukt bibliotekt for de som driver med \"data science\"\n",
    "\n",
    "```\n",
    "python -m pip install pandas\n",
    "```"
   ]
  },
  {
   "cell_type": "markdown",
   "metadata": {
    "slideshow": {
     "slide_type": "slide"
    }
   },
   "source": [
    "### Åpne dataene"
   ]
  },
  {
   "cell_type": "code",
   "execution_count": null,
   "metadata": {
    "slideshow": {
     "slide_type": "-"
    }
   },
   "outputs": [],
   "source": [
    "# Filenavn\n",
    "path = \"infected.csv\"\n",
    "# url = \"https://raw.githubusercontent.com/thohan88/covid19-nor-data/37b6b32d32db05b08dda15f002dcc2198836d4c1/data/01_infected/msis/municipality_wide.csv\"\n",
    "url = \"https://raw.githubusercontent.com/thohan88/covid19-nor-data/1d53c3ed8b6bc404eef54956e07deaea76c8ef1a/data/01_infected/msis/municipality_wide.csv\"\n",
    "\n",
    "\n",
    "# Download data\n",
    "# import urllib.request\n",
    "# urllib.request.urlretrieve(url, path)\n",
    "\n",
    "import pandas\n",
    "# df_infected = pandas.read_csv(path)\n",
    "df_infected = pandas.read_csv(url)"
   ]
  },
  {
   "cell_type": "code",
   "execution_count": null,
   "metadata": {
    "slideshow": {
     "slide_type": "slide"
    }
   },
   "outputs": [],
   "source": [
    "# Se på info\n",
    "df_infected.info()\n",
    "\n",
    "# Se på en beskrivelse\n",
    "# df_infected.describe()\n",
    "\n",
    "# Se hvilke kolonner vi har\n",
    "# df_infected.columns\n",
    "\n",
    "# Se på de første 10 elementene\n",
    "# df_infected[:10]\n",
    "#df_infected.head(n=10)"
   ]
  },
  {
   "cell_type": "markdown",
   "metadata": {
    "slideshow": {
     "slide_type": "slide"
    }
   },
   "source": [
    "### Velge noen få kolonner"
   ]
  },
  {
   "cell_type": "code",
   "execution_count": null,
   "metadata": {},
   "outputs": [],
   "source": []
  },
  {
   "cell_type": "code",
   "execution_count": null,
   "metadata": {
    "slideshow": {
     "slide_type": "fragment"
    }
   },
   "outputs": [],
   "source": [
    "# Beolkningstall i hver kommune\n",
    "kommune_pop = df_infected[[\"kommune_name\", \"population\"]]\n",
    "kommune_pop"
   ]
  },
  {
   "cell_type": "markdown",
   "metadata": {
    "scrolled": true,
    "slideshow": {
     "slide_type": "slide"
    }
   },
   "source": [
    "## Bruke pandas plotting til å plotte populasjonen i hver kommune"
   ]
  },
  {
   "cell_type": "code",
   "execution_count": null,
   "metadata": {},
   "outputs": [],
   "source": []
  },
  {
   "cell_type": "code",
   "execution_count": null,
   "metadata": {
    "slideshow": {
     "slide_type": "fragment"
    }
   },
   "outputs": [],
   "source": [
    "df_infected[:30].plot(\"kommune_name\", \"population\", \"bar\", figsize=(10, 6))"
   ]
  },
  {
   "cell_type": "markdown",
   "metadata": {
    "slideshow": {
     "slide_type": "slide"
    }
   },
   "source": [
    "## Hva om vi ønsker å se på kun Viken fylke?"
   ]
  },
  {
   "cell_type": "markdown",
   "metadata": {
    "slideshow": {
     "slide_type": "fragment"
    }
   },
   "source": [
    "La oss se på et enklere problem først. Hvordan kan jeg hente ut elementene som er større enn 10"
   ]
  },
  {
   "cell_type": "code",
   "execution_count": null,
   "metadata": {},
   "outputs": [],
   "source": [
    "import numpy as np\n",
    "np.random.seed(1)\n",
    "x = np.random.randint(0, 20, size=20)\n",
    "x"
   ]
  },
  {
   "cell_type": "markdown",
   "metadata": {
    "slideshow": {
     "slide_type": "slide"
    }
   },
   "source": [
    "## Her kan det være fristende å bruke en list comprehension"
   ]
  },
  {
   "cell_type": "code",
   "execution_count": null,
   "metadata": {},
   "outputs": [],
   "source": []
  },
  {
   "cell_type": "code",
   "execution_count": null,
   "metadata": {
    "slideshow": {
     "slide_type": "fragment"
    }
   },
   "outputs": [],
   "source": [
    "[xi for xi in x if xi > 10]"
   ]
  },
  {
   "cell_type": "markdown",
   "metadata": {
    "slideshow": {
     "slide_type": "slide"
    }
   },
   "source": [
    "## Her bør vi istedet bruke numpy sin innebygde logikk"
   ]
  },
  {
   "cell_type": "code",
   "execution_count": null,
   "metadata": {},
   "outputs": [],
   "source": []
  },
  {
   "cell_type": "code",
   "execution_count": null,
   "metadata": {
    "slideshow": {
     "slide_type": "fragment"
    }
   },
   "outputs": [],
   "source": [
    "# Konverter arrayet til et bolsk array (True eller False)\n",
    "larger_than_10 = x > 10\n",
    "larger_than_10"
   ]
  },
  {
   "cell_type": "code",
   "execution_count": null,
   "metadata": {
    "slideshow": {
     "slide_type": "fragment"
    }
   },
   "outputs": [],
   "source": [
    "# Evaluer x \n",
    "x[larger_than_10]"
   ]
  },
  {
   "cell_type": "markdown",
   "metadata": {
    "slideshow": {
     "slide_type": "slide"
    }
   },
   "source": [
    "## La oss se hva som er mest effektivt"
   ]
  },
  {
   "cell_type": "code",
   "execution_count": null,
   "metadata": {},
   "outputs": [],
   "source": [
    "x = np.random.randint(0, 20, size=20_000)"
   ]
  },
  {
   "cell_type": "code",
   "execution_count": null,
   "metadata": {},
   "outputs": [],
   "source": [
    "%time y1 = x[x > 10]\n"
   ]
  },
  {
   "cell_type": "code",
   "execution_count": null,
   "metadata": {},
   "outputs": [],
   "source": [
    "%time y2 = [xi for xi in x if xi > 10]"
   ]
  },
  {
   "cell_type": "markdown",
   "metadata": {
    "slideshow": {
     "slide_type": "slide"
    }
   },
   "source": [
    "### Vi kan gjøre samme triks i `pandas`\n",
    "Hent ut alle rader med `\"fylke_name\"` lik `\"Viken\"`"
   ]
  },
  {
   "cell_type": "code",
   "execution_count": null,
   "metadata": {},
   "outputs": [],
   "source": []
  },
  {
   "cell_type": "code",
   "execution_count": null,
   "metadata": {
    "scrolled": false,
    "slideshow": {
     "slide_type": "fragment"
    }
   },
   "outputs": [],
   "source": [
    "df_infected[\"fylke_name\"] == \"Viken\""
   ]
  },
  {
   "cell_type": "code",
   "execution_count": null,
   "metadata": {},
   "outputs": [],
   "source": [
    "df_viken = df_infected[df_infected[\"fylke_name\"] == \"Viken\"]\n",
    "df_viken"
   ]
  },
  {
   "cell_type": "code",
   "execution_count": null,
   "metadata": {
    "slideshow": {
     "slide_type": "slide"
    }
   },
   "outputs": [],
   "source": [
    "df_infected[df_infected[\"fylke_name\"] == \"Viken\"].plot(\"kommune_name\", \"population\", \"bar\", figsize=(12, 6))"
   ]
  },
  {
   "cell_type": "markdown",
   "metadata": {
    "slideshow": {
     "slide_type": "slide"
    }
   },
   "source": [
    "### Se på data for Oslo\n",
    "\n",
    "Velg data hvor `\"fylke_name\"` er lik `\"Oslo\"`"
   ]
  },
  {
   "cell_type": "code",
   "execution_count": null,
   "metadata": {},
   "outputs": [],
   "source": []
  },
  {
   "cell_type": "code",
   "execution_count": null,
   "metadata": {
    "scrolled": true,
    "slideshow": {
     "slide_type": "fragment"
    }
   },
   "outputs": [],
   "source": [
    "oslo = df_infected[df_infected['fylke_name'] == \"Oslo\"]\n",
    "oslo"
   ]
  },
  {
   "cell_type": "markdown",
   "metadata": {
    "slideshow": {
     "slide_type": "fragment"
    }
   },
   "source": [
    "Vi ønsker å hente ut en liste over antall smittede. Du kan få verdiene ut ved å bruke `.values`"
   ]
  },
  {
   "cell_type": "code",
   "execution_count": null,
   "metadata": {},
   "outputs": [],
   "source": []
  },
  {
   "cell_type": "code",
   "execution_count": null,
   "metadata": {
    "slideshow": {
     "slide_type": "fragment"
    }
   },
   "outputs": [],
   "source": [
    "oslo_infected = oslo.values[0, 6:].astype(int)\n",
    "print(oslo_infected[:20])"
   ]
  },
  {
   "cell_type": "markdown",
   "metadata": {
    "slideshow": {
     "slide_type": "slide"
    }
   },
   "source": [
    "### Vi kan få data for hele Norge ved å summere kolonnene\n",
    "Lag et nytt array hvor du summerer over første akse"
   ]
  },
  {
   "cell_type": "code",
   "execution_count": null,
   "metadata": {
    "slideshow": {
     "slide_type": "fragment"
    }
   },
   "outputs": [],
   "source": [
    "df_infected.values.shape"
   ]
  },
  {
   "cell_type": "code",
   "execution_count": null,
   "metadata": {},
   "outputs": [],
   "source": []
  },
  {
   "cell_type": "code",
   "execution_count": null,
   "metadata": {
    "slideshow": {
     "slide_type": "fragment"
    }
   },
   "outputs": [],
   "source": [
    "# Remove colmns with info about fylke, commune etc\n",
    "all_values = df_infected.values[:, 6:].astype(int)\n",
    "# Sum along columns\n",
    "norway_infected = all_values.sum(axis=0)\n",
    "print(norway_infected[:10])\n",
    "print(f\"Total antall registrert smittede med covid: {norway_infected[-1]:,}\")"
   ]
  },
  {
   "cell_type": "markdown",
   "metadata": {
    "slideshow": {
     "slide_type": "slide"
    }
   },
   "source": [
    "### Plot dataene\n",
    "\n",
    "Plot data for Oslo og Norge"
   ]
  },
  {
   "cell_type": "code",
   "execution_count": null,
   "metadata": {},
   "outputs": [],
   "source": []
  },
  {
   "cell_type": "code",
   "execution_count": null,
   "metadata": {
    "slideshow": {
     "slide_type": "fragment"
    }
   },
   "outputs": [],
   "source": [
    "%matplotlib inline\n",
    "import matplotlib.pyplot as plt\n",
    "plt.plot(oslo_infected)\n",
    "plt.plot(norway_infected)\n",
    "plt.show()"
   ]
  },
  {
   "cell_type": "markdown",
   "metadata": {
    "slideshow": {
     "slide_type": "slide"
    }
   },
   "source": [
    "### Plotte nye smittede\n",
    "Plot nye smittede ved bruke `np.diff`"
   ]
  },
  {
   "cell_type": "code",
   "execution_count": null,
   "metadata": {},
   "outputs": [],
   "source": []
  },
  {
   "cell_type": "code",
   "execution_count": null,
   "metadata": {
    "slideshow": {
     "slide_type": "fragment"
    }
   },
   "outputs": [],
   "source": [
    "import numpy as np\n",
    "oslo_new_infected = np.diff(oslo_infected)\n",
    "norway_new_infected = np.diff(norway_infected)\n",
    "plt.plot(oslo_new_infected)\n",
    "plt.plot(norway_new_infected)\n",
    "plt.savefig(\"new_infected.png\")\n",
    "plt.show()"
   ]
  },
  {
   "cell_type": "markdown",
   "metadata": {
    "slideshow": {
     "slide_type": "slide"
    }
   },
   "source": [
    "### Matplotlib modellen\n",
    "\n",
    "- Vi skiller mellom \"figure\" og \"axes\"\n",
    "- Vi kan ha flere axes i en figur\n",
    "- Vi plotter i hver axes\n",
    "\n",
    "Merk axes er ikke det samme som axis (x-akse og y-akse)"
   ]
  },
  {
   "cell_type": "code",
   "execution_count": null,
   "metadata": {
    "slideshow": {
     "slide_type": "slide"
    }
   },
   "outputs": [],
   "source": []
  },
  {
   "cell_type": "code",
   "execution_count": null,
   "metadata": {
    "scrolled": true,
    "slideshow": {
     "slide_type": "fragment"
    }
   },
   "outputs": [],
   "source": [
    "fig, ax = plt.subplots()\n",
    "# Vi bruker axes til å plotte\n",
    "ax.plot(oslo_infected)\n",
    "ax.plot(norway_infected)\n",
    "plt.show()\n",
    "print(\"ax = \", ax)\n",
    "print(\"fig = \", fig)\n"
   ]
  },
  {
   "cell_type": "markdown",
   "metadata": {
    "slideshow": {
     "slide_type": "slide"
    }
   },
   "source": [
    "Hva er foredelen ved å bruke\n",
    "\n",
    "```python\n",
    "fig, ax = plt.subplots()\n",
    "ax.plot(norway_new_infected)\n",
    "fig.savefig(\"new_infected.png\")\n",
    "```\n",
    "mot \n",
    "\n",
    "```python\n",
    "plt.plot(norway_new_infected)\n",
    "plt.savefig(\"new_infected.png\")\n",
    "```\n",
    "?"
   ]
  },
  {
   "cell_type": "markdown",
   "metadata": {
    "slideshow": {
     "slide_type": "slide"
    }
   },
   "source": [
    "### Vi har full kontroll over plottene\n",
    "\n",
    "```python\n",
    "fig_new_infected, ax_new_infected = plt.subplots()\n",
    "fig_total_infected, ax_total_infected = plt.subplots()\n",
    "\n",
    "ax_new_infected.plot(norway_new_infected)\n",
    "ax_total_infected.plot(norway_infected)\n",
    "\n",
    "fig_new_infected.savefig(\"new_infected.png\")\n",
    "fig_total_infected.savefig(\"total_infected.png\")\n",
    "```"
   ]
  },
  {
   "cell_type": "markdown",
   "metadata": {
    "slideshow": {
     "slide_type": "slide"
    }
   },
   "source": [
    "### Hva er det som egentlig skjer når du skriver `plt.plot`?\n",
    "\n",
    "```python\n",
    "# Fra pyplot.plot:\n",
    "def plot(*args, **kwargs):\n",
    "    ax = gca()  # gca = get current axes\n",
    "    ax.plot(*args, **kwargs)\n",
    "```"
   ]
  },
  {
   "cell_type": "markdown",
   "metadata": {
    "slideshow": {
     "slide_type": "slide"
    }
   },
   "source": [
    "### Hva er det som egentlig skjer når du skriver `plt.savefig`?\n",
    "\n",
    "```python\n",
    "# Fra pyplot.savefig\n",
    "def savefig(*args, **kwargs):\n",
    "    fig = gcf()  # gcf = get current figure\n",
    "    fig.savefig(*args, **kwargs)\n",
    "```"
   ]
  },
  {
   "cell_type": "markdown",
   "metadata": {
    "slideshow": {
     "slide_type": "slide"
    }
   },
   "source": [
    "### Vi kan også bruke dette til å lage subplots"
   ]
  },
  {
   "cell_type": "code",
   "execution_count": null,
   "metadata": {},
   "outputs": [],
   "source": []
  },
  {
   "cell_type": "code",
   "execution_count": null,
   "metadata": {
    "scrolled": false,
    "slideshow": {
     "slide_type": "fragment"
    }
   },
   "outputs": [],
   "source": [
    "# plt.subplots(nrows=1, ncols=1)  # default\n",
    "fig, axs = plt.subplots(2, 1, figsize=(12, 8))"
   ]
  },
  {
   "cell_type": "code",
   "execution_count": null,
   "metadata": {
    "slideshow": {
     "slide_type": "fragment"
    }
   },
   "outputs": [],
   "source": [
    "print(axs)\n",
    "print(axs.shape)"
   ]
  },
  {
   "cell_type": "code",
   "execution_count": null,
   "metadata": {
    "slideshow": {
     "slide_type": "fragment"
    }
   },
   "outputs": [],
   "source": [
    "print(fig)"
   ]
  },
  {
   "cell_type": "markdown",
   "metadata": {
    "slideshow": {
     "slide_type": "slide"
    }
   },
   "source": [
    "### Lage et 2 x 2 plot"
   ]
  },
  {
   "cell_type": "code",
   "execution_count": null,
   "metadata": {},
   "outputs": [],
   "source": []
  },
  {
   "cell_type": "code",
   "execution_count": null,
   "metadata": {
    "scrolled": true,
    "slideshow": {
     "slide_type": "fragment"
    }
   },
   "outputs": [],
   "source": [
    "fig, axs = plt.subplots(2, 2, figsize=(10, 4))"
   ]
  },
  {
   "cell_type": "code",
   "execution_count": null,
   "metadata": {
    "slideshow": {
     "slide_type": "fragment"
    }
   },
   "outputs": [],
   "source": [
    "print(axs)\n",
    "print(axs.shape)\n"
   ]
  },
  {
   "cell_type": "code",
   "execution_count": null,
   "metadata": {
    "slideshow": {
     "slide_type": "fragment"
    }
   },
   "outputs": [],
   "source": [
    "axs_flat = axs.flatten()\n",
    "print(axs_flat)\n",
    "print(axs_flat.shape)"
   ]
  },
  {
   "cell_type": "markdown",
   "metadata": {
    "slideshow": {
     "slide_type": "slide"
    }
   },
   "source": [
    "### Here er ulike objekter i en figure\n",
    "\n",
    "![_](https://matplotlib.org/_images/anatomy.png)\n",
    "\n",
    "<https://matplotlib.org/_images/anatomy.png>"
   ]
  },
  {
   "cell_type": "markdown",
   "metadata": {
    "slideshow": {
     "slide_type": "slide"
    }
   },
   "source": [
    "### I hver axes kan vi lage ulike plot\n",
    "Plot total anntall smittede i første subplot og nye smittede i andre subplot"
   ]
  },
  {
   "cell_type": "code",
   "execution_count": null,
   "metadata": {},
   "outputs": [],
   "source": []
  },
  {
   "cell_type": "code",
   "execution_count": null,
   "metadata": {
    "scrolled": true,
    "slideshow": {
     "slide_type": "fragment"
    }
   },
   "outputs": [],
   "source": [
    "fig, axs = plt.subplots(1, 2, figsize=(10, 4))\n",
    "axs[0].plot(oslo_infected)\n",
    "axs[0].plot(norway_infected)\n",
    "\n",
    "axs[1].plot(oslo_new_infected)\n",
    "axs[1].plot(norway_new_infected)\n",
    "plt.show()"
   ]
  },
  {
   "cell_type": "markdown",
   "metadata": {
    "slideshow": {
     "slide_type": "slide"
    }
   },
   "source": [
    "### Vi kan også endre organiseringen"
   ]
  },
  {
   "cell_type": "code",
   "execution_count": null,
   "metadata": {},
   "outputs": [],
   "source": []
  },
  {
   "cell_type": "code",
   "execution_count": null,
   "metadata": {
    "slideshow": {
     "slide_type": "fragment"
    }
   },
   "outputs": [],
   "source": [
    "fig, axs = plt.subplots(2, 1, figsize=(10, 4))\n",
    "axs[0].plot(oslo_infected)\n",
    "axs[0].plot(norway_infected)\n",
    "\n",
    "axs[1].plot(oslo_new_infected)\n",
    "axs[1].plot(norway_new_infected)\n",
    "plt.show()"
   ]
  },
  {
   "cell_type": "markdown",
   "metadata": {
    "slideshow": {
     "slide_type": "slide"
    }
   },
   "source": [
    "### I dette tilfelle bruker vi samme x-axse så da kan det være nyttig å dele denne"
   ]
  },
  {
   "cell_type": "code",
   "execution_count": null,
   "metadata": {},
   "outputs": [],
   "source": []
  },
  {
   "cell_type": "code",
   "execution_count": null,
   "metadata": {
    "slideshow": {
     "slide_type": "fragment"
    }
   },
   "outputs": [],
   "source": [
    "fig, axs = plt.subplots(2, 1, figsize=(10, 8), sharex=True)\n",
    "axs[0].plot(oslo_infected)\n",
    "axs[0].plot(norway_infected)\n",
    "\n",
    "axs[1].plot(oslo_new_infected)\n",
    "axs[1].plot(norway_new_infected)\n",
    "plt.show()"
   ]
  },
  {
   "cell_type": "markdown",
   "metadata": {
    "slideshow": {
     "slide_type": "slide"
    }
   },
   "source": [
    "### Vi må sette på en legend som viser hvilke data som er hvilke"
   ]
  },
  {
   "cell_type": "code",
   "execution_count": null,
   "metadata": {},
   "outputs": [],
   "source": []
  },
  {
   "cell_type": "code",
   "execution_count": null,
   "metadata": {
    "slideshow": {
     "slide_type": "fragment"
    }
   },
   "outputs": [],
   "source": [
    "fig, ax = plt.subplots()\n",
    "l1, = ax.plot(oslo_infected)\n",
    "\n",
    "l2, = ax.plot(norway_infected)\n",
    "ax.legend((l1, l2), (\"Oslo\", \"Norway\"))\n",
    "plt.show()"
   ]
  },
  {
   "cell_type": "markdown",
   "metadata": {
    "slideshow": {
     "slide_type": "slide"
    }
   },
   "source": [
    "### Det går også an å sende inn labels som argumenter til plots"
   ]
  },
  {
   "cell_type": "code",
   "execution_count": null,
   "metadata": {},
   "outputs": [],
   "source": []
  },
  {
   "cell_type": "code",
   "execution_count": null,
   "metadata": {
    "slideshow": {
     "slide_type": "fragment"
    }
   },
   "outputs": [],
   "source": [
    "fig, ax = plt.subplots()\n",
    "ax.plot(oslo_infected, label=\"Oslo\")\n",
    "ax.plot(norway_infected, label=\"Norway\")\n",
    "ax.legend()\n",
    "plt.show()"
   ]
  },
  {
   "cell_type": "markdown",
   "metadata": {
    "slideshow": {
     "slide_type": "slide"
    }
   },
   "source": [
    "### Plassering av legend\n",
    "https://matplotlib.org/stable/api/_as_gen/matplotlib.pyplot.legend.html"
   ]
  },
  {
   "cell_type": "code",
   "execution_count": null,
   "metadata": {},
   "outputs": [],
   "source": []
  },
  {
   "cell_type": "code",
   "execution_count": null,
   "metadata": {
    "scrolled": true,
    "slideshow": {
     "slide_type": "fragment"
    }
   },
   "outputs": [],
   "source": [
    "fig, ax = plt.subplots()\n",
    "ax.plot(oslo_infected, label=\"Oslo\")\n",
    "ax.plot(norway_infected, label=\"Norway\")\n",
    "ax.legend(loc=\"best\")\n",
    "plt.show()"
   ]
  },
  {
   "cell_type": "markdown",
   "metadata": {
    "slideshow": {
     "slide_type": "slide"
    }
   },
   "source": [
    "Hvis du ønsker å plassere legend utenfor kan du bruke `bbox_to_anchor`"
   ]
  },
  {
   "cell_type": "code",
   "execution_count": null,
   "metadata": {},
   "outputs": [],
   "source": []
  },
  {
   "cell_type": "code",
   "execution_count": null,
   "metadata": {
    "slideshow": {
     "slide_type": "fragment"
    }
   },
   "outputs": [],
   "source": [
    "fig, ax = plt.subplots()\n",
    "ax.plot(oslo_infected, label=\"Oslo\")\n",
    "ax.plot(norway_infected, label=\"Norway\")\n",
    "ax.legend(bbox_to_anchor=(0, 1), loc='upper left')\n",
    "plt.show()"
   ]
  },
  {
   "cell_type": "markdown",
   "metadata": {
    "slideshow": {
     "slide_type": "slide"
    }
   },
   "source": [
    "### Hva med legend for subplots?"
   ]
  },
  {
   "cell_type": "code",
   "execution_count": null,
   "metadata": {},
   "outputs": [],
   "source": []
  },
  {
   "cell_type": "code",
   "execution_count": null,
   "metadata": {
    "slideshow": {
     "slide_type": "fragment"
    }
   },
   "outputs": [],
   "source": [
    "fig, axs = plt.subplots(1, 2, figsize=(10, 4))\n",
    "axs[0].plot(oslo_infected, label=\"Oslo\")\n",
    "axs[0].plot(norway_infected, label=\"Norway\")\n",
    "\n",
    "axs[1].plot(oslo_new_infected, label=\"Oslo\")\n",
    "axs[1].plot(norway_new_infected, label=\"Norway\")\n",
    "\n",
    "for ax in axs:\n",
    "    ax.legend()\n",
    "plt.show()"
   ]
  },
  {
   "cell_type": "markdown",
   "metadata": {
    "slideshow": {
     "slide_type": "slide"
    }
   },
   "source": [
    "### Hva om vi ønsker en felles lenged?"
   ]
  },
  {
   "cell_type": "code",
   "execution_count": null,
   "metadata": {},
   "outputs": [],
   "source": []
  },
  {
   "cell_type": "code",
   "execution_count": null,
   "metadata": {
    "scrolled": false,
    "slideshow": {
     "slide_type": "fragment"
    }
   },
   "outputs": [],
   "source": [
    "fig, axs = plt.subplots(1, 2, figsize=(10, 4))\n",
    "l1, = axs[0].plot(oslo_infected, color=\"tab:blue\")\n",
    "l2, = axs[0].plot(norway_infected, color=\"tab:orange\")\n",
    "\n",
    "axs[1].plot(oslo_new_infected, color=\"tab:blue\")\n",
    "axs[1].plot(norway_new_infected, color=\"tab:orange\")\n",
    "\n",
    "fig.subplots_adjust(right=0.88)\n",
    "fig.legend((l1, l2), (\"Oslo\", \"Norway\"), loc='center right')\n",
    "# fig.savefig(\"subplots_common_legend.png\")\n",
    "\n",
    "# Kan også gjøre dette, men da kan legenden bli kuttet bort ved lagring\n",
    "# axs[1].legend((l1, l2), (\"Oslo\", \"Norway\"), bbox_to_anchor=(1, 0.5), loc='center left')\n",
    "# Send med bbox_inches=\"tight\" for å ungå dette\n",
    "# fig.savefig(\"subplots_common_legend.png\") #, bbox_inches=\"tight\")\n",
    "# plt.show()\n",
    "# !open subplots_common_legend.png"
   ]
  },
  {
   "cell_type": "markdown",
   "metadata": {
    "slideshow": {
     "slide_type": "slide"
    }
   },
   "source": [
    "### Sette på grid"
   ]
  },
  {
   "cell_type": "code",
   "execution_count": null,
   "metadata": {},
   "outputs": [],
   "source": []
  },
  {
   "cell_type": "code",
   "execution_count": null,
   "metadata": {
    "scrolled": true,
    "slideshow": {
     "slide_type": "fragment"
    }
   },
   "outputs": [],
   "source": [
    "fig, ax = plt.subplots()\n",
    "ax.plot(oslo_infected, label=\"Oslo\")\n",
    "ax.plot(norway_infected, label=\"Norway\")\n",
    "ax.grid()\n",
    "ax.legend(bbox_to_anchor=(1, 1), loc='upper left')\n",
    "plt.show()"
   ]
  },
  {
   "cell_type": "markdown",
   "metadata": {
    "slideshow": {
     "slide_type": "slide"
    }
   },
   "source": [
    "### Sette på tittel"
   ]
  },
  {
   "cell_type": "code",
   "execution_count": null,
   "metadata": {},
   "outputs": [],
   "source": []
  },
  {
   "cell_type": "code",
   "execution_count": null,
   "metadata": {
    "slideshow": {
     "slide_type": "fragment"
    }
   },
   "outputs": [],
   "source": [
    "fig, ax = plt.subplots()\n",
    "ax.plot(oslo_infected, label=\"Oslo\")\n",
    "ax.plot(norway_infected, label=\"Norway\")\n",
    "ax.set_title(\"Total infected\")\n",
    "#plt.title(\"Title\")  # sjekk plt.title??\n",
    "print(ax.title)\n",
    "ax.legend(bbox_to_anchor=(1, 1), loc='upper left')\n",
    "plt.show()"
   ]
  },
  {
   "cell_type": "markdown",
   "metadata": {
    "slideshow": {
     "slide_type": "slide"
    }
   },
   "source": [
    "### Xlabels og Ylabels"
   ]
  },
  {
   "cell_type": "code",
   "execution_count": null,
   "metadata": {},
   "outputs": [],
   "source": []
  },
  {
   "cell_type": "code",
   "execution_count": null,
   "metadata": {
    "slideshow": {
     "slide_type": "fragment"
    }
   },
   "outputs": [],
   "source": [
    "fig, ax = plt.subplots()\n",
    "ax.plot(oslo_infected, label=\"Oslo\")\n",
    "ax.plot(norway_infected, label=\"Norway\")\n",
    "ax.grid()\n",
    "ax.set_xlabel(\"Days\")\n",
    "ax.set_ylabel(\"Total infected\")\n",
    "ax.legend(bbox_to_anchor=(1, 1), loc='upper left')\n",
    "plt.show()"
   ]
  },
  {
   "cell_type": "markdown",
   "metadata": {
    "slideshow": {
     "slide_type": "slide"
    }
   },
   "source": [
    "### Xticks"
   ]
  },
  {
   "cell_type": "code",
   "execution_count": null,
   "metadata": {},
   "outputs": [],
   "source": []
  },
  {
   "cell_type": "code",
   "execution_count": null,
   "metadata": {
    "scrolled": false,
    "slideshow": {
     "slide_type": "fragment"
    }
   },
   "outputs": [],
   "source": [
    "fig, ax = plt.subplots()\n",
    "x = np.arange(len(oslo_infected))\n",
    "ax.plot(x, oslo_infected, label=\"Oslo\")\n",
    "ax.plot(x, norway_infected, label=\"Norway\")\n",
    "ax.grid()\n",
    "ax.legend(bbox_to_anchor=(1, 1), loc='upper left')\n",
    "ax.set_xticks([0, 150, 200, 352, 420, 500])\n",
    "plt.show()"
   ]
  },
  {
   "cell_type": "markdown",
   "metadata": {
    "slideshow": {
     "slide_type": "slide"
    }
   },
   "source": [
    "### Yticks"
   ]
  },
  {
   "cell_type": "code",
   "execution_count": null,
   "metadata": {},
   "outputs": [],
   "source": []
  },
  {
   "cell_type": "code",
   "execution_count": null,
   "metadata": {
    "slideshow": {
     "slide_type": "fragment"
    }
   },
   "outputs": [],
   "source": [
    "fig, ax = plt.subplots()\n",
    "x = np.arange(len(oslo_infected))\n",
    "ax.plot(x, oslo_infected, label=\"Oslo\")\n",
    "ax.plot(x, norway_infected, label=\"Norway\")\n",
    "ax.grid()\n",
    "ax.legend(bbox_to_anchor=(1, 1), loc='upper left')\n",
    "ax.set_yticks([0, 50_000, 100_000, 150_000])\n",
    "ax.set_xticks([0, 150, 200, 352, 420, 500])\n",
    "plt.show()"
   ]
  },
  {
   "cell_type": "markdown",
   "metadata": {
    "slideshow": {
     "slide_type": "slide"
    }
   },
   "source": [
    "### Xticklabels"
   ]
  },
  {
   "cell_type": "code",
   "execution_count": null,
   "metadata": {},
   "outputs": [],
   "source": []
  },
  {
   "cell_type": "code",
   "execution_count": null,
   "metadata": {
    "scrolled": true,
    "slideshow": {
     "slide_type": "fragment"
    }
   },
   "outputs": [],
   "source": [
    "fig, ax = plt.subplots()\n",
    "x = np.arange(50, len(oslo_infected)+50)\n",
    "ax.plot(x, oslo_infected, label=\"Oslo\")\n",
    "ax.plot(x, norway_infected, label=\"Norway\")\n",
    "ax.grid()\n",
    "ax.legend(bbox_to_anchor=(1, 1), loc='upper left')\n",
    "ax.set_xticks([75, 175])\n",
    "ax.set_xticklabels([\"Point1\", \"Point2\"])\n",
    "plt.show()"
   ]
  },
  {
   "cell_type": "markdown",
   "metadata": {
    "slideshow": {
     "slide_type": "slide"
    }
   },
   "source": [
    "## Vi ønsker å ha datoene på x-aksen\n",
    "\n",
    "Disse ligger i kolonne navnene"
   ]
  },
  {
   "cell_type": "code",
   "execution_count": null,
   "metadata": {},
   "outputs": [],
   "source": []
  },
  {
   "cell_type": "code",
   "execution_count": null,
   "metadata": {
    "scrolled": true,
    "slideshow": {
     "slide_type": "-"
    }
   },
   "outputs": [],
   "source": [
    "dates = df_infected.columns[6:].to_numpy()\n",
    "print(dates)"
   ]
  },
  {
   "cell_type": "markdown",
   "metadata": {
    "slideshow": {
     "slide_type": "slide"
    }
   },
   "source": [
    "## Bruk datoene some xticklabels"
   ]
  },
  {
   "cell_type": "code",
   "execution_count": null,
   "metadata": {},
   "outputs": [],
   "source": []
  },
  {
   "cell_type": "code",
   "execution_count": null,
   "metadata": {
    "scrolled": true,
    "slideshow": {
     "slide_type": "fragment"
    }
   },
   "outputs": [],
   "source": [
    "fig, ax = plt.subplots()\n",
    "# Få datoene fra dataene\n",
    "dates = np.array(df_infected.keys()[6:])\n",
    "\n",
    "x = np.arange(len(oslo_infected))\n",
    "# Velg xticks\n",
    "xticks = np.linspace(0, len(oslo_infected)-1, 6).astype(int)\n",
    "ax.plot(x, oslo_infected, label=\"Oslo\")\n",
    "ax.plot(x, norway_infected, label=\"Norway\")\n",
    "ax.grid()\n",
    "ax.legend(bbox_to_anchor=(1, 1), loc='upper left')\n",
    "ax.set_xticks(xticks)\n",
    "ax.set_xticklabels(dates[xticks], rotation=30)\n",
    "ax.set_xlabel(\"Date\")\n",
    "ax.set_ylabel(\"Total infected\")\n",
    "plt.show()"
   ]
  },
  {
   "cell_type": "markdown",
   "metadata": {
    "slideshow": {
     "slide_type": "slide"
    }
   },
   "source": [
    "### Hvordan dele aksene mellom subplots?\n",
    "\n",
    "Plot både totalt antall smittede og nye smittede med datoer som xticklabels"
   ]
  },
  {
   "cell_type": "code",
   "execution_count": null,
   "metadata": {},
   "outputs": [],
   "source": []
  },
  {
   "cell_type": "code",
   "execution_count": null,
   "metadata": {
    "hide_input": false,
    "scrolled": true,
    "slideshow": {
     "slide_type": "fragment"
    }
   },
   "outputs": [],
   "source": [
    "fig, axs = plt.subplots(2, 1, sharex=True, figsize=(8, 8))\n",
    "# Få datoene fra dataene\n",
    "dates = np.array(df_infected.keys()[6:])\n",
    "\n",
    "x = np.arange(len(oslo_infected))\n",
    "\n",
    "xticks =  np.linspace(0, len(oslo_infected)-1, 6).astype(int)\n",
    "l1, = axs[0].plot(x, oslo_infected)\n",
    "l2, = axs[0].plot(x, norway_infected)\n",
    "axs[0].set_ylabel(\"Total infected\")\n",
    "\n",
    "axs[1].plot(x[:-1], oslo_new_infected)\n",
    "axs[1].plot(x[:-1], norway_new_infected)\n",
    "axs[1].set_ylabel(\"Total new infected\")\n",
    "\n",
    "for ax in axs:\n",
    "    ax.grid()\n",
    "    ax.set_xticks(xticks)\n",
    "    \n",
    "# Hvis du har 2, 2 - bruk axs.flatten()!\n",
    "axs[1].set_xticklabels(dates[xticks], rotation=30)\n",
    "axs[1].set_xlabel(\"Date\")\n",
    "\n",
    "fig.legend((l1, l2), (\"Oslo\", \"Norway\"), bbox_to_anchor=(0.5, 0.5), loc='center', ncol=2)\n",
    "plt.show()"
   ]
  },
  {
   "cell_type": "markdown",
   "metadata": {
    "slideshow": {
     "slide_type": "slide"
    }
   },
   "source": [
    "## Style"
   ]
  },
  {
   "cell_type": "code",
   "execution_count": null,
   "metadata": {},
   "outputs": [],
   "source": [
    "print(plt.style.available)"
   ]
  },
  {
   "cell_type": "code",
   "execution_count": null,
   "metadata": {
    "scrolled": false
   },
   "outputs": [],
   "source": [
    "plt.style.use('seaborn')\n",
    "fig, ax = plt.subplots()\n",
    "# Vi bruker axes til å plotte\n",
    "ax.plot(oslo_infected)\n",
    "ax.plot(norway_infected)\n",
    "plt.show()"
   ]
  },
  {
   "cell_type": "markdown",
   "metadata": {
    "slideshow": {
     "slide_type": "slide"
    }
   },
   "source": [
    "### Seaborn er en populær pakke som bygger på matplotlib\n",
    "\n",
    "Du kan installere denne med `pip`: \n",
    "```\n",
    "python3 -m pip install seaborn\n",
    "```\n",
    "https://seaborn.pydata.org/index.html"
   ]
  },
  {
   "cell_type": "code",
   "execution_count": null,
   "metadata": {},
   "outputs": [],
   "source": [
    "import seaborn as sns\n",
    "sns.set_theme(style=\"ticks\")\n",
    "\n",
    "df = sns.load_dataset(\"penguins\")\n",
    "sns.pairplot(df, hue=\"species\")"
   ]
  },
  {
   "cell_type": "markdown",
   "metadata": {
    "slideshow": {
     "slide_type": "slide"
    }
   },
   "source": [
    "### XKCD style"
   ]
  },
  {
   "cell_type": "code",
   "execution_count": null,
   "metadata": {},
   "outputs": [],
   "source": [
    "plt.style.use('default')\n",
    "with plt.xkcd():\n",
    "    fig, ax = plt.subplots()\n",
    "    # Vi bruker axes til å plotte\n",
    "    ax.plot(oslo_infected)\n",
    "    ax.plot(norway_infected)\n",
    "    plt.show()"
   ]
  },
  {
   "cell_type": "markdown",
   "metadata": {
    "slideshow": {
     "slide_type": "slide"
    }
   },
   "source": [
    "### Styling lines"
   ]
  },
  {
   "cell_type": "code",
   "execution_count": null,
   "metadata": {},
   "outputs": [],
   "source": [
    "fig, axs = plt.subplots(1, 2, figsize=(15, 6))\n",
    "axs[0].plot(oslo_infected[:20], linestyle=\"--\", color=\"k\")\n",
    "axs[0].plot(norway_infected[:20], linestyle=\"\", marker=\".\", color=\"r\", markersize=10)\n",
    "\n",
    "axs[1].plot(oslo_new_infected[:20], linestyle=\":\", marker=\"*\", markersize=3, color=\"b\")\n",
    "axs[1].plot(norway_new_infected[:20], linestyle=\"-\", linewidth=\"3\", color=\"g\")\n",
    "plt.show()"
   ]
  },
  {
   "cell_type": "markdown",
   "metadata": {
    "slideshow": {
     "slide_type": "slide"
    }
   },
   "source": [
    "### Hvordan variere marker og farge i en loop?"
   ]
  },
  {
   "cell_type": "code",
   "execution_count": null,
   "metadata": {},
   "outputs": [],
   "source": [
    "rogaland = df_infected[df_infected[\"fylke_name\"] == \"Rogaland\"]\n"
   ]
  },
  {
   "cell_type": "code",
   "execution_count": null,
   "metadata": {},
   "outputs": [],
   "source": [
    "from itertools import cycle\n",
    "colors = cycle([\"r\", \"b\", \"g\", \"y\", \"c\", \"m\"])\n",
    "markers = cycle([\"x\", \"v\", \"o\", \"<\", \".\"])\n",
    "fig, ax = plt.subplots(figsize=(10, 10))\n",
    "for x, marker, color in zip(rogaland.values, markers, colors):\n",
    "    name = x[2]\n",
    "    v = x[6:]\n",
    "    ax.plot(v[::20], label=name, marker=marker, color=color)\n",
    "    \n",
    "ax.legend()"
   ]
  },
  {
   "cell_type": "markdown",
   "metadata": {
    "slideshow": {
     "slide_type": "slide"
    }
   },
   "source": [
    "### Hvilket fargekart skal vi velge?\n",
    "\n",
    "Det er nok å velge i mellom: <https://matplotlib.org/stable/tutorials/colors/colormaps.html>\n"
   ]
  },
  {
   "cell_type": "code",
   "execution_count": null,
   "metadata": {},
   "outputs": [],
   "source": [
    "from IPython.display import YouTubeVideo\n",
    "YouTubeVideo(\"xAoljeRJ3lU\")"
   ]
  },
  {
   "cell_type": "markdown",
   "metadata": {
    "slideshow": {
     "slide_type": "slide"
    }
   },
   "source": [
    "### Riktig fargevalg er viktig når man skal visualisere 2D data"
   ]
  },
  {
   "cell_type": "code",
   "execution_count": null,
   "metadata": {},
   "outputs": [],
   "source": [
    "import scipy.misc\n",
    "img = scipy.misc.ascent()\n",
    "print(img)\n",
    "print(img.shape)"
   ]
  },
  {
   "cell_type": "code",
   "execution_count": null,
   "metadata": {
    "scrolled": false
   },
   "outputs": [],
   "source": [
    "fig, ax = plt.subplots()\n",
    "ax.imshow(img)\n",
    "plt.show()"
   ]
  },
  {
   "cell_type": "markdown",
   "metadata": {
    "slideshow": {
     "slide_type": "slide"
    }
   },
   "source": [
    "### En mye brukt colormap er `jet` - men IKKE bruk denne til å visualisere data!\n",
    "\n",
    "Den lager for mye kontrast og du kan fort tro at det er ting i bildet som egentlig ikke er der.\n",
    "Men bruk gjerne denne om du bare ønsker en colormap med masse farger :)"
   ]
  },
  {
   "cell_type": "code",
   "execution_count": null,
   "metadata": {
    "scrolled": false
   },
   "outputs": [],
   "source": [
    "fig, ax = plt.subplots()\n",
    "ax.imshow(img, cmap=\"jet\")\n",
    "plt.show()"
   ]
  },
  {
   "cell_type": "markdown",
   "metadata": {
    "slideshow": {
     "slide_type": "slide"
    }
   },
   "source": [
    "### Plotte smitte i dag basert på fylker"
   ]
  },
  {
   "cell_type": "code",
   "execution_count": null,
   "metadata": {},
   "outputs": [],
   "source": [
    "## Put alle rader som hører til i samme fylke sammen\n",
    "fylker = df_infected.groupby(\"fylke_name\")"
   ]
  },
  {
   "cell_type": "code",
   "execution_count": null,
   "metadata": {
    "scrolled": false
   },
   "outputs": [],
   "source": [
    "# Summer all bidragene inad i hver gruppe\n",
    "fylker_sum = fylker.sum()\n",
    "fylker_sum"
   ]
  },
  {
   "cell_type": "code",
   "execution_count": null,
   "metadata": {
    "slideshow": {
     "slide_type": "slide"
    }
   },
   "outputs": [],
   "source": [
    "fig, ax = plt.subplots(figsize=(12, 6))\n",
    "x = np.arange(len(fylker))\n",
    "ax.bar(x, fylker_sum.values[:, -1])\n",
    "ax.set_xticks(x)\n",
    "ax.set_xticklabels(fylker.groups.keys(), rotation=30)\n",
    "ax.set_title(f\"Total infected on {fylker_sum.keys()[-1]}\")\n",
    "ax.set_xlabel(\"Fylke\")\n",
    "ax.set_ylabel(\"Total smittet\")\n",
    "ax.grid()\n",
    "plt.show()"
   ]
  },
  {
   "cell_type": "markdown",
   "metadata": {
    "slideshow": {
     "slide_type": "slide"
    }
   },
   "source": [
    "### Hva om vi ønsker et bar plot med to dager?"
   ]
  },
  {
   "cell_type": "code",
   "execution_count": null,
   "metadata": {
    "scrolled": false
   },
   "outputs": [],
   "source": [
    "fig, ax = plt.subplots(figsize=(12, 6))\n",
    "x = np.arange(len(fylker))\n",
    "width = 0.4\n",
    "n = 365\n",
    "ax.bar(x + 0.2, fylker_sum.values[:, -1], label=fylker_sum.keys()[-1], width=width)\n",
    "ax.bar(x - 0.2, fylker_sum.values[:, -n], label=fylker_sum.keys()[-n], width=width)\n",
    "\n",
    "ax.set_xticks(x)\n",
    "ax.set_xticklabels(fylker.groups.keys(), rotation=30)\n",
    "ax.set_xlabel(\"Fylke\")\n",
    "ax.set_ylabel(\"Total smittet\")\n",
    "ax.set_title(\"Total smitte for to dager\")\n",
    "ax.legend()\n",
    "plt.show()"
   ]
  },
  {
   "cell_type": "markdown",
   "metadata": {
    "slideshow": {
     "slide_type": "slide"
    }
   },
   "source": [
    "### Hva om vi ønsker et bar plot med 5 siste måneder?"
   ]
  },
  {
   "cell_type": "code",
   "execution_count": null,
   "metadata": {},
   "outputs": [],
   "source": [
    "fig, ax = plt.subplots(figsize=(12, 6))\n",
    "x = np.arange(len(fylker))\n",
    "num = 5\n",
    "days_in_month = 30\n",
    "width = 1/(num + 1)\n",
    "\n",
    "for i in range(5):\n",
    "    ax.bar(\n",
    "        x - i*width, \n",
    "        fylker_sum.values[:, -(days_in_month*i+1)], \n",
    "        label=fylker_sum.keys()[-(days_in_month*i+1)], \n",
    "        width=width\n",
    "    )\n",
    "\n",
    "\n",
    "ax.set_xticks(x - width*num/2)\n",
    "ax.set_xticklabels(fylker.groups.keys(), rotation=30)\n",
    "ax.set_xlabel(\"Fylke\")\n",
    "ax.set_ylabel(\"Total smittet\")\n",
    "ax.set_title(\"Total smitte siste 5 måneder\")\n",
    "ax.legend()\n",
    "plt.show()"
   ]
  },
  {
   "cell_type": "markdown",
   "metadata": {
    "slideshow": {
     "slide_type": "slide"
    }
   },
   "source": [
    "### Pie chart"
   ]
  },
  {
   "cell_type": "code",
   "execution_count": null,
   "metadata": {},
   "outputs": [],
   "source": [
    "fig, ax = plt.subplots(figsize=(10, 10))\n",
    "\n",
    "\n",
    "values = fylker_sum.values[:, -1]\n",
    "labels = np.array(list(fylker.groups.keys()))\n",
    "\n",
    "ax.pie(values, labels=labels)\n",
    "ax.axis(\"equal\")\n",
    "plt.show()"
   ]
  },
  {
   "cell_type": "code",
   "execution_count": null,
   "metadata": {
    "scrolled": true,
    "slideshow": {
     "slide_type": "slide"
    }
   },
   "outputs": [],
   "source": [
    "fig, ax = plt.subplots(figsize=(10, 10))\n",
    "\n",
    "values = fylker_sum.values[:, -1]\n",
    "labels = np.array(list(fylker.groups.keys()))\n",
    "\n",
    "explode = np.zeros(len(values))\n",
    "explode[labels == \"Oslo\"] = 0.1\n",
    "\n",
    "ax.pie(values, explode=explode, labels=labels,  autopct=\"%1.1f%%\", shadow=True)\n",
    "ax.axis(\"equal\")\n",
    "plt.show()"
   ]
  },
  {
   "cell_type": "markdown",
   "metadata": {
    "slideshow": {
     "slide_type": "slide"
    }
   },
   "source": [
    "### Hvordan lære mer?\n",
    "\n",
    "Sjekk ut Matplotlib gallery: https://matplotlib.org/stable/gallery/index.html\n",
    "\n",
    "Finn ett plot som ligner på det du ønsker å plotte og endre litt på det.\n"
   ]
  },
  {
   "cell_type": "markdown",
   "metadata": {
    "slideshow": {
     "slide_type": "slide"
    }
   },
   "source": [
    "### Andre plottebilioteker i python\n",
    "\n",
    "![_](https://optimise2.assets-servd.host/voracious-blesbok/production/Blog/PythonVisLandscape.jpg?w=1200&auto=compress%2Cformat&fit=crop&dm=1632326979&s=35cf543e04fd14bcc881ef8e70363860)\n",
    "https://www.anaconda.com/blog/python-data-visualization-2018-why-so-many-libraries"
   ]
  },
  {
   "cell_type": "markdown",
   "metadata": {},
   "source": [
    "https://youtu.be/FytuB8nFHPQ"
   ]
  }
 ],
 "metadata": {
  "celltoolbar": "Slideshow",
  "kernelspec": {
   "display_name": "Python 3 (ipykernel)",
   "language": "python",
   "name": "python3"
  },
  "language_info": {
   "codemirror_mode": {
    "name": "ipython",
    "version": 3
   },
   "file_extension": ".py",
   "mimetype": "text/x-python",
   "name": "python",
   "nbconvert_exporter": "python",
   "pygments_lexer": "ipython3",
   "version": "3.10.4"
  }
 },
 "nbformat": 4,
 "nbformat_minor": 2
}
