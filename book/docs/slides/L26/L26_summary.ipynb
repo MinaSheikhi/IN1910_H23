{
 "cells": [
  {
   "cell_type": "markdown",
   "metadata": {
    "slideshow": {
     "slide_type": "slide"
    }
   },
   "source": [
    "# Lecture 26 - Oppsummering av IN1910\n",
    "Programmering for naturvitenskapelige anvendelser"
   ]
  },
  {
   "cell_type": "markdown",
   "metadata": {
    "slideshow": {
     "slide_type": "slide"
    }
   },
   "source": [
    "## Mål med IN1910\n",
    "\n",
    "* Lære programmeringsverktøy som brukes til innenfor naturvitenskap\n",
    "    - Git + GitHub\n",
    "    - Python\n",
    "    - C++"
   ]
  },
  {
   "cell_type": "markdown",
   "metadata": {
    "slideshow": {
     "slide_type": "fragment"
    }
   },
   "source": [
    "* Lære god praksis for hvordan man jobber med programmeringsprosjekter\n",
    "    - Dokumentasjon av kode\n",
    "    - Testing\n",
    "    - Kodestil\n",
    "    - Optimaliseringsteknikker"
   ]
  },
  {
   "cell_type": "markdown",
   "metadata": {
    "slideshow": {
     "slide_type": "slide"
    }
   },
   "source": [
    "## Git\n",
    "\n",
    "* Versjonskontrollsystem\n",
    "* Gjør det enkelt å lagre historien til et programmeringsprosjekt\n",
    "* Vi kan gå tilbake til tidligere versjoner\n",
    "* Vi kan lage grener (branches) hvor man kan jobbe med utvidelser\n",
    "* Man kan \"enkelt\" jobbe flere sammen på samme kode via GitHub"
   ]
  },
  {
   "cell_type": "markdown",
   "metadata": {
    "slideshow": {
     "slide_type": "slide"
    }
   },
   "source": [
    "## Git - workflow\n",
    "\n",
    "* Gå på github og lag et nytt repo"
   ]
  },
  {
   "cell_type": "markdown",
   "metadata": {
    "slideshow": {
     "slide_type": "fragment"
    }
   },
   "source": [
    "* Klon repoet på din lokale maskin\n",
    "    - `git clone url`"
   ]
  },
  {
   "cell_type": "markdown",
   "metadata": {
    "slideshow": {
     "slide_type": "fragment"
    }
   },
   "source": [
    "* Start å jobbe med filer i repoet og legg til filer i repoet\n",
    "    - `git add file.py`"
   ]
  },
  {
   "cell_type": "markdown",
   "metadata": {
    "slideshow": {
     "slide_type": "slide"
    }
   },
   "source": [
    "* Commit filene til repoet - skriv en beskrivende melding av hva som er gjort\n",
    "    - `git commit -m \"Added file.py\"`"
   ]
  },
  {
   "cell_type": "markdown",
   "metadata": {
    "slideshow": {
     "slide_type": "fragment"
    }
   },
   "source": [
    "* Fortsett å jobbe med koden. Sjekk hvilke filer som er endret og hvilke nye filer vi har\n",
    "    - `git status`"
   ]
  },
  {
   "cell_type": "markdown",
   "metadata": {
    "slideshow": {
     "slide_type": "fragment"
    }
   },
   "source": [
    "* Sjekk forskjellen på en fil fra forrige commit\n",
    "    - `git diff file.py`"
   ]
  },
  {
   "cell_type": "markdown",
   "metadata": {
    "slideshow": {
     "slide_type": "slide"
    }
   },
   "source": [
    "* Push dine endringer til github\n",
    "    - `git push`"
   ]
  },
  {
   "cell_type": "markdown",
   "metadata": {
    "slideshow": {
     "slide_type": "fragment"
    }
   },
   "source": [
    "* Hent endringer fra (partneren din) github\n",
    "    - `git pull`"
   ]
  },
  {
   "cell_type": "markdown",
   "metadata": {
    "slideshow": {
     "slide_type": "slide"
    }
   },
   "source": [
    "### Alle seriøse utviklere bruker et versjonskontrollsystem\n",
    "\n",
    "Og Git er uten tvil det som er mest brukt"
   ]
  },
  {
   "cell_type": "markdown",
   "metadata": {
    "slideshow": {
     "slide_type": "slide"
    }
   },
   "source": [
    "### Spørsmål om git\n",
    "\n",
    "- Hva er Git og hvorfor er Git nyttig?\n",
    "- Kan du forklare de vanligste Git-kommandoene du har brukt?\n",
    "    - Du bør kunne add, commit, push og pull.\n",
    "- Hva er en pull request?\n",
    "- Hva er en Git gren (engelsk: branch)?\n",
    "- Hva er formålet med en .gitignore-fil?\n",
    "- Hvordan oppstår Git-konflikter?\n",
    "- Hva er en Git commit-melding og hvorfor er de viktige?"
   ]
  },
  {
   "cell_type": "markdown",
   "metadata": {
    "slideshow": {
     "slide_type": "slide"
    }
   },
   "source": [
    "## Hvordan skrive pålitelig kode?\n",
    "\n",
    "Skrive assert statements som sjekker at koden oppfører seg som forventen"
   ]
  },
  {
   "cell_type": "code",
   "execution_count": 4,
   "metadata": {},
   "outputs": [],
   "source": [
    "class Sphere:\n",
    "    def __init__(self, radius):\n",
    "        assert isinstance(radius, (int, float)), \"Radius has to be a scalar\"\n",
    "        assert radius >= 0, \"Radius cannot be negative.\"\n",
    "        self.radius = radius\n",
    "        \n",
    "# s = Sphere(\"1\")\n",
    "# s = Sphere(-2)"
   ]
  },
  {
   "cell_type": "markdown",
   "metadata": {
    "slideshow": {
     "slide_type": "slide"
    }
   },
   "source": [
    "### Heve exceptions"
   ]
  },
  {
   "cell_type": "code",
   "execution_count": 5,
   "metadata": {},
   "outputs": [],
   "source": [
    "class Sphere:\n",
    "    def __init__(self, radius):\n",
    "        if not isinstance(radius, (float, int)):\n",
    "            msg = f\"Expected radius to be of type 'float' or 'int', got {type(radius)}\"\n",
    "            raise TypeError(msg)\n",
    "        if radius < 0:\n",
    "            msg = f\"Radius cannot be negative, got radius = {radius}\"\n",
    "            raise ValueError(msg)\n",
    "        self.radius = radius\n",
    "        \n",
    "# s = Sphere(\"1\")\n",
    "# s = Sphere(-2)"
   ]
  },
  {
   "cell_type": "markdown",
   "metadata": {
    "slideshow": {
     "slide_type": "slide"
    }
   },
   "source": [
    "### Håndtere excepetions"
   ]
  },
  {
   "cell_type": "code",
   "execution_count": 6,
   "metadata": {},
   "outputs": [
    {
     "name": "stdout",
     "output_type": "stream",
     "text": [
      "Expected radius to be of type 'float' or 'int', got <class 'str'>\n",
      "Radius = Hello raised TypeError\n",
      "\n",
      "Radius cannot be negative, got radius = -1\n",
      "Radius = -1 raised ValueError\n",
      "\n",
      "Radius = 1 raised no exception\n",
      "\n"
     ]
    }
   ],
   "source": [
    "for radius in ['Hello', -1, 1]:\n",
    "    msg = f\"Radius = {radius} raised \"\n",
    "    try:\n",
    "        s = Sphere(radius)\n",
    "    except ValueError as ex:\n",
    "        msg += \"ValueError\"\n",
    "        print(ex)\n",
    "    except TypeError as ex:\n",
    "        msg += \"TypeError\"\n",
    "        print(ex)\n",
    "    else:\n",
    "        msg += \"no exception\"\n",
    "    finally:\n",
    "        print(msg + \"\\n\")"
   ]
  },
  {
   "cell_type": "markdown",
   "metadata": {
    "slideshow": {
     "slide_type": "slide"
    }
   },
   "source": [
    "### Lage egne exceptions"
   ]
  },
  {
   "cell_type": "code",
   "execution_count": 2,
   "metadata": {},
   "outputs": [
    {
     "name": "stdout",
     "output_type": "stream",
     "text": [
      "Radius is negative\n"
     ]
    }
   ],
   "source": [
    "class NegativeRadiusError(ValueError):\n",
    "    pass\n",
    "\n",
    "\n",
    "class Sphere:\n",
    "    def __init__(self, radius):\n",
    "        if not isinstance(radius, (float, int)):\n",
    "            msg = f\"Expected radius to be of type 'float' or 'int', got {type(radius)}\"\n",
    "            raise TypeError(msg)\n",
    "        if radius < 0:\n",
    "            msg = f\"Radius cannot be negative, got radius = {radius}\"\n",
    "            raise NegativeRadiusError(msg)\n",
    "        self.radius = radius\n",
    "        \n",
    "try:\n",
    "    Sphere(-1)\n",
    "except NegativeRadiusError:  # or ValueError\n",
    "    print(\"Radius is negative\")"
   ]
  },
  {
   "cell_type": "markdown",
   "metadata": {
    "slideshow": {
     "slide_type": "slide"
    }
   },
   "source": [
    "## Testing\n",
    "\n",
    "Hvorfor bør man skrive tester?"
   ]
  },
  {
   "cell_type": "markdown",
   "metadata": {
    "slideshow": {
     "slide_type": "fragment"
    }
   },
   "source": [
    "\n",
    "* Du blir mer produktiv fordi du ikke trenger å bruke tid på å teste manuelt"
   ]
  },
  {
   "cell_type": "markdown",
   "metadata": {
    "slideshow": {
     "slide_type": "fragment"
    }
   },
   "source": [
    "\n",
    "* Du blir mer kreativ fordi du ikke trenger å tenke på at endrigene du gjør vil ødelegge kritisk funsjonalitet"
   ]
  },
  {
   "cell_type": "markdown",
   "metadata": {
    "slideshow": {
     "slide_type": "fragment"
    }
   },
   "source": [
    "\n",
    "* Tester er god dokumentasjon på hvordan man skal bruke koden du skriver."
   ]
  },
  {
   "cell_type": "markdown",
   "metadata": {
    "slideshow": {
     "slide_type": "fragment"
    }
   },
   "source": [
    "* Jeg sover bedre om natten dersom jeg vet at koden jeg har skrevet (og andre er avhengig av) fungerer."
   ]
  },
  {
   "cell_type": "markdown",
   "metadata": {
    "slideshow": {
     "slide_type": "slide"
    }
   },
   "source": [
    "### Test-dreven utvikling (TDD)\n",
    "\n",
    "* Du ønsker å implemetere en ny funksjonalitet\n",
    "* Skriv en test som tester funksjonaliteten du ønsker å implementere\n",
    "* Implementer det ønskede funksjonaliteten\n",
    "* Sørg for at testen passerer"
   ]
  },
  {
   "cell_type": "markdown",
   "metadata": {
    "slideshow": {
     "slide_type": "slide"
    }
   },
   "source": [
    "## `pytest` er et testing-rammeverk som finner og kjører alle tester automatisk\n",
    "\n",
    "* Du kan bare skrive `pytest` i terminalen og den vil da kjøre alle filer som starter med `test`.\n",
    "* I alle disse filene vil pytest kjøre alle funskjoner som starter med `test`"
   ]
  },
  {
   "cell_type": "code",
   "execution_count": 2,
   "metadata": {
    "slideshow": {
     "slide_type": "slide"
    }
   },
   "outputs": [],
   "source": [
    "\n",
    "def my_fast_sin_function(x):\n",
    "    \"\"\"Computes sin(x) really fast!\n",
    "    \n",
    "    Parameters\n",
    "    ----------\n",
    "    x : float\n",
    "        Value that you want to compute sin of\n",
    "    \n",
    "    Returns\n",
    "    -------\n",
    "    float\n",
    "        sin(x)\n",
    "        \n",
    "    Note\n",
    "    ----\n",
    "    This only uses the first two terms of the taylor\n",
    "    expansion around 0\n",
    "    \"\"\"\n",
    "    if isinstance(x, str):\n",
    "        raise TypeError(\"Cannot compute sinus of string\")\n",
    "\n",
    "    return x - x**3 / 6\n"
   ]
  },
  {
   "cell_type": "code",
   "execution_count": 3,
   "metadata": {
    "slideshow": {
     "slide_type": "fragment"
    }
   },
   "outputs": [],
   "source": [
    "import math\n",
    "\n",
    "tol = 1e-12\n",
    "\n",
    "def test_my_fast_sin_function():\n",
    "    assert abs(math.sin(0) - my_fast_sin_function(0)) < tol  # eller math.isclose\n",
    "    \n",
    "test_my_fast_sin_function()"
   ]
  },
  {
   "cell_type": "markdown",
   "metadata": {
    "slideshow": {
     "slide_type": "fragment"
    }
   },
   "source": [
    "Hvordan kan jeg ikke skrive \n",
    "```python\n",
    "assert math.sin(0) == my_fast_sin_function(0)\n",
    "```"
   ]
  },
  {
   "cell_type": "code",
   "execution_count": 4,
   "metadata": {
    "slideshow": {
     "slide_type": "fragment"
    }
   },
   "outputs": [
    {
     "data": {
      "text/plain": [
       "False"
      ]
     },
     "execution_count": 4,
     "metadata": {},
     "output_type": "execute_result"
    }
   ],
   "source": [
    "0.1 + 0.2 == 0.3"
   ]
  },
  {
   "cell_type": "markdown",
   "metadata": {
    "slideshow": {
     "slide_type": "slide"
    }
   },
   "source": [
    "### Vi må teste ulike input til funksjonen vår\n",
    "\n",
    "- parameteriserte tester\n",
    "\n"
   ]
  },
  {
   "cell_type": "code",
   "execution_count": 7,
   "metadata": {
    "slideshow": {
     "slide_type": "skip"
    }
   },
   "outputs": [
    {
     "name": "stdout",
     "output_type": "stream",
     "text": [
      "Requirement already satisfied: ipython_pytest in /Users/finsberg/local/src/IN1910/IN1910_dev/venv/lib/python3.10/site-packages (0.0.1)\r\n"
     ]
    }
   ],
   "source": [
    "!python -m pip install ipython_pytest\n",
    "%load_ext ipython_pytest"
   ]
  },
  {
   "cell_type": "code",
   "execution_count": 10,
   "metadata": {
    "scrolled": true,
    "slideshow": {
     "slide_type": "fragment"
    }
   },
   "outputs": [
    {
     "name": "stdout",
     "output_type": "stream",
     "text": [
      "============================= test session starts ==============================\n",
      "platform darwin -- Python 3.10.4, pytest-7.1.2, pluggy-1.0.0 -- /Users/finsberg/local/src/IN1910/IN1910_dev/venv/bin/python\n",
      "cachedir: .pytest_cache\n",
      "rootdir: /private/var/folders/l4/fpn419yn0wd534g_95tm330r0000gn/T/tmppjkmh9uz\n",
      "plugins: anyio-3.6.1\n",
      "collecting ... collected 5 items\n",
      "\n",
      "_ipytesttmp.py::test_my_fast_sin_function[-0.5235987755982988] PASSED    [ 20%]\n",
      "_ipytesttmp.py::test_my_fast_sin_function[-0.2617993877991494] PASSED    [ 40%]\n",
      "_ipytesttmp.py::test_my_fast_sin_function[0.0] PASSED                    [ 60%]\n",
      "_ipytesttmp.py::test_my_fast_sin_function[0.26179938779914946] PASSED    [ 80%]\n",
      "_ipytesttmp.py::test_my_fast_sin_function[0.5235987755982988] PASSED     [100%]\n",
      "\n",
      "============================== 5 passed in 0.01s ===============================\n"
     ]
    }
   ],
   "source": [
    "%%pytest -v\n",
    "\n",
    "import pytest\n",
    "import math\n",
    "import numpy as np\n",
    "\n",
    "def my_fast_sin_function(x):\n",
    "    return x - x**3 / 6\n",
    "\n",
    "tol = 1e-3\n",
    "\n",
    "@pytest.mark.parametrize(\"x\", np.linspace(-np.pi / 6, np.pi / 6, 5))\n",
    "def test_my_fast_sin_function(x):\n",
    "    assert abs(math.sin(x) - my_fast_sin_function(x)) < tol\n",
    "    \n"
   ]
  },
  {
   "cell_type": "markdown",
   "metadata": {
    "slideshow": {
     "slide_type": "slide"
    }
   },
   "source": [
    "### Teste at funksjonen kaster exception"
   ]
  },
  {
   "cell_type": "code",
   "execution_count": 11,
   "metadata": {},
   "outputs": [
    {
     "name": "stdout",
     "output_type": "stream",
     "text": [
      "============================= test session starts ==============================\n",
      "platform darwin -- Python 3.10.4, pytest-7.1.2, pluggy-1.0.0 -- /Users/finsberg/local/src/IN1910/IN1910_dev/venv/bin/python\n",
      "cachedir: .pytest_cache\n",
      "rootdir: /private/var/folders/l4/fpn419yn0wd534g_95tm330r0000gn/T/tmp5q_cayrv\n",
      "plugins: anyio-3.6.1\n",
      "collecting ... collected 1 item\n",
      "\n",
      "_ipytesttmp.py::test_raises_TypeError_for_string_Arguments PASSED        [100%]\n",
      "\n",
      "============================== 1 passed in 0.01s ===============================\n"
     ]
    }
   ],
   "source": [
    "%%pytest -v\n",
    "import pytest\n",
    "\n",
    "def my_fast_sin_function(x):\n",
    "    return x - x**3 / 6\n",
    "\n",
    "def test_raises_TypeError_for_string_Arguments():\n",
    "    with pytest.raises(TypeError):\n",
    "        my_fast_sin_function(\"Hello\")"
   ]
  },
  {
   "cell_type": "markdown",
   "metadata": {
    "slideshow": {
     "slide_type": "slide"
    }
   },
   "source": [
    "### Automatisk testing hver gang man pusher til github\n",
    "\n",
    "Sett opp GitHub actions til å kjøre testene dine!\n",
    "\n",
    "https://github.com/finsberg/caesar_cipher_in1910"
   ]
  },
  {
   "cell_type": "markdown",
   "metadata": {
    "slideshow": {
     "slide_type": "slide"
    }
   },
   "source": [
    "### Docstrings"
   ]
  },
  {
   "cell_type": "code",
   "execution_count": 7,
   "metadata": {},
   "outputs": [],
   "source": [
    "def my_fast_sin_function(x):\n",
    "    \"\"\"Computes sin(x) really fast!\n",
    "    \n",
    "    Parameters\n",
    "    ----------\n",
    "    x : float\n",
    "        Value that you want to compute\n",
    "        sin of\n",
    "    \n",
    "    Returns\n",
    "    -------\n",
    "    float\n",
    "        sin(x)\n",
    "        \n",
    "    Raises\n",
    "    ------\n",
    "    TypeError:\n",
    "        For string inputs\n",
    "        \n",
    "    Note\n",
    "    ----\n",
    "    This only uses the first two terms of the taylor\n",
    "    expansion around 0\n",
    "    \"\"\"\n",
    "    if isinstance(x, str):\n",
    "        raise TypeError(\"Cannot compute sinus of string\")\n",
    "\n",
    "    return x - x**3 / 6"
   ]
  },
  {
   "cell_type": "markdown",
   "metadata": {
    "slideshow": {
     "slide_type": "slide"
    }
   },
   "source": [
    "### Verktøy for å skrive docstrings\n",
    "\n",
    "[VSCode Python Docstring Generator](https://marketplace.visualstudio.com/items?itemName=njpwerner.autodocstring)\n",
    "![_](https://github.com/NilsJPWerner/autoDocstring/raw/master/images/demo.gif)"
   ]
  },
  {
   "cell_type": "markdown",
   "metadata": {
    "slideshow": {
     "slide_type": "slide"
    }
   },
   "source": [
    "### Hvorfor er det lurt å skrive docstrings på denne måten?\n",
    "\n",
    "Man kan bruke det til å automatisk generere dokumentasjon <https://github.com/finsberg/vector3D>\n",
    "\n",
    "Dette er også slik alle store bibliotek gjør det (f.eks `numpy`)\n"
   ]
  },
  {
   "cell_type": "markdown",
   "metadata": {
    "slideshow": {
     "slide_type": "slide"
    }
   },
   "source": [
    "### Verktøy for kodestil\n",
    "\n",
    "- `flake8` : Gir deg beskjed om hvilke linjer som ikke følger PEP8\n",
    "- `black`: Autoformatterer koden din\n",
    "\n",
    "\n",
    "Hvorfor er det lurt å bruke verktøy som `black` når man jobber med andre på et repo?"
   ]
  },
  {
   "cell_type": "markdown",
   "metadata": {
    "slideshow": {
     "slide_type": "slide"
    }
   },
   "source": [
    "### Spørsmål\n",
    "\n",
    "- Hvorfor bør man teste koden?\n",
    "- Hva er en enhetstest?\n",
    "- Hva er test-dreven utvikling?\n",
    "- Si du har en funksjon sinus(x: float) -> float:\n",
    "    - Hvordan ville du testet funksjonen?\n",
    "    - Hvordan ville du håndtert brukerfeil?\n",
    "- Hva er parametriserte tester?\n",
    "- Hva må man passe på når man tester at to tall er like?\n",
    "- Er det forskjell på om vi sammenligner heltall og flyttall?\n",
    "- Hva legger man i begrepet kodestil?\n",
    "- Hva menes med dokumentasjon i programmering?"
   ]
  },
  {
   "cell_type": "markdown",
   "metadata": {
    "slideshow": {
     "slide_type": "slide"
    }
   },
   "source": [
    "## Objektorientert programmering i python\n",
    "\n",
    "Hva er et annet navn på `__init__` funksjonen?"
   ]
  },
  {
   "cell_type": "code",
   "execution_count": 1,
   "metadata": {},
   "outputs": [],
   "source": [
    "class Sphere:\n",
    "    def __init__(self, radius):\n",
    "        self.radius = radius\n",
    "        \n",
    "s = Sphere(10)"
   ]
  },
  {
   "cell_type": "markdown",
   "metadata": {
    "slideshow": {
     "slide_type": "fragment"
    }
   },
   "source": [
    "Hva kaller vi `s`?"
   ]
  },
  {
   "cell_type": "markdown",
   "metadata": {
    "slideshow": {
     "slide_type": "slide"
    }
   },
   "source": [
    "### `@property`\n",
    "\n",
    "Hva kaller et objekt som starter med en `@`?"
   ]
  },
  {
   "cell_type": "code",
   "execution_count": 3,
   "metadata": {},
   "outputs": [],
   "source": [
    "class Sphere:\n",
    "    def __init__(self, radius):\n",
    "        self._radius = radius\n",
    "\n",
    "    @property\n",
    "    def radius(self):\n",
    "        return self._radius\n",
    "\n",
    "    @radius.setter\n",
    "    def radius(self, r):\n",
    "        if r < 0:\n",
    "            raise ValueError(\"Radius cannot be negative\")\n",
    "        self._radius = r"
   ]
  },
  {
   "cell_type": "markdown",
   "metadata": {
    "slideshow": {
     "slide_type": "fragment"
    }
   },
   "source": [
    "Hva gjør `@property`?  Hvorfor er dette nyttig?"
   ]
  },
  {
   "cell_type": "markdown",
   "metadata": {
    "slideshow": {
     "slide_type": "slide"
    }
   },
   "source": [
    "### Spesielle / magiske metoder\n",
    "\n",
    "* Metoder som starter med `__`\n",
    "* `__init__`, `__call__`, `__str__`, `__add__`, `__sub__`, `__mul__`, `__eq__`, ..."
   ]
  },
  {
   "cell_type": "code",
   "execution_count": 11,
   "metadata": {
    "slideshow": {
     "slide_type": "fragment"
    }
   },
   "outputs": [
    {
     "name": "stdout",
     "output_type": "stream",
     "text": [
      "1x^2 + 2x + 1\n",
      "25\n"
     ]
    }
   ],
   "source": [
    "class Quadratic:\n",
    "    def __init__(self, a, b, c):\n",
    "        self.a = a\n",
    "        self.b = b\n",
    "        self.c = c\n",
    "\n",
    "    def __str__(self):\n",
    "        return f\"{self.a}x^2 + {self.b}x + {self.c}\"\n",
    "        \n",
    "    def __call__(self, x):\n",
    "        return self.a * x ** 2 + self.b * x + self.c\n",
    "f = Quadratic(1, 2, 1)\n",
    "print(f)\n",
    "print(f(4))"
   ]
  },
  {
   "cell_type": "code",
   "execution_count": 12,
   "metadata": {
    "slideshow": {
     "slide_type": "fragment"
    }
   },
   "outputs": [
    {
     "name": "stdout",
     "output_type": "stream",
     "text": [
      "[<__main__.Quadratic object at 0x10564b190>]\n",
      "1x^2 + 2x + 1\n"
     ]
    }
   ],
   "source": [
    "# Hvordan fikser vi printingen av denne?\n",
    "print([f])\n",
    "q = Quadratic(1, 2, 1)\n",
    "print(q)"
   ]
  },
  {
   "cell_type": "markdown",
   "metadata": {
    "slideshow": {
     "slide_type": "slide"
    }
   },
   "source": [
    "### `@classmethod`\n",
    "\n",
    "* Alternative konstruktører"
   ]
  },
  {
   "cell_type": "code",
   "execution_count": 7,
   "metadata": {},
   "outputs": [],
   "source": [
    "class Sphere:\n",
    "    def __init__(self, radius):\n",
    "        self.radius = radius\n",
    "    \n",
    "    @classmethod\n",
    "    def from_volume(cls, volume):\n",
    "        radius = (3 * volume / (4 * np.pi)) ** (1 / 3)\n",
    "        return cls(radius)"
   ]
  },
  {
   "cell_type": "markdown",
   "metadata": {
    "slideshow": {
     "slide_type": "slide"
    }
   },
   "source": [
    "### `@staticmethod`\n",
    "\n",
    "* Funksjoner som ikke avhenger instansen men som hører til klassen\n",
    "    - Tar ikke self som argument"
   ]
  },
  {
   "cell_type": "code",
   "execution_count": 3,
   "metadata": {},
   "outputs": [
    {
     "data": {
      "text/plain": [
       "{'scheme': 'BackwardEuler',\n",
       " 'max_dt': 0.1,\n",
       " 'init_dt': 0.01,\n",
       " 'adaptive_stepping': False}"
      ]
     },
     "execution_count": 3,
     "metadata": {},
     "output_type": "execute_result"
    }
   ],
   "source": [
    "class ODESolver:\n",
    "    @staticmethod\n",
    "    def default_parameters():\n",
    "        return dict(\n",
    "            scheme=\"BackwardEuler\", max_dt=0.1, init_dt=0.01, adaptive_stepping=False\n",
    "        )\n",
    "    \n",
    "#ode = ODESolver()\n",
    "ODESolver.default_parameters()"
   ]
  },
  {
   "cell_type": "markdown",
   "metadata": {
    "slideshow": {
     "slide_type": "slide"
    }
   },
   "source": [
    "### Hva er egentlig `self`"
   ]
  },
  {
   "cell_type": "code",
   "execution_count": 14,
   "metadata": {
    "slideshow": {
     "slide_type": "fragment"
    }
   },
   "outputs": [
    {
     "name": "stdout",
     "output_type": "stream",
     "text": [
      "self =  <__main__.Sphere object at 0x10564aac0>\n",
      "s =  <__main__.Sphere object at 0x10564aac0>\n"
     ]
    }
   ],
   "source": [
    "class Sphere:\n",
    "    def __init__(self, radius):\n",
    "        self.radius = radius\n",
    "        print(\"self = \", self)\n",
    "        \n",
    "s = Sphere(3)\n",
    "\n",
    "print(\"s = \", s)"
   ]
  },
  {
   "cell_type": "markdown",
   "metadata": {
    "slideshow": {
     "slide_type": "slide"
    }
   },
   "source": [
    "### Fire pilarer innen OOP"
   ]
  },
  {
   "cell_type": "markdown",
   "metadata": {
    "slideshow": {
     "slide_type": "slide"
    }
   },
   "source": [
    "#### Abstraksjon\n",
    "* \"Program to an interface not an implementation\"\n",
    "* Skriv tester først - det får deg til å tenkte over interfacet.\n",
    "* Lag en abstrakt klasse og bruk type annoteringer"
   ]
  },
  {
   "cell_type": "code",
   "execution_count": 16,
   "metadata": {},
   "outputs": [],
   "source": [
    "import numpy as np\n",
    "import typing\n",
    "\n",
    "class ODEResult(typing.NamedTuple): ...\n",
    "\n",
    "class ODEModel:\n",
    "    @property\n",
    "    def num_states(self) -> int:\n",
    "        raise NotImplementedError\n",
    "\n",
    "    def __call__(self, t: float, u: np.ndarray) -> np.ndarray:\n",
    "        raise NotImplementedError\n",
    "        \n",
    "def solve_ode(\n",
    "    model: ODEModel, u0: np.ndarray, T: float, dt: float, **kwargs\n",
    ") -> ODEResult: ...\n"
   ]
  },
  {
   "cell_type": "markdown",
   "metadata": {
    "slideshow": {
     "slide_type": "slide"
    }
   },
   "source": [
    "#### Innkapsling (encapsulation)\n",
    "* Skjul detaljer som ikke er viktige for brukeren. For eksempel gjem bort detaljer om hvordan en ODE løses"
   ]
  },
  {
   "cell_type": "code",
   "execution_count": 17,
   "metadata": {},
   "outputs": [],
   "source": [
    "def solve_ode(\n",
    "    model: ODEModel, u0: np.ndarray, T: float, dt: float, **kwargs\n",
    ") -> ODEResult:\n",
    "    \"\"\"Solve an ODE model\n",
    "\n",
    "    Parameters\n",
    "    ----------\n",
    "    model : ODEModel\n",
    "        The model\n",
    "    u0 : np.ndarray\n",
    "        Initial condition\n",
    "    T : float\n",
    "        End time\n",
    "    dt : float\n",
    "       Time step\n",
    "\n",
    "    Returns\n",
    "    -------\n",
    "    ODEResult\n",
    "        The results\n",
    "    \"\"\"\n",
    "    if len(u0) != model.num_states:\n",
    "        raise InvalidInitialConditionError(\n",
    "            \"Invalid initial condition. Expected number of states to \"\n",
    "            f\"be {model.num_states}, got {len(u0)}\",\n",
    "        )\n",
    "    time = np.arange(0, T + dt, dt)\n",
    "    solution = solve_ivp(model, (0, T), u0, t_eval=time, **kwargs)\n",
    "    return ODEResult(time=time, solution=solution.y)"
   ]
  },
  {
   "cell_type": "markdown",
   "metadata": {
    "slideshow": {
     "slide_type": "slide"
    }
   },
   "source": [
    "Lag private metoder som kun brukes internt i klassen"
   ]
  },
  {
   "cell_type": "code",
   "execution_count": 3,
   "metadata": {
    "slideshow": {
     "slide_type": "-"
    }
   },
   "outputs": [],
   "source": [
    "class Sphere:\n",
    "    def __init__(self, radius):\n",
    "        self.radius = radius\n",
    "    \n",
    "    @property\n",
    "    def radius(self):\n",
    "        return self._radius\n",
    "    \n",
    "    @radius.setter\n",
    "    def radius(self, radius):\n",
    "        if radius < 0:\n",
    "            raise ValueError(\"Radius cannot be negative\")\n",
    "        self._radius = radius\n",
    "        self._update_area()\n",
    "        \n",
    "    @property\n",
    "    def area(self):\n",
    "        return self._area\n",
    "\n",
    "    def _update_area(self):\n",
    "        # Brukes kun internt i klassen\n",
    "        self._area = 4 * pi * self.radius**2"
   ]
  },
  {
   "cell_type": "markdown",
   "metadata": {
    "slideshow": {
     "slide_type": "slide"
    }
   },
   "source": [
    "#### Polymorfisme\n",
    "* Ulike implementasjoner for samme metode med ulik input\n",
    " "
   ]
  },
  {
   "cell_type": "code",
   "execution_count": null,
   "metadata": {},
   "outputs": [],
   "source": [
    "class Dog:\n",
    "    def speak(self):\n",
    "        return \"Voff\"\n",
    "\n",
    "class Duck:\n",
    "    def speak(self):\n",
    "        return \"Quack\"\n",
    "    \n",
    "class Person:\n",
    "    def speak(self):\n",
    "        return \"Hello\"\n",
    "    \n",
    "    \n",
    "x1 = Person(); x2 = Duck(); x3 = Dog()\n",
    "for xi in [x1, x2, x3]:\n",
    "    print(xi.speak())"
   ]
  },
  {
   "cell_type": "code",
   "execution_count": 19,
   "metadata": {
    "slideshow": {
     "slide_type": "slide"
    }
   },
   "outputs": [],
   "source": [
    "class PendulumResults: ...\n",
    "\n",
    "def plot_energy(results: PendulumResults, filename: str | None = None) -> None:\n",
    "\n",
    "    fig, ax = plt.subplots()\n",
    "    ax.plot(results.time, results.potential_energy, label=\"potential energy\")\n",
    "    ax.plot(results.time, results.kinetic_energy, label=\"kinetic energy\")\n",
    "    ax.plot(results.time, results.total_energy, label=\"total energy\")\n",
    "    ax.legend()\n",
    "    ax.grid()\n",
    "    ax.set_xlabel(\"Time\")\n",
    "    ax.set_ylabel(\"Energy\")\n",
    "    if filename is not None:\n",
    "        fig.savefig(filename)\n",
    "    else:\n",
    "        plt.show()"
   ]
  },
  {
   "cell_type": "markdown",
   "metadata": {
    "slideshow": {
     "slide_type": "slide"
    }
   },
   "source": [
    "#### Arv"
   ]
  },
  {
   "cell_type": "code",
   "execution_count": 1,
   "metadata": {},
   "outputs": [],
   "source": [
    "class Parent:\n",
    "    pass\n",
    "\n",
    "class Child(Parent):\n",
    "    pass"
   ]
  },
  {
   "cell_type": "markdown",
   "metadata": {
    "slideshow": {
     "slide_type": "fragment"
    }
   },
   "source": [
    "#### Kalle på metoder i foreldre-klassen\n",
    "```python\n",
    "class Child(Parent):\n",
    "    def method(self):\n",
    "        Parent.method(self)\n",
    "```\n",
    "\n",
    "eller ved å bruke `super`\n",
    "\n",
    "```python\n",
    "class Child(Parent):\n",
    "    def method(self):\n",
    "        super().method()\n",
    "```\n",
    "\n",
    "Hva er forskjellen?"
   ]
  },
  {
   "cell_type": "markdown",
   "metadata": {
    "slideshow": {
     "slide_type": "slide"
    }
   },
   "source": [
    "`super` vil bruke \"method resolution order\" til å finne ut hvilken foreldre man skal kalle på"
   ]
  },
  {
   "cell_type": "code",
   "execution_count": 2,
   "metadata": {},
   "outputs": [
    {
     "name": "stdout",
     "output_type": "stream",
     "text": [
      "<class '__main__.Child'>\n",
      "<class '__main__.Parent'>\n",
      "<class '__main__.GrandParent'>\n",
      "<class 'object'>\n"
     ]
    }
   ],
   "source": [
    "class GrandParent:\n",
    "    def method():\n",
    "        pass\n",
    "    \n",
    "class Parent(GrandParent):\n",
    "    pass\n",
    "\n",
    "class Child(Parent):\n",
    "    def method():\n",
    "        super().method()\n",
    "        \n",
    "for m in Child.mro():\n",
    "    print(m)"
   ]
  },
  {
   "cell_type": "code",
   "execution_count": 20,
   "metadata": {
    "slideshow": {
     "slide_type": "slide"
    }
   },
   "outputs": [],
   "source": [
    "class Pendulum: ...\n",
    "\n",
    "class DampenedPendulum(Pendulum):\n",
    "    def __init__(self, B, L=1, g=9.81):\n",
    "        super().__init__(L, g)\n",
    "        self.B = B\n",
    "\n",
    "    def __call__(self, t: float, u: np.ndarray) -> np.ndarray:\n",
    "        theta, omega = u\n",
    "        return np.array([omega, -self.g / self.L * np.sin(theta) - self.B * omega])\n"
   ]
  },
  {
   "cell_type": "markdown",
   "metadata": {
    "slideshow": {
     "slide_type": "slide"
    }
   },
   "source": [
    "#### Når skal man bruke arv?\n"
   ]
  },
  {
   "cell_type": "markdown",
   "metadata": {
    "slideshow": {
     "slide_type": "fragment"
    }
   },
   "source": [
    "Når vi har ett \"er-en-forhold\" (\"is-a-relationship\") "
   ]
  },
  {
   "cell_type": "markdown",
   "metadata": {
    "slideshow": {
     "slide_type": "fragment"
    }
   },
   "source": [
    "* En hund er ett dyr\n",
    "\n",
    "```python\n",
    "class Animal:\n",
    "    pass\n",
    "\n",
    "class Dog(Animal):\n",
    "    pass\n",
    "```"
   ]
  },
  {
   "cell_type": "markdown",
   "metadata": {
    "slideshow": {
     "slide_type": "skip"
    }
   },
   "source": [
    "* En bil har en motor - vi bruker sammensetning, ikke arv\n",
    "\n",
    "```python\n",
    "class Engine:\n",
    "    pass\n",
    "\n",
    "class Car:\n",
    "    def __init__(self, engine):\n",
    "        self.engine = engine\n",
    "        \n",
    "engine = Engine()\n",
    "car = Car(engine=engine)\n",
    "```"
   ]
  },
  {
   "cell_type": "markdown",
   "metadata": {
    "slideshow": {
     "slide_type": "slide"
    }
   },
   "source": [
    "### Design patterns\n",
    "\n",
    "- Erfarne utvikler at samlet oppskrifter på hvordan løser ulike problemer\n",
    "- Oppskrifter som viser seg å være gode løsninger blir ofte kalt design patterns"
   ]
  },
  {
   "cell_type": "markdown",
   "metadata": {
    "slideshow": {
     "slide_type": "fragment"
    }
   },
   "source": [
    "Eksempel på desing pattern:\n",
    "* Favor object composition over class inheritance\n",
    "    - Sjekk ut `ModelVector` fra Lecture 7.\n",
    "  \n",
    "https://pages.github.uio.no/IN1910/IN1910_H22/docs/lectures/python/oop_concepts.html#composition-over-inheritance"
   ]
  },
  {
   "cell_type": "markdown",
   "metadata": {
    "slideshow": {
     "slide_type": "slide"
    }
   },
   "source": [
    "### Namespace\n",
    "\n",
    "- Hva er et namespace (navnerom)"
   ]
  },
  {
   "cell_type": "markdown",
   "metadata": {
    "slideshow": {
     "slide_type": "fragment"
    }
   },
   "source": [
    "Bruk\n",
    "\n",
    "```python\n",
    "import math\n",
    "math.sin(x)\n",
    "```\n",
    "istedenfor\n",
    "\n",
    "```python\n",
    "from math import *\n",
    "def sin(a):\n",
    "    print(\"Hello\")\n",
    "sin(x)\n",
    "```"
   ]
  },
  {
   "cell_type": "markdown",
   "metadata": {
    "slideshow": {
     "slide_type": "fragment"
    }
   },
   "source": [
    "Hvorfor?"
   ]
  },
  {
   "cell_type": "markdown",
   "metadata": {
    "slideshow": {
     "slide_type": "slide"
    }
   },
   "source": [
    "### Funksjonell programmering\n",
    "\n",
    "Funksjoner kan sendes inn som argumenter til andre funksjoner. Funksjoner som tar funksjoner som argumenter kalles høyere ordens funksjoner (higher order functions)"
   ]
  },
  {
   "cell_type": "code",
   "execution_count": 23,
   "metadata": {},
   "outputs": [
    {
     "name": "stdout",
     "output_type": "stream",
     "text": [
      "y = [1, 2, 3]\n",
      "z = [1, 4, 9]\n"
     ]
    }
   ],
   "source": [
    "def square(x):\n",
    "    return x * x\n",
    "\n",
    "\n",
    "def map_func_over_list(func, lst):\n",
    "    return [func(x) for x in lst]\n",
    "\n",
    "y = [1, 2, 3]\n",
    "z = map_func_over_list(square, y)\n",
    "\n",
    "print(f\"{y = }\")\n",
    "print(f\"{z = }\")"
   ]
  },
  {
   "cell_type": "markdown",
   "metadata": {
    "slideshow": {
     "slide_type": "slide"
    }
   },
   "source": [
    "Rene funksjoner er funksjoner som alltid gir samme svar for samme input"
   ]
  },
  {
   "cell_type": "code",
   "execution_count": 25,
   "metadata": {},
   "outputs": [],
   "source": [
    "x = 2\n",
    "y = square(x)\n",
    "z = square(x)"
   ]
  },
  {
   "cell_type": "markdown",
   "metadata": {
    "slideshow": {
     "slide_type": "fragment"
    }
   },
   "source": [
    "Rene funksjoner er enkle å teste og vi kan bruke memoisering"
   ]
  },
  {
   "cell_type": "code",
   "execution_count": 32,
   "metadata": {
    "scrolled": true,
    "slideshow": {
     "slide_type": "fragment"
    }
   },
   "outputs": [
    {
     "name": "stdout",
     "output_type": "stream",
     "text": [
      "Computing ...\n",
      "Using cache\n"
     ]
    }
   ],
   "source": [
    "cache = {}\n",
    "def square(x):\n",
    "    try:\n",
    "        y = cache[x]\n",
    "        print(\"Using cache\")\n",
    "    except KeyError:\n",
    "        print(\"Computing ...\")\n",
    "        y = x * x\n",
    "        cache[x] = y\n",
    "    finally:\n",
    "        return y\n",
    "    \n",
    "y = square(x)\n",
    "z = square(x)"
   ]
  },
  {
   "cell_type": "markdown",
   "metadata": {
    "slideshow": {
     "slide_type": "slide"
    }
   },
   "source": [
    "Vi kan også definere funksjoner inne i andre funksjoner"
   ]
  },
  {
   "cell_type": "code",
   "execution_count": 31,
   "metadata": {},
   "outputs": [
    {
     "data": {
      "text/plain": [
       "0.09499999999999975"
      ]
     },
     "execution_count": 31,
     "metadata": {},
     "output_type": "execute_result"
    }
   ],
   "source": [
    "def throw_fun(v0):\n",
    "    g = 9.81\n",
    "\n",
    "    def height(t):\n",
    "        return v0 * t - 0.5 * g * t**2\n",
    "\n",
    "    return height\n",
    "\n",
    "\n",
    "throw2 = throw_fun(5.0)\n",
    "throw2(1)"
   ]
  },
  {
   "cell_type": "markdown",
   "metadata": {
    "slideshow": {
     "slide_type": "slide"
    }
   },
   "source": [
    "## C++"
   ]
  },
  {
   "cell_type": "markdown",
   "metadata": {},
   "source": [
    "```C++\n",
    "int a = 1;\n",
    "float b = 1.0;\n",
    "double c = 1.0;\n",
    "```\n",
    "\n",
    "\n",
    "<table style=\"border: 1px solid black; font-size:14pt; width: 90%;\">\n",
    "    <thead>\n",
    "        <tr>\n",
    "            <th colspan=\"4\" style=\"text-align: center; border: 1px solid black;\">a (int)</th>\n",
    "            <th colspan=\"4\" style=\"text-align: center; border: 1px solid black;\">b (float)</th>\n",
    "            <th colspan=\"8\" style=\"text-align: center; border: 1px solid black;\">c (double)</th>\n",
    "        </tr>\n",
    "    </thead>\n",
    "    <tbody>\n",
    "        <tr>\n",
    "            <td style=\"border: 1px solid black;\" >0001</td>\n",
    "            <td style=\"border: 1px solid black;\">0002</td>\n",
    "            <td style=\"border: 1px solid black;\">0003</td>\n",
    "            <td style=\"border: 1px solid black;\">0004</td>\n",
    "            <td style=\"border: 1px solid black;\" >0005</td>\n",
    "            <td style=\"border: 1px solid black;\">0006</td>\n",
    "            <td style=\"border: 1px solid black;\">0007</td>\n",
    "            <td style=\"border: 1px solid black;\">0008</td>\n",
    "            <td style=\"border: 1px solid black;\" >0009</td>\n",
    "            <td style=\"border: 1px solid black;\">0010</td>\n",
    "            <td style=\"border: 1px solid black;\">0011</td>\n",
    "            <td style=\"border: 1px solid black;\">0012</td>\n",
    "            <td style=\"border: 1px solid black;\" >0013</td>\n",
    "            <td style=\"border: 1px solid black;\">0014</td>\n",
    "            <td style=\"border: 1px solid black;\">0015</td>\n",
    "            <td style=\"border: 1px solid black;\">0016</td>\n",
    "        </tr>\n",
    "    </tbody>\n",
    "</table>\n"
   ]
  },
  {
   "cell_type": "code",
   "execution_count": 22,
   "metadata": {
    "slideshow": {
     "slide_type": "skip"
    }
   },
   "outputs": [
    {
     "data": {
      "text/html": [
       "<style>\n",
       "td, tr {\n",
       "  font-size: 30px\n",
       "}\n",
       "</style>\n"
      ],
      "text/plain": [
       "<IPython.core.display.HTML object>"
      ]
     },
     "metadata": {},
     "output_type": "display_data"
    }
   ],
   "source": [
    "%%HTML\n",
    "<style>\n",
    "td, tr {\n",
    "  font-size: 30px\n",
    "}\n",
    "</style>"
   ]
  },
  {
   "cell_type": "markdown",
   "metadata": {
    "slideshow": {
     "slide_type": "slide"
    }
   },
   "source": [
    "\n",
    "| Syntax    | Meaning               |\n",
    "|--------\t|---------------------\t|\n",
    "| `int i`  \t| heltallsvariabel    \t|\n",
    "| `int &r` \t| referanse variabel  \t|\n",
    "| `int *p` \t| peker variable    \t|\n",
    "| `&i`     \t| adressen til `i`  |\n",
    "| `*p`     \t| innholdet på adressen (dereferering) |"
   ]
  },
  {
   "cell_type": "markdown",
   "metadata": {
    "slideshow": {
     "slide_type": "slide"
    }
   },
   "source": [
    "### Kalling av funksjoner i C++\n",
    "\n",
    "Call by value\n",
    "```C++\n",
    "void add_one(double x) {\n",
    "    x += 1;\n",
    "}\n",
    "```\n",
    "\n",
    "Call by referece\n",
    "```C++\n",
    "void add_one(double &x) {\n",
    "    x += 1;\n",
    "}\n",
    "```\n",
    "\n",
    "Call by pointer\n",
    "```C++\n",
    "void add_one(double *x) {\n",
    "    *x += 1;\n",
    "}\n",
    "```\n",
    "\n",
    "Merk at vi må bruke dereferering for å endre verdien."
   ]
  },
  {
   "cell_type": "markdown",
   "metadata": {
    "slideshow": {
     "slide_type": "fragment"
    }
   },
   "source": [
    "Er det noen fordel med å bruke \"Call by reference\" istedenfor \"Call by value\"?"
   ]
  },
  {
   "cell_type": "markdown",
   "metadata": {
    "slideshow": {
     "slide_type": "slide"
    }
   },
   "source": [
    "### Hvordan er dette python? "
   ]
  },
  {
   "cell_type": "code",
   "execution_count": 11,
   "metadata": {},
   "outputs": [
    {
     "name": "stdout",
     "output_type": "stream",
     "text": [
      "1\n"
     ]
    }
   ],
   "source": [
    "def add_one(x):\n",
    "    x += 1\n",
    "    \n",
    "y = 1\n",
    "add_one(y)\n",
    "print(y)"
   ]
  },
  {
   "cell_type": "markdown",
   "metadata": {
    "slideshow": {
     "slide_type": "slide"
    }
   },
   "source": [
    "### Hva med denne?"
   ]
  },
  {
   "cell_type": "code",
   "execution_count": 12,
   "metadata": {},
   "outputs": [
    {
     "name": "stdout",
     "output_type": "stream",
     "text": [
      "[1, 1]\n"
     ]
    }
   ],
   "source": [
    "def add_one(x):\n",
    "    x += [1]\n",
    "    \n",
    "y = [1]\n",
    "add_one(y)\n",
    "print(y)"
   ]
  },
  {
   "cell_type": "markdown",
   "metadata": {
    "slideshow": {
     "slide_type": "slide"
    }
   },
   "source": [
    "I python er et viktigere spørmål om du bruker en \"mutable\" (foranderlig) eller \"immutable\" (fast) datastruktur. Lister er mutable"
   ]
  },
  {
   "cell_type": "code",
   "execution_count": 10,
   "metadata": {
    "slideshow": {
     "slide_type": "fragment"
    }
   },
   "outputs": [
    {
     "name": "stdout",
     "output_type": "stream",
     "text": [
      "[1, 1]\n"
     ]
    }
   ],
   "source": [
    "# Det gir samme resultat\n",
    "y = [1]\n",
    "x = y\n",
    "x += [1]\n",
    "print(y)"
   ]
  },
  {
   "cell_type": "code",
   "execution_count": 13,
   "metadata": {
    "slideshow": {
     "slide_type": "fragment"
    }
   },
   "outputs": [
    {
     "name": "stdout",
     "output_type": "stream",
     "text": [
      "1\n"
     ]
    }
   ],
   "source": [
    "# Heltall er immutable\n",
    "y = 1\n",
    "x = y\n",
    "x += 1\n",
    "print(y)"
   ]
  },
  {
   "cell_type": "markdown",
   "metadata": {
    "slideshow": {
     "slide_type": "slide"
    }
   },
   "source": [
    "### Objektorientert programmering i C++\n",
    "\n",
    "```C++\n",
    "struct Point {\n",
    "    double x;\n",
    "    double y;\n",
    "};\n",
    "\n",
    "\n",
    "class Circle {\n",
    "private:\n",
    "    double radius = 1.0;\n",
    "    Point center{0.0, 0.0};\n",
    "\n",
    "public:\n",
    "    Circle() {}\n",
    "};\n",
    "```\n",
    "\n",
    "For `struct` er alle variabler `public` by default mens for `class` er de `private`"
   ]
  },
  {
   "cell_type": "markdown",
   "metadata": {
    "slideshow": {
     "slide_type": "slide"
    }
   },
   "source": [
    "### Vi kan også ha flere konstruktører\n",
    "\n",
    "```C++\n",
    "\n",
    "class Circle {\n",
    "private:\n",
    "    double radius = 1.0;\n",
    "    Point center{0.0, 0.0};\n",
    "\n",
    "public:\n",
    "    Circle() {}\n",
    "    Circle(double r): radius(r) {}\n",
    "};\n",
    "```\n",
    "Hva kalles det når vi har flere funksjoner som heter det samme men kan ta ulik input?"
   ]
  },
  {
   "cell_type": "markdown",
   "metadata": {
    "slideshow": {
     "slide_type": "slide"
    }
   },
   "source": [
    "### Dynamisk minne allokering\n",
    "\n",
    "Brukes dersom vi ønsker at variabler skal leve utenfor sitt scope eller dersom du ikke vet størrelsen som må allokeres før programmet kjører\n",
    "\n",
    "```C++\n",
    "class Array {\n",
    "public:\n",
    "\tint *data;\n",
    "\tint size;\n",
    "\n",
    "\tArray(int n) {\n",
    "\t\tdata = new int[n];\n",
    "\t\tsize = n;\n",
    "\t\tfor (int i=0; i<size; i++) {\n",
    "\t\t\tdata[i] = 0;\n",
    "\t\t}\n",
    "\t}\n",
    "};\n",
    "```"
   ]
  },
  {
   "cell_type": "markdown",
   "metadata": {
    "slideshow": {
     "slide_type": "slide"
    }
   },
   "source": [
    "### Da må vi også huske å deallokere minnet\n",
    "\n",
    "```C++\n",
    "~ArrayList() {\n",
    "    delete[] data;\n",
    "}\n",
    "```\n",
    "\n",
    "Hva kan skje om vi glemmer å deallokere minnet?"
   ]
  },
  {
   "cell_type": "markdown",
   "metadata": {
    "slideshow": {
     "slide_type": "slide"
    }
   },
   "source": [
    "### Smarte pekere er å foretrekke over råe pekere\n",
    "\n",
    "```C++\n",
    "#include <iostream>\n",
    "\n",
    "int main()\n",
    "{\n",
    "    int *p = new int{42};\n",
    "    std::cout << *p << \"\\n\";\n",
    "    delete p;\n",
    "}\n",
    "```\n",
    "vs\n",
    "```C++\n",
    "#include <iostream>\n",
    "#include <memory>\n",
    "\n",
    "int main()\n",
    "{\n",
    "    std::unique_ptr<int> p = std::make_unique<int>(42);\n",
    "    std::cout << *p << \"\\n\";\n",
    "}\n",
    "```"
   ]
  },
  {
   "cell_type": "markdown",
   "metadata": {
    "slideshow": {
     "slide_type": "slide"
    }
   },
   "source": [
    "## Datastrukturer for lister\n",
    "\n",
    "* Dynamiske array\n",
    "    + En liste med en gitt kapasitet blir allokert\n",
    "    + Når størrelsen overgår kapasiteten så kopieres listen til et nytt sted og kapasiteten økes\n",
    "    \n",
    "* Lenkede lister\n",
    "    + Elementer i lista er noder som inneholder en verdi og en peker til neste element i lista"
   ]
  },
  {
   "cell_type": "markdown",
   "metadata": {
    "slideshow": {
     "slide_type": "slide"
    }
   },
   "source": [
    "## Analogier - legge til elementer\n",
    "\n",
    "**Dynamisk array** - Stabel av bøker\n",
    "\n",
    "![_](figures/stack_of_books.jpg)\n",
    "\n",
    "**Lenkede lister** - sykkelkjede\n",
    "\n",
    "![_](figures/bike_chain.jpg)"
   ]
  },
  {
   "cell_type": "markdown",
   "metadata": {
    "slideshow": {
     "slide_type": "slide"
    }
   },
   "source": [
    "### Stor O notasjon\n",
    "\n",
    "I hvor stor grad blir koden tregere når størrelsen på dataene øker.\n",
    "\n",
    "Hvis jeg dobler størrelsen på input, vil det gå\n",
    "- like tregt : konstant kjøretid  $\\mathcal{O}(1)$\n",
    "- dobbelt så tregt: lineær kjøretid $\\mathcal{O}(N)$\n",
    "- 4 ganger så tregt: kvadratisk kjøretid $\\mathcal{O}(N^2)$\n",
    "\n",
    "\"How your code slows when your data grows\" - Ned Batchelder"
   ]
  },
  {
   "cell_type": "markdown",
   "metadata": {
    "slideshow": {
     "slide_type": "fragment"
    }
   },
   "source": [
    "Vi teller antall opersjoner og kaster bort lavere ordens ledd"
   ]
  },
  {
   "cell_type": "markdown",
   "metadata": {
    "slideshow": {
     "slide_type": "slide"
    }
   },
   "source": [
    "### Kjøretidsanalyse\n",
    "\n",
    "| Operation           | Array            | Dynamic Array      | Linked List      |\n",
    "|---------------------|------------------|--------------------|------------------|\n",
    "| Indexing            | $\\mathcal{O}(1)$ | $\\mathcal{O}(1)$   | $\\mathcal{O}(n)$ | \n",
    "| Insert at beginning | -                | $\\mathcal{O}(n)$   | $\\mathcal{O}(1)$ | \n",
    "| Insert at end       | -                | $\\mathcal{O}(1)^*$ | $\\mathcal{O}(1)$ | \n",
    "| Insert in middle    | -                | $\\mathcal{O}(n)$   | $\\mathcal{O}(n)^{**}$ | \n",
    "| Search (contains)   | $\\mathcal{O}(n)$ | $\\mathcal{O}(n)$   | $\\mathcal{O}(n)$  | \n",
    "\n",
    "\n"
   ]
  },
  {
   "cell_type": "markdown",
   "metadata": {},
   "source": [
    "\\*) Amortized/averaged cost \\*\\*) Insertion itself is $\\mathcal{O}(1)$, but indexing into the list is $\\mathcal{O}(n)$."
   ]
  },
  {
   "cell_type": "markdown",
   "metadata": {
    "slideshow": {
     "slide_type": "slide"
    }
   },
   "source": [
    "## Eksempler på vitenskapelige anvendelser\n",
    "\n",
    "* Generering av pseudotilfeldige tall i python og C++\n",
    "    - Hva er hensikten med et \"seed\"? "
   ]
  },
  {
   "cell_type": "markdown",
   "metadata": {
    "slideshow": {
     "slide_type": "fragment"
    }
   },
   "source": [
    "* Bruk av tilfeldige tall i stokastiske simuleringer\n",
    "    - Random walk\n",
    "    - Markov chains"
   ]
  },
  {
   "cell_type": "markdown",
   "metadata": {
    "slideshow": {
     "slide_type": "slide"
    }
   },
   "source": [
    "### Hvordan kan vi bruke stokastiske simuleringer?\n",
    "\n",
    "Husker dere Monty Hall problemet?\n"
   ]
  },
  {
   "cell_type": "markdown",
   "metadata": {
    "slideshow": {
     "slide_type": "fragment"
    }
   },
   "source": [
    "Vi kan bruke stokastiske simuleringer til å formulere problemer som vi ikke kan finne analytiske løsninger på. Vi kan deretter simulere velding mange realiseringer og se hva som blir sansynligheten for at noe skjer."
   ]
  },
  {
   "cell_type": "markdown",
   "metadata": {
    "slideshow": {
     "slide_type": "slide"
    }
   },
   "source": [
    "## Anvendelser innenfor data science\n",
    "\n",
    "* Hvordan kan vi bruke `pandas` til å jobbe med større datamengder\n",
    "    - Lese data fra fil (f.eks covid-19 data eller bysykler)\n",
    "    - Lese data fra python dictionary (f.eks flymodeller)\n"
   ]
  },
  {
   "cell_type": "markdown",
   "metadata": {
    "slideshow": {
     "slide_type": "fragment"
    }
   },
   "source": [
    "* Plotting med `matplotlib`"
   ]
  },
  {
   "cell_type": "markdown",
   "metadata": {},
   "source": [
    "* Interaktiv visualisering med `streamlit`"
   ]
  },
  {
   "cell_type": "markdown",
   "metadata": {
    "slideshow": {
     "slide_type": "slide"
    }
   },
   "source": [
    "## Optimalisering av kode\n",
    "\n",
    "1. Sørg for at programmet fungerer og gir rikitg svar\n",
    "    - Skriv tester\n",
    "2. Refakturer koden\n",
    "    - Skriv tester for corner cases\n",
    "    - Skriv dokumentasjon\n",
    "    - Gjør koden mer lesbar\n",
    "    - Omstrukturer koden\n",
    "    \n",
    "3. Vurder nøye om du trenger å optimalisere!"
   ]
  },
  {
   "cell_type": "markdown",
   "metadata": {
    "slideshow": {
     "slide_type": "fragment"
    }
   },
   "source": [
    "4. Bruk en profiler for å finne flaskehalsene\n",
    "5. Konsentrer deg om å utbedre flaskehalsene\n",
    "6. Ha et benchmark som du kan bruke til å teste ytelsen på den nye implementering"
   ]
  },
  {
   "cell_type": "markdown",
   "metadata": {
    "slideshow": {
     "slide_type": "slide"
    }
   },
   "source": [
    "### Teknikker for optimalisering\n",
    "\n",
    "#### Mixed programming\n",
    "\n",
    "* Numpy vektorisering\n",
    "* mypyc\n",
    "* Numba\n",
    "* cppyy\n",
    "* C / C++ utvidelse og bindinger med `ctypes`\n",
    "\n",
    "#### Paralell programmering\n",
    "\n",
    "* Multiprocessing for CPU bounded problemer\n",
    "* Multithreading for IO bounded problemer\n",
    "* Dask\n",
    "* Numba\n",
    "* C++ OpenMP"
   ]
  },
  {
   "cell_type": "markdown",
   "metadata": {
    "slideshow": {
     "slide_type": "slide"
    }
   },
   "source": [
    "## Prosjekter\n",
    "\n",
    "Projsektene er meget relevante for eksamen. Du må kunne svare på alle oppgaver fra prosjektet. Det hjelper ikke å si at partnerer din og du delte oppgavene mellom dere. Da vil du få en ny sjanse i januar"
   ]
  },
  {
   "cell_type": "markdown",
   "metadata": {
    "slideshow": {
     "slide_type": "fragment"
    }
   },
   "source": [
    "- Prosjekt 0 - Testing og git\n",
    "- Prosjekt 1 - Dobbelpendel\n",
    "- Prosjekt 2 - Lister (C++)\n",
    "- Prosjekt 3 - Kaosspill\n",
    "\n",
    "Sjekk https://www.uio.no/studier/emner/matnat/ifi/IN1910/h22/eksamen/sporsmal-til-eksamen.html for eksempler på spørsmål vi kan stille"
   ]
  },
  {
   "cell_type": "markdown",
   "metadata": {
    "slideshow": {
     "slide_type": "slide"
    }
   },
   "source": [
    "## Gode råd\n",
    "\n",
    "1. Skriv kode for mennesker, ikke for maskiner\n",
    "    - Fokuser heller på å gjøre koden din lett å forstå enn å gjøre den mest mulig effektiv\n",
    "    - Husk at tiden vi bruker å lese/skrive kode ofte er mer kritisk enn den tiden vi bruker på kjøre den (YouTube vs Google)\n",
    "    - En person klarer i snitt å holde 4 $\\pm$ 2 forksjellige tanker på en gang\n",
    "    - Hver funksjon bør kun gjøre en ting\n",
    "    - Gi meningsfulle navn på variabler\n",
    "    - Bruk et kodeformatterringsprogramm (f.eks `black`)\n",
    "    - Dokumenter koden\n",
    "    - Bruk tid på å bli kjent med editoren din (det kan spare deg for mye tid)\n",
    "   "
   ]
  },
  {
   "cell_type": "markdown",
   "metadata": {
    "slideshow": {
     "slide_type": "slide"
    }
   },
   "source": [
    "2. La datamakskinen gjøre jobben\n",
    "    - \"Automate the boring stuff\"\n",
    "    - Hvis du gjør samme prosedyren mange ganger, se om den kan automatiseres\n",
    "    - Lagre komandoer som du bruker ofte på ett sted (cheat sheets)\n",
    "    - `gist` på github"
   ]
  },
  {
   "cell_type": "markdown",
   "metadata": {
    "slideshow": {
     "slide_type": "slide"
    }
   },
   "source": [
    "3. Gjør små endringer når du utvikler\n",
    "    - Bruk versjons kontrol system\n",
    "    - Commit ofte - da er det lett å gå tilbake til en versjon som funker\n",
    "    - Skriv tester og test før du commiter (test-driven-development)"
   ]
  },
  {
   "cell_type": "markdown",
   "metadata": {
    "slideshow": {
     "slide_type": "slide"
    }
   },
   "source": [
    "4. Do not repeat yourself (DRY)\n",
    "    - Ikke kopier kode fra ett sted til ett annet - da må du endre koden to steder dersom du må endre den\n",
    "    - Gjenbruk kode\n",
    "    - Lag egne moduler / bibliotek som du importerer"
   ]
  },
  {
   "cell_type": "markdown",
   "metadata": {
    "slideshow": {
     "slide_type": "slide"
    }
   },
   "source": [
    "5. Planlegg for feil\n",
    "    - Skriv `assert` statements\n",
    "    - Bruk et ordentlig testing rammeverk som `pytest`\n",
    "    - Finner du en bug - skriv en test som sørger for at den bugen aldri skjer igjen"
   ]
  },
  {
   "cell_type": "markdown",
   "metadata": {
    "slideshow": {
     "slide_type": "slide"
    }
   },
   "source": [
    "6. Optimaliser koden kun hvis du virklelig trenger det\n",
    "    - Bruk en profiler for å finne flaskehalser"
   ]
  },
  {
   "cell_type": "markdown",
   "metadata": {
    "slideshow": {
     "slide_type": "slide"
    }
   },
   "source": [
    "7. Lær av hverandre og lær å finne svaret på google / stackoverflow!\n",
    "    - Kopierer du kode fra nettet i en oppgave, husk å oppgi kilde"
   ]
  },
  {
   "cell_type": "markdown",
   "metadata": {
    "slideshow": {
     "slide_type": "slide"
    }
   },
   "source": [
    "## Veien videre\n",
    "\n",
    "* IN2010 — Algorithms and Data Structures\n",
    "    - Videreføring av det vi drev med i C++\n",
    "    \n",
    "* IN3110/IN4110 — Higher Level Programming\n",
    "    - Mye av det samme som dette kurset + bash + pakking av prosjekter + Cython + webutvikling i python + machine learning\n",
    "* IN3200 — High-Performance Computing and Numerical Projects\n",
    "    - Mer om å skrive effektiv og parallell kode \n",
    "* IN2070 – Digital image analysis\n",
    "    - Lære verktøy for analysering av bilder\n",
    "* IN2040 – Funksjonell programmering\n",
    "    - Programmering i et funksjonelt programmeringsspråk\n",
    "* FYS3150 – Computational Physics\n",
    "    - C++ med fokus på fysikk\n",
    "* IN4200 – High-Performance Computing and Numerical Projects\n",
    "    - Lære grunnleggende konseptene innen parallell programmering og høy-ytelses databehandling\n",
    "* FYS-STK3155 – Anvendt dataanalyse og maskinlæring\n",
    "    - Innføring i sentrale algoritmer og metoder, som er viktige for studier av statistisk dataanalyse og maskinlæring\n",
    "* IN3050 / IN4050 – Introduksjon til kunstig intelligens og maskinlæring\n",
    "    - Grunnleggende introduksjon til maskinlæring (ML) og kunstig intelligens (AI) - anbefaler IN2010."
   ]
  },
  {
   "cell_type": "markdown",
   "metadata": {
    "slideshow": {
     "slide_type": "slide"
    }
   },
   "source": [
    "## Spørretime \n",
    "\n",
    "* Tirsdag 07.12 klokken 12.15 i OJD Simula\n",
    "* Det blir ikke gjort opptak av denne"
   ]
  },
  {
   "cell_type": "markdown",
   "metadata": {
    "slideshow": {
     "slide_type": "slide"
    }
   },
   "source": [
    "## Lykke til på eksamen!"
   ]
  }
 ],
 "metadata": {
  "celltoolbar": "Slideshow",
  "kernelspec": {
   "display_name": "Python 3 (ipykernel)",
   "language": "python",
   "name": "python3"
  },
  "language_info": {
   "codemirror_mode": {
    "name": "ipython",
    "version": 3
   },
   "file_extension": ".py",
   "mimetype": "text/x-python",
   "name": "python",
   "nbconvert_exporter": "python",
   "pygments_lexer": "ipython3",
   "version": "3.10.4"
  }
 },
 "nbformat": 4,
 "nbformat_minor": 2
}
