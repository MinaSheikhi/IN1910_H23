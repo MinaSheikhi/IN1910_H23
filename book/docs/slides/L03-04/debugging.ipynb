{
 "cells": [
  {
   "cell_type": "markdown",
   "metadata": {
    "slideshow": {
     "slide_type": "slide"
    }
   },
   "source": [
    "# Debugging"
   ]
  },
  {
   "cell_type": "markdown",
   "metadata": {
    "slideshow": {
     "slide_type": "slide"
    }
   },
   "source": [
    "## [Logging](https://docs.python.org/3/library/logging.html)\n",
    "\n",
    "Du kan lage din egen logger:"
   ]
  },
  {
   "cell_type": "code",
   "execution_count": 3,
   "metadata": {},
   "outputs": [],
   "source": [
    "import logging\n",
    "\n",
    "logging.basicConfig()  # needed to change level\n",
    "logger = logging.getLogger(name=\"MyLoggerName\")"
   ]
  },
  {
   "cell_type": "markdown",
   "metadata": {
    "slideshow": {
     "slide_type": "-"
    }
   },
   "source": [
    "Brukes til å printe beskjeder med forskjellig prioritet:\n",
    "- `CRITICAL`\n",
    "- `ERROR`\n",
    "- `WARNING`\n",
    "- `INFO`\n",
    "- `DEBUG`\n",
    "\n",
    "Logging gjør det enkelt å bytte på hvor mye som skal printes!"
   ]
  },
  {
   "cell_type": "markdown",
   "metadata": {
    "slideshow": {
     "slide_type": "notes"
    }
   },
   "source": [
    "OBS: Husk at koden bør kaste et unntak om noe har gått sikkelig galt, ikke bruk `critical` eller `error` i stedenfor å kaste unntak."
   ]
  },
  {
   "cell_type": "markdown",
   "metadata": {
    "slideshow": {
     "slide_type": "slide"
    }
   },
   "source": [
    "### `WARNING`\n",
    "\n",
    "Kan brukes til å legge til advarsler når en brukerfeil ikke er grov nok til å kaste unntak."
   ]
  },
  {
   "cell_type": "code",
   "execution_count": 4,
   "metadata": {},
   "outputs": [
    {
     "name": "stderr",
     "output_type": "stream",
     "text": [
      "WARNING:NOT GOOD:This is a warning message.\n"
     ]
    }
   ],
   "source": [
    "logger = logging.getLogger(name=\"NOT GOOD\")\n",
    "logger.setLevel(logging.WARNING)\n",
    "\n",
    "logger.warning(\"This is a warning message.\")\n",
    "logger.info(\"This is an info message.\")\n",
    "logger.debug(\"This is a debugging message.\")"
   ]
  },
  {
   "cell_type": "markdown",
   "metadata": {
    "slideshow": {
     "slide_type": "slide"
    }
   },
   "source": [
    "### `INFO`\n",
    "\n",
    "Kan gi bruker valget mellom å kjøre koden med eller uten `verbose`."
   ]
  },
  {
   "cell_type": "code",
   "execution_count": 5,
   "metadata": {},
   "outputs": [
    {
     "name": "stderr",
     "output_type": "stream",
     "text": [
      "WARNING:TALKATIVE:This is a warning message.\n",
      "INFO:TALKATIVE:This is an info message.\n"
     ]
    }
   ],
   "source": [
    "logger = logging.getLogger(name=\"TALKATIVE\")\n",
    "logger.setLevel(logging.INFO)\n",
    "\n",
    "logger.warning(\"This is a warning message.\")\n",
    "logger.info(\"This is an info message.\")\n",
    "logger.debug(\"This is a debugging message.\")"
   ]
  },
  {
   "cell_type": "markdown",
   "metadata": {
    "slideshow": {
     "slide_type": "slide"
    }
   },
   "source": [
    "### `DEBUG`\n",
    "\n",
    "Programmerer slipper å slette en haug med print-statements brukt til debugging!"
   ]
  },
  {
   "cell_type": "code",
   "execution_count": 6,
   "metadata": {},
   "outputs": [
    {
     "name": "stderr",
     "output_type": "stream",
     "text": [
      "WARNING:EXCESSIVE:This is a warning message.\n",
      "INFO:EXCESSIVE:This is an info message.\n",
      "DEBUG:EXCESSIVE:This is a debugging message.\n"
     ]
    }
   ],
   "source": [
    "logger = logging.getLogger(name=\"EXCESSIVE\")\n",
    "logger.setLevel(logging.DEBUG)\n",
    "\n",
    "logger.warning(\"This is a warning message.\")\n",
    "logger.info(\"This is an info message.\")\n",
    "logger.debug(\"This is a debugging message.\")"
   ]
  },
  {
   "cell_type": "markdown",
   "metadata": {
    "slideshow": {
     "slide_type": "slide"
    }
   },
   "source": [
    "### Skrive log til fil\n",
    "\n",
    "Du kan skrive loggen til fil ved å bruke\n",
    "```Python\n",
    "logging.basicConfig(filename=<filename>, filemode=\"w\")\n",
    "```"
   ]
  },
  {
   "cell_type": "markdown",
   "metadata": {
    "slideshow": {
     "slide_type": "slide"
    }
   },
   "source": [
    "**Eksempel på logging til fil:**\n",
    "\n",
    "Du kan kjøre filen `log_to_file.py` og se at loggen vil havne i `my_log.txt`:"
   ]
  },
  {
   "cell_type": "code",
   "execution_count": null,
   "metadata": {},
   "outputs": [],
   "source": [
    "%%writefile log_to_file.py\n",
    "import logging\n",
    "\n",
    "logging.basicConfig(filename=\"my_log.txt\", filemode=\"w\")\n",
    "logger = logging.getLogger(name=\"MyLogger\")\n",
    "logger.setLevel(logging.WARNING)\n",
    "\n",
    "\n",
    "print(\"Printing works as usual!\")\n",
    "\n",
    "logger.critical(\"The messages with level 'warning' or higher\")\n",
    "logger.error(\"will no longer be printed in your terminal\")\n",
    "logger.warning(\"but rather written to the file 'my_log.txt'!\")\n",
    "logger.info(\"The messages with lower logging level\")\n",
    "logger.debug(\"will be ignored as usual.\")"
   ]
  },
  {
   "cell_type": "markdown",
   "metadata": {
    "slideshow": {
     "slide_type": "slide"
    }
   },
   "source": [
    "## Debugger\n",
    "\n",
    "Debuggere er verktøy for å lettere finne bugs i koden din. Dette kan være:\n",
    "- Finne ut hvorfor koden kræsjer\n",
    "- Finne ut hvorfor koden gir uventet resultat/output \n",
    "\n",
    "En debugger kan:\n",
    "- Vise deg tilstander til variabler\n",
    "- Gå stegvis gjennom koden slik den kjøres - både fremover og bakover\n",
    "- Gå i *interactive mode* og la deg utforske koden på et bestemt steg i kjøringen"
   ]
  },
  {
   "cell_type": "markdown",
   "metadata": {
    "slideshow": {
     "slide_type": "notes"
    }
   },
   "source": [
    "Du kan også bruke en debugger som er verktøy til å forstå koden bedre!"
   ]
  },
  {
   "cell_type": "markdown",
   "metadata": {
    "slideshow": {
     "slide_type": "slide"
    }
   },
   "source": [
    "### `pdb` - [Python DeBugger](https://docs.python.org/3/library/pdb.html)\n",
    "\n",
    "Det finnes mange gode debuggere å velge mellom, men `pdb` er innebygd i Python.\n",
    "\n",
    "Terminalvinduet ditt går over til `pdb`-mode. Noen nyttige `pdb`-kommandoer:\n",
    "- `?`: gir en oversikt av kommandoer i `pdb`\n",
    "- `help <pdb-command>`: gir beskrivelse av en bestemt `pdb` kommando\n",
    "- `interact`: gå inn i *interactive mode* \n",
    "- `q`: gå ut av `pdb`-mode. Kort for `quit`"
   ]
  },
  {
   "cell_type": "markdown",
   "metadata": {
    "slideshow": {
     "slide_type": "notes"
    }
   },
   "source": [
    "Aller viktigst er `?`, der får du all informasjon du trenger!"
   ]
  },
  {
   "cell_type": "markdown",
   "metadata": {
    "slideshow": {
     "slide_type": "slide"
    }
   },
   "source": [
    "###  `pdb` - `breakpoint()`\n",
    "\n",
    "Sett inn linjer med `breakpoint()` i koden:\n",
    "- `breakpoint()` er en innebygd funksjon i Python (version > 3.7)\n",
    "- Kjør filen som vanlig, `pdb` stopper opp der er lagt til `breakpoint()`"
   ]
  },
  {
   "cell_type": "markdown",
   "metadata": {
    "slideshow": {
     "slide_type": "notes"
    }
   },
   "source": [
    "Noen flere nyttige `pdb`-kommandoer:\n",
    "- `args`: lister opp alle argumenter når du er inni en funksjon\n",
    "- `continue`: gå til neste `breakpoint`\n",
    "- `p <variable>`: printer variabelen\n",
    "- `ll`: viser hvor du er i koden. Kort for `longlist`"
   ]
  },
  {
   "cell_type": "markdown",
   "metadata": {
    "slideshow": {
     "slide_type": "slide"
    }
   },
   "source": [
    "#### `breakpoint` for å forstå kode: Newtons metode \n",
    "\n",
    "Newtons metode er en numerisk metode for å finne røtter $\\{x_r\\}$ til en funksjon $f(x)$. \n",
    "\n",
    "Gitt et startgjett $x_0$ vil Newtons metode *iterere*:\n",
    "\n",
    "$$\n",
    "    x_{n+1} = x_n - \\frac{f(x_n)}{f'(x_n)}, \n",
    "$$\n",
    "\n",
    "frem til $f(x_n) \\approx 0$ eller til maksimalt antall iterasjoner er nådd. \n",
    "\n",
    "\n",
    "**Når en funksjon har flere røtter vil startgjettet $x_0$ bestemme hvilken rot Newtons metode finner.**"
   ]
  },
  {
   "cell_type": "markdown",
   "metadata": {
    "slideshow": {
     "slide_type": "slide"
    }
   },
   "source": [
    "**Newtons metode - hvilken rot?**\n",
    "\n",
    "Her er en ferdig kode for å finne hvilken rot Newton konvergerer mot gitt et startgjett.  \n",
    "\n",
    "Vi skal straks bruke `breakpoint`s for å forstå den bedre."
   ]
  },
  {
   "cell_type": "code",
   "execution_count": null,
   "metadata": {},
   "outputs": [],
   "source": [
    "%%writefile newton_fractal.py\n",
    "import numpy as np \n",
    "\n",
    "\n",
    "def root_converge(z0, f, df, roots, max_it=50, tol=1e-6):\n",
    "    '''Find which root of f(z) Newton's method converges towards from z0.'''\n",
    "    breakpoint()\n",
    "    for iters in range(max_it):\n",
    "        z0 -= f(z0)/df(z0)\n",
    "        breakpoint()\n",
    "        for n, root in enumerate(roots):\n",
    "            if abs(z0 - root) < tol:\n",
    "                return n\n",
    "    return -1"
   ]
  },
  {
   "cell_type": "markdown",
   "metadata": {
    "slideshow": {
     "slide_type": "slide"
    }
   },
   "source": [
    "**Newtons metode - polynom**\n",
    "\n",
    "Vi skal se på følgende polynom:\n",
    "\n",
    "$$\n",
    "    p(x) = x^4 - 5 x^2 + 4 ,\n",
    "$$\n",
    "\n",
    "som har fire reelle røtter, $p(x) = (x - 1)(x + 1)(x - 2)(x + 2)$. \n",
    "\n",
    "Hvilken rot Newton konvergerer mot, avhenger av startgjettet $x_0$."
   ]
  },
  {
   "cell_type": "markdown",
   "metadata": {
    "slideshow": {
     "slide_type": "slide"
    }
   },
   "source": [
    "**Polynom i kode**: Vi trenger en funksjon for $p(x) = x^4 - 5 x^2 + 4$, røttene og den deriverte.\n",
    "\n",
    "\n",
    "For å gjøre det litt lettere, så bruker vi [numpy Polynomials](https://numpy.org/doc/stable/reference/generated/numpy.polynomial.polynomial.Polynomial.html#numpy.polynomial.polynomial.Polynomial). "
   ]
  },
  {
   "cell_type": "code",
   "execution_count": null,
   "metadata": {},
   "outputs": [],
   "source": [
    "from numpy.polynomial import Polynomial\n",
    "\n",
    "coeffs = ...\n",
    "p = ...\n",
    "dp = ...\n",
    "roots = ...\n",
    "\n",
    "print(f\"p(x) : {p}\")\n",
    "print(f\"p'(x) : {dp}\")\n",
    "print(f\"roots: {roots}\")"
   ]
  },
  {
   "cell_type": "markdown",
   "metadata": {
    "slideshow": {
     "slide_type": "slide"
    }
   },
   "source": [
    "**Jeg har jukset litt!** Her er en funksjon som plotter polynomet og markerer røttene. "
   ]
  },
  {
   "cell_type": "code",
   "execution_count": null,
   "metadata": {},
   "outputs": [],
   "source": [
    "%matplotlib notebook\n",
    "import numpy as np\n",
    "import matplotlib.pyplot as plt\n",
    "\n",
    "COLORS = [\"Lime\", \"Magenta\", \"Teal\", \"Tomato\"]\n",
    "\n",
    "def plot_polynomial(polynomial, roots, x_min=-2.3, x_max=2.3, N=400):\n",
    "    plt.figure(figsize=(8, 4))\n",
    "    x = np.linspace(x_min, x_max, N)\n",
    "    plt.title(f\"$p(x) = ${polynomial}\")\n",
    "    plt.plot(x, polynomial(x), color=\"black\")\n",
    "    plt.yticks([0], fontsize=12, weight='bold')\n",
    "    locs, labels = plt.xticks(roots, fontsize=12, weight='bold')\n",
    "    for label, color in zip(labels, COLORS):\n",
    "        label.set_color(color)\n",
    "    plt.grid()\n",
    "    plt.xlabel(r\"$x$\", fontsize=14)\n",
    "    plt.ylabel(r\"$p(x)$\", fontsize=14)\n",
    "    plt.tight_layout()"
   ]
  },
  {
   "cell_type": "markdown",
   "metadata": {
    "slideshow": {
     "slide_type": "slide"
    }
   },
   "source": [
    "**Røttene til et polynom:** Den svarte linjen er polynomet, mens røttene er markert på $x$-aksen. "
   ]
  },
  {
   "cell_type": "code",
   "execution_count": null,
   "metadata": {
    "scrolled": false,
    "slideshow": {
     "slide_type": "-"
    }
   },
   "outputs": [],
   "source": [
    "plot_polynomial(p, roots)\n",
    "plt.show()\n",
    "print(\"Polynomial and roots.\")"
   ]
  },
  {
   "cell_type": "markdown",
   "metadata": {
    "slideshow": {
     "slide_type": "slide"
    }
   },
   "source": [
    "**Kjøre kode med `breakpoint`**\n",
    "\n",
    "Kodesnutten under kaller på `root_converge`, hvor det er satt inn flere `breakpoint`s. \n",
    "\n",
    "Vi skal følge funksjonen steg for steg med et startgjett på $x_0 = 1.1$."
   ]
  },
  {
   "cell_type": "code",
   "execution_count": null,
   "metadata": {},
   "outputs": [],
   "source": [
    "%%writefile real_roots.py\n",
    "import numpy as np\n",
    "from newton_fractal import root_converge\n",
    "from numpy.polynomial import Polynomial\n",
    "\n",
    "# p(x) = x^4 - 5 x^2 + 4\n",
    "p = Polynomial([4, 0, -5, 0, 1])\n",
    "roots = p.roots()\n",
    "x0 = 1.1\n",
    "n = root_converge(x0, p, p.deriv(), roots)\n",
    "print(f\"Using {x0 = }, Newton found root nr. {n} ({roots[n]:.2f}).\")"
   ]
  },
  {
   "cell_type": "markdown",
   "metadata": {
    "slideshow": {
     "slide_type": "notes"
    }
   },
   "source": [
    "**Prøv selv:**\n",
    "\n",
    "Kjør filen `real_roots.py` helt vanlig:\n",
    "```\n",
    "python real_roots.py\n",
    "```\n",
    "Du vil da komme inn i `pdb`-mode. \n",
    "\n",
    "Skriv `?` for å få opp en liste over `pdb`-kommandoer. \n",
    "\n",
    "Bruk `help <pdb-command>` for å få informasjon om hva `pdb`-kommandoen gjør. \n",
    "\n",
    "Da er det bare å prøve deg litt frem. :)"
   ]
  },
  {
   "cell_type": "markdown",
   "metadata": {
    "slideshow": {
     "slide_type": "slide"
    }
   },
   "source": [
    "**Startgjett og konvergens:** Startgjettene er markert med rundinger. Fargen viser hvilken rot Newtons metode konvergerte mot. "
   ]
  },
  {
   "cell_type": "code",
   "execution_count": null,
   "metadata": {
    "scrolled": false,
    "slideshow": {
     "slide_type": "-"
    }
   },
   "outputs": [],
   "source": [
    "from newton_fractal import root_converge\n",
    "\n",
    "plot_polynomial(p, roots)\n",
    "for x0 in np.linspace(-2.2, 2.2, 100):\n",
    "    plt.plot(x0, p(x0), \".\", color=COLORS[root_converge(x0, p, dp, roots)], markersize=9)\n",
    "plt.show()\n",
    "print(\"Convergence of Newton based on x0.\")"
   ]
  },
  {
   "cell_type": "markdown",
   "metadata": {
    "slideshow": {
     "slide_type": "slide"
    }
   },
   "source": [
    "### Post-mortem debugging\n",
    "\n",
    "Post-mortem debugging brukes til **debugging etter programmet har kræsjet.**\n",
    "\n",
    "Kjør programmet ditt slik:\n",
    "```\n",
    "python -m pdb <python-file>\n",
    "```\n",
    "Hvis programmet ditt kræsjer vil **`pdb` aktiveres på linjen hvor det gikk galt**. \n",
    "\n",
    "Dette kan brukes til:\n",
    "- Sjekke tilstanden til variablene på tidspunktet koden kræsjet\n",
    "- Gå bakover og se hva som skjedde *før* programmet kræsjet"
   ]
  },
  {
   "cell_type": "markdown",
   "metadata": {
    "slideshow": {
     "slide_type": "slide"
    }
   },
   "source": [
    "####  Eksempel på Post-mortem debugging - Newton-fraktal \n",
    "\n",
    "Newton-fraktal lager 2D-bilder:\n",
    "- Hver piksel representerer et startgjett $z_0$ (komplekst tall)\n",
    "- Fargen til pikselen viser hvilken rot Newtons metode konvergerer mot\n",
    "\n",
    "Kode for å lage Newton-fraktal:"
   ]
  },
  {
   "cell_type": "code",
   "execution_count": null,
   "metadata": {},
   "outputs": [],
   "source": [
    "%%writefile newton_fractal.py\n",
    "import numpy as np \n",
    "\n",
    "\n",
    "def root_converge(z0, f, df, roots, max_it=50, tol=1e-6):\n",
    "    '''Find which root of f(z) Newton's method converges towards from z0.'''\n",
    "    for iters in range(max_it):\n",
    "        z0 -= f(z0)/df(z0)\n",
    "        for n, root in enumerate(roots):\n",
    "            if abs(z0 - root) < tol:\n",
    "                return n\n",
    "    return -1\n",
    "\n",
    "\n",
    "def newton_fractal(f, df, roots, z_real, z_imag, max_it=50, tol=1e-6):\n",
    "    '''Create Newton fractal.'''\n",
    "    fractal = np.zeros((len(z_real), len(z_imag)))\n",
    "    for i, x in enumerate(z_real):\n",
    "        for j, y in enumerate(z_imag):\n",
    "            z = complex(x, y)\n",
    "            fractal[i, j] = root_converge(z, f, df, roots, max_it, tol)\n",
    "    return fractal"
   ]
  },
  {
   "cell_type": "markdown",
   "metadata": {
    "slideshow": {
     "slide_type": "slide"
    }
   },
   "source": [
    "**Jeg har jukset litt!** Her er kode som lager et Newton-fraktal:"
   ]
  },
  {
   "cell_type": "code",
   "execution_count": null,
   "metadata": {
    "slideshow": {
     "slide_type": "-"
    }
   },
   "outputs": [],
   "source": [
    "%%writefile make_fractal.py\n",
    "import logging\n",
    "import numpy as np\n",
    "from time import time \n",
    "import matplotlib.pyplot as plt\n",
    "from newton_fractal import newton_fractal\n",
    "\n",
    "\n",
    "logging.basicConfig()\n",
    "logger = logging.getLogger(\"fractal\")\n",
    "logger.setLevel(logging.INFO)\n",
    "\n",
    "poly_data = np.load(\"polynomial.npz\", allow_pickle=True)\n",
    "p = np.polynomial.Polynomial(poly_data[\"coeffs\"])\n",
    "x = poly_data[\"real_axis\"]\n",
    "y = poly_data[\"imag_axis\"]\n",
    "logger.info(f\"Making Newton fractal for p(z) = {p}.\")\n",
    "\n",
    "\n",
    "start_time = time()\n",
    "fractal = newton_fractal(p, p.deriv(), p.roots(), x, y)\n",
    "elapsed = int(time() - start_time)\n",
    "logger.info(f\"Running the code took {elapsed} seconds.\")\n",
    "\n",
    "plt.imshow(fractal.T)\n",
    "plt.axis('off')\n",
    "plt.tight_layout()\n",
    "plt.show()"
   ]
  },
  {
   "cell_type": "markdown",
   "metadata": {
    "slideshow": {
     "slide_type": "slide"
    }
   },
   "source": [
    "**Post-mortem debugging av fraktal-koden.**\n",
    "\n",
    "Koden som generer fraktal kræsjer. Vi skal finne feilen i koden ved å kjøre\n",
    "```\n",
    "python -m pdb make_fractal.py\n",
    "```"
   ]
  },
  {
   "cell_type": "markdown",
   "metadata": {
    "slideshow": {
     "slide_type": "notes"
    }
   },
   "source": [
    "Koden under ble brukt for å lage data som får `make_fractal.py` til å kræsje."
   ]
  },
  {
   "cell_type": "code",
   "execution_count": null,
   "metadata": {
    "slideshow": {
     "slide_type": "notes"
    }
   },
   "outputs": [],
   "source": [
    "import numpy as np \n",
    "\n",
    "dx = 0.006\n",
    "data = {}\n",
    "data[\"coeffs\"] = [-1, 0, 0, 1]\n",
    "data[\"real_axis\"] = np.arange(-2, 1, dx)\n",
    "data[\"imag_axis\"] =  np.arange(-1, 1, dx, dtype=object)\n",
    "data[\"imag_axis\"][10] = str(data[\"imag_axis\"][10])\n",
    "np.savez(\"polynomial.npz\", **data)"
   ]
  },
  {
   "cell_type": "markdown",
   "metadata": {
    "slideshow": {
     "slide_type": "notes"
    }
   },
   "source": [
    "**Du kan selvfølgelig prøve `make_fractal.py`-koden for å lage andre Newton-fraktal.**  \n",
    "\n",
    "Du kan gjøre dette ved å endre på `coeffs`, både ved å endre tallverdiene og ved å endre på lengden til listen (som vil endre grad på polynomet). \n",
    "\n",
    "Endrer du på polynomet kan du også prøve andre verdier for `real_axis` og `imag_axis`. Husk å ta bort buggen!"
   ]
  }
 ],
 "metadata": {
  "celltoolbar": "Slideshow",
  "kernelspec": {
   "display_name": "Python 3 (ipykernel)",
   "language": "python",
   "name": "python3"
  },
  "language_info": {
   "codemirror_mode": {
    "name": "ipython",
    "version": 3
   },
   "file_extension": ".py",
   "mimetype": "text/x-python",
   "name": "python",
   "nbconvert_exporter": "python",
   "pygments_lexer": "ipython3",
   "version": "3.10.4"
  },
  "vscode": {
   "interpreter": {
    "hash": "190cafc93a7c2c49a6ea227d53366c310c32565680693c36f3a06dea9bb66b47"
   }
  }
 },
 "nbformat": 4,
 "nbformat_minor": 2
}
