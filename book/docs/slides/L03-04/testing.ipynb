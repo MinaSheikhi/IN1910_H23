{
 "cells": [
  {
   "cell_type": "markdown",
   "metadata": {
    "slideshow": {
     "slide_type": "slide"
    }
   },
   "source": [
    "#  Testing og Feilhåndtering\n",
    "\n",
    "*“I'm not a great programmer; I'm just a good programmer with great habits.”*\n",
    "― Kent Beck"
   ]
  },
  {
   "cell_type": "markdown",
   "metadata": {
    "slideshow": {
     "slide_type": "slide"
    }
   },
   "source": [
    "## Hvorfor testing er nødvendig"
   ]
  },
  {
   "cell_type": "markdown",
   "metadata": {
    "slideshow": {
     "slide_type": "slide"
    }
   },
   "source": [
    "### Krav til kode\n",
    "- Koden skal oppføre seg som forventet\n",
    "- Koden skal håndtere \"edge cases\"\n",
    "- Koden skal være stabil \n",
    "- Koden skal skal gi tydelige feilmeldinger ved feil bruk\n",
    "\n",
    "**Feil i kode kan føre til økonomiske tap og i verste fall tap av menneskeliv.**"
   ]
  },
  {
   "cell_type": "markdown",
   "metadata": {
    "slideshow": {
     "slide_type": "slide"
    }
   },
   "source": [
    "### Godt testet kode har flere fordeler:\n",
    "\n",
    "- Tillitsvekkende for potensielle brukere\n",
    "- Gir bedre sikkerhet for at koden fungerer slik den skal\n",
    "- Raskere, mer kreativ og \"uforsiktig\" kodeutvikling "
   ]
  },
  {
   "cell_type": "markdown",
   "metadata": {
    "slideshow": {
     "slide_type": "slide"
    }
   },
   "source": [
    "## Begrep i testing\n",
    "\n",
    "- **Enhetstesting**  (unit testing)\n",
    "    - Tester en liten del av koden, som f.eks funksjoner og metoder\n",
    "- **Integreringstesting** (integration testing)\n",
    "    - Tester samspillet mellom komponenter\n",
    "- **Regresjonstesting** (regression testing)\n",
    "    - Testing etter endringer i kode for å sikre at nye bugs ikke er introdusert\n",
    "- **Testdekning** (test coverage)\n",
    "    - Mål på *hvor mye* av koden blir brukt under testing\n",
    "- **Test-dreven utvikling** (test-driven development)\n",
    "    - Arbeidsflyt hvor tilhørende tester skrives før ny funksjonalitet implementeres\n",
    "    \n",
    "Dette er begrep vi skal snakke mer om denne uken."
   ]
  },
  {
   "cell_type": "markdown",
   "metadata": {
    "slideshow": {
     "slide_type": "slide"
    }
   },
   "source": [
    "## Praktisk eksempel: [Cæsarchiffer](https://cryptii.com/pipes/caesar-cipher)\n",
    "\n",
    "Cæsarchiffer er en enkel krypteringsteknikk hvor alfabetet roteres.\n",
    "\n",
    "![](figures/caesar.gif)"
   ]
  },
  {
   "cell_type": "markdown",
   "metadata": {
    "slideshow": {
     "slide_type": "slide"
    }
   },
   "source": [
    "## Test-dreven utvikling\n",
    "\n",
    "Test-dreven utvikling er en arbeidsflyt hvor tilhørende tester skrives før ny funksjonalitet implementeres. Tenk alltid gjennom:\n",
    "\n",
    "- Hvilke funksjonaliteter skal implementeres?\n",
    "- Kan oppgaven deles inn i flere *testbare* deler? \n",
    "- Hvilke funksjoner skal implementeres?\n",
    "    - Bestem både input og output\n",
    "- Feilhåndtering\n",
    "- Enhetstester\n",
    "- Integreringstester\n",
    "\n",
    "Vi skal steg for steg lage en modul `caesar_cipher.py` med en tilhørende testfil `test_caesar_cipher.py`."
   ]
  },
  {
   "cell_type": "markdown",
   "metadata": {
    "slideshow": {
     "slide_type": "slide"
    }
   },
   "source": [
    "### Funksjoner til å implementere\n",
    "\n",
    "Vi skal implementere følgende funksjoner i `caesar_cipher.py`:\n",
    "\n",
    "- `rotate_string(msg: str, shift: int) -> str`\n",
    "- `create_shifted_alphabet(shift: int) -> Dict[str, str]`\n",
    "- `encrypt(message: str, shift: int) -> str`\n",
    "- `decrypt(encrypted_message: str, shift: int) -> str` \n",
    "\n",
    "**Vi bruker test-dreven utvikling, og skal derfor lage testene *først*.** "
   ]
  },
  {
   "cell_type": "markdown",
   "metadata": {
    "slideshow": {
     "slide_type": "slide"
    }
   },
   "source": [
    "#### Implementasjonsvalg\n",
    "\n",
    "For å lage testene må vi først bestemme oss for valg av alfabet. Vi kan ta det norske. \n",
    "\n",
    "Tips for å få tak i alle bokstaver i alfabetet er å bruke [String dokumentasjon](https://docs.python.org/3.9/library/string.html#)."
   ]
  },
  {
   "cell_type": "code",
   "execution_count": null,
   "metadata": {},
   "outputs": [],
   "source": [
    "import string\n",
    "alphabet = ...\n",
    "print(alphabet)"
   ]
  },
  {
   "cell_type": "markdown",
   "metadata": {
    "slideshow": {
     "slide_type": "fragment"
    }
   },
   "source": [
    "Filen `caesar_cipher.py` bør da inneholde tomme funksjoner, ettersom testene skal implementeres først. (Jeg har jukset litt og laget denne allerede)."
   ]
  },
  {
   "cell_type": "code",
   "execution_count": null,
   "metadata": {
    "slideshow": {
     "slide_type": "notes"
    }
   },
   "outputs": [],
   "source": [
    "%%writefile caesar_cipher.py\n",
    "import string\n",
    "from typing import Dict\n",
    "\n",
    "ALPHABET = string.ascii_lowercase + \"æøå\"\n",
    "\n",
    "\n",
    "def rotate_string(message: str, shift: int) -> str:\n",
    "    \"\"\"Rotate the characters in a message.\n",
    "\n",
    "    Parameters\n",
    "    ----------\n",
    "    msg : str\n",
    "        The message to be rotated.\n",
    "    shift : int\n",
    "        The number of places to shift the characters in the message.\n",
    "\n",
    "    Returns\n",
    "    -------\n",
    "    str\n",
    "        The rotated message.\n",
    "    \"\"\"\n",
    "    ...\n",
    "\n",
    "\n",
    "def create_shifted_alphabet(shift: int) -> Dict[str, str]:\n",
    "    \"\"\"Get lookup table for the Caesar shift of the alphabet.\n",
    "\n",
    "    Parameters\n",
    "    ----------\n",
    "    shift : int\n",
    "        The Caesar shift, the number of places to shift the alphabet.\n",
    "\n",
    "    Returns\n",
    "    -------\n",
    "    Dict[str, str]\n",
    "        Lookup table using original characters as keys \n",
    "        and the new characters as corresponding values.\n",
    "    \"\"\"\n",
    "    ...\n",
    "\n",
    "\n",
    "def encrypt(message: str, shift: int) -> str:\n",
    "    \"\"\"Encrypt a message using Caesar cipher.\n",
    "\n",
    "    Parameters\n",
    "    ----------\n",
    "    message : str\n",
    "        The original message.\n",
    "    shift : int\n",
    "        The Caesar shift to be used to encrypt the message.\n",
    "\n",
    "    Returns\n",
    "    -------\n",
    "    str\n",
    "        The encrypted version of the message.\n",
    "    \"\"\"\n",
    "    ...\n",
    "\n",
    "\n",
    "def decrypt(encrypted_message: str, shift: int) -> str:\n",
    "    \"\"\"Decrypt a message which was encypted using Caesar cipher.\n",
    "\n",
    "    Parameters\n",
    "    ----------\n",
    "    encrypted_message : str\n",
    "        The encrypted message.\n",
    "    shift : int\n",
    "        The Caesar shift used to encrypted the message.\n",
    "\n",
    "    Returns\n",
    "    -------\n",
    "    str\n",
    "        The decrypted message.\n",
    "    \"\"\"\n",
    "    ..."
   ]
  },
  {
   "cell_type": "markdown",
   "metadata": {
    "slideshow": {
     "slide_type": "slide"
    }
   },
   "source": [
    "## Testfunksjoner, `assert` og `pytest`\n",
    "\n",
    "Vi skal nå trinnvis lage tester til implementasjonen vår av Cæsarchiffer, med litt teori i mellom. "
   ]
  },
  {
   "cell_type": "markdown",
   "metadata": {
    "slideshow": {
     "slide_type": "slide"
    }
   },
   "source": [
    "### `assert <boolean expression>` \n",
    "\n",
    "`assert` brukes til å evaluere om et utrykk er sant eller ikke. Dette en sentral del av testing i Python. \n",
    "\n",
    "Dette kan f.eks være:\n",
    "```Python\n",
    "assert a == b\n",
    "assert a != b\n",
    "assert a < b \n",
    "assert a <= b \n",
    "assert a is b\n",
    "assert a is not b\n",
    "```"
   ]
  },
  {
   "cell_type": "markdown",
   "metadata": {
    "slideshow": {
     "slide_type": "slide"
    }
   },
   "source": [
    "#### Hvordan `assert` fungerer\n",
    "\n",
    "Kjører stille om utrykket evalueres til `True`:"
   ]
  },
  {
   "cell_type": "code",
   "execution_count": null,
   "metadata": {
    "slideshow": {
     "slide_type": "-"
    }
   },
   "outputs": [],
   "source": [
    "assert True, \"Passing test\""
   ]
  },
  {
   "cell_type": "markdown",
   "metadata": {},
   "source": [
    "Gir `AssertionError` om utrykket evalueres til `False`:"
   ]
  },
  {
   "cell_type": "code",
   "execution_count": null,
   "metadata": {},
   "outputs": [],
   "source": [
    "assert False, \"Failing test\""
   ]
  },
  {
   "cell_type": "markdown",
   "metadata": {},
   "source": [
    "Som med en vanlig feilmelding, stopper koden opp når den støter på en `AssertionError`:"
   ]
  },
  {
   "cell_type": "code",
   "execution_count": null,
   "metadata": {},
   "outputs": [],
   "source": [
    "assert False, \"First failed test\"\n",
    "assert False, \"Second failed test\"\n",
    "assert False, \"Third failed test\""
   ]
  },
  {
   "cell_type": "markdown",
   "metadata": {
    "slideshow": {
     "slide_type": "slide"
    }
   },
   "source": [
    "#### Boolean: `True` eller `False`?\n",
    "\n",
    "La oss se på noen logiske operatorer."
   ]
  },
  {
   "cell_type": "markdown",
   "metadata": {
    "slideshow": {
     "slide_type": "fragment"
    }
   },
   "source": [
    "`not`:"
   ]
  },
  {
   "cell_type": "code",
   "execution_count": null,
   "metadata": {},
   "outputs": [],
   "source": [
    "print(f\"not True: {not True}\")\n",
    "print(f\"not False: {not False}\")"
   ]
  },
  {
   "cell_type": "markdown",
   "metadata": {
    "slideshow": {
     "slide_type": "fragment"
    }
   },
   "source": [
    "`and`:"
   ]
  },
  {
   "cell_type": "code",
   "execution_count": null,
   "metadata": {
    "slideshow": {
     "slide_type": "-"
    }
   },
   "outputs": [],
   "source": [
    "print(f\"True and True: {True and True}\")\n",
    "print(f\"False and False: {False and False}\")\n",
    "print(f\"True and False: {True and False}\")"
   ]
  },
  {
   "cell_type": "markdown",
   "metadata": {
    "slideshow": {
     "slide_type": "fragment"
    }
   },
   "source": [
    "`or`:"
   ]
  },
  {
   "cell_type": "code",
   "execution_count": null,
   "metadata": {
    "slideshow": {
     "slide_type": "-"
    }
   },
   "outputs": [],
   "source": [
    "print(f\"True or True: {True or True}\")\n",
    "print(f\"False or False: {False or False}\")\n",
    "print(f\"True or False: {True or False}\")"
   ]
  },
  {
   "cell_type": "markdown",
   "metadata": {
    "slideshow": {
     "slide_type": "fragment"
    }
   },
   "source": [
    "`is`:"
   ]
  },
  {
   "cell_type": "code",
   "execution_count": null,
   "metadata": {},
   "outputs": [],
   "source": [
    "a = []\n",
    "b = []\n",
    "c = a\n",
    "print(f\"a == b: {a == b}\")\n",
    "print(f\"a is b: {a is b}\")\n",
    "print(f\"a is c: {a is c}\")"
   ]
  },
  {
   "cell_type": "markdown",
   "metadata": {
    "slideshow": {
     "slide_type": "slide"
    }
   },
   "source": [
    "## Testfunksjoner \n",
    "\n",
    "Testfunksjoner skal:\n",
    "- Teste at funksjoner eller større deler av koden oppfører seg som forventet\n",
    "    - Bruk testeksempler som du er sikker på at er riktig\n",
    "    - Gjør utregninger for hånd\n",
    "- Gi feilmelding om testene ikke passerer\n",
    "- Ha navn som begynner med `test_`\n",
    "- Ha navn som beskriver *hva* eller *hvilken funksjon* den tester"
   ]
  },
  {
   "cell_type": "markdown",
   "metadata": {
    "slideshow": {
     "slide_type": "slide"
    }
   },
   "source": [
    "### Enhetstester\n",
    "\n",
    "Tester en liten del av koden, som f.eks funksjoner og metoder. \n",
    "\n",
    "\n",
    "En typisk (forenklet og overforklart) enhetstest til en funksjon vil se omtrent slik ut:"
   ]
  },
  {
   "cell_type": "code",
   "execution_count": null,
   "metadata": {},
   "outputs": [],
   "source": [
    "def spam(eggs):\n",
    "    return 12*eggs\n",
    "\n",
    "def test_spam():\n",
    "    arg = 2              # chosen input\n",
    "    expected = 24        # hand calculated expected result\n",
    "    computed = spam(arg) # output from tested function\n",
    "    # use assert to check if the function behaves as expected\n",
    "    assert computed == expected\n",
    "    \n",
    "    \n",
    "test_spam()"
   ]
  },
  {
   "cell_type": "markdown",
   "metadata": {
    "slideshow": {
     "slide_type": "notes"
    }
   },
   "source": [
    "Testen `test_spam` vil kjøre stille om funksjonen `spam` oppfører seg som forventet. Om funksjonen `spam` ikke gir riktig resultat, vil `test_spam` gi feilmelding. Du kan legge inn en feil med vilje og se selv!"
   ]
  },
  {
   "cell_type": "markdown",
   "metadata": {
    "slideshow": {
     "slide_type": "fragment"
    }
   },
   "source": [
    "**Cæsarchiffer:** Vi skal begynne med å lage enhetstester til `rotate_string` og `create_shifted_alphabet`."
   ]
  },
  {
   "cell_type": "markdown",
   "metadata": {
    "slideshow": {
     "slide_type": "notes"
    }
   },
   "source": [
    "I test-dreven utvikling skal testfunksjonene skrives *før* funksjonene. \n",
    "\n",
    "God praksis er å gjøre seg ferdig med én komponent av gangen. Det er derfor lurt å begynne med å skrive enhetstester til `rotate_string`, for så å implementere `rotate_string`. Når denne funksjonen fungerer, så er det bare å gå videre og gjøre det samme for `create_shifted_alphabet`.\n",
    "\n",
    "Når enhetstestene til de to funksjonene er ferdig, kan test-filen `test_caesar_cipher.py` f.eks se omtrent slik ut:"
   ]
  },
  {
   "cell_type": "code",
   "execution_count": null,
   "metadata": {
    "slideshow": {
     "slide_type": "notes"
    }
   },
   "outputs": [],
   "source": [
    "%%writefile test_caesar_cipher.py\n",
    "from caesar_cipher import *\n",
    "\n",
    "\n",
    "def test_rotate_string_hello():\n",
    "    original = \"hello\"\n",
    "    shift =  3\n",
    "    rotated = \"lohel\" \n",
    "    assert rotate_string(original, shift) == rotated\n",
    "    \n",
    "def test_rotate_string_nope():\n",
    "    original = \"nope\"\n",
    "    shift =  0\n",
    "    rotated = \"nope\" \n",
    "    assert rotate_string(original, shift) == rotated\n",
    "\n",
    "test_rotate_string_hello()\n",
    "test_rotate_string_nope()\n",
    "\n",
    "\n",
    "def test_create_shifted_alphabet_shift_1():\n",
    "    shift = 1\n",
    "    a = \"b\"\n",
    "    m = \"n\"\n",
    "    å = \"a\"\n",
    "    table = create_shifted_alphabet(shift)\n",
    "    assert table[\"a\"] == a\n",
    "    assert table[\"m\"] == m\n",
    "    assert table[\"å\"] == å\n",
    "    \n",
    "def test_create_shifted_alphabet_shift_3():\n",
    "    shift = 3\n",
    "    a = \"d\"\n",
    "    m = \"p\"\n",
    "    å = \"c\"\n",
    "    table = create_shifted_alphabet(shift)\n",
    "    assert table[\"a\"] == a\n",
    "    assert table[\"m\"] == m\n",
    "    assert table[\"å\"] == å\n",
    "    \n",
    "test_create_shifted_alphabet_shift_1()\n",
    "test_create_shifted_alphabet_shift_3()"
   ]
  },
  {
   "cell_type": "markdown",
   "metadata": {
    "slideshow": {
     "slide_type": "notes"
    }
   },
   "source": [
    "Implementasjon av de to funksjonene i `caesar_cipher.py` kan se slik ut:"
   ]
  },
  {
   "cell_type": "code",
   "execution_count": null,
   "metadata": {
    "slideshow": {
     "slide_type": "notes"
    }
   },
   "outputs": [],
   "source": [
    "%%writefile caesar_cipher.py\n",
    "import string\n",
    "from typing import Dict\n",
    "\n",
    "ALPHABET = string.ascii_lowercase + \"æøå\"\n",
    "\n",
    "\n",
    "def rotate_string(message: str, shift: int) -> str:\n",
    "    \"\"\"Rotate the characters in a message.\n",
    "\n",
    "    Parameters\n",
    "    ----------\n",
    "    msg : str\n",
    "        The message to be rotated.\n",
    "    shift : int\n",
    "        The number of places to shift the characters in the message.\n",
    "\n",
    "    Returns\n",
    "    -------\n",
    "    str\n",
    "        The rotated message.\n",
    "    \"\"\"\n",
    "    return message[shift:] + message[:shift]\n",
    "\n",
    "\n",
    "def create_shifted_alphabet(shift: int) -> Dict[str, str]:\n",
    "    \"\"\"Get lookup table for the Caesar shift of the alphabet.\n",
    "\n",
    "    Parameters\n",
    "    ----------\n",
    "    shift : int\n",
    "        The Caesar shift, the number of places to shift the alphabet.\n",
    "\n",
    "    Returns\n",
    "    -------\n",
    "    Dict[str, str]\n",
    "        Lookup table using original characters as keys \n",
    "        and the new characters as corresponding values.\n",
    "    \"\"\"\n",
    "    new_alphabet = rotate_string(ALPHABET, shift) \n",
    "    \n",
    "    table = {}\n",
    "    for letter, new_letter in zip(ALPHABET, new_alphabet):\n",
    "        table[letter] = new_letter\n",
    "    return table\n",
    "\n",
    "\n",
    "def encrypt(message: str, shift: int) -> str:\n",
    "    \"\"\"Encrypt a message using Caesar cipher.\n",
    "\n",
    "    Parameters\n",
    "    ----------\n",
    "    message : str\n",
    "        The original message.\n",
    "    shift : int\n",
    "        The Caesar shift to be used to encrypt the message.\n",
    "\n",
    "    Returns\n",
    "    -------\n",
    "    str\n",
    "        The encrypted version of the message.\n",
    "    \"\"\"\n",
    "    ...\n",
    "\n",
    "\n",
    "def decrypt(encrypted_message: str, shift: int) -> str:\n",
    "    \"\"\"Decrypt a message which was encypted using Caesar cipher.\n",
    "\n",
    "    Parameters\n",
    "    ----------\n",
    "    encrypted_message : str\n",
    "        The encrypted message.\n",
    "    shift : int\n",
    "        The Caesar shift used to encrypted the message.\n",
    "\n",
    "    Returns\n",
    "    -------\n",
    "    str\n",
    "        The decrypted message.\n",
    "    \"\"\"\n",
    "    ...\n"
   ]
  },
  {
   "cell_type": "markdown",
   "metadata": {
    "slideshow": {
     "slide_type": "slide"
    }
   },
   "source": [
    "### Integreringstesting (integration testing)\n",
    "\n",
    "Testing av samspill mellom komponenter og større mer helhetlige deler av koden. \n",
    "\n",
    "**Kan vi lage en integreringstest til Cæsarchiffer?**"
   ]
  },
  {
   "cell_type": "markdown",
   "metadata": {
    "slideshow": {
     "slide_type": "fragment"
    }
   },
   "source": [
    "Vi kan teste om en kryptert melding fra `encrypt` blir til den originale meldingen igjen om vi bruker `decrypt`.\n",
    "\n",
    "(Dette er et helt minimalt eksempel på en integreringstest, men koden vår er liten nok til at det er det nærmeste vi kommer.)"
   ]
  },
  {
   "cell_type": "markdown",
   "metadata": {
    "slideshow": {
     "slide_type": "notes"
    }
   },
   "source": [
    "En integreringstest som legges til i `test_caesar_cipher.py` kan f.eks se slik ut:"
   ]
  },
  {
   "cell_type": "code",
   "execution_count": null,
   "metadata": {
    "slideshow": {
     "slide_type": "notes"
    }
   },
   "outputs": [],
   "source": [
    "%%writefile --append test_caesar_cipher.py\n",
    "\n",
    "\n",
    "def test_encrypt_decrypt():\n",
    "    original, shift = \"informatikk\", 13\n",
    "    encrypted = encrypt(original, shift)\n",
    "    assert decrypt(encrypted, shift) == original"
   ]
  },
  {
   "cell_type": "markdown",
   "metadata": {
    "slideshow": {
     "slide_type": "notes"
    }
   },
   "source": [
    "Vi kan ikke kjøre testen ettersom `encrypt` og `decrypt` ikke er implementert enda. "
   ]
  },
  {
   "cell_type": "markdown",
   "metadata": {
    "slideshow": {
     "slide_type": "slide"
    }
   },
   "source": [
    "## [`pytest`](https://docs.pytest.org/en/7.1.x/contents.html) - et  rammeverk for testing\n",
    "\n",
    "`pytest` kjører alle tester i en mappe og dens undermapper. Krav til tester:\n",
    "- Filnavnet må være `test_*.py` eller `*_test.py`\n",
    "- Funksjonsnavnet til testen må begynne med `test_`\n",
    "\n",
    "`pytest` vil:\n",
    "- Kjøre alle tester uansett om du kaller på test-funksjonene eller ikke\n",
    "- Kjøre alle test-funksjoner selv om den støter på `Exception`\n",
    "    - brukes flere `assert` i *samme* testfunksjon hopper `pytest` videre til neste test etter første `AssertionError`"
   ]
  },
  {
   "cell_type": "markdown",
   "metadata": {
    "slideshow": {
     "slide_type": "slide"
    }
   },
   "source": [
    "### Kjøre tester med `pytest`  \n",
    "\n",
    "Du kan kjøre `pytest` i terminalen:\n",
    "- `pytest`: kjører alle tester i mappen\n",
    "- `python -m pytest`: sørger for riktig Python-versjon  \n",
    "- `pytest <filename>`: kjør alle tester i spesifikk fil \n",
    "- `pytest -k <subname>`: Kjør alle tester med gitt del (`<subname>`) i funksjonsnavnet \n",
    "- `pytest -s`: skrur på printing. (Default printer pytest ikke noe) \n",
    "- `pytest -v`: gir mer info. (Kort for --verbose)"
   ]
  },
  {
   "cell_type": "markdown",
   "metadata": {
    "slideshow": {
     "slide_type": "slide"
    }
   },
   "source": [
    "**Vi skal nå gå over til å kjøre alle tester med `pytest`:**\n",
    "\n",
    "I terminalen, kjør: \n",
    "```\n",
    "pytest\n",
    "```\n",
    "Se på øverste linje for å sjekke hvilken versjon av Python som brukes. Hvis default versjon er for gammel, bruk \n",
    "```\n",
    "python -m pytest\n",
    "``` \n",
    "hver gang du kjører tester med `pytest`.  \n",
    "\n",
    "I modulen vår til Cæsarchiffer har vi nå fem tester, hvorav kun 4 skal passere. "
   ]
  },
  {
   "cell_type": "markdown",
   "metadata": {
    "slideshow": {
     "slide_type": "slide"
    }
   },
   "source": [
    "## Parametriserte tester\n",
    "\n",
    "Når man skriver tester er det fort gjort å repetere seg selv. Bruk parametrisering av testfunksjonene!"
   ]
  },
  {
   "cell_type": "markdown",
   "metadata": {
    "slideshow": {
     "slide_type": "slide"
    }
   },
   "source": [
    "### Dekorere testfunksjoner med  [`@pytest.mark.parametrize`](https://docs.pytest.org/en/6.2.x/parametrize.html)\n",
    "\n",
    "- `pytest.mark.parametrize`: dekorator i `pytest` til parametrisering av testfunksjoner\n",
    "-  Dekoratører settes *over* funksjonen den dekorerer\n",
    "\n",
    "```Python\n",
    "\n",
    "@pytest.mark.parametrize(\n",
    "    \"arg,output\", [\n",
    "        (arg_1, output_1), \n",
    "        (arg_2, output_2)\n",
    "    ]\n",
    ")\n",
    "def test_spam(arg, output):\n",
    "    assert spam(arg) == output\n",
    "```\n",
    "\n",
    "- `test_spam` er en parametrisert testfunksjon \n",
    "- `@pytest.mark.parametrize` vil her sørge for at `test_spam` kjøres to ganger med forskjellig input"
   ]
  },
  {
   "cell_type": "markdown",
   "metadata": {
    "slideshow": {
     "slide_type": "slide"
    }
   },
   "source": [
    "**Cæsarchiffer:** parametriser eksisterende tester!\n",
    "\n",
    "Alle testene til Cæsarchiffer kan gjøres om til parametriserte tester. De nye testene skal være ekvivalente med de gamle.\n",
    "\n",
    "Parametriser testene og kjør testene i terminalen:\n",
    "```\n",
    "python -m pytest -v\n",
    "```\n",
    "Selv om det nå kun er tre testfunksjoner, så er det fortsatt fem tester totalt som kjøres.\n"
   ]
  },
  {
   "cell_type": "markdown",
   "metadata": {
    "slideshow": {
     "slide_type": "notes"
    }
   },
   "source": [
    "Vi kan parametrisere de eksisterende testene i `test_caesar_cipher.py`:"
   ]
  },
  {
   "cell_type": "code",
   "execution_count": null,
   "metadata": {
    "slideshow": {
     "slide_type": "notes"
    }
   },
   "outputs": [],
   "source": [
    "%%writefile test_caesar_cipher.py\n",
    "import pytest\n",
    "from caesar_cipher import *\n",
    "\n",
    "\n",
    "@pytest.mark.parametrize(\n",
    "    \"original,shift,rotated\", [(\"hello\", 3, \"lohel\"), (\"nope\", 0, \"nope\")]\n",
    ")\n",
    "def test_rotate_string(original, shift, rotated):\n",
    "    assert rotate_string(original, shift) == rotated\n",
    "\n",
    "\n",
    "@pytest.mark.parametrize(\n",
    "    \"shift,a,m,å\", [(1, \"b\", \"n\", \"a\"), (3, \"d\", \"p\", \"c\")]\n",
    ")\n",
    "def test_create_shifted_alphabet(shift, a, m, å):\n",
    "    table = create_shifted_alphabet(shift)\n",
    "    assert table[\"a\"] == a\n",
    "    assert table[\"m\"] == m\n",
    "    assert table[\"å\"] == å\n",
    "    \n",
    "    \n",
    "@pytest.mark.parametrize(\n",
    "    \"original,shift\", [(\"informatikk\", 13)]\n",
    ")\n",
    "def test_encrypt_decrypt(original, shift):\n",
    "    encrypted = encrypt(original, shift)\n",
    "    assert decrypt(encrypted, shift) == original"
   ]
  },
  {
   "cell_type": "markdown",
   "metadata": {
    "slideshow": {
     "slide_type": "slide"
    }
   },
   "source": [
    "**Cæsarchiffer:** Legg til parametriserte tester til `encrypt` og `decrypt`:"
   ]
  },
  {
   "cell_type": "code",
   "execution_count": null,
   "metadata": {
    "slideshow": {
     "slide_type": "-"
    }
   },
   "outputs": [],
   "source": [
    "%%writefile --append test_caesar_cipher.py\n",
    "\n",
    "\n",
    "@pytest.mark.parametrize(\n",
    "    \"original,shift,encrypted\", [\n",
    "        (\"fysikk\", 3, \"iøvlnn\"), \n",
    "        (\"kjemi\", 0, \"kjemi\")\n",
    "    ]\n",
    ")\n",
    "def test_encrypt(original, shift, encrypted):\n",
    "    assert encrypt(original, shift) == encrypted\n",
    "\n",
    "    \n",
    "@pytest.mark.parametrize(\n",
    "    \"encrypted,shift,decrypted\", [\n",
    "        (\"thælthæprr\", 7, \"matematikk\"), \n",
    "        (\"biologi\", 0, \"biologi\")\n",
    "    ]\n",
    ")\n",
    "def test_decrypt(encrypted, shift, decrypted):\n",
    "    assert decrypt(encrypted, shift) == decrypted"
   ]
  },
  {
   "cell_type": "markdown",
   "metadata": {
    "slideshow": {
     "slide_type": "slide"
    }
   },
   "source": [
    "**Cæsarchiffer:** Implementer `encrypt` og `decrypt`. \n",
    "\n",
    "Kjør de nye testene til `encrypt` og `decrypt` ved å kjøre alle tester som har *crypt* i navnet:\n",
    "```\n",
    "python -m pytest -v -k crypt\n",
    "```"
   ]
  },
  {
   "cell_type": "markdown",
   "metadata": {
    "slideshow": {
     "slide_type": "notes"
    }
   },
   "source": [
    "Implementer `encrypt` og `decrypt`. `caesar_cipher.py` kan da se omtrent slik ut:"
   ]
  },
  {
   "cell_type": "code",
   "execution_count": null,
   "metadata": {
    "slideshow": {
     "slide_type": "notes"
    }
   },
   "outputs": [],
   "source": [
    "%%writefile caesar_cipher.py\n",
    "import string\n",
    "from typing import Dict\n",
    "\n",
    "ALPHABET = string.ascii_lowercase + \"æøå\"\n",
    "\n",
    "\n",
    "def rotate_string(message: str, shift: int) -> str:\n",
    "    \"\"\"Rotate the characters in a message.\n",
    "\n",
    "    Parameters\n",
    "    ----------\n",
    "    msg : str\n",
    "        The message to be rotated.\n",
    "    shift : int\n",
    "        The number of places to shift the characters in the message.\n",
    "\n",
    "    Returns\n",
    "    -------\n",
    "    str\n",
    "        The rotated message.\n",
    "    \"\"\"\n",
    "    return message[shift:] + message[:shift]\n",
    "\n",
    "\n",
    "def create_shifted_alphabet(shift: int) -> Dict[str, str]:\n",
    "    \"\"\"Get lookup table for the Caesar shift of the alphabet.\n",
    "\n",
    "    Parameters\n",
    "    ----------\n",
    "    shift : int\n",
    "        The Caesar shift, the number of places to shift the alphabet.\n",
    "\n",
    "    Returns\n",
    "    -------\n",
    "    Dict[str, str]\n",
    "        Lookup table using original characters as keys \n",
    "        and the new characters as corresponding values.\n",
    "    \"\"\"\n",
    "    new_alphabet = rotate_string(ALPHABET, shift) \n",
    "    \n",
    "    table = {}\n",
    "    for letter, new_letter in zip(ALPHABET, new_alphabet):\n",
    "        table[letter] = new_letter\n",
    "    return table\n",
    "\n",
    "\n",
    "def encrypt(message: str, shift: int) -> str:\n",
    "    \"\"\"Encrypt a message using Caesar cipher.\n",
    "\n",
    "    Parameters\n",
    "    ----------\n",
    "    message : str\n",
    "        The original message.\n",
    "    shift : int\n",
    "        The Caesar shift to be used to encrypt the message.\n",
    "\n",
    "    Returns\n",
    "    -------\n",
    "    str\n",
    "        The encrypted version of the message.\n",
    "    \"\"\"\n",
    "    caesar_alphabet = create_shifted_alphabet(shift)\n",
    "    \n",
    "    encrypted = \"\"\n",
    "    for letter in message:\n",
    "        encrypted += caesar_alphabet[letter]\n",
    "    return encrypted\n",
    "\n",
    "\n",
    "def decrypt(encrypted_message: str, shift: int) -> str:\n",
    "    \"\"\"Decrypt a message which was encypted using Caesar cipher.\n",
    "\n",
    "    Parameters\n",
    "    ----------\n",
    "    encrypted_message : str\n",
    "        The encrypted message.\n",
    "    shift : int\n",
    "        The Caesar shift used to encrypted the message.\n",
    "\n",
    "    Returns\n",
    "    -------\n",
    "    str\n",
    "        The decrypted message.\n",
    "    \"\"\"\n",
    "    return encrypt(encrypted_message, -shift)"
   ]
  },
  {
   "cell_type": "markdown",
   "metadata": {
    "slideshow": {
     "slide_type": "slide"
    }
   },
   "source": [
    "## Refaktorering\n",
    "\n",
    "**Refaktorering (refactoring) er prosessen å gå over og forbedre koden.** Dette kan f.eks være\n",
    "- Gjøre koden bedre lesbar\n",
    "- Gjøre koden mer effektiv\n",
    "- Gjøre koden mer stabil\n",
    "- Legge til flere funksjonaliteter\n",
    "- Vedlikehold\n",
    "- Legge til flere tester"
   ]
  },
  {
   "cell_type": "markdown",
   "metadata": {
    "slideshow": {
     "slide_type": "notes"
    }
   },
   "source": [
    "Vi har nettopp brukt refaktorering ved å parametrisere testfunksjoner. "
   ]
  },
  {
   "cell_type": "markdown",
   "metadata": {
    "slideshow": {
     "slide_type": "slide"
    }
   },
   "source": [
    "### Forbedring av kode\n",
    "\n",
    "**Cæsarchiffer:** Har implementasjonen noen åpenbare begrensninger?"
   ]
  },
  {
   "cell_type": "markdown",
   "metadata": {
    "slideshow": {
     "slide_type": "fragment"
    }
   },
   "source": [
    "Implementasjonen håndterer per nå ikke:\n",
    "\n",
    "- Store bokstaver\n",
    "- Tall \n",
    "- Mellomrom\n",
    "- Tegnsetting"
   ]
  },
  {
   "cell_type": "markdown",
   "metadata": {
    "slideshow": {
     "slide_type": "slide"
    }
   },
   "source": [
    "**Cæsarchiffer:** Legg til tall, mellomrom, store bokstaver og tegnsetting i testene.\n",
    "\n",
    "Et tips for å legge inn stor bokstav er å bruke `<string>.upper()`:"
   ]
  },
  {
   "cell_type": "code",
   "execution_count": null,
   "metadata": {
    "slideshow": {
     "slide_type": "-"
    }
   },
   "outputs": [],
   "source": [
    "char = \"a\"\n",
    "print(f\"Capitalize {char}: {char.upper()}\")"
   ]
  },
  {
   "cell_type": "markdown",
   "metadata": {},
   "source": [
    "Jeg har jukset litt og gjort klar endringene i `test_caesar_cipher.py`..."
   ]
  },
  {
   "cell_type": "code",
   "execution_count": null,
   "metadata": {
    "slideshow": {
     "slide_type": "notes"
    }
   },
   "outputs": [],
   "source": [
    "%%writefile test_caesar_cipher.py\n",
    "import pytest\n",
    "from caesar_cipher import *\n",
    "\n",
    "\n",
    "@pytest.mark.parametrize(\n",
    "    \"original,shift,rotated\", [(\"hello\", 3, \"lohel\"), (\"nope\", 0, \"nope\")]\n",
    ")\n",
    "def test_rotate_string(original, shift, rotated):\n",
    "    assert rotate_string(original, shift) == rotated\n",
    "\n",
    "\n",
    "@pytest.mark.parametrize(\n",
    "    \"shift,a,m,å\", [(1, \"b\", \"n\", \"a\"), (3, \"d\", \"p\", \"c\")]\n",
    ")\n",
    "def test_create_shifted_alphabet(shift, a, m, å):\n",
    "    table = create_shifted_alphabet(shift)\n",
    "    assert table[\"a\"] == a\n",
    "    assert table[\"m\"] == m\n",
    "    assert table[\"å\"] == å\n",
    "    assert table[\"A\"] == a.upper()\n",
    "    assert table[\"M\"] == m.upper()\n",
    "    assert table[\"Å\"] == å.upper()\n",
    "    assert table[\" \"] == \" \"\n",
    "    assert table[\".\"] == \".\"\n",
    "    assert table[\"/\"] == \"/\"\n",
    "    assert table[\"7\"] == \"7\"\n",
    "    \n",
    "    \n",
    "@pytest.mark.parametrize(\n",
    "    \"original,shift\", [\n",
    "        (\"informatikk\", 13),\n",
    "        (\"Full setning? Jo-nei-altså, kanskje.\", 4)\n",
    "    ]\n",
    ")\n",
    "def test_encrypt_decrypt(original, shift):\n",
    "    encrypted = encrypt(original, shift)\n",
    "    assert decrypt(encrypted, shift) == original\n",
    "\n",
    "\n",
    "@pytest.mark.parametrize(\n",
    "    \"original,shift,encrypted\", [\n",
    "        (\"Fysikk 2!\", 3, \"Iøvlnn 2!\"), \n",
    "        (\"Alt er KJEMI.\", 0, \"Alt er KJEMI.\")\n",
    "    ]\n",
    ")\n",
    "def test_encrypt(original, shift, encrypted):\n",
    "    assert encrypt(original, shift) == encrypted\n",
    "\n",
    "    \n",
    "@pytest.mark.parametrize(\n",
    "    \"encrypted,shift,decrypted\", [\n",
    "        (\"_Thælthæprr_\", 7, \"_Matematikk_\"), \n",
    "        (\"Biologi, takk!\", 0, \"Biologi, takk!\")\n",
    "    ]\n",
    ")\n",
    "def test_decrypt(encrypted, shift, decrypted):\n",
    "    assert decrypt(encrypted, shift) == decrypted"
   ]
  },
  {
   "cell_type": "markdown",
   "metadata": {
    "slideshow": {
     "slide_type": "slide"
    }
   },
   "source": [
    "**Cæsarchiffer:** Få modulen `caesar_cipher` å også kunne ta inn en `message` som inkluderer tall, mellomrom, store og små bokstaver og tegnsetting.\n",
    "\n",
    "For å inkludere resten av tegnene skal vi bruke [string dokumentasjon](https://docs.python.org/3.9/library/string.html#) igjen.\n",
    "\n",
    "Disse tegnene skal forbli uendret uavhengig av `shift`:"
   ]
  },
  {
   "cell_type": "code",
   "execution_count": null,
   "metadata": {},
   "outputs": [],
   "source": [
    "NON_ALPHABET = string.punctuation + string.whitespace + string.digits\n",
    "\n",
    "table = {}\n",
    "print(table)"
   ]
  },
  {
   "cell_type": "markdown",
   "metadata": {
    "slideshow": {
     "slide_type": "notes"
    }
   },
   "source": [
    "Det finnes mange måter å få modulen til å håndtere tall, mellomrom, store bokstaver og tegnsetting. Her har vi valgt å kun endre på funksjonen `create_shifted_alphabet`:"
   ]
  },
  {
   "cell_type": "code",
   "execution_count": null,
   "metadata": {
    "slideshow": {
     "slide_type": "notes"
    }
   },
   "outputs": [],
   "source": [
    "%%writefile caesar_cipher.py\n",
    "import string\n",
    "from typing import Dict\n",
    "\n",
    "ALPHABET = string.ascii_lowercase + \"æøå\"\n",
    "NON_ALPHABET = string.punctuation + string.whitespace + string.digits\n",
    "\n",
    "\n",
    "def rotate_string(message: str, shift: int) -> str:\n",
    "    \"\"\"Rotate the characters in a message.\n",
    "\n",
    "    Parameters\n",
    "    ----------\n",
    "    msg : str\n",
    "        The message to be rotated.\n",
    "    shift : int\n",
    "        The number of places to shift the characters in the message.\n",
    "\n",
    "    Returns\n",
    "    -------\n",
    "    str\n",
    "        The rotated message.\n",
    "    \"\"\"\n",
    "    return message[shift:] + message[:shift]\n",
    "\n",
    "\n",
    "def create_shifted_alphabet(shift: int) -> Dict[str, str]:\n",
    "    \"\"\"Get lookup table for the Caesar shift of the alphabet.\n",
    "\n",
    "    Parameters\n",
    "    ----------\n",
    "    shift : int\n",
    "        The Caesar shift, the number of places to shift the alphabet.\n",
    "\n",
    "    Returns\n",
    "    -------\n",
    "    Dict[str, str]\n",
    "        Lookup table using original characters as keys \n",
    "        and the new characters as corresponding values.\n",
    "    \"\"\"\n",
    "    new_alphabet = rotate_string(ALPHABET, shift) \n",
    "    \n",
    "    table = {sign : sign for sign in NON_ALPHABET}\n",
    "    for letter, new_letter in zip(ALPHABET, new_alphabet):\n",
    "        table[letter] = new_letter\n",
    "        table[letter.upper()] = new_letter.upper()\n",
    "    return table\n",
    "\n",
    "\n",
    "def encrypt(message: str, shift: int) -> str:\n",
    "    \"\"\"Encrypt a message using Caesar cipher.\n",
    "\n",
    "    Parameters\n",
    "    ----------\n",
    "    message : str\n",
    "        The original message.\n",
    "    shift : int\n",
    "        The Caesar shift to be used to encrypt the message.\n",
    "\n",
    "    Returns\n",
    "    -------\n",
    "    str\n",
    "        The encrypted version of the message.\n",
    "    \"\"\"\n",
    "    caesar_alphabet = create_shifted_alphabet(shift)\n",
    "    \n",
    "    encrypted = \"\"\n",
    "    for letter in message:\n",
    "        encrypted += caesar_alphabet[letter]\n",
    "    return encrypted\n",
    "\n",
    "\n",
    "def decrypt(encrypted_message: str, shift: int) -> str:\n",
    "    \"\"\"Decrypt a message which was encypted using Caesar cipher.\n",
    "\n",
    "    Parameters\n",
    "    ----------\n",
    "    encrypted_message : str\n",
    "        The encrypted message.\n",
    "    shift : int\n",
    "        The Caesar shift used to encrypted the message.\n",
    "\n",
    "    Returns\n",
    "    -------\n",
    "    str\n",
    "        The decrypted message.\n",
    "    \"\"\"\n",
    "    return encrypt(encrypted_message, -shift)"
   ]
  },
  {
   "cell_type": "markdown",
   "metadata": {
    "slideshow": {
     "slide_type": "fragment"
    }
   },
   "source": [
    "Kjør alle testene på nytt for å sjekke at implementasjonen ble riktig:\n",
    "```\n",
    "python -m pytest -v\n",
    "```"
   ]
  },
  {
   "cell_type": "markdown",
   "metadata": {
    "slideshow": {
     "slide_type": "slide"
    }
   },
   "source": [
    "## Feilhåndtering\n",
    "\n",
    "Brukes koden feil, bør den avsluttes kontrollert med en informativ feilmelding. \n",
    "\n",
    "**Cæsarchiffer**: Hvordan kan `encrypt` og `decrypt` brukes feil?"
   ]
  },
  {
   "cell_type": "markdown",
   "metadata": {
    "slideshow": {
     "slide_type": "fragment"
    }
   },
   "source": [
    "Vi skal legge inn feilmelding hvis `message` som sendes inn i `encrypt` er noe annet enn type `str`.\n"
   ]
  },
  {
   "cell_type": "markdown",
   "metadata": {
    "slideshow": {
     "slide_type": "slide"
    }
   },
   "source": [
    "### `raise <exception>`\n",
    "\n",
    "Vi kan kaste et [unntak (exception)](https://docs.python.org/3/library/exceptions.html#exception-hierarchy) i Python ved å bruke `raise`:"
   ]
  },
  {
   "cell_type": "code",
   "execution_count": null,
   "metadata": {},
   "outputs": [],
   "source": [
    "raise Exception(\"Message about the error\")"
   ]
  },
  {
   "cell_type": "markdown",
   "metadata": {
    "slideshow": {
     "slide_type": "fragment"
    }
   },
   "source": [
    "**Cæsarchiffer:** Vi kan bruke den innebygde `isinstance`-funksjonen for å avgjøre om argumentet `message` er av type `str`. Et passende unntak kan være `TypeError`:"
   ]
  },
  {
   "cell_type": "code",
   "execution_count": null,
   "metadata": {},
   "outputs": [],
   "source": [
    "message = 1814\n",
    "\n",
    "..."
   ]
  },
  {
   "cell_type": "markdown",
   "metadata": {
    "slideshow": {
     "slide_type": "slide"
    }
   },
   "source": [
    "### Egendefinerte unntak \n",
    "\n",
    "Å lage egendefinerte unntak er en god måte å få mer informative feilmeldinger. \n",
    "\n",
    "Disse kan enkelt lages ved å lage klasser som *arver* av [eksisterende unntak](https://docs.python.org/3/library/exceptions.html#exception-hierarchy): \n",
    "\n",
    "```\n",
    "class NewException(<Exception>):\n",
    "    pass\n",
    "```\n",
    "Mer om klasser og arv neste uke..."
   ]
  },
  {
   "cell_type": "markdown",
   "metadata": {
    "slideshow": {
     "slide_type": "fragment"
    }
   },
   "source": [
    "**Cæsarchiffer:** Vi skal lage en ny type unntak `InvalidMessageType` som arver fra`TypeError`:"
   ]
  },
  {
   "cell_type": "code",
   "execution_count": null,
   "metadata": {},
   "outputs": [],
   "source": [
    "..."
   ]
  },
  {
   "cell_type": "markdown",
   "metadata": {
    "slideshow": {
     "slide_type": "fragment"
    }
   },
   "source": [
    "Legg inn sjekk på at `message` er av typen `str` i `encrypt`:"
   ]
  },
  {
   "cell_type": "code",
   "execution_count": null,
   "metadata": {
    "slideshow": {
     "slide_type": "notes"
    }
   },
   "outputs": [],
   "source": [
    "%%writefile caesar_cipher.py\n",
    "import string\n",
    "from typing import Dict\n",
    "\n",
    "ALPHABET = string.ascii_lowercase + \"æøå\"\n",
    "NON_ALPHABET = string.punctuation + string.whitespace + string.digits\n",
    "\n",
    "\n",
    "class InvalidMessageType(TypeError):\n",
    "    pass\n",
    "\n",
    "\n",
    "def rotate_string(message: str, shift: int) -> str:\n",
    "    \"\"\"Rotate the characters in a message.\n",
    "\n",
    "    Parameters\n",
    "    ----------\n",
    "    msg : str\n",
    "        The message to be rotated.\n",
    "    shift : int\n",
    "        The number of places to shift the characters in the message.\n",
    "\n",
    "    Returns\n",
    "    -------\n",
    "    str\n",
    "        The rotated message.\n",
    "    \"\"\"\n",
    "    return message[shift:] + message[:shift]\n",
    "\n",
    "\n",
    "def create_shifted_alphabet(shift: int) -> Dict[str, str]:\n",
    "    \"\"\"Get lookup table for the Caesar shift of the alphabet.\n",
    "\n",
    "    Parameters\n",
    "    ----------\n",
    "    shift : int\n",
    "        The Caesar shift, the number of places to shift the alphabet.\n",
    "\n",
    "    Returns\n",
    "    -------\n",
    "    Dict[str, str]\n",
    "        Lookup table using original characters as keys \n",
    "        and the new characters as corresponding values.\n",
    "    \"\"\"\n",
    "    new_alphabet = rotate_string(ALPHABET, shift) \n",
    "    \n",
    "    table = {sign : sign for sign in NON_ALPHABET}\n",
    "    for letter, new_letter in zip(ALPHABET, new_alphabet):\n",
    "        table[letter] = new_letter\n",
    "        table[letter.upper()] = new_letter.upper()\n",
    "    return table\n",
    "\n",
    "\n",
    "def encrypt(message: str, shift: int) -> str:\n",
    "    \"\"\"Encrypt a message using Caesar cipher.\n",
    "\n",
    "    Parameters\n",
    "    ----------\n",
    "    message : str\n",
    "        The original message.\n",
    "    shift : int\n",
    "        The Caesar shift to be used to encrypt the message.\n",
    "\n",
    "    Returns\n",
    "    -------\n",
    "    str\n",
    "        The encrypted version of the message.\n",
    "    \"\"\"\n",
    "    if not isinstance(message, str):\n",
    "        raise InvalidMessageType(f\"Invalid message of type {type(message)}, expected str.\")\n",
    "\n",
    "    caesar_alphabet = create_shifted_alphabet(shift)\n",
    "    \n",
    "    encrypted = \"\"\n",
    "    for letter in message:\n",
    "        encrypted += caesar_alphabet[letter]\n",
    "    return encrypted\n",
    "\n",
    "\n",
    "def decrypt(encrypted_message: str, shift: int) -> str:\n",
    "    \"\"\"Decrypt a message which was encypted using Caesar cipher.\n",
    "\n",
    "    Parameters\n",
    "    ----------\n",
    "    encrypted_message : str\n",
    "        The encrypted message.\n",
    "    shift : int\n",
    "        The Caesar shift used to encrypted the message.\n",
    "\n",
    "    Returns\n",
    "    -------\n",
    "    str\n",
    "        The decrypted message.\n",
    "    \"\"\"\n",
    "    return encrypt(encrypted_message, -shift)"
   ]
  },
  {
   "cell_type": "markdown",
   "metadata": {
    "slideshow": {
     "slide_type": "slide"
    }
   },
   "source": [
    "## Testdekning\n",
    "\n",
    "**Testdekning er et mål på *hvor mye* av koden blir brukt under testing.**\n",
    "\n",
    "Til dette skal vi bruke `pytest-cov`.\n",
    "\n",
    "### Installasjon av `pytest-cov`\n",
    "\n",
    "Du kan installere det ved å bruke \n",
    "```\n",
    "python -m pip install pytest-cov\n",
    "```\n",
    "eller \n",
    "```\n",
    "conda install -y pytest-cov\n",
    "``` "
   ]
  },
  {
   "cell_type": "markdown",
   "metadata": {
    "slideshow": {
     "slide_type": "slide"
    }
   },
   "source": [
    "### Testdekning med `pytest-cov`\n",
    "\n",
    "\n",
    "- `pytest --cov`: gir rapport om testdekning på alle filer i mappen \n",
    "- `pytest --cov=<module>`: sjekk dekning av bestemt modul\n",
    "- `pytest --cov=<module> --cov-report term-missing`: gir informasjon om hvilke linjer som ikke er dekket\n",
    "- `pytest --cov=<module> --cov-report html`: lager mappe med visuell representasjon av manglende linjer\n",
    "\n",
    "\n",
    "En full test i terminalen kan da se ca. slik ut:\n",
    "```\n",
    "python -m pytest --cov=<module> --cov-report term-missing\n",
    "```"
   ]
  },
  {
   "cell_type": "markdown",
   "metadata": {
    "slideshow": {
     "slide_type": "notes"
    }
   },
   "source": [
    "**Testdekning av Cæsarchiffer:**\n",
    "\n",
    "Den enkleste versjonen er å kjøre\n",
    "```\n",
    "python -m pytest --cov\n",
    "```\n",
    "Da får du testdekning på testfilene også. For å unngå dette, kan vi bruke\n",
    "```\n",
    "python -m pytest --cov=caesar_cipher \n",
    "```\n",
    "Vi har nå ca. $96\\, \\%$ testdekning. For å se hvilke linjer som ikke er dekket, bruk:\n",
    "```\n",
    "python -m pytest --cov=caesar_cipher --cov-report term-missing\n",
    "```\n",
    "Da oppgir linjenummer på alle linjer som ikke er dekket i testingen. For en mer visuell representasjon av dekningen, bruk:\n",
    "```\n",
    "python -m pytest --cov=caesar_cipher --cov-report html\n",
    "```\n",
    "Gå inn i mappen `htmlcov` og sjekk `caesar_cipher_py.html`. Du kan da se at vi tester alt, unntatt feilhåndteringen. "
   ]
  },
  {
   "cell_type": "markdown",
   "metadata": {
    "slideshow": {
     "slide_type": "slide"
    }
   },
   "source": [
    "## Fange unntak: `try` - `except`\n",
    "\n",
    "Slik kan vi håndtere hva som skjer om noe går galt:\n",
    "\n",
    "```python\n",
    "try:\n",
    "    # Kode som kan kaste unntak\n",
    "except <FirstException>:\n",
    "    # Håndter hva som skal skje om unntaket <FirstException> blir kastet\n",
    "except <SecondException>:\n",
    "   # Håndter hva som skal skje om unntaket <SecondException> blir kastet\n",
    "else:\n",
    "    # Håndter hva som skal skje om ingen unntak blir kastet\n",
    "finally:\n",
    "    # Gjør dette til slutt uansett - rydd opp\n",
    "\n",
    "```"
   ]
  },
  {
   "cell_type": "markdown",
   "metadata": {
    "slideshow": {
     "slide_type": "slide"
    }
   },
   "source": [
    "### `ZeroDivisionError` - et kort praktisk eksempel"
   ]
  },
  {
   "cell_type": "code",
   "execution_count": null,
   "metadata": {},
   "outputs": [],
   "source": [
    "inf = 1/0"
   ]
  },
  {
   "cell_type": "markdown",
   "metadata": {
    "slideshow": {
     "slide_type": "slide"
    }
   },
   "source": [
    "#### Håndtering av spesifikt unntak"
   ]
  },
  {
   "cell_type": "code",
   "execution_count": null,
   "metadata": {},
   "outputs": [],
   "source": [
    "try:\n",
    "    inf = 1/0\n",
    "except ZeroDivisionError:\n",
    "    print(\"Dividing by zero throws an exception in python, but we caught it!\")\n",
    "else:\n",
    "    print(\"No problem.\")\n",
    "finally:\n",
    "    print(\"Finally?\")\n",
    "print(\"Done.\")"
   ]
  },
  {
   "cell_type": "markdown",
   "metadata": {
    "slideshow": {
     "slide_type": "slide"
    }
   },
   "source": [
    "#### Når ingen unntak oppstår"
   ]
  },
  {
   "cell_type": "code",
   "execution_count": null,
   "metadata": {},
   "outputs": [],
   "source": [
    "try:\n",
    "    one = 13/13\n",
    "except ZeroDivisionError:\n",
    "    print(\"Dividing by zero throws an exception in python, but we caught it!\")\n",
    "else:\n",
    "    print(\"No problem.\")\n",
    "finally:\n",
    "    print(\"Finally?\")\n",
    "print(\"Done.\")"
   ]
  },
  {
   "cell_type": "markdown",
   "metadata": {
    "slideshow": {
     "slide_type": "slide"
    }
   },
   "source": [
    "#### Hent ut feilmeldingen"
   ]
  },
  {
   "cell_type": "code",
   "execution_count": null,
   "metadata": {},
   "outputs": [],
   "source": [
    "try:\n",
    "    inf = 1/0\n",
    "except ZeroDivisionError as ex:\n",
    "    print(f\"We caught: {ex}\")\n",
    "else:\n",
    "    print(\"No problem.\")\n",
    "finally:\n",
    "    print(\"Finally?\")\n",
    "print(\"Done.\")"
   ]
  },
  {
   "cell_type": "markdown",
   "metadata": {
    "slideshow": {
     "slide_type": "slide"
    }
   },
   "source": [
    "#### Håndtering av annet unntak"
   ]
  },
  {
   "cell_type": "code",
   "execution_count": null,
   "metadata": {},
   "outputs": [],
   "source": [
    "try:\n",
    "    inf = 1/0\n",
    "except ValueError as ex:\n",
    "    print(f\"We caught: {ex}\")  \n",
    "else:\n",
    "    print(\"No problem.\")\n",
    "finally:\n",
    "    print(\"Finally?\")\n",
    "print(\"Done.\")"
   ]
  },
  {
   "cell_type": "markdown",
   "metadata": {
    "slideshow": {
     "slide_type": "slide"
    }
   },
   "source": [
    "#### Håndtering av unntak fra superklasse\n",
    "\n",
    "Bruk av `except <Exception>` fanger både ` <Exception>` og alle dens subklasser.\n",
    "\n",
    "Nesten alle exceptions arver fra `Exception`. \n",
    "\n",
    "Obs: Du må ikke fange `BaseException`!\n",
    "\n",
    "\n",
    "I [hierarkiet til innebygde unntak](https://docs.python.org/3/library/exceptions.html#exception-hierarchy)\n",
    "arver `ZeroDivisionError` fra `ArithmeticError`."
   ]
  },
  {
   "cell_type": "code",
   "execution_count": null,
   "metadata": {},
   "outputs": [],
   "source": [
    "try:\n",
    "    inf = 1/0\n",
    "except ArithmeticError as ex:\n",
    "    print(f\"We caught: {ex}\")\n",
    "else:\n",
    "    print(\"No problem.\")\n",
    "finally:\n",
    "    print(\"Finally?\")\n",
    "print(\"Done.\")"
   ]
  },
  {
   "cell_type": "markdown",
   "metadata": {
    "slideshow": {
     "slide_type": "slide"
    }
   },
   "source": [
    "### Teste at Cæsarchiffer kaster riktig unntak\n",
    "\n",
    "Vi ønsker $100\\, \\%$ testdekning. Da må vi teste at det kastes `TypeError` hvis det sendes inn et heltall (`int`) som `message` i funksjonen `encrypt`.  \n",
    "\n",
    "Dette *kan* gjøres slik:\n",
    "```python\n",
    "def test_encrypt_raises_TypeError():\n",
    "    try:\n",
    "        encrypt(message=1910, shift=4)\n",
    "    except TypeError:\n",
    "        # Correct exception is raised, test passes\n",
    "        pass\n",
    "    except Exception:\n",
    "        # This catches other types of exceptions, test fails\n",
    "        raise AssertionError(\"\")\n",
    "    else:\n",
    "        # No exception has been raised, test fails\n",
    "        raise AssertionError(\"\")\n",
    "```"
   ]
  },
  {
   "cell_type": "markdown",
   "metadata": {
    "slideshow": {
     "slide_type": "slide"
    }
   },
   "source": [
    "###  `pytest.raises`\n",
    "\n",
    "En enklere måte å teste om riktig unntak blir kastet på, er å bruke  `pytest.raises`. Det gjøres slik:\n",
    "\n",
    "```python\n",
    "with pytest.raises(<Exception>):\n",
    "    # kode som burde kaste unntaket <Exception>\n",
    "```\n",
    "En `with`-block kalles også en *context manager*. Disse brukes ofte der man ønsker en midlertidig forandring, eller der man ønsker å arbeide med ressurser som må frigjøres (som f.eks filer).\n"
   ]
  },
  {
   "cell_type": "markdown",
   "metadata": {
    "slideshow": {
     "slide_type": "slide"
    }
   },
   "source": [
    "**Cæsarchiffer:** Lag en ny test som tester feilhåndteringen i `encrypt` ved bruk av `pytest.raises`. "
   ]
  },
  {
   "cell_type": "markdown",
   "metadata": {
    "slideshow": {
     "slide_type": "notes"
    }
   },
   "source": [
    "For å teste feilhåndteringen kan vi legge til følgende testfunksjon i `test_caesar_cipher.py`:"
   ]
  },
  {
   "cell_type": "code",
   "execution_count": null,
   "metadata": {
    "slideshow": {
     "slide_type": "notes"
    }
   },
   "outputs": [],
   "source": [
    "%%writefile --append test_caesar_cipher.py\n",
    "\n",
    "\n",
    "def test_encrypt_raises_TypeError():\n",
    "    message = 1910\n",
    "    shift = 4\n",
    "    with pytest.raises(TypeError):\n",
    "        encrypt(message, shift)"
   ]
  },
  {
   "cell_type": "markdown",
   "metadata": {
    "slideshow": {
     "slide_type": "-"
    }
   },
   "source": [
    "Sjekk at alle testene passerer og få testdekningen:\n",
    "```\n",
    "python -m pytest -v --cov=caesar_cipher\n",
    "```\n",
    "Nå skal det være $100\\, \\%$ testdekning!"
   ]
  }
 ],
 "metadata": {
  "celltoolbar": "Slideshow",
  "kernelspec": {
   "display_name": "Python 3 (ipykernel)",
   "language": "python",
   "name": "python3"
  },
  "language_info": {
   "codemirror_mode": {
    "name": "ipython",
    "version": 3
   },
   "file_extension": ".py",
   "mimetype": "text/x-python",
   "name": "python",
   "nbconvert_exporter": "python",
   "pygments_lexer": "ipython3",
   "version": "3.10.5"
  },
  "vscode": {
   "interpreter": {
    "hash": "190cafc93a7c2c49a6ea227d53366c310c32565680693c36f3a06dea9bb66b47"
   }
  }
 },
 "nbformat": 4,
 "nbformat_minor": 2
}
