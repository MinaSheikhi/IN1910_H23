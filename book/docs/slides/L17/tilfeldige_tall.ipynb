{
 "cells": [
  {
   "cell_type": "markdown",
   "id": "625c89fd",
   "metadata": {
    "slideshow": {
     "slide_type": "slide"
    }
   },
   "source": [
    "# Tilfeldige Tall"
   ]
  },
  {
   "cell_type": "markdown",
   "id": "5dd90c6e",
   "metadata": {
    "slideshow": {
     "slide_type": "slide"
    }
   },
   "source": [
    "**Bruk av *stokastiske* simuleringer.** Noen eksempler:\n",
    "- Reaksjonskinetikk\n",
    "- Diffusjon av væsker og gasser\n",
    "- Bevegelser til væske- og gasspartikler \n",
    "- Addisjonspolymerisasjon\n",
    "- Klimamodellering\n",
    "- Risikovurderinger"
   ]
  },
  {
   "cell_type": "markdown",
   "id": "65cd7e42",
   "metadata": {
    "slideshow": {
     "slide_type": "notes"
    }
   },
   "source": [
    "Tilfeldige tall er også en sentral del av finans, kryptografi, IT-sikkerhet, samt spillutvikling."
   ]
  },
  {
   "cell_type": "markdown",
   "id": "d635e813",
   "metadata": {
    "slideshow": {
     "slide_type": "fragment"
    }
   },
   "source": [
    "**Til dette må vi kunne genrere *tilfeldige tall*.**"
   ]
  },
  {
   "cell_type": "markdown",
   "id": "0a45afd6",
   "metadata": {
    "slideshow": {
     "slide_type": "slide"
    }
   },
   "source": [
    "## Tilfeldighetsgeneratorer\n",
    "\n",
    "> Engelsk: *Random Number Generators* (RNG).\n",
    "\n",
    "Disse skal generere *tilfeldige* tall."
   ]
  },
  {
   "cell_type": "markdown",
   "id": "cbfa24ce",
   "metadata": {
    "slideshow": {
     "slide_type": "slide"
    }
   },
   "source": [
    "**Hva er egentlig tilfeldige tall?**"
   ]
  },
  {
   "cell_type": "markdown",
   "id": "7be404ab",
   "metadata": {
    "slideshow": {
     "slide_type": "fragment"
    }
   },
   "source": [
    "Forslag:\n",
    "* Utfallet skal være *uforutsigbart*\n",
    "* En rekke tilfeldige tall må oppfylle krav til *statistisk tilfeldighet*"
   ]
  },
  {
   "cell_type": "markdown",
   "id": "7a4b3776",
   "metadata": {
    "slideshow": {
     "slide_type": "slide"
    }
   },
   "source": [
    "### Mekaniske tilfeldighetsgeneratorer \n",
    "\n",
    "Noen eksempler:\n",
    "- Bok fra 1955: A Million Random Digits with 100,000 Normal Deviates\n",
    "- [random.org](https://www.random.org/) "
   ]
  },
  {
   "cell_type": "markdown",
   "id": "39334b4e",
   "metadata": {
    "slideshow": {
     "slide_type": "slide"
    }
   },
   "source": [
    "**Hvordan kan man generere tilfeldige tall?**"
   ]
  },
  {
   "cell_type": "markdown",
   "id": "fd6baea6",
   "metadata": {
    "slideshow": {
     "slide_type": "fragment"
    }
   },
   "source": [
    "Noen forslag:\n",
    "- Kaste terninger\n",
    "- Stokke om på kort\n",
    "- Ruletthjul\n",
    "- Bruke støy fra målinger ([random.org](https://www.random.org/) bruker tall fra atmosfærisk støy)\n",
    "\n",
    "I informatikken kalles slike RNGs gjerne for *ekte* tilfeldighet."
   ]
  },
  {
   "cell_type": "markdown",
   "id": "b79f95f3",
   "metadata": {
    "slideshow": {
     "slide_type": "slide"
    }
   },
   "source": [
    "**Ekte tilfeldighet i programmering:** Kan importeres inn i programmet.\n",
    "\n",
    "Ulemper:\n",
    "- Gjerne teknisk komplisert\n",
    "- Ofte tregt å generere tallene\n",
    "- Ofte tregt å lese inn tallene"
   ]
  },
  {
   "cell_type": "markdown",
   "id": "b1960205",
   "metadata": {
    "slideshow": {
     "slide_type": "notes"
    }
   },
   "source": [
    "Alternativet er å la datamaskinen generere tilfeldige tall selv. Dette er i praksis mye raskere."
   ]
  },
  {
   "cell_type": "markdown",
   "id": "40c9c842",
   "metadata": {
    "slideshow": {
     "slide_type": "slide"
    }
   },
   "source": [
    "### Pseudo-tilfeldig tallgeneratorer\n",
    "\n",
    "> Engelsk: Pseudo-Random Number Generators (pRNG)\n",
    "\n",
    "Datamaskinen kan generere *pseudotilfeldiget*.\n",
    "\n",
    "En datamaskin er *deterministisk*, og kan derfor ikke generere *ekte* tilfeldighet."
   ]
  },
  {
   "cell_type": "markdown",
   "id": "d01e6615",
   "metadata": {
    "slideshow": {
     "slide_type": "slide"
    }
   },
   "source": [
    "##  Pseudotilfeldighet \n",
    "\n",
    "Gitt et tall $x_n$, vil en pRNG produsere det *neste* tallet i rekken, $x_{n+1}$.\n",
    "\n",
    "> **pRNG($x_{n}$) $\\to$ $x_{n + 1}$**,\n",
    "\n",
    "hvor $x_0$ kalles *seed*."
   ]
  },
  {
   "cell_type": "markdown",
   "id": "659c0d9e",
   "metadata": {
    "slideshow": {
     "slide_type": "slide"
    }
   },
   "source": [
    "**En pseudotilfeldig tallrekke er:**"
   ]
  },
  {
   "cell_type": "markdown",
   "id": "9e54ddba",
   "metadata": {
    "slideshow": {
     "slide_type": "fragment"
    }
   },
   "source": [
    "- Deterministisk"
   ]
  },
  {
   "cell_type": "markdown",
   "id": "7c1eb0ac",
   "metadata": {
    "slideshow": {
     "slide_type": "fragment"
    }
   },
   "source": [
    "- Diskret"
   ]
  },
  {
   "cell_type": "markdown",
   "id": "79590ca2",
   "metadata": {
    "slideshow": {
     "slide_type": "notes"
    }
   },
   "source": [
    "Kontinuerlige rekker kan ikke representeres via flyttall, som alltid vil ha en gitt *presisjon*."
   ]
  },
  {
   "cell_type": "markdown",
   "id": "2bf98ff1",
   "metadata": {
    "slideshow": {
     "slide_type": "slide"
    }
   },
   "source": [
    "### Statstisk tilfeldighet\n",
    "\n",
    "Si at $\\rho(x)$ gir oss *sannsynlighetsfordeling*. Den totale sannsynligheten må da bli:\n",
    "\n",
    "$$\n",
    "    \\int_{-\\infty}^{\\infty} \\rho(x) \\mathrm{dx} = 1 .\n",
    "$$\n"
   ]
  },
  {
   "cell_type": "markdown",
   "id": "a8fc80ce",
   "metadata": {
    "slideshow": {
     "slide_type": "fragment"
    }
   },
   "source": [
    "Hvis vi kun ser på et begrenset intervall $x \\in [x_{min}, x_{max}]$, så har vi at \n",
    "\n",
    "$$\n",
    "    \\int_{x_{min}}^{x_{max}} \\rho(x) \\mathrm{dx} = 1 .\n",
    "$$\n"
   ]
  },
  {
   "cell_type": "markdown",
   "id": "7cca1791",
   "metadata": {
    "slideshow": {
     "slide_type": "fragment"
    }
   },
   "source": [
    "Ved uniform fordeling er sannsynlighetsfordelingen konstant på intervallet $x \\in [x_{min}, x_{max}]$."
   ]
  },
  {
   "cell_type": "markdown",
   "id": "60bd5087",
   "metadata": {
    "slideshow": {
     "slide_type": "slide"
    }
   },
   "source": [
    "**Forventningsverdien** er gitt ved:\n",
    "\n",
    "$$\n",
    "    \\mu = \\int_{x_{min}}^{x_{max}} x \\rho (x) \\mathrm{d}x\n",
    "$$\n"
   ]
  },
  {
   "cell_type": "markdown",
   "id": "6f8299be",
   "metadata": {
    "slideshow": {
     "slide_type": "fragment"
    }
   },
   "source": [
    "For en uniform fordeling har vi at\n",
    "\n",
    "$$\n",
    "    \\mu = \\frac{x_{min} + x_{max}}{2} .\n",
    "$$\n"
   ]
  },
  {
   "cell_type": "code",
   "execution_count": null,
   "id": "fdab4964",
   "metadata": {},
   "outputs": [],
   "source": [
    "def mu(x_min, x_max):\n",
    "    return (x_min + x_max)/2"
   ]
  },
  {
   "cell_type": "markdown",
   "id": "2a0bd099",
   "metadata": {
    "slideshow": {
     "slide_type": "fragment"
    }
   },
   "source": [
    "En rekke bestående av $N$ tall vil ha forventningsverdi\n",
    "\n",
    "$$\n",
    "    \\mu = \\frac{1}{N}\\sum_{n = 1}^{N} x_n .\n",
    "$$\n",
    "\n",
    "Forventningsverdien er altså gjennomsnittet, $\\mu = \\bar{x}$."
   ]
  },
  {
   "cell_type": "code",
   "execution_count": null,
   "id": "8c1d35a2",
   "metadata": {},
   "outputs": [],
   "source": [
    "from numpy import mean"
   ]
  },
  {
   "cell_type": "markdown",
   "id": "09f7eb36",
   "metadata": {
    "slideshow": {
     "slide_type": "slide"
    }
   },
   "source": [
    "**Standardavviket** er gitt ved\n",
    "\n",
    "$$\n",
    "    \\sigma = \\sqrt{\\int_{x_{min}}^{x_{max}} (x - \\mu)^2 \\rho(x) \\mathrm{d} x} .\n",
    "$$\n"
   ]
  },
  {
   "cell_type": "markdown",
   "id": "f8ea1390",
   "metadata": {
    "slideshow": {
     "slide_type": "fragment"
    }
   },
   "source": [
    "For en *kontinuerlig* uniform fordeling har vi at\n",
    "\n",
    "$$\n",
    "    \\sigma =  \\frac{x_{max} - x_{min}}{2\\sqrt{3}},\n",
    "$$\n",
    "\n",
    "mens for en *diskret* uniform fordelig av heltall har vi\n",
    "\n",
    "$$\n",
    "    \\sigma =  \\frac{\\sqrt{(x_{max} - x_{min} + 1)^2 - 1}}{2\\sqrt{3}} .\n",
    "$$\n"
   ]
  },
  {
   "cell_type": "code",
   "execution_count": null,
   "id": "a1aee2cf",
   "metadata": {},
   "outputs": [],
   "source": [
    "import numpy as np\n",
    "\n",
    "def sigma(x_min, x_max, discrete):\n",
    "    if discrete:\n",
    "        n = (x_max - x_min + 1)\n",
    "        return 0.5*np.sqrt(n*n - 1)/np.sqrt(3)\n",
    "    else:\n",
    "        return 0.5*(x_max - x_min)/np.sqrt(3)"
   ]
  },
  {
   "cell_type": "markdown",
   "id": "b2b7d3fe",
   "metadata": {
    "slideshow": {
     "slide_type": "fragment"
    }
   },
   "source": [
    "En rekke bestående av $N$ tall vil ha standardavvik\n",
    "\n",
    "$$\n",
    "    \\sigma = \\sqrt{\\frac{1}{N}\\sum_{n = 1}^{N} (x_n - \\mu)^2} .\n",
    "$$\n"
   ]
  },
  {
   "cell_type": "code",
   "execution_count": null,
   "id": "bb8c8c77",
   "metadata": {},
   "outputs": [],
   "source": [
    "from numpy import std"
   ]
  },
  {
   "cell_type": "markdown",
   "id": "c672deb2",
   "metadata": {
    "slideshow": {
     "slide_type": "slide"
    }
   },
   "source": [
    "### Farer med pseudotilfeldighet\n",
    "\n",
    "> pRNG($x_{n}$) $\\to$ $x_{n + 1}$"
   ]
  },
  {
   "cell_type": "markdown",
   "id": "5c035642",
   "metadata": {
    "slideshow": {
     "slide_type": "fragment"
    }
   },
   "source": [
    "- **Perioder:** Når pRNG($x_{n}$) $\\to$ $x_{n - M}$ får vi en syklus på $M + 1$ tall."
   ]
  },
  {
   "cell_type": "markdown",
   "id": "50679049",
   "metadata": {
    "slideshow": {
     "slide_type": "fragment"
    }
   },
   "source": [
    "- **Konvergens:** Når pRNG($x_{n}$) $\\to$ $x_{n}$."
   ]
  },
  {
   "cell_type": "markdown",
   "id": "f6e0923d",
   "metadata": {
    "slideshow": {
     "slide_type": "notes"
    }
   },
   "source": [
    "Dette er bare et spesialtilfelle av en syklus med $M = 0$."
   ]
  },
  {
   "cell_type": "markdown",
   "id": "75a4cdda",
   "metadata": {
    "slideshow": {
     "slide_type": "fragment"
    }
   },
   "source": [
    "- **Trekke samme tall flere ganger:** En viktig statistisk egenskap, men vil for en (naiv) pRNG bety en syklus."
   ]
  },
  {
   "cell_type": "markdown",
   "id": "4db50bb1",
   "metadata": {
    "slideshow": {
     "slide_type": "fragment"
    }
   },
   "source": [
    "- **Dirichlets skuffeprinsipp:** Når ikke alle tall er like sannsynlige."
   ]
  },
  {
   "cell_type": "markdown",
   "id": "7fd1e87b",
   "metadata": {
    "slideshow": {
     "slide_type": "notes"
    }
   },
   "source": [
    "Vi skal komme tilbake til Dirichlets skuffeprinsipp senere."
   ]
  },
  {
   "cell_type": "markdown",
   "id": "3266b447",
   "metadata": {
    "slideshow": {
     "slide_type": "slide"
    }
   },
   "source": [
    "## Midtkvadratmetoden\n",
    "\n",
    "> Engelsk: Middle-square method\n",
    "\n",
    "Laget av fysikeren John von Neumann i 1949, og er et av de første eksemplene på pRNG."
   ]
  },
  {
   "cell_type": "markdown",
   "id": "984cad05",
   "metadata": {
    "slideshow": {
     "slide_type": "notes"
    }
   },
   "source": [
    "John von Neumann skal også ha en del av æren for datamaskinens opphav."
   ]
  },
  {
   "cell_type": "markdown",
   "id": "423466d5",
   "metadata": {
    "slideshow": {
     "slide_type": "slide"
    }
   },
   "source": [
    "**Algoritmen er som følger:**\n",
    "1. Input: `seed` som er et tall med $N$ siffer\n",
    "2. Kvadrer tallet `seed`\n",
    "3. Output: $N$ midtereste sifrene fra kvadrattallet \n",
    "\n",
    "På 50-tallet var alternativet å lese inn mekanisk genererte tall fra hullkort. \n",
    "\n",
    "Neumanns metode var mye raskere."
   ]
  },
  {
   "cell_type": "markdown",
   "id": "ecca4854",
   "metadata": {
    "slideshow": {
     "slide_type": "slide"
    }
   },
   "source": [
    "**Enkel implementasjon av midtkvadratmetoden:** Med bruk av fire siffer."
   ]
  },
  {
   "cell_type": "code",
   "execution_count": null,
   "id": "3afb3c40",
   "metadata": {},
   "outputs": [],
   "source": [
    "def middle_square(seed): \n",
    "    '''Middle-square number generator with four digits.'''\n",
    "    ..."
   ]
  },
  {
   "cell_type": "markdown",
   "id": "eab7e7c4",
   "metadata": {
    "slideshow": {
     "slide_type": "notes"
    }
   },
   "source": [
    "Forslag til implementasjon:"
   ]
  },
  {
   "cell_type": "code",
   "execution_count": null,
   "id": "433a6f02",
   "metadata": {
    "slideshow": {
     "slide_type": "notes"
    }
   },
   "outputs": [],
   "source": [
    "def middle_square(seed): \n",
    "    '''Middle-square number generator with four digits.'''\n",
    "    square = str(seed*seed)\n",
    "    middle = len(square)//2\n",
    "    number = square[middle - 2:middle + 2]\n",
    "    return int(number)"
   ]
  },
  {
   "cell_type": "markdown",
   "id": "836904e4",
   "metadata": {
    "slideshow": {
     "slide_type": "fragment"
    }
   },
   "source": [
    "Dette er opplagt deterministisk, men det *ser* tilfeldig ut:"
   ]
  },
  {
   "cell_type": "code",
   "execution_count": null,
   "id": "63c548c8",
   "metadata": {
    "scrolled": false
   },
   "outputs": [],
   "source": [
    "seed = 1910\n",
    "\n",
    "print(seed, end=\"\")\n",
    "for n in range(75):\n",
    "    seed = middle_square(seed)\n",
    "    print(f\", {seed}\", end=\"\")"
   ]
  },
  {
   "cell_type": "markdown",
   "id": "afd64313",
   "metadata": {
    "slideshow": {
     "slide_type": "slide"
    }
   },
   "source": [
    "**Metoden er veldig avhengig av `seed`.**\n",
    "\n",
    "Med bruk av heldige starttall kan metoden gi tallrekker med gode statistiske egenskaper. \n",
    "\n",
    "Uheldige starttall gir *sykliske* tallrekker."
   ]
  },
  {
   "cell_type": "markdown",
   "id": "4a2fcb0e",
   "metadata": {
    "slideshow": {
     "slide_type": "fragment"
    }
   },
   "source": [
    "**Eksempel på *syklisk* oppførsel:**"
   ]
  },
  {
   "cell_type": "code",
   "execution_count": null,
   "id": "e894c34f",
   "metadata": {},
   "outputs": [],
   "source": [
    "seed = 6100\n",
    "print(seed, end=\"\")\n",
    "for n in range(25):\n",
    "    seed = middle_square(seed)\n",
    "    print(f\", {seed}\", end=\"\")"
   ]
  },
  {
   "cell_type": "markdown",
   "id": "b6505681",
   "metadata": {
    "slideshow": {
     "slide_type": "fragment"
    }
   },
   "source": [
    "**Eksempel på *konvergering*:**"
   ]
  },
  {
   "cell_type": "code",
   "execution_count": null,
   "id": "28c8418e",
   "metadata": {},
   "outputs": [],
   "source": [
    "seed = 2000\n",
    "print(seed, end=\"\")\n",
    "for n in range(25):\n",
    "    seed = middle_square(seed)\n",
    "    print(f\", {seed}\", end=\"\")"
   ]
  },
  {
   "cell_type": "markdown",
   "id": "c6f5679f",
   "metadata": {
    "slideshow": {
     "slide_type": "notes"
    }
   },
   "source": [
    "Metoden har mange svakheter i praksis, men ble starten på utviklingen av langt bedre pRNG’er."
   ]
  },
  {
   "cell_type": "markdown",
   "id": "1c5c52d3",
   "metadata": {
    "slideshow": {
     "slide_type": "slide"
    }
   },
   "source": [
    "## Seed\n",
    "\n",
    "Alle pRNG trenger et starttall (*seed*) for å kunne starte en sekvens.\n",
    "\n",
    "Dette gir reproduserbarhet!"
   ]
  },
  {
   "cell_type": "markdown",
   "id": "67211382",
   "metadata": {
    "slideshow": {
     "slide_type": "slide"
    }
   },
   "source": [
    "### Tilfeldig seed"
   ]
  },
  {
   "cell_type": "code",
   "execution_count": null,
   "id": "07399417",
   "metadata": {},
   "outputs": [],
   "source": [
    "import time\n",
    "\n",
    "seed = int(time.time()) \n",
    "print(seed)"
   ]
  },
  {
   "cell_type": "markdown",
   "id": "2db19510",
   "metadata": {
    "slideshow": {
     "slide_type": "fragment"
    }
   },
   "source": [
    "Bestemt intervall:"
   ]
  },
  {
   "cell_type": "code",
   "execution_count": null,
   "id": "de296b7b",
   "metadata": {},
   "outputs": [],
   "source": [
    "max_number = 100\n",
    "seed = int(time.time()) % max_number\n",
    "print(seed)"
   ]
  },
  {
   "cell_type": "markdown",
   "id": "a7fc872c",
   "metadata": {
    "slideshow": {
     "slide_type": "slide"
    }
   },
   "source": [
    "## Lineær kongruent generator\n",
    "\n",
    "> Engelsk: Linear congruential generator (LGC)\n",
    "\n",
    "LGC ble utviklet i 1958, og er mye brukt. De har generell formel:\n",
    "\n",
    "$$\n",
    "    X_{n+1} = (a X_n + c) \\mod m.\n",
    "$$\n",
    "\n",
    "Ved å velge verdiene av $a$, $c$ og $m$ lager vi en bestemt LCG."
   ]
  },
  {
   "cell_type": "markdown",
   "id": "838dbcb4",
   "metadata": {
    "slideshow": {
     "slide_type": "slide"
    }
   },
   "source": [
    "**Variablene til LCG:**\n",
    "\n",
    "$$\n",
    "    X_{n+1} = (a X_n + c) \\mod m.\n",
    "$$\n"
   ]
  },
  {
   "cell_type": "markdown",
   "id": "a57d5038",
   "metadata": {
    "slideshow": {
     "slide_type": "fragment"
    }
   },
   "source": [
    "- $a$: Settes ofte som et svært stort tall."
   ]
  },
  {
   "cell_type": "markdown",
   "id": "6e804251",
   "metadata": {
    "slideshow": {
     "slide_type": "fragment"
    }
   },
   "source": [
    "- $c$: Motvirker konvergens ved $X_n = 0$."
   ]
  },
  {
   "cell_type": "markdown",
   "id": "95800df6",
   "metadata": {
    "slideshow": {
     "slide_type": "fragment"
    }
   },
   "source": [
    "- $m$: Begrenser intervallet, slik at $X_{n+1} \\in [0, m)$."
   ]
  },
  {
   "cell_type": "markdown",
   "id": "a40dbd6c",
   "metadata": {
    "slideshow": {
     "slide_type": "notes"
    }
   },
   "source": [
    "$m$ blir ofte satt til $2^{31}$, $2^{32}$ , $2^{63}$ eller  $2^{64}$."
   ]
  },
  {
   "cell_type": "markdown",
   "id": "d976c4fe",
   "metadata": {
    "slideshow": {
     "slide_type": "fragment"
    }
   },
   "source": [
    "**De statistiske egenskapene til en pRNG avhenger sterkt av $a$, $c$ og $m$.**"
   ]
  },
  {
   "cell_type": "markdown",
   "id": "87fe41aa",
   "metadata": {
    "slideshow": {
     "slide_type": "slide"
    }
   },
   "source": [
    "**Implementasjon:** Innkapsling ved bruk av klasser.\n",
    "\n",
    "- `seed`: starttallet for den pseudotilfeldige sekvensen\n",
    "- `state`: intern variabel for pRNG"
   ]
  },
  {
   "cell_type": "code",
   "execution_count": null,
   "id": "f11a1860",
   "metadata": {
    "slideshow": {
     "slide_type": "-"
    }
   },
   "outputs": [],
   "source": [
    "%%writefile lcg.py\n",
    "import time\n",
    "import math\n",
    "\n",
    "\n",
    "class LCG:\n",
    "    '''Linear congruential generator.'''\n",
    "    def __init__(self, a, c, m, seed=None):\n",
    "        self._a = a\n",
    "        self._c = c\n",
    "        self._m = m\n",
    "        if seed is None:\n",
    "            self._state = int(time.time()) % self.m\n",
    "        else:\n",
    "            self._state = seed\n",
    "\n",
    "    @property\n",
    "    def a(self):\n",
    "        return self._a\n",
    "\n",
    "    @property\n",
    "    def c(self):\n",
    "        return self._c\n",
    "\n",
    "    @property\n",
    "    def m(self):\n",
    "        return self._m"
   ]
  },
  {
   "cell_type": "markdown",
   "id": "7ae02bfc",
   "metadata": {
    "slideshow": {
     "slide_type": "slide"
    }
   },
   "source": [
    "**Implementasjon:** $X_{n+1} = (a X_n + c) \\mod m$.\n",
    "\n",
    "```Python\n",
    "    def advance(self):\n",
    "        '''Advance internal state X.'''\n",
    "        ...\n",
    "\n",
    "    def __call__(self):\n",
    "        '''Advance and return internal state X.'''\n",
    "        self.advance()\n",
    "        return self._state\n",
    "```"
   ]
  },
  {
   "cell_type": "markdown",
   "id": "bfc42c5b",
   "metadata": {
    "slideshow": {
     "slide_type": "notes"
    }
   },
   "source": [
    "Forslag til implementasjon:"
   ]
  },
  {
   "cell_type": "code",
   "execution_count": null,
   "id": "575f4202",
   "metadata": {
    "slideshow": {
     "slide_type": "notes"
    }
   },
   "outputs": [],
   "source": [
    "%%writefile --append lcg.py\n",
    "\n",
    "    def advance(self):\n",
    "        '''Advance internal state X.'''\n",
    "        self._state = (self.a*self._state + self.c) % self.m\n",
    "\n",
    "    def __call__(self):\n",
    "        '''Advance and return internal state X.'''\n",
    "        self.advance()\n",
    "        return self._state"
   ]
  },
  {
   "cell_type": "markdown",
   "id": "0a08712f",
   "metadata": {
    "slideshow": {
     "slide_type": "-"
    }
   },
   "source": [
    "Test ut koden med verdiene $a = 1664525$, $c = 1013904223$ og $m = 2^{32}$ fra boken *Numerical Recipes* av Saul Teukolsky:"
   ]
  },
  {
   "cell_type": "code",
   "execution_count": null,
   "id": "4de0b6d3",
   "metadata": {},
   "outputs": [],
   "source": [
    "import lcg\n",
    "\n",
    "ST = {\"a\": 1664525, \"c\": 1013904223, \"m\": 1 << 32}\n",
    "rnd = lcg.LCG(**ST)\n",
    "for _ in range(7):\n",
    "    print(rnd())"
   ]
  },
  {
   "cell_type": "markdown",
   "id": "8662375a",
   "metadata": {
    "slideshow": {
     "slide_type": "notes"
    }
   },
   "source": [
    "Merk at $2^n$ er raskest implementert med bit-operator `1 << n`:"
   ]
  },
  {
   "cell_type": "code",
   "execution_count": null,
   "id": "b5c950da",
   "metadata": {
    "slideshow": {
     "slide_type": "notes"
    }
   },
   "outputs": [],
   "source": [
    "n = 16\n",
    "assert 2**n == 1 << n"
   ]
  },
  {
   "cell_type": "markdown",
   "id": "d0e75855",
   "metadata": {
    "slideshow": {
     "slide_type": "slide"
    }
   },
   "source": [
    "**Histogram:** \n",
    "\n",
    "Funksjon til plotting og til å sammenligne teoretisk forventningsverdi og standardavvik med verdier til pseudotilfeldig rekke."
   ]
  },
  {
   "cell_type": "code",
   "execution_count": null,
   "id": "8169032c",
   "metadata": {},
   "outputs": [],
   "source": [
    "%matplotlib inline\n",
    "import matplotlib.pyplot as plt\n",
    "\n",
    "def histogram(results, bins, align=\"mid\", title=\"Histogram\"):\n",
    "    plt.figure(figsize=(12, 5))\n",
    "    plt.hist(results, bins, align=align, density=True, \n",
    "             facecolor='Gainsboro', edgecolor=\"black\")\n",
    "    plt.xlabel(r'$x$', fontsize=14)\n",
    "    plt.ylabel(r'$\\frac{\\rho(x)}{\\Delta x}$', fontsize=14)\n",
    "    plt.title(title)\n",
    "    \n",
    "def stk_uniform(x_min, x_max, x_values, discrete=False):\n",
    "    print(f\"{'mean':>16}  {'STD':>7}\\n{'--'*15}\")\n",
    "    print(f\"Expected|{mu(x_min, x_max):>9.6f}{sigma(x_min, x_max, discrete):>10.6f}\")\n",
    "    print(f\"Computed|{mean(x_values):>9.6f}{std(x_values):>10.6f}\")"
   ]
  },
  {
   "cell_type": "markdown",
   "id": "fd6c8fcb",
   "metadata": {
    "slideshow": {
     "slide_type": "slide"
    }
   },
   "source": [
    "**Desimaltall:** Få ut desimaltall $x_n^d \\in [0, 1)$.\n",
    "\n",
    "Ved å bruke den interne tilstanden $X_n \\in [0, m)$\n",
    "\n",
    "$$\n",
    "    x_n^d = \\frac{X_n}{m} .\n",
    "$$\n",
    "\n",
    "```Python\n",
    "    def decimal(self):\n",
    "        '''Random decimal number in range [0, 1).'''\n",
    "        ...\n",
    "```"
   ]
  },
  {
   "cell_type": "markdown",
   "id": "db5a1cba",
   "metadata": {
    "slideshow": {
     "slide_type": "notes"
    }
   },
   "source": [
    "Forslag til implementasjon:"
   ]
  },
  {
   "cell_type": "code",
   "execution_count": null,
   "id": "edca147c",
   "metadata": {
    "slideshow": {
     "slide_type": "notes"
    }
   },
   "outputs": [],
   "source": [
    "%%writefile --append lcg.py\n",
    "    \n",
    "    def decimal(self):\n",
    "        '''Random decimal number in range [0, 1).'''\n",
    "        self.advance()\n",
    "        return self._state/self.m"
   ]
  },
  {
   "cell_type": "markdown",
   "id": "43149479",
   "metadata": {
    "slideshow": {
     "slide_type": "notes"
    }
   },
   "source": [
    "Test ut koden:"
   ]
  },
  {
   "cell_type": "code",
   "execution_count": null,
   "id": "d9013c8b",
   "metadata": {
    "scrolled": false
   },
   "outputs": [],
   "source": [
    "import importlib\n",
    "importlib.reload(lcg)\n",
    "\n",
    "rnd = lcg.LCG(**ST)\n",
    "x = [rnd.decimal() for _ in range(100_000)]\n",
    "stk_uniform(0, 1, x)\n",
    "histogram(x, 100, title=\"Uniform decimal numbers\")\n",
    "plt.show()"
   ]
  },
  {
   "cell_type": "markdown",
   "id": "9b8b876d",
   "metadata": {
    "slideshow": {
     "slide_type": "slide"
    }
   },
   "source": [
    "### Uniform fordeling\n",
    "\n",
    "Vi skal nå generere tilfeldige tall $x \\in [x_\\text{min}, x_\\text{max}]$."
   ]
  },
  {
   "cell_type": "markdown",
   "id": "92c36a76",
   "metadata": {
    "slideshow": {
     "slide_type": "slide"
    }
   },
   "source": [
    "**Eksempel:** Kaste terning ved å begrense $m$.\n",
    "\n",
    "Vi velger $a = 1394785$, $c = 2$, $m = 6$.\n",
    "\n",
    "Når vi bruker $m = 6$ vil LCG kunne gi tall på intervallet $X_n = [0, 5]$.\n",
    "\n",
    "Vi kan da tenke oss at vi får terningens verdier ved å bruke $X_n + 1$."
   ]
  },
  {
   "cell_type": "code",
   "execution_count": null,
   "id": "8752b6e8",
   "metadata": {},
   "outputs": [],
   "source": [
    "lcg6 = lcg.LCG(a=1394785, c=2, m=6, seed=2)\n",
    "numbers = [lcg6() + 1 for n in range(100_000)]\n",
    "stk_uniform(1, 6, numbers, discrete=True)"
   ]
  },
  {
   "cell_type": "code",
   "execution_count": null,
   "id": "464c127e",
   "metadata": {
    "slideshow": {
     "slide_type": "fragment"
    }
   },
   "outputs": [],
   "source": [
    "plt.figure(figsize=(12, 4))\n",
    "plt.plot(numbers[:16], \"o--\", color=\"black\")\n",
    "plt.xticks(range(0, 14, 3))\n",
    "plt.xlim(-0.1, 14.5)\n",
    "plt.xlabel(\"iteration\")\n",
    "plt.ylabel(\"random number\")\n",
    "plt.show()"
   ]
  },
  {
   "cell_type": "markdown",
   "id": "f9e7389d",
   "metadata": {
    "slideshow": {
     "slide_type": "slide"
    }
   },
   "source": [
    "**Perioden må være lengre enn antall tall vi genererer:**\n",
    "- Periodisk oppførsel er ikke statistik tilfeldig\n",
    "- Alle pRNGer har en syklus"
   ]
  },
  {
   "cell_type": "markdown",
   "id": "a49e0076",
   "metadata": {
    "slideshow": {
     "slide_type": "notes"
    }
   },
   "source": [
    "Alle pRNGs ender til slutt opp i samme state, men vi ønsker at det tar lengst mulig tid før dette skjer. En god pRNG burde \"aldri\" ende opp i en syklus."
   ]
  },
  {
   "cell_type": "markdown",
   "id": "ed4073f8",
   "metadata": {
    "slideshow": {
     "slide_type": "fragment"
    }
   },
   "source": [
    "**$m$ må være betydelig større enn intervallet vi trenger:**\n",
    "- En pRNG kan ikke gi samme tall innen én periode"
   ]
  },
  {
   "cell_type": "markdown",
   "id": "9c312c17",
   "metadata": {
    "slideshow": {
     "slide_type": "notes"
    }
   },
   "source": [
    "Om utfallene skal være statistisk tilfeldige, så skal det derimot være en *viss sannsynlighet* for å få to like utfall på rad."
   ]
  },
  {
   "cell_type": "markdown",
   "id": "6f316e6a",
   "metadata": {
    "slideshow": {
     "slide_type": "slide"
    }
   },
   "source": [
    "**Implementering av uniform distribusjon:** Tilfeldige tall \n",
    "$x^\\text{u} \\in [x_\\text{min}^\\text{u} , x_\\text{max}^\\text{u})$.\n",
    "\n",
    "Vi kan *trunkere* tilstanden $X_n \\in [0, m)$ til LCG:\n",
    "\n",
    "$$\n",
    "    x^\\text{u}_n = x_\\text{min}^\\text{u} + (X_n\\mod \\Delta x^\\text{u}) ,\n",
    "$$\n",
    "\n",
    "hvor $\\Delta x^\\text{u} = x_\\text{max}^\\text{u} - x_\\text{min}^\\text{u}$.\n",
    "\n",
    "Intervallet er uavhengig av $a$, $c$ og $m$, men vi **bør ha at** $m >> \\Delta x^\\text{u}$.\n",
    "\n",
    "```Python\n",
    "    def uniform(self, x_min, x_max):\n",
    "        '''Random number in [x_min, x_max) using uniform distribution.'''\n",
    "        ...\n",
    "```"
   ]
  },
  {
   "cell_type": "code",
   "execution_count": null,
   "id": "14850cae",
   "metadata": {
    "slideshow": {
     "slide_type": "notes"
    }
   },
   "outputs": [],
   "source": [
    "%%writefile --append lcg.py\n",
    "\n",
    "    def uniform(self, x_min, x_max):\n",
    "        '''Random number in [x_min, x_max) using uniform distribution.'''\n",
    "        self.advance()\n",
    "        dx = x_max - x_min\n",
    "        return (self._state % dx) + x_min"
   ]
  },
  {
   "cell_type": "markdown",
   "id": "cfe06a1a",
   "metadata": {
    "slideshow": {
     "slide_type": "slide"
    }
   },
   "source": [
    "**Eksempel på bruk:** Kaste terning med forbedret implementasjon.\n",
    "\n",
    "Vi bruker Teukolskys verdier $a = 1664525$, $c = 1013904223$ og $m = 2^{32}$.\n",
    "\n",
    "Den interne tilstanden har nå $2^{32}$, og har en lang periode."
   ]
  },
  {
   "cell_type": "code",
   "execution_count": null,
   "id": "67bcf25e",
   "metadata": {
    "slideshow": {
     "slide_type": "-"
    }
   },
   "outputs": [],
   "source": [
    "importlib.reload(lcg)\n",
    "\n",
    "rnd = lcg.LCG(**ST)\n",
    "dice = [rnd.uniform(1, 7) for _ in range(100_000)]\n",
    "stk_uniform(1, 6, dice, discrete=True)\n",
    "print(dice[:15])\n",
    "histogram(dice, bins=range(1, 8), align=\"left\")\n",
    "plt.show()"
   ]
  },
  {
   "cell_type": "markdown",
   "id": "16c06bf1",
   "metadata": {
    "slideshow": {
     "slide_type": "notes"
    }
   },
   "source": [
    "Eksempelkoden viser at de seks utfallene er veldig jevnt fordelt. Men, vi kan bevise matematisk at det er en ren umulighet."
   ]
  },
  {
   "cell_type": "markdown",
   "id": "947e64e1",
   "metadata": {
    "slideshow": {
     "slide_type": "slide"
    }
   },
   "source": [
    "###  Dirichlets skuffeprinsipp\n",
    "\n",
    "> Hvis $N$ objekter skal fordeles over $M$ skuffer, da må minst én skuff inneholde $\\lceil N/M \\rceil$ objekter.\n",
    "\n",
    "Den underliggende pRNGen har et utfallsrom på alle heltall i $[0, m)$, og har derfor $m$ mulige verdier."
   ]
  },
  {
   "cell_type": "markdown",
   "id": "5dea9e98",
   "metadata": {
    "slideshow": {
     "slide_type": "fragment"
    }
   },
   "source": [
    "**Terningkast:** Her har vi $m = 2^{32}$ ulike tilstander.\n",
    "\n",
    "Dette er ikke deleling på 6!"
   ]
  },
  {
   "cell_type": "code",
   "execution_count": null,
   "id": "98bc7fa9",
   "metadata": {
    "slideshow": {
     "slide_type": "-"
    }
   },
   "outputs": [],
   "source": [
    "m = rnd.m\n",
    "print(f\"{m % 6 = }.\")\n",
    "print(f\"floor(m/6): {int(np.floor(m/6))}.\")\n",
    "print(f\"ceil(m/6):  {int(np.ceil(m/6))}.\")"
   ]
  },
  {
   "cell_type": "markdown",
   "id": "78029efe",
   "metadata": {
    "slideshow": {
     "slide_type": "slide"
    }
   },
   "source": [
    "### Normalfordelte tall\n",
    "\n",
    "En *Box-Muller transform* tar to tilfeldige desimaltall $x^d_1, x^d_2 \\in (0, 1)$ og genererer to uavhengige normalfordelte tall $x^g_1$ og $x^g_2$.\n",
    "\n",
    "\n",
    "Vi forenkler litt, og bruker formelen\n",
    "\n",
    "$$\n",
    "    x_{n + 1}^g = \\sqrt{-2\\ln x_{n}^d}\\cos(2\\pi x_{n+1}^d) .\n",
    "$$\n",
    "\n",
    "```Python\n",
    "    def normal(self, eps=1e-20):\n",
    "        '''Random decimal number using normal distribution.'''\n",
    "        ...\n",
    "```"
   ]
  },
  {
   "cell_type": "markdown",
   "id": "a309584d",
   "metadata": {
    "slideshow": {
     "slide_type": "notes"
    }
   },
   "source": [
    "Desimaltallene generert av vår LCG er på intervallet $x_n^d \\in [0, 1)$, og inkluderer altså null. Siden $\\log(0) = \\inf$, må vi legge til et lite tall $\\epsilon$ for å unngå dette!"
   ]
  },
  {
   "cell_type": "code",
   "execution_count": null,
   "id": "ec647db8",
   "metadata": {
    "slideshow": {
     "slide_type": "notes"
    }
   },
   "outputs": [],
   "source": [
    "%%writefile --append lcg.py\n",
    "\n",
    "    def normal(self, eps=1e-20):\n",
    "        '''Random decimal number using normal distribution.'''\n",
    "        x_1 = self._state/self.m\n",
    "        x_2 = self.decimal()\n",
    "        R = math.sqrt(-2*math.log(x_1 + eps))\n",
    "        theta = 2*math.pi*x_2\n",
    "        return R*math.cos(theta)"
   ]
  },
  {
   "cell_type": "markdown",
   "id": "d56eea07",
   "metadata": {
    "slideshow": {
     "slide_type": "notes"
    }
   },
   "source": [
    "Det viktige her er å huske at det finnes forskjellige \"triks\" for å oversette tilfeldige tall."
   ]
  },
  {
   "cell_type": "code",
   "execution_count": null,
   "id": "e7531eb8",
   "metadata": {
    "slideshow": {
     "slide_type": "-"
    }
   },
   "outputs": [],
   "source": [
    "from scipy.stats import norm\n",
    "importlib.reload(lcg)\n",
    "\n",
    "random = lcg.LCG(**ST)\n",
    "normal_samples = [random.normal() for _ in range(100_000)]\n",
    "x = np.linspace(-4, 4, 150)\n",
    "histogram(normal_samples, bins=101, title=\"Gaussian Distribution\")\n",
    "plt.plot(x, norm.pdf(x), '--', color=\"tomato\")\n",
    "plt.show()"
   ]
  },
  {
   "cell_type": "markdown",
   "id": "606265e3",
   "metadata": {
    "slideshow": {
     "slide_type": "slide"
    }
   },
   "source": [
    "### RANDU\n",
    "\n",
    "En tradisjonell LCG fra 1960-tallet med $a = 65539$, $c = 0$ og $m = 2^{31}$. \n",
    "\n",
    "I tillegg kreves det at startseeden er et oddetall.\n",
    "\n",
    "Parametrene for generatoren ble valgt for å gjøre generatoren lynrask."
   ]
  },
  {
   "cell_type": "code",
   "execution_count": null,
   "id": "48796034",
   "metadata": {
    "slideshow": {
     "slide_type": "-"
    }
   },
   "outputs": [],
   "source": [
    "randu = lcg.LCG(a=65539, c=0, m=1<<31, seed=124141)\n",
    "samples = [randu.decimal() for _ in range(100_000)]\n",
    "\n",
    "stk_uniform(0, 1, samples)\n",
    "histogram(samples, bins=101, title=\"RANDU\")\n",
    "plt.show()"
   ]
  },
  {
   "cell_type": "markdown",
   "id": "96059a27",
   "metadata": {
    "slideshow": {
     "slide_type": "slide"
    }
   },
   "source": [
    "**Korrelasjon i tilfeldige sekvenser:** Enhetskube med RANDU.\n",
    "\n",
    "Ved første øyekast ser RANDU ut som en fin LCG, men det viser seg dessverre at den produserer veldig korrelerte tall."
   ]
  },
  {
   "cell_type": "code",
   "execution_count": null,
   "id": "1eb4a226",
   "metadata": {},
   "outputs": [],
   "source": [
    "N = 10_000\n",
    "r = np.zeros((3, N))\n",
    "for n in range(N):\n",
    "    r[0, n] = randu.decimal()\n",
    "    r[1, n] = randu.decimal()\n",
    "    r[2, n] = randu.decimal()"
   ]
  },
  {
   "cell_type": "markdown",
   "id": "c7913c36",
   "metadata": {
    "slideshow": {
     "slide_type": "fragment"
    }
   },
   "source": [
    "Plotting viser sterk korrelasjon:"
   ]
  },
  {
   "cell_type": "code",
   "execution_count": null,
   "id": "000d60e5",
   "metadata": {},
   "outputs": [],
   "source": [
    "ax = plt.figure( figsize=(6, 6)).add_subplot(projection='3d')\n",
    "ax.scatter(r[0], r[1], r[2], marker=\".\", color=\"black\", alpha=0.2)\n",
    "ax.set_xlabel('x')\n",
    "ax.set_ylabel('y')\n",
    "ax.set_zlabel('z')\n",
    "ax.view_init(azim=-125, elev=0)\n",
    "ax.set_box_aspect((1, 1, 1), zoom=1.25)\n",
    "plt.tight_layout()\n",
    "plt.show()"
   ]
  },
  {
   "cell_type": "markdown",
   "id": "f2952c54",
   "metadata": {},
   "source": [
    "RANDU ble mye brukt på 1960- og 1970-tallet. Forskningsartikler fra denne tiden er derfor satt i tvil."
   ]
  },
  {
   "cell_type": "markdown",
   "id": "321019a1",
   "metadata": {
    "slideshow": {
     "slide_type": "slide"
    }
   },
   "source": [
    "### LCG i C++\n",
    "\n",
    "C++ har innebygd funksjon `rand()` som bruker LCG:\n",
    "```C++\n",
    "int main() {\n",
    "    srand(time(nullptr)); // change from default seed\n",
    "    int X = rand();       // returns integers [0, RAND_MAX]\n",
    "    double x = X/((double) RAND_MAX - 1);\n",
    "    return 0;\n",
    "}\n",
    "```"
   ]
  },
  {
   "cell_type": "markdown",
   "id": "a811253e",
   "metadata": {
    "slideshow": {
     "slide_type": "notes"
    }
   },
   "source": [
    "- Har default `seed`, bruker derfor `srand(<seed>)`\n",
    "- $m$ er `RAND_MAX` - 1\n",
    "- Gir kun heltall\n",
    "\n",
    "C++-standaren setter dårlig krav til hvordan `rand` skal være implementert. Med noen kompilatorer er perioen så lav som $32 000$."
   ]
  },
  {
   "cell_type": "markdown",
   "id": "996ad193",
   "metadata": {
    "slideshow": {
     "slide_type": "fragment"
    }
   },
   "source": [
    "**Ikke bruk LCG i C++!** Det finnes en mye bedre algoritme, som heter *Mersenne twister*."
   ]
  },
  {
   "cell_type": "markdown",
   "id": "2b1e28b6",
   "metadata": {
    "slideshow": {
     "slide_type": "slide"
    }
   },
   "source": [
    "## Mersenne Twister \n",
    "\n",
    "Algoritmen spesifiseres utifra et gitt *Mersenne primtall*, som er primtall på formen\n",
    "\n",
    "$$\n",
    "    M_p = 2^p - 1,\n",
    "$$ \n",
    "    \n",
    "hvor $p$ også er et primtall."
   ]
  },
  {
   "cell_type": "markdown",
   "id": "9e4b9214",
   "metadata": {
    "slideshow": {
     "slide_type": "fragment"
    }
   },
   "source": [
    "**MT19937:**\n",
    "\n",
    "Den vanligste formen av algoritmen bruker primtallet $2^{19937} - 1$ og kalles derfor gjerne for MT19937.  \n",
    "\n",
    "Regnes som en svært god pRNG."
   ]
  },
  {
   "cell_type": "markdown",
   "id": "62002266",
   "metadata": {
    "slideshow": {
     "slide_type": "slide"
    }
   },
   "source": [
    "### Algoritmen til Mersenne Twister\n",
    "\n",
    "I liket med en LCG vil en Mersenne Twister:\n",
    "* Bruke *seed* for å starte\n",
    "* Ha en stor intern tilstand\n",
    "* Tilstanden trunkeres for å gi oss gode tilfeldige tall\n",
    "\n",
    "Perioden til sekvensen er svært lang sammenlignet med LCG."
   ]
  },
  {
   "cell_type": "markdown",
   "id": "6bc1ed01",
   "metadata": {
    "slideshow": {
     "slide_type": "notes"
    }
   },
   "source": [
    "Mersenne Twister er en langt mer komplisert algoritme enn LCG, og vi skal derfor ikke gå gjennom denne i IN1910."
   ]
  },
  {
   "cell_type": "markdown",
   "id": "82fa8514",
   "metadata": {
    "slideshow": {
     "slide_type": "slide"
    }
   },
   "source": [
    "### MT19937 i C++\n",
    "\n",
    "Fra modulen [random](http://www.cplusplus.com/reference/random/):\n",
    "   \n",
    "```C++\n",
    "#include <random>\n",
    "\n",
    "int main() {\n",
    "    int seed = 1234\n",
    "    mt19937 engine(seed);\n",
    "    uniform_real_distribution<double> uniform(0.0, 1.0);\n",
    "    normal_distribution<double> normal(0.0, 1.0);\n",
    "    \n",
    "    double x_d = uniform(engine);\n",
    "    double x_g = normal(engine);\n",
    "    return 0;\n",
    "}\n",
    "```"
   ]
  },
  {
   "cell_type": "markdown",
   "id": "3c445d14",
   "metadata": {
    "slideshow": {
     "slide_type": "notes"
    }
   },
   "source": [
    "Valg av pRNG er gitt av `engine`.\n",
    "\n",
    "Det finnes mange distribusjoner. Her bruker vi:\n",
    "* `uniform_real_distribution(x_min, x_max)`\n",
    "* `normal_distribution(mean, standard_deviation)`\n",
    "\n",
    "Et gitt program kan bruke flere ulike distribusjoner, men man bør bruke én *engine*."
   ]
  },
  {
   "cell_type": "markdown",
   "id": "bb8a99e8",
   "metadata": {
    "slideshow": {
     "slide_type": "slide"
    }
   },
   "source": [
    "### MT19937 i Python\n",
    "\n",
    "Standardbiblioteket [`random`](https://docs.python.org/3/library/random.html):\n",
    "- `random.random()`: uniform fordeling av desimaltall $x \\in [0, 1)$\n",
    "- `random.randint(x_min, x_max)`: uniform fordeling heltall $x \\in [x_{min}, x_{max}]$\n",
    "- `gauss(mu, sigma)`: normalfordelte desimaltall med forventningsverdi $\\mu$ og standardavvik $\\sigma$"
   ]
  },
  {
   "cell_type": "code",
   "execution_count": null,
   "id": "2e08b481",
   "metadata": {},
   "outputs": [],
   "source": [
    "import random\n",
    "\n",
    "random.random()"
   ]
  },
  {
   "cell_type": "markdown",
   "id": "ae4d33ea",
   "metadata": {
    "slideshow": {
     "slide_type": "fragment"
    }
   },
   "source": [
    "NumPy sin [`numpy.random`](https://numpy.org/doc/stable/reference/random/index.html?highlight=random#module-numpy.random)\n",
    "- `numpy.random.random()`: uniform fordeling av desimaltall $x \\in [0, 1)$\n",
    "- `numpy.random.randint(x_min, x_max)`: uniform fordeling av heltall $x \\in [x_{min}, x_{max}]$\n",
    "- `numpy.random.unifrom(x_min, x_max)`: uniform fordeling av desimaltall $x \\in [x_{min}, x_{max}]$\n",
    "- `numpy.normal(mu, sigma)`: normalfordelte desimaltall med forventningsverdi $\\mu$ og standardavvik $\\sigma$\n",
    "\n",
    "Alle funksjonene til NumPy har også et default parameter `size=None`."
   ]
  },
  {
   "cell_type": "code",
   "execution_count": null,
   "id": "4b86f11e",
   "metadata": {},
   "outputs": [],
   "source": [
    "np.random.random()"
   ]
  },
  {
   "cell_type": "markdown",
   "id": "a9255e98",
   "metadata": {
    "slideshow": {
     "slide_type": "fragment"
    }
   },
   "source": [
    "NumPy har nylig fått en bedre pRNG. Dette er en 64-bit *Permuted Congruential Generator* (PCG64)."
   ]
  },
  {
   "cell_type": "markdown",
   "id": "8cf20dab",
   "metadata": {
    "slideshow": {
     "slide_type": "slide"
    }
   },
   "source": [
    "**Forskjell i tid**:\n",
    "\n",
    "`numpy.random` er vektorisert, det er ikke `random`."
   ]
  },
  {
   "cell_type": "code",
   "execution_count": null,
   "id": "be800fc0",
   "metadata": {},
   "outputs": [],
   "source": [
    "%%time\n",
    "x = [random.random() for _ in range(500_000)]"
   ]
  },
  {
   "cell_type": "code",
   "execution_count": null,
   "id": "4b589b64",
   "metadata": {},
   "outputs": [],
   "source": [
    "%%time\n",
    "x = np.random.random(size=500_000)"
   ]
  },
  {
   "cell_type": "markdown",
   "id": "308d89d3",
   "metadata": {
    "slideshow": {
     "slide_type": "fragment"
    }
   },
   "source": [
    "Vi kommer til å bruke mest NumPy, siden den er raskest."
   ]
  },
  {
   "cell_type": "markdown",
   "id": "0fe378ca",
   "metadata": {
    "slideshow": {
     "slide_type": "slide"
    }
   },
   "source": [
    "### Statistiske egenskaper\n",
    "\n",
    "Uniform fordeling:"
   ]
  },
  {
   "cell_type": "code",
   "execution_count": null,
   "id": "dd3e69b3",
   "metadata": {},
   "outputs": [],
   "source": [
    "x_min = -1\n",
    "x_max = 1\n",
    "print(f\"{'N':>8}{'mean':>9}{'std':>9}\\n{'='*30}\")\n",
    "N = 1\n",
    "for _ in range(7):\n",
    "    N *= 10\n",
    "    x = np.random.uniform(x_min, x_max, size=N)\n",
    "    print(f\"{N:8d}{np.mean(x):10.5f}{np.std(x):10.5f}\")\n",
    "print(f\"Analytic{mu(x_min, x_max):10.5f}{sigma(x_min, x_max, False):10.5f}\\n{'='*30}\")"
   ]
  },
  {
   "cell_type": "markdown",
   "id": "a3a98053",
   "metadata": {
    "slideshow": {
     "slide_type": "fragment"
    }
   },
   "source": [
    "Normal fordeling:"
   ]
  },
  {
   "cell_type": "code",
   "execution_count": null,
   "id": "13ecaea6",
   "metadata": {},
   "outputs": [],
   "source": [
    "x_ = 0\n",
    "x_std = 1\n",
    "print(f\"{'N':>8}{'mean':>9}{'std':>9}\\n{'='*30}\")\n",
    "N = 1\n",
    "for _ in range(7):\n",
    "    N *= 10\n",
    "    x = np.random.normal(x_, x_std, size=N)\n",
    "    print(f\"{N:8d}{np.mean(x):10.5f}{np.std(x):10.5f}\")\n",
    "print(f\"Analytic{x_:10.5f}{x_std:10.5f}\\n{'='*30}\")"
   ]
  },
  {
   "cell_type": "markdown",
   "id": "967d9e8f",
   "metadata": {
    "slideshow": {
     "slide_type": "notes"
    }
   },
   "source": [
    "Når vi driver med stokastiske simuleringer, må vi altså bruke store mengder tilfeldige tall!"
   ]
  },
  {
   "cell_type": "markdown",
   "id": "010b2acc",
   "metadata": {
    "slideshow": {
     "slide_type": "slide"
    }
   },
   "source": [
    "## Oppsummering \n",
    "\n",
    "Dette er hovedpoengene med dagens forelesning:"
   ]
  },
  {
   "cell_type": "markdown",
   "id": "3e2e07df",
   "metadata": {
    "slideshow": {
     "slide_type": "fragment"
    }
   },
   "source": [
    "- **Det finnes mange pRNGer**\n",
    "\t- Bør oppfylle visse statistiske egenskaper\n",
    "\t- Vær obs på: sykluser, korrelasjon i tallrekken, Dirichlets skuffeprinsipp "
   ]
  },
  {
   "cell_type": "markdown",
   "id": "d7d1e7cb",
   "metadata": {
    "slideshow": {
     "slide_type": "fragment"
    }
   },
   "source": [
    "- **Bruk av pRNG i programmering**\n",
    "\t- C++: ikke bruk `rand()`, importer `random`\n",
    "\t- Python: `random` og `numpy.random`"
   ]
  },
  {
   "cell_type": "markdown",
   "id": "42c8871c",
   "metadata": {
    "slideshow": {
     "slide_type": "fragment"
    }
   },
   "source": [
    "- **En tilfeldig tallrekke vil ha bedre statistiske egenskaper jo lengre rekken er**"
   ]
  },
  {
   "cell_type": "markdown",
   "id": "fa1d2942",
   "metadata": {
    "slideshow": {
     "slide_type": "fragment"
    }
   },
   "source": [
    "- **En uniformt fordelt rekke kan avbildes til nye fordelinger**\n",
    "\t- F.eks normalfordeling\n"
   ]
  }
 ],
 "metadata": {
  "celltoolbar": "Slideshow",
  "kernelspec": {
   "display_name": "Python 3 (ipykernel)",
   "language": "python",
   "name": "python3"
  },
  "language_info": {
   "codemirror_mode": {
    "name": "ipython",
    "version": 3
   },
   "file_extension": ".py",
   "mimetype": "text/x-python",
   "name": "python",
   "nbconvert_exporter": "python",
   "pygments_lexer": "ipython3",
   "version": "3.10.5"
  }
 },
 "nbformat": 4,
 "nbformat_minor": 5
}
