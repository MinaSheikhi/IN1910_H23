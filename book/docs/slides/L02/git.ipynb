{
 "cells": [
  {
   "cell_type": "markdown",
   "metadata": {
    "slideshow": {
     "slide_type": "slide"
    }
   },
   "source": [
    "# GIT versjonskontrollsystem\n",
    "\n",
    "![vc-xkcd](figures/vc-xkcd.jpg)\n",
    "Bildet er hentet fra http://smutch.github.io/VersionControlTutorial/."
   ]
  },
  {
   "cell_type": "markdown",
   "metadata": {
    "slideshow": {
     "slide_type": "slide"
    }
   },
   "source": [
    "## Målet med et versjonskontrollsystem\n",
    "\n",
    "- Vi ønsker at flere personer skal kunne jobbe med de samme filene samtidig\n",
    "  - Branching\n",
    "- Når vi arbeider samtidig ønsker vi ikke at endringer ødelegger for andre, men vi ønsker å få oppdateringer fra andre\n",
    "  - Merging\n",
    "  - Pull requests\n",
    "- Vi ønsker å kunne gå tilbake i historien til en hvilken som helst tidligere versjon\n",
    "- Vi ønsker å se hvorfor endinger ble gjort, når og av hvem de ble gjort"
   ]
  },
  {
   "cell_type": "markdown",
   "metadata": {
    "slideshow": {
     "slide_type": "notes"
    }
   },
   "source": [
    "### Versjonskontrollsystem er essensielt når man arbeider med andre, men er også veldig nyttig når man arbeider alene\n",
    "\n",
    "Anta at du jobber med et prosjekt og du har klart å løse oppgaven. Du ønsker nå å eksperimentere med andre løsningsmetoder, men ender opp med å ødelegge koden. Bruker du et versjonskontrollsystem er det mulig å angre, og gå tilbake til en tidligere versjon som fungerer."
   ]
  },
  {
   "cell_type": "markdown",
   "metadata": {
    "slideshow": {
     "slide_type": "slide"
    }
   },
   "source": [
    "**Hva slags type versjonskontrollsystemer har vi?**\n",
    "\n",
    "I dag er `git` desidert det mest brukte versjonskontrollsystemet.\n",
    "I en [undersøkelse på stackoverflow](https://insights.stackoverflow.com/survey/2021#section-most-popular-technologies-other-tools) sier over 93% av alle spurte at `git` er en del av arbeidsflyten deres og at det kommer til å fortsette å være det neste år.\n",
    "\n",
    "Men det finnes også andre VC-systemer: `Bazaar`, `Mercurial`, `Subversion`"
   ]
  },
  {
   "cell_type": "markdown",
   "metadata": {
    "slideshow": {
     "slide_type": "slide"
    }
   },
   "source": [
    "## Hva er git?\n",
    "\n",
    "- `git` er en type versjonskontrollsystem (version control system / VC system)\n",
    "- `git` putter filene dine inn i noe som kalles et *repository* (repo)\n",
    "- Et repo er en slags samling av filene dine og hvordan de utvikler seg over tid\n",
    "    ```\n",
    "    repository = filesystem * time\n",
    "    ```\n",
    "- Dette gjør at vi kan både se på en enkelt fil og hvordan denne endrer seg over tid\n",
    "- Eller vi kan ta alle filene tilbake til et gitt tidspunkt\n"
   ]
  },
  {
   "cell_type": "markdown",
   "metadata": {
    "slideshow": {
     "slide_type": "slide"
    }
   },
   "source": [
    "### Hvordan får jeg tak i git?\n",
    "\n",
    "Last ned fra: https://git-scm.com/downloads\n",
    "\n",
    "Test om `git` er installert ved å kjøre commandoen `git` i terminalen."
   ]
  },
  {
   "cell_type": "markdown",
   "metadata": {
    "slideshow": {
     "slide_type": "slide"
    }
   },
   "source": [
    "## GitHub\n",
    "\n",
    "* For å forsikre seg om at data ikke går tapt er det alltid lurt å sette opp et git repo på en server\n",
    "* Gjennom en server har samarbeidspartnere også tilgang til alle oppdateringer\n",
    "* Eksempler på servere er GitHub, Bitbucket, Gitlab\n",
    "* Gjennom UiO så har alle en egen bruker på GitHub (https://github.uio.no)\n",
    "\n",
    "Tips: For å slippe å skrive passordet hver gang kan du sette opp en SSH nøkkel (prøv å google \"github ssh key tutorial\" eller noe sånt)."
   ]
  },
  {
   "cell_type": "markdown",
   "metadata": {
    "slideshow": {
     "slide_type": "slide"
    }
   },
   "source": [
    "## La oss prøve `git` i praksis!"
   ]
  },
  {
   "cell_type": "markdown",
   "metadata": {
    "slideshow": {
     "slide_type": "slide"
    }
   },
   "source": [
    "### `git clone <adress>` - klone repository fra GitHub\n",
    "\n",
    "Adressen til repo'et finner du på UiO sin [GitHub](https://github.uio.no)."
   ]
  },
  {
   "cell_type": "markdown",
   "metadata": {
    "slideshow": {
     "slide_type": "notes"
    }
   },
   "source": [
    "**Prøv selv:**\n",
    "\n",
    "Lag et nytt (tomt) repo på https://github.uio.no . Det kan f.eks hete `MyProject`.\n",
    "\n",
    "\n",
    "Gå til en mappe i terminalen hvor du kan ha repoet. Vi kan da klone:\n",
    "```\n",
    "git clone https://github.uio.no/eirillsh/MyProject.git\n",
    "```\n",
    "Adressen til ditt repo finner du på GitHub. \n",
    "\n",
    "I mappen med repoet vil det ligge en mappe som heter `.git`:\n",
    "```\n",
    "cd MyProject\n",
    "ls -a\n",
    "```\n",
    "Denne inneholder all informasjonen som `git` trenger."
   ]
  },
  {
   "cell_type": "markdown",
   "metadata": {
    "slideshow": {
     "slide_type": "slide"
    }
   },
   "source": [
    "### `git status` - se tilstanden til git\n",
    "\n",
    "Sjekk status hyppig! Den gir også en del hint. "
   ]
  },
  {
   "cell_type": "markdown",
   "metadata": {
    "slideshow": {
     "slide_type": "slide"
    }
   },
   "source": [
    "### Tilstander i git \n",
    "\n",
    "Nå er repoet tomt. Når man legger til filer kan disse ha forskjellige tilstander.\n",
    "\n",
    "- **Working directory**: mappen slik den ser ut på maskinen din nå \n",
    "- **Staging area**: filer klargjort for lagring i git\n",
    "- **Repository**: lagret i git-historikk! \n",
    "\n",
    "![](figures/areas.png)"
   ]
  },
  {
   "cell_type": "markdown",
   "metadata": {
    "slideshow": {
     "slide_type": "slide"
    }
   },
   "source": [
    "### `git add <file>` - flytt filendringer fra \"working directory\" til \"staging area\"\n",
    "\n",
    "![](figures/add.png)"
   ]
  },
  {
   "cell_type": "markdown",
   "metadata": {
    "slideshow": {
     "slide_type": "notes"
    }
   },
   "source": [
    "**Prøv selv:**\n",
    "\n",
    "Lag en ny fil med litt kode:\n",
    "```\n",
    "# Legg til noe kode i en ny fil `first.py`\n",
    "```\n",
    "Når vi bruker kommandoen `git add` på en fil flyttes filen over til \"staging area\". \n",
    " ```\n",
    "git add first.py\n",
    "git status\n",
    "```\n",
    "Filen `first.py` er nå klar til å flyttes til repo. \n"
   ]
  },
  {
   "cell_type": "markdown",
   "metadata": {
    "slideshow": {
     "slide_type": "slide"
    }
   },
   "source": [
    "### `git commit -m \"message\"` - flytter alt i \"staging area\" til repoet\n",
    "\n",
    "![](figures/commit.png)"
   ]
  },
  {
   "cell_type": "markdown",
   "metadata": {
    "slideshow": {
     "slide_type": "notes"
    }
   },
   "source": [
    "**Prøv selv:**\n",
    "\n",
    "Hvis du ikke har brukt git før kan det være greit å sette navn og email i git. Kommandoer for dette er:\n",
    "```\n",
    "git config --global user.name \"<Navn Navnsesen>\"\n",
    "git config --global user.email <mailadresse>\n",
    "```\n",
    "\n",
    "Nå skal vi legge til en melding som beskriver hva vi har gjort:\n",
    "```\n",
    "git commit -m \"La til first.py\"\n",
    "git status\n",
    "```\n",
    "Her går det også an å kun skrive `git commit`. Dette vil åpne en editor (default er mest sannsynlig vim eller nano). Dette kan du endre til for eksempel Visual studio code ved å skrive:\n",
    "```\n",
    "git config --global core.editor \"code --wait\"\n",
    "```\n",
    "Det kan være lurt å google hvordan du setter opp din editor som default i git.\n",
    "\n",
    "Alt som var av filer i \"staging area\" blir nå fjernet derfra igjen (vi hadde bare `first.py` der) og lagt til i historikken til git-repoet ditt. "
   ]
  },
  {
   "cell_type": "markdown",
   "metadata": {
    "slideshow": {
     "slide_type": "slide"
    }
   },
   "source": [
    "### Filendringer skjer i \"working directory\"\n",
    "\n",
    "![](figures/changes.png)\n"
   ]
  },
  {
   "cell_type": "markdown",
   "metadata": {
    "slideshow": {
     "slide_type": "notes"
    }
   },
   "source": [
    "**Prøv selv:**\n",
    "\n",
    "Gjør endringer i `first.py` og legg det til i \"staging area\":\n",
    "```\n",
    "# gjør en endring i first.py\n",
    "git add first.py\n",
    "git status \n",
    "``` \n",
    "Denne endringen ligger nå i \"staging area\", som vises under \"Changes to be committed\" når du ber om git status.\n",
    "\n",
    "Gjør så nok en endring, men la den ligge i \"working directory\":\n",
    "```\n",
    "# gjør ny endring i first.py\n",
    "git status \n",
    "``` \n",
    "Endringen du nå gjorde ligger i \"working directory\", som vises under \"Changes not staged for commit\" når du ber om git status. \n",
    "\n",
    "Filen `first.py` har tre forskjellige versjoner:\n",
    "* Den versjonen vi sist committet (repository) \n",
    "* Den versjonen vi \"added\"/\"staged\" (staged)\n",
    "* Den versjonen vi akkurat endret (working directory)"
   ]
  },
  {
   "cell_type": "markdown",
   "metadata": {
    "slideshow": {
     "slide_type": "slide"
    }
   },
   "source": [
    "### `git diff` - se endringer\n",
    "\n",
    "* `git diff`: Endringer mellom \"working directory\" og \"staging area\"\n",
    "* `git diff --cached`: Endringer mellom repoet og \"staging area\"\n",
    "\n",
    "![](figures/diff.png)"
   ]
  },
  {
   "cell_type": "markdown",
   "metadata": {
    "slideshow": {
     "slide_type": "notes"
    }
   },
   "source": [
    "**Prøv selv:**\n",
    "\n",
    "Filen `first.py` skal nå ha tre forskjellige versjoner. \n",
    "\n",
    "De første endringene (som ligger i \"staging area\") vises ved kommando:\n",
    "```\n",
    "git diff --cached\n",
    "```\n",
    "\n",
    "De siste endringene (som ligger i working directory) vises ved kommando:\n",
    "```\n",
    "git diff\n",
    "```"
   ]
  },
  {
   "cell_type": "markdown",
   "metadata": {
    "slideshow": {
     "slide_type": "slide"
    }
   },
   "source": [
    "### `git restore <file>` - forkaster endringene i \"working directory\"\n",
    "\n",
    "![](figures/restore.png)"
   ]
  },
  {
   "cell_type": "markdown",
   "metadata": {
    "slideshow": {
     "slide_type": "notes"
    }
   },
   "source": [
    "**Prøv selv:**\n",
    "\n",
    "Forkast filendringen i \"working directory\" ved å skrive\n",
    "```\n",
    "git restore first.py\n",
    "```\n",
    "Du kan nå se at den siste (unstaged) endringen du gjorde i `first.py` er borte! Alt i både \"staging area\" og \"repository\" vil forbli uendret. "
   ]
  },
  {
   "cell_type": "markdown",
   "metadata": {
    "slideshow": {
     "slide_type": "slide"
    }
   },
   "source": [
    "### `git restore --staged <file>` - flytt filendringer fra \"staging area\" tilbake til \"working directory\"\n",
    "\n",
    "![](figures/restore-staged.png)"
   ]
  },
  {
   "cell_type": "markdown",
   "metadata": {
    "slideshow": {
     "slide_type": "notes"
    }
   },
   "source": [
    "**Prøv selv:**\n",
    "\n",
    "Flytt endringene  i `first.py` som ikke er i repoet fra \"staging area\" tilbake til \"working directory\":\n",
    "```\n",
    "git restore --staged first.py\n",
    "git status\n",
    "```\n",
    "Endringene er ikke borte, men ligger kun i \"working directory\". \"Repository\" er uendret. "
   ]
  },
  {
   "cell_type": "markdown",
   "metadata": {
    "slideshow": {
     "slide_type": "slide"
    }
   },
   "source": [
    "### \"Untracked\" - en fjerde tilstand\n",
    "\n",
    "![](figures/untracked.png)"
   ]
  },
  {
   "cell_type": "markdown",
   "metadata": {
    "slideshow": {
     "slide_type": "notes"
    }
   },
   "source": [
    "**Prøv selv:**\n",
    "\n",
    "Lag en ny fil `second.py`. Ikke legg den til i \"staging area\". Sjekk status.  \n",
    "```\n",
    "touch second.py\n",
    "git status\n",
    "```\n",
    "Filen ligger i \"working directory\", men du finner den i git-status under \"Untracked files\".\n",
    "\n",
    "Filen flyttes direkte til \"staging area\" ved å bruke: \n",
    "```\n",
    "git add second.py\n",
    "```\n",
    "og videre til repoet\n",
    "```\n",
    "git commit -m \"La til second.py\"\n",
    "```"
   ]
  },
  {
   "cell_type": "markdown",
   "metadata": {
    "slideshow": {
     "slide_type": "slide"
    }
   },
   "source": [
    "###  `git rm <file>` - slette filer fra git\n",
    "\n",
    "For å slette en fil fra git må vi bruke `git rm`: \n",
    "```\n",
    "git rm <file>\n",
    "```\n",
    "Dette vil også slette filen fra maskinen din.\n",
    "    \n",
    "Dersom du kun ønsker å slette filen fra git, men vil beholde filen på maskinen kan du skrive\n",
    "```\n",
    "git rm --cached <file> \n",
    "```"
   ]
  },
  {
   "cell_type": "markdown",
   "metadata": {
    "slideshow": {
     "slide_type": "notes"
    }
   },
   "source": [
    "**Prøv selv:**\n",
    "\n",
    "Lag en ny fil `third.py` og legg den i repoet.\n",
    "```\n",
    "touch third.py\n",
    "git add third.py\n",
    "git commit -m \"La til third.py\"\n",
    "```\n",
    "\n",
    "Vi kan nå slette filen:\n",
    "```\n",
    "git rm third.py\n",
    "git commit -m \"Slettet third.py\"\n",
    "```\n",
    "Slettingen av filen går rett til \"staging area\" og er derfor klar for commit! Filen er nå borte fra maskinen og repoet."
   ]
  },
  {
   "cell_type": "markdown",
   "metadata": {
    "slideshow": {
     "slide_type": "slide"
    }
   },
   "source": [
    "## Historikk i git "
   ]
  },
  {
   "cell_type": "markdown",
   "metadata": {
    "slideshow": {
     "slide_type": "slide"
    }
   },
   "source": [
    "### `git log` - se på tidligere commits\n",
    "\n",
    "* *hash*: unik kode for å identifisere committen\n",
    "* `main`: navn på *branch* (mer om dette senere)\n",
    "    * Peker nyeste commit\n",
    "* `HEAD`: viser hvor du er lokalt \n",
    "\n",
    "![](figures/log.png)"
   ]
  },
  {
   "cell_type": "markdown",
   "metadata": {
    "slideshow": {
     "slide_type": "notes"
    }
   },
   "source": [
    "**Prøv selv:**\n",
    "Eksempel på output fra `git log`:\n",
    "```\n",
    "$ git log\n",
    "commit 111d831c70ade9a47fd45087035ce9f15982ebf1 (HEAD -> main)\n",
    "Author: Eirill Hauge <eirill@simula.no>\n",
    "Date:   Mon Aug 8 14:45:30 2022 +0200\n",
    "\n",
    "    Slettet third.py\n",
    "\n",
    "commit 16b80d761fb15c8254ec73f032778432c84e8590\n",
    "Author: Eirill Hauge <eirill@simula.no>\n",
    "Date:   Mon Aug 8 14:42:08 2022 +0200\n",
    "\n",
    "    La til third.py\n",
    "\n",
    ".\n",
    ".\n",
    ".\n",
    "```\n",
    "Hver commit er listet med en hash (den lange greien etter commit), en forfatter, dato og beskjed.\n"
   ]
  },
  {
   "cell_type": "markdown",
   "metadata": {
    "slideshow": {
     "slide_type": "slide"
    }
   },
   "source": [
    "### `git checkout <hash>` - se på tidligere commit  \n",
    "\n",
    "Bruk `checkout` for å få et *snapshot* av repoet ved commit #3:\n",
    "\n",
    "* Senere commits er da borte fra mappen din slik du ser den\n",
    "* git-historikken er uendret, så du kan gå tilbake til seneste commit\n",
    "\n",
    "![](figures/checkout.png)"
   ]
  },
  {
   "cell_type": "markdown",
   "metadata": {
    "slideshow": {
     "slide_type": "slide"
    }
   },
   "source": [
    "### `git reset <hash>`  - gå tilbake til tidligere commit \n",
    "\n",
    "Bruk `reset` for å gå tilbake til repoet ved commit #3:\n",
    " \n",
    "* Alle endringer fra senere commits legges i \"staging area\"\n",
    "* OBS: dette **sletter** alle commits og git-historikk etter `<hash>`\n",
    "\n",
    "![](figures/reset.png)"
   ]
  },
  {
   "cell_type": "markdown",
   "metadata": {
    "slideshow": {
     "slide_type": "slide"
    }
   },
   "source": [
    "### Bytt versjon av enkeltfil \n",
    "\n",
    "Både `checkout` og `reset` kan brukes til å gå tilbake til en tidligere versjon av en *enkeltfil*:\n",
    "* `git checkout <hash> <file>`\n",
    "* `git reset <hash> <file>` \n",
    "\n",
    "Dette kan også brukes for å gjenopprette slettede filer."
   ]
  },
  {
   "cell_type": "markdown",
   "metadata": {
    "slideshow": {
     "slide_type": "notes"
    }
   },
   "source": [
    "**Prøv selv:**\n",
    "\n",
    "Begynn med å flytte endringene fra `first.py` (og eventuelt andre filer) fra \"working directory\" til repo. Dette kan gjøres med én linje ved å bruke `-am` som argument til commit:\n",
    "```\n",
    "git commit -am \"Lagt til mer kode i first.py\"\n",
    "```\n",
    "\n",
    "Bruk `git log` for å finne hash'en til commit'en hvor `first.py` ble lagt til. Gå tilbake til den gamle versjonen:\n",
    "```\n",
    "git checkout <hash> first.py \n",
    "```\n",
    "Du kan nå åpne filene og se at du har en gammel versjon av `first.py`, mens alle andre filer er i sin nyeste versjon.\n",
    "\n",
    "For å gå tilbake til siste versjon:\n",
    "```\n",
    "git checkout HEAD first.py \n",
    "```"
   ]
  },
  {
   "cell_type": "markdown",
   "metadata": {
    "slideshow": {
     "slide_type": "slide"
    }
   },
   "source": [
    "## GitHub"
   ]
  },
  {
   "cell_type": "markdown",
   "metadata": {
    "slideshow": {
     "slide_type": "slide"
    }
   },
   "source": [
    "### Synkronisering av lokalt `git` repo med GitHub\n",
    "\n",
    "For å synkronisere GitHub med dine lokale commits bruker du\n",
    "```\n",
    "git push <remote> <branch>\n",
    "```\n",
    "hvor `branch` typisk heter `main` eller `master` før.\n",
    "  \n",
    "Sjekk remote med:\n",
    "```\n",
    "git remote -v\n",
    "```\n",
    "hvor `-v` er kort for `--verbose`. Av konvensjon heter remote `origin`.\n"
   ]
  },
  {
   "cell_type": "markdown",
   "metadata": {
    "slideshow": {
     "slide_type": "fragment"
    }
   },
   "source": [
    "#### Set remote \n",
    "Legg til \"Upstream\" med å legge til `-u` (kort for `--set-upstream`):\n",
    "```\n",
    "git push -u <remote> <branch>\n",
    "```\n",
    "Da kan du senere bruke den enklere versjonen:\n",
    "```\n",
    "git push\n",
    "```"
   ]
  },
  {
   "cell_type": "markdown",
   "metadata": {
    "slideshow": {
     "slide_type": "notes"
    }
   },
   "source": [
    "**Prøv selv:**\n",
    "\n",
    "Push så hele repoet til GitHub:\n",
    "```\n",
    "git push origin main\n",
    "```\n",
    "Obs: Det er mulig at din `<branch>` heter `master`, ikke `main`.\n",
    "\n",
    "Sjekk på [GitHub](https://github.uio.no) at filene ligger der nå."
   ]
  },
  {
   "cell_type": "markdown",
   "metadata": {
    "slideshow": {
     "slide_type": "slide"
    }
   },
   "source": [
    "### `.gitignore` -  Ignorere filer\n",
    "\n",
    "Noen ganger har vi filer i mappen som vi ikke ønsker å inkludere. Eksempler kan være\n",
    "* Private notater\n",
    "* `__pycache__`\n",
    "* `.ipynb_checkpoints`\n",
    "* `.DS_Store` (mac)\n",
    "\n",
    "Disse kan vi be git om å ignorere ved å legge til en fil som heter `.gitignore`\n",
    "\n",
    "For mer info: https://www.gitignore.io"
   ]
  },
  {
   "cell_type": "markdown",
   "metadata": {
    "slideshow": {
     "slide_type": "notes"
    }
   },
   "source": [
    "**Prøv selv:**\n",
    "\n",
    "Et eksempler på filer som er unødvendig å ha med  er `__pycache__`.\n",
    "\n",
    "Generer `__pycache__` ved å først importere `first` i `second.py`.\n",
    "```\n",
    "# legg til \"import first\" i second.py\n",
    "python second.py\n",
    "git status\n",
    "```\n",
    "Den nye mappen `__pycache__` er unødvendig å ha med i repoet, og ligger nå under \"Untracked files\".\n",
    "\n",
    "For å ignorere denne lager vi en ignorefil. Lag en ny fil som heter `.gitignore` og skriv `__pycache__` i den. På kort:\n",
    "```\n",
    "echo \"__pycache__\" >> .gitignore\n",
    "git status\n",
    "```\n",
    "Legg merke til at \"Untracked files\" nå inkluderer `.gitignore`, men ikke `__pycache__`!\n",
    "\n",
    "\n",
    "Legg til alle endringene til repo og synkroniser med remote:\n",
    "```\n",
    "git add .\n",
    "git commit -m \"La til ignorefil\"\n",
    "git push\n",
    "```\n",
    "Sjekk repoet på GitHub, `__pycache__` skal ikke være der. "
   ]
  },
  {
   "cell_type": "markdown",
   "metadata": {
    "slideshow": {
     "slide_type": "slide"
    }
   },
   "source": [
    "### `git pull` - hent endringer fra GitHub til lokalt repo\n",
    "\n",
    "For å synkronisere din lokale mappe med GitHub bruker du\n",
    "```\n",
    "git pull <remote> <branch>\n",
    "```\n",
    "Eventuelt bare\n",
    "```\n",
    "git pull\n",
    "```"
   ]
  },
  {
   "cell_type": "markdown",
   "metadata": {
    "slideshow": {
     "slide_type": "slide"
    }
   },
   "source": [
    "### merge-konflikt\n",
    "\n",
    "Anta nå at to personer jobber i samme repo samtidig. Du har gjort noen endringer, og vil pushe disse opp til GitHub.\n",
    "\n",
    "* Du kan ikke pushe hvis du ligger bak i commits\n",
    "   - pull først, så push \n",
    "   \n",
    "* Hvis dine endringer er i forskjellige filer enn endringene på remote:\n",
    "    - pull, rett frem merge, så push\n",
    "\n",
    "* Hvis det ikke er trivielt å merge:\n",
    "    - pull gir merge-konflikt! Løs konflikten, commit, så push\n",
    "\n",
    "Pull alltid fra remote før du begynner å jobbe!"
   ]
  },
  {
   "cell_type": "markdown",
   "metadata": {
    "slideshow": {
     "slide_type": "notes"
    }
   },
   "source": [
    "**Prøv selv:**\n",
    "\n",
    "Gi en medstudent tilgang til ditt repo.\n",
    "\n",
    "Medstudent:\n",
    "```\n",
    "git clone <adresse>\n",
    "# Legg til en linje på slutten av second.py \n",
    "git commit -am \"La til noe second.py\"\n",
    "git push \n",
    "```\n",
    "Dette vil gå helt fint! \n",
    "\n",
    "Da er det din tur:\n",
    "```\n",
    "# Legg til noe annet på slutten av second.py  \n",
    "git commit -m \"La også til noe i second.py\"\n",
    "git push \n",
    "```\n",
    "Her får du en stor feilmelding, fordi du ikke har fått siste commit fra medstudenten din. \n",
    "\n",
    "Du må derfor bruke pull først. Endringene er i samme fil, og det vil oppstå en merge-konflikt. Denne løses ved å åpne `first.py` og manuelt fikse filen. \n",
    "```\n",
    "git pull \n",
    "# løs konflikt i second.py\n",
    "git add second.py\n",
    "git commit -m \"konflikt løst\"\n",
    "git push \n",
    "```\n"
   ]
  },
  {
   "cell_type": "markdown",
   "metadata": {
    "slideshow": {
     "slide_type": "slide"
    }
   },
   "source": [
    "## git branching (forgreninger)\n",
    "\n",
    "Forgreninger bruker vi når vi ønsker å utvikle noe nytt eller fikse en feil uten å ødelegge noe for andre.\n",
    "\n",
    "* **Hovedgrenen** kalles `main` \n",
    "    * Det het `master` før, ble nylig byttet ut med `main`\n",
    "* ` git branch`: List alle lokale forgreninger\n",
    "* ` git branch -a`: List alle forgreninger du har både lokalt og remote"
   ]
  },
  {
   "cell_type": "markdown",
   "metadata": {
    "slideshow": {
     "slide_type": "slide"
    }
   },
   "source": [
    "### `git branch <branch>` - lag ny branch\n"
   ]
  },
  {
   "cell_type": "markdown",
   "metadata": {
    "slideshow": {
     "slide_type": "notes"
    }
   },
   "source": [
    "**Prøv selv:**\n",
    "\n",
    "Lag en ny branch som heter `testing`:\n",
    "```\n",
    "git branch testing\n",
    "```\n",
    "Sjekk at den nye branch'en er der ved å liste branches:\n",
    "```\n",
    "git branch\n",
    "```\n",
    "Nå skal du ha to braches, `main` og `testing`. Du er nå på `main`, så den vil være markert. "
   ]
  },
  {
   "cell_type": "markdown",
   "metadata": {
    "slideshow": {
     "slide_type": "fragment"
    }
   },
   "source": [
    "![](figures/new_branch.png)"
   ]
  },
  {
   "cell_type": "markdown",
   "metadata": {
    "slideshow": {
     "slide_type": "slide"
    }
   },
   "source": [
    "### `git switch <branch>` - bytte branch\n",
    "\n",
    "Dette kan gjøres på to måter: \n",
    "* `git switch <branch>`\n",
    "* `git checkout <branch>`\n",
    "\n",
    "Nye kommandoer ble lagt til for noen år siden for å erstatte noen av funksjonene til `checkout`."
   ]
  },
  {
   "cell_type": "markdown",
   "metadata": {
    "slideshow": {
     "slide_type": "notes"
    }
   },
   "source": [
    "**Prøv selv:**\n",
    "\n",
    "For å begynne å jobbe på den nye branch'en må vi først flytte `HEAD` til `testing`.\n",
    "```\n",
    "git switch testing\n",
    "```\n",
    "Sjekk at du er på riktig branch:\n",
    "```\n",
    "git branch\n",
    "```\n",
    "Nå skal `testing` være markert. "
   ]
  },
  {
   "cell_type": "markdown",
   "metadata": {
    "slideshow": {
     "slide_type": "fragment"
    }
   },
   "source": [
    "\n",
    "![](figures/switch.png)"
   ]
  },
  {
   "cell_type": "markdown",
   "metadata": {
    "slideshow": {
     "slide_type": "slide"
    }
   },
   "source": [
    "### Gjør begge stegene samtidig\n",
    "\n",
    "I stedet for å først lage en ny branch og deretter bytte til den, kan vi gjøre alt i én kommando. Da kan du bruke en av disse:\n",
    "\n",
    "* `git switch -c <branch>`\n",
    "* `git checkout -b <branch>`"
   ]
  },
  {
   "cell_type": "markdown",
   "metadata": {
    "slideshow": {
     "slide_type": "slide"
    }
   },
   "source": [
    "### Legge til commits i branch\n",
    "\n",
    "Nye commits legges kun i branchen du jobber i. \n"
   ]
  },
  {
   "cell_type": "markdown",
   "metadata": {
    "slideshow": {
     "slide_type": "notes"
    }
   },
   "source": [
    "**Prøv selv:**\n",
    "\n",
    "Lag en ny fil og legg til i repo i branchen `testing`:\n",
    "```\n",
    "touch test.py\n",
    "# eventuelt legg til noe kode i test.py\n",
    "git add test.py \n",
    "git commit -m \"La til testfil\"\n",
    "```"
   ]
  },
  {
   "cell_type": "markdown",
   "metadata": {
    "slideshow": {
     "slide_type": "fragment"
    }
   },
   "source": [
    "![](figures/advance.png)"
   ]
  },
  {
   "cell_type": "markdown",
   "metadata": {
    "slideshow": {
     "slide_type": "slide"
    }
   },
   "source": [
    "###  Brancher på GitHub \n",
    "\n",
    "Alle branchene kan pushes til remote på [GitHub](https://github.uio.no). \n",
    "\n",
    "Husk at *upstream* ikke er satt for ny branch."
   ]
  },
  {
   "cell_type": "markdown",
   "metadata": {
    "slideshow": {
     "slide_type": "notes"
    }
   },
   "source": [
    "**Prøv selv:**\n",
    "\n",
    "Prøv å pushe med:\n",
    "```\n",
    "git push\n",
    "```\n",
    "Her blir det feilmelding! Denne vil ikke fungere fordi GitHub ikke finner en branch `testing`. \n",
    "\n",
    "Når du pusher en ny branch må du presisere `remote` og `branch`: \n",
    "```\n",
    "git push -u origin testing\n",
    "```\n",
    "set upstream med `-u`, så kan du bruke kortversjonen `git push` neste gang.\n",
    "\n",
    "Finn ditt repo på [GitHub](https://github.uio.no) og se at det nå er flere brancher der."
   ]
  },
  {
   "cell_type": "markdown",
   "metadata": {
    "slideshow": {
     "slide_type": "slide"
    }
   },
   "source": [
    "#### Hva skjer om vi skriver `git switch main`?\n",
    "\n",
    "![](figures/advance.png)"
   ]
  },
  {
   "cell_type": "markdown",
   "metadata": {
    "slideshow": {
     "slide_type": "slide"
    }
   },
   "source": [
    "####  `git switch main`:\n",
    "\n",
    "![](figures/advance-switch.png)"
   ]
  },
  {
   "cell_type": "markdown",
   "metadata": {
    "slideshow": {
     "slide_type": "notes"
    }
   },
   "source": [
    "**Prøv selv:**\n",
    "\n",
    "Bytt branch til `main` og sjekk git-loggen:\n",
    "```\n",
    "git switch main\n",
    "git log\n",
    "```\n",
    "Siste commit (som ble lagt til i `testing`) er ikke i loggen til `main`."
   ]
  },
  {
   "cell_type": "markdown",
   "metadata": {
    "slideshow": {
     "slide_type": "slide"
    }
   },
   "source": [
    "### Divergerende brancher \n",
    "\n",
    "Jobbes det i flere brancher samtidig, så vil de divergere."
   ]
  },
  {
   "cell_type": "markdown",
   "metadata": {
    "slideshow": {
     "slide_type": "notes"
    }
   },
   "source": [
    "**Prøv selv:**\n",
    "\n",
    "\n",
    "Gjør først noen endringer i `main` og push til GitHub:\n",
    "```\n",
    "# legg til noe kode i second.py \n",
    "git commit -am \"Mer kode i second.py\"\n",
    "git push\n",
    "```\n",
    "\n",
    "Bytt så til `testing` og gjør en ny endring der:\n",
    "```\n",
    "# legg til noe kode i first.py \n",
    "git commit -am \"Ny kode til first.py\"\n",
    "git push\n",
    "```\n",
    "\n",
    "Nå divergerer `testing` og `main`."
   ]
  },
  {
   "cell_type": "markdown",
   "metadata": {
    "slideshow": {
     "slide_type": "fragment"
    }
   },
   "source": [
    "![](figures/diverge_testing.png)"
   ]
  },
  {
   "cell_type": "markdown",
   "metadata": {
    "slideshow": {
     "slide_type": "slide"
    }
   },
   "source": [
    "## Branch merging\n",
    "\n",
    "* Fletter inn divergerende commits fra en annen branch"
   ]
  },
  {
   "cell_type": "markdown",
   "metadata": {
    "slideshow": {
     "slide_type": "fragment"
    }
   },
   "source": [
    "### Pull Request (PR)\n",
    "\n",
    "- Be om å merge *din branch* inn i en annen branch (ofte til `main`) på GitHub\n",
    "- PR er et verktøy som kan brukes til å fortelle andre hva du har endret og hvorfor\n",
    "- I en PR kan man se over koden og komme med kommentarer og ha en diskusjon rundt endringene som er gjort\n",
    "- Når noen ser over koden i en pull request kalles det for **code review**"
   ]
  },
  {
   "cell_type": "markdown",
   "metadata": {
    "slideshow": {
     "slide_type": "notes"
    }
   },
   "source": [
    "**Prøv selv:**\n",
    "\n",
    "Gå inn på repoet ditt på [GitHub](https://github.uio.no). `main` og `testing` divergerer nå, så det skal stå en knapp over filoversikten med **Compare and pull**. Hvis den ikke er der, så finner du den ved å gå til *branches*. \n",
    "\n",
    "Trykk på **New pull request**. \n",
    "\n",
    "Nå kan du skrive kommentarer om hva du har gjort og hvorfor du vil merge. Trykk så på **Create pull request**. \n",
    "\n",
    "Det skal ikke være noen konflikter, så merge skal være rett frem. Det bør stå noe som \"*This branch has no conflicts with the base branch*\". Egentlig er det noen andre som burde gjøre code review, men du kan merge (denne gangen).\n",
    "\n",
    "Trykk på **Merge pull request** og videre på **Confirm merge**. \n",
    "\n",
    "Du får nå valg om å slette `testing` fra GitHub. Gjør dette ved å trykke på **Delete branch**.\n",
    "\n",
    "Alle endringene du la til i `testing` skal nå også ligge i `main` på GitHub. \n",
    "\n",
    "Til slutt, oppdater ditt lokale repo:\n",
    "```\n",
    "git switch main\n",
    "git pull\n",
    "```"
   ]
  },
  {
   "cell_type": "markdown",
   "metadata": {
    "slideshow": {
     "slide_type": "fragment"
    }
   },
   "source": [
    "###  `git merge <barnch>`:  flett inn `<branch>` i branchen du er i \n",
    "\n",
    "Alternativ til pull request som kan gjøres lokalt, uten code review. "
   ]
  },
  {
   "cell_type": "markdown",
   "metadata": {
    "slideshow": {
     "slide_type": "slide"
    }
   },
   "source": [
    "### `git branch -d <branch>` - slett branch\n",
    "\n",
    "Flagget `-d` er kort for `--delete`.\n",
    "\n",
    "Fullversjonen er\n",
    "```\n",
    "git branch --delete <branch>\n",
    "```"
   ]
  },
  {
   "cell_type": "markdown",
   "metadata": {
    "slideshow": {
     "slide_type": "notes"
    }
   },
   "source": [
    "**Prøv selv:**\n",
    "\n",
    "`testing` er nå slettet fra GitHub, men ikke fra ditt lokale repo. Slett den og sjekk etterpå at den faktisk er borte:\n",
    "```\n",
    "git branch -d testing\n",
    "git branch\n",
    "```"
   ]
  },
  {
   "cell_type": "markdown",
   "metadata": {
    "slideshow": {
     "slide_type": "slide"
    }
   },
   "source": [
    "## Ressurser\n",
    "\n",
    "- https://github.uio.no/IN1910/IN1910_H22\n",
    "- https://git-scm.com\n",
    "    - Git Pro book (https://git-scm.com/book/en/v2)\n",
    "- https://ericsink.com/vcbe/\n",
    "- git-it (https://github.com/jlord/git-it-electron)\n",
    "- https://guides.github.com/introduction/git-handbook/\n",
    "- https://ohshitgit.com\n",
    "- http://ndpsoftware.com/git-cheatsheet.html\n",
    "- http://justinhileman.info/article/git-pretty/git-pretty.png\n",
    "- Google\n",
    "- Youtube\n",
    "- `man git`\n",
    "- `git --help`\n",
    "- `git <command> --help` (for eksempel `git status --help`"
   ]
  },
  {
   "cell_type": "markdown",
   "metadata": {
    "slideshow": {
     "slide_type": "slide"
    }
   },
   "source": [
    "## Oppsummering \n",
    "\n",
    "Henger dere med? :)"
   ]
  },
  {
   "cell_type": "markdown",
   "metadata": {
    "slideshow": {
     "slide_type": "slide"
    }
   },
   "source": [
    "### Hva heter de fire tilstandene en fil kan være i?\n",
    "\n",
    "![](figures/empty.png)"
   ]
  },
  {
   "cell_type": "markdown",
   "metadata": {
    "slideshow": {
     "slide_type": "slide"
    }
   },
   "source": [
    "### Hva heter de fire tilstandene en fil kan være i?\n",
    "\n",
    "![](figures/stages.png)"
   ]
  },
  {
   "cell_type": "markdown",
   "metadata": {
    "slideshow": {
     "slide_type": "slide"
    }
   },
   "source": [
    "### Lokale kommandoer i git \n",
    "\n",
    "* **`git add <file>`**\n",
    "* **`git commit -m \"<message>\"`**\n",
    "* `git restore <file>` \n",
    "* `git restore --staged <file>`\n",
    "* `git diff`\n",
    "* `git diff --cached`\n",
    "* `git rm <file>`\n",
    "* `git status`\n",
    "\n",
    "![](figures/areas.png)"
   ]
  },
  {
   "cell_type": "markdown",
   "metadata": {
    "slideshow": {
     "slide_type": "slide"
    }
   },
   "source": [
    "### Kommandoer for historikk i git \n",
    "\n",
    "* `git reset <hash>`\n",
    "* `git reset <hash> <file>`\n",
    "* `git checkout <hash>`\n",
    "* `git checkout <hash> <file>`\n",
    "* `git log`"
   ]
  },
  {
   "cell_type": "markdown",
   "metadata": {
    "slideshow": {
     "slide_type": "slide"
    }
   },
   "source": [
    "### Kommandoer for synkronisering med GitHub\n",
    "\n",
    "* **`git clone <adress>`**\n",
    "* **`git push <remote> <branch>`**\n",
    "* **`git pull <remote> <branch>`**\n",
    "* `git remote -v`"
   ]
  },
  {
   "cell_type": "markdown",
   "metadata": {
    "slideshow": {
     "slide_type": "slide"
    }
   },
   "source": [
    "### Kommandoer for branching\n",
    "\n",
    "* `git branch` \n",
    "* **`git branch <branch>`**\n",
    "* `git branch -d <branch>`\n",
    "* **`git switch <branch>`**\n",
    "* `git switch -c <branch>`\n",
    "* `git merge <branch>`"
   ]
  }
 ],
 "metadata": {
  "celltoolbar": "Slideshow",
  "kernelspec": {
   "display_name": "Python 3 (ipykernel)",
   "language": "python",
   "name": "python3"
  },
  "language_info": {
   "codemirror_mode": {
    "name": "ipython",
    "version": 3
   },
   "file_extension": ".py",
   "mimetype": "text/x-python",
   "name": "python",
   "nbconvert_exporter": "python",
   "pygments_lexer": "ipython3",
   "version": "3.10.5"
  }
 },
 "nbformat": 4,
 "nbformat_minor": 2
}
