{
 "cells": [
  {
   "cell_type": "markdown",
   "metadata": {
    "slideshow": {
     "slide_type": "slide"
    }
   },
   "source": [
    "# Kodestil og Dokumentasjon \n",
    "\n",
    "Ved bruk av **Python Enhancement Proposals (PEP)**."
   ]
  },
  {
   "cell_type": "code",
   "execution_count": null,
   "metadata": {},
   "outputs": [],
   "source": [
    "import this"
   ]
  },
  {
   "cell_type": "markdown",
   "metadata": {
    "slideshow": {
     "slide_type": "slide"
    }
   },
   "source": [
    "## Dokumentasjon - Docstring\n",
    "\n",
    "[PEP257](https://peps.python.org/pep-0257/) gir en kort beskrivelse av konvensjoner angående docstrings.\n",
    "\n",
    "Det finnes flere, mer utdypende maler for stil:\n",
    "* [NumPy](https://sphinxcontrib-napoleon.readthedocs.io/en/latest/example_numpy.html)\n",
    "* [Google](https://sphinxcontrib-napoleon.readthedocs.io/en/latest/example_google.html#example-google)"
   ]
  },
  {
   "cell_type": "markdown",
   "metadata": {
    "slideshow": {
     "slide_type": "slide"
    }
   },
   "source": [
    "### Eksempel på docstring"
   ]
  },
  {
   "cell_type": "code",
   "execution_count": null,
   "metadata": {},
   "outputs": [],
   "source": [
    "import numpy as np\n",
    "\n",
    "\n",
    "def cartesian(r, theta, phi):\n",
    "    '''Convert spherical coordinates to cartesian coordinates.\n",
    "    \n",
    "    Arguments\n",
    "    ---------\n",
    "    r : float\n",
    "        Radial distance\n",
    "    theta : float\n",
    "        Polar angle\n",
    "    phi : float\n",
    "        Azimuthal angle\n",
    "        \n",
    "    Returns\n",
    "    -------\n",
    "    tuple of (float, float, float)\n",
    "        Cartesian coordinates (x, y, z)\n",
    "    '''\n",
    "    x = r*np.cos(phi)*np.sin(theta)\n",
    "    y = r*np.sin(phi)*np.sin(theta)\n",
    "    z = r*np.cos(theta)\n",
    "    return (x, y, z)"
   ]
  },
  {
   "cell_type": "markdown",
   "metadata": {
    "slideshow": {
     "slide_type": "slide"
    }
   },
   "source": [
    "### Docstrings som hjelp til brukeren"
   ]
  },
  {
   "cell_type": "code",
   "execution_count": null,
   "metadata": {
    "slideshow": {
     "slide_type": "-"
    }
   },
   "outputs": [],
   "source": [
    "cartesian?"
   ]
  },
  {
   "cell_type": "markdown",
   "metadata": {},
   "source": [
    " Dokumentasjon til [linspace](https://numpy.org/doc/stable/reference/generated/numpy.linspace.html)."
   ]
  },
  {
   "cell_type": "code",
   "execution_count": null,
   "metadata": {},
   "outputs": [],
   "source": [
    "import numpy as np\n",
    "\n",
    "np.linspace?"
   ]
  },
  {
   "cell_type": "markdown",
   "metadata": {
    "slideshow": {
     "slide_type": "slide"
    }
   },
   "source": [
    "### Automatisk generert dokumentasjon\n",
    "\n",
    "Skriver du docstrings din riktig, kan du bruke `sphinx` til å automatisk generere dokumentasjon til koden din!\n"
   ]
  },
  {
   "cell_type": "markdown",
   "metadata": {
    "slideshow": {
     "slide_type": "slide"
    }
   },
   "source": [
    "## Kodestil \n",
    "\n",
    "Man definerer kodestil for at\n",
    "- **Kode skal være lett å lese og forstå** \n",
    "    - Koden skrives én gang, men skal leses igjen og igjen\n",
    "- **Kode skal være skrevet konsekvent** \n",
    "    - Spesielt viktig når flere jobber med samme kode\n"
   ]
  },
  {
   "cell_type": "markdown",
   "metadata": {
    "slideshow": {
     "slide_type": "fragment"
    }
   },
   "source": [
    "Vi bruker **Python Enhancement Proposals (PEP)**, [PEP8](https://peps.python.org/pep-0008/) for kodestil."
   ]
  },
  {
   "cell_type": "markdown",
   "metadata": {
    "slideshow": {
     "slide_type": "notes"
    }
   },
   "source": [
    "Du oppfordres sterkt til å lese [PEP8](https://peps.python.org/pep-0008/). Den forteller ikke bare *hva* som er riktig og galt, men også ofte *hvorfor*."
   ]
  },
  {
   "cell_type": "markdown",
   "metadata": {
    "slideshow": {
     "slide_type": "slide"
    }
   },
   "source": [
    "### PEP8 - Importering av pakker \n",
    "\n",
    "Ha kun én import per linje, og del import inn i tre grupper: \n",
    "1. Standardpakker i Python \n",
    "2. Nedlastede pakker\n",
    "3. Egne pakker \n",
    "\n",
    "```Python\n",
    "import os\n",
    "import string\n",
    "\n",
    "import matplotlib.pyplot as plt\n",
    "import numpy as np\n",
    "from scipy.optimize import newton\n",
    "\n",
    "from my_module import MyClass\n",
    "from my_other_module import some_function, other_function\n",
    "```"
   ]
  },
  {
   "cell_type": "markdown",
   "metadata": {
    "slideshow": {
     "slide_type": "slide"
    }
   },
   "source": [
    "#### Unngå *wildcard* import\n",
    "\n",
    "Bruk av `import *` kan overskrive funksjoner. "
   ]
  },
  {
   "cell_type": "code",
   "execution_count": null,
   "metadata": {},
   "outputs": [],
   "source": [
    "from numpy import *\n",
    "from math import *\n",
    "\n",
    "print(sin)"
   ]
  },
  {
   "cell_type": "code",
   "execution_count": null,
   "metadata": {},
   "outputs": [],
   "source": [
    "from math import *\n",
    "from numpy import *\n",
    "\n",
    "print(sin)"
   ]
  },
  {
   "cell_type": "markdown",
   "metadata": {
    "slideshow": {
     "slide_type": "slide"
    }
   },
   "source": [
    "### PEP8 - Navnekonvensjoner\n",
    "\n",
    "- **Moduler**: kort med små bokstaver (til nød bruk understrek)\n",
    "    - `numpy`, `logging`, (`my_module`)\n",
    "- **Klasser**: CapWords \n",
    "    - `Polynomial`, `ForwardEuler`\n",
    "- **Unntak**: klasser med `Error` på slutten\n",
    "    - `ValueError`, `IndexError`\n",
    "- **Funksjoner**: små bokstaver og understrek \n",
    "    - `linspace`, `logical_and`\n",
    "- **Variabler**: små bokstaver og understrek \n",
    "    - `polynomial`, `forward_euler`\n",
    "    - Ikke bruk `O`, `l` og `I` (disse kan ligne for mye på 0 og 1)\n",
    "- **Konstanter**: store bokstaver og understrek \n",
    "    - `DEBUG`, `MAX_VALUE`"
   ]
  },
  {
   "cell_type": "markdown",
   "metadata": {
    "slideshow": {
     "slide_type": "slide"
    }
   },
   "source": [
    "### PEP8 - Mellomrom\n",
    "\n",
    "- **Binære operatorer**: Alltid mellomrom før og etter en operator\n",
    "    - `a = b`, `a += 1`, `a % b`, `a == b`, `a - b`\n",
    "    - Unntak om matematisk prioritet: `2*x + 3*y`\n",
    "    - ALLTID like mange mellomrom på hver side av operatoren\n",
    "- **Parenteser**: Ingen mellomrom etter åpning eller før lukking\n",
    "    - Ingen mellomrom etter `(`, `[` eller `{`\n",
    "    - Ingen mellomrom før `)`, `]` eller `}`\n",
    "    - `(x, y)`, `[x, y]`, ``{x: 1, y: 2}``\n",
    "    - Ingen mellomrom mellom liste og indeksering: `some_list[index]`, `some_dict[key]`\n",
    "    - Ingen mellomrom mellom funksjoner og argumenter: `function(args)`\n",
    "- **Komma**: Mellomrom etter komma, men ikke før\n",
    "    - `[a, b]`, `a, b, c = some_tuple`, `function(a, b)`\n",
    "    - Unntak ved *trailing comma*: `(1,)` \n",
    "- **Kolon**: Ingen mellomrom før kolon\n",
    "    - Ikke mellomrom på slutten av en linje: `if a < b:`\n",
    "    - Mellomrom etter kolon: `{a: 1}`\n",
    "    - Unntak ved *index slicing*: `a[1:10:2]`"
   ]
  },
  {
   "cell_type": "markdown",
   "metadata": {
    "slideshow": {
     "slide_type": "slide"
    }
   },
   "source": [
    "### Nyttige verktøy \n",
    "\n",
    "Det finnes mange nyttige verktøy som kan hjelpe med kodestil.\n",
    "\n",
    "**For å finne feil i kodestil:** `flake8`\n",
    "\n",
    "**Autoformatering av filer**: `black`, `autopep8`"
   ]
  },
  {
   "cell_type": "markdown",
   "metadata": {
    "slideshow": {
     "slide_type": "slide"
    }
   },
   "source": [
    "### Kodestil vs. konvensjoner i matte\n",
    "\n",
    "I dette kurset programmerer vi for naturvitenskapelige anvendelser. \n",
    "\n",
    "Variabelnavn har andre konvensjoner i matte enn i informatikk.\n",
    "\n",
    "\n",
    "Det viktigste er at du er **konsekvent**. "
   ]
  },
  {
   "cell_type": "markdown",
   "metadata": {
    "slideshow": {
     "slide_type": "slide"
    }
   },
   "source": [
    "#### Eksempel: ideell gasslov\n",
    "\n",
    "Volumet til en ideell gass kan regnes ut ved \n",
    "$$\n",
    "V = \\frac{n R T}{P}\n",
    "$$\n",
    "hvor $n$ er antall mol av gassen, $R$ er gass-konstanten, $T$ er den absolutte temperaturen og $P$ er trykket.\n",
    "\n",
    "PEP8 vil nok at vi skal skrive noe sånn:\n",
    "```Python \n",
    "moles = 1     \n",
    "GAS_CONSTANT = 8.31 \n",
    "pressure = 101e3\n",
    "absolute_temperature = 295 \n",
    "volume = moles*GAS_CONSTANT*absolute_temperature / pressure \n",
    "```\n",
    "\n",
    "Mens med matematiske konvensjoner vil bli noe slik:\n",
    "```Python \n",
    "n = 1     # number of moles [mol]\n",
    "R = 8.31  # gas constant [m^3 Pa mol^(-1} K^{-1}]\n",
    "P = 101e3 # pressure [Pa]\n",
    "T = 295   # absolute temperature [K]\n",
    "V = n*R*T/P\n",
    "```\n",
    "\n",
    "Å bruke de matematiske konvensjonene kan gjøre det lettere å finne *matematiske* feil i implementeringen. "
   ]
  },
  {
   "cell_type": "markdown",
   "metadata": {
    "slideshow": {
     "slide_type": "slide"
    }
   },
   "source": [
    "### Finn feil i dårlig kode\n",
    "\n",
    "Jeg har skrevet sikkelig stygg kode. Dere skal få litt tid på å finne feil:\n",
    "- Sjekk navnekonvensjoner\n",
    "- Sjekk import \n",
    "- Sjekk konvensjon for mellomrom\n",
    "\n",
    "Bruk [PEP8](https://peps.python.org/pep-0008) til å slå opp hva som er riktig!\n",
    "\n",
    "**Tips:** Se etter **inkonsekvent** bruk av mellomrom."
   ]
  },
  {
   "cell_type": "code",
   "execution_count": null,
   "metadata": {
    "slideshow": {
     "slide_type": "notes"
    }
   },
   "outputs": [],
   "source": [
    "#%%writefile bad_style.py\n",
    "\n",
    "class LINE:\n",
    "    \n",
    "    def __init__(self, a, b = 0) :\n",
    "        self.a = a\n",
    "        self.b=b\n",
    "    def __call__ ( self, x ) :\n",
    "        \n",
    "        return self.a*x+self.b \n",
    "\n",
    "    def getRoot (self) :\n",
    "        \n",
    "        \n",
    "        return - self.b   /   self.a\n",
    "\n",
    "\n",
    "\n",
    "\n",
    "if __name__== \"__main__\" :\n",
    "    import matplotlib.pyplot as plt\n",
    "    \n",
    "    from numpy import *\n",
    "    \n",
    "    yIntercept=- 7 # y intercept\n",
    "    s     =   10    # the slope\n",
    "    N=50;axis = { \"x_min\":- 2,\"x_max\":2 , \"y_min\": - 20, \"y_max\" : 20 }\n",
    "    COLORS    =[ \"black\",\"maroon\",\"brown\",  \"chocolate\",\"sandybrown\",\"wheat\",\"bisque\", \"cornsilk\" ]\n",
    "\n",
    "    plt . figure (figsize = ( 7,5 ))\n",
    "    for color  in COLORS :\n",
    "        \n",
    "        x=linspace(axis[\"x_min\"],axis[\"x_max\"],N)\n",
    "        line = LINE(s,yIntercept)\n",
    "        Root = line . getRoot ()\n",
    "        \n",
    "        plt. plot (x, line( x ), color = color, label =f\"b = {line.b}\", linewidth =5)\n",
    "        plt. plot ( Root, line (Root), \"o\", color = color, markersize = 10)\n",
    "        yIntercept+=2\n",
    "        \n",
    "    plt.legend(loc=\"lower right\")\n",
    "    plt.xlabel (r\"$x$\");plt.ylabel (f\"${s}x + b$\")\n",
    "    plt.xlim(axis[\"x_min\"],axis[\"x_max\"]);  plt.ylim(axis[\"y_min\"],axis[\"y_max\"])\n",
    "\n",
    "    plt . show()"
   ]
  },
  {
   "cell_type": "markdown",
   "metadata": {
    "slideshow": {
     "slide_type": "notes"
    }
   },
   "source": [
    "Koden kjører, men er skikkelig stygg.\n",
    "\n",
    "Kjør\n",
    "```\n",
    "python -m flake8 bad_style.py\n",
    "```\n",
    "i terminalen for å se feil i kodestilen!"
   ]
  },
  {
   "cell_type": "code",
   "execution_count": null,
   "metadata": {
    "slideshow": {
     "slide_type": "notes"
    }
   },
   "outputs": [],
   "source": [
    "import os\n",
    "#os.system(\"python -m flake8 bad_style.py\")"
   ]
  },
  {
   "cell_type": "markdown",
   "metadata": {
    "slideshow": {
     "slide_type": "notes"
    }
   },
   "source": [
    "Fiks opp i kodestilen og bruk `flake8` til å sjekke at du fanget opp alt!"
   ]
  }
 ],
 "metadata": {
  "celltoolbar": "Slideshow",
  "kernelspec": {
   "display_name": "Python 3 (ipykernel)",
   "language": "python",
   "name": "python3"
  },
  "language_info": {
   "codemirror_mode": {
    "name": "ipython",
    "version": 3
   },
   "file_extension": ".py",
   "mimetype": "text/x-python",
   "name": "python",
   "nbconvert_exporter": "python",
   "pygments_lexer": "ipython3",
   "version": "3.10.5"
  },
  "vscode": {
   "interpreter": {
    "hash": "190cafc93a7c2c49a6ea227d53366c310c32565680693c36f3a06dea9bb66b47"
   }
  }
 },
 "nbformat": 4,
 "nbformat_minor": 2
}
